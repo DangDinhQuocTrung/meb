{
 "cells": [
  {
   "cell_type": "code",
   "execution_count": 1,
   "metadata": {},
   "outputs": [],
   "source": [
    "import utils.utils as utils\n",
    "import utils.datasets as datasets\n",
    "\n",
    "import os\n",
    "import numpy as np\n",
    "from numba import jit\n",
    "import pandas as pd\n",
    "import matplotlib.pyplot as plt\n",
    "from sklearn.svm import SVC\n",
    "from hyperopt import fmin, tpe, hp, STATUS_OK, Trials\n",
    "import torch\n",
    "import torch.nn as nn\n",
    "import torch.nn.functional as F\n",
    "from torch.autograd import Variable\n",
    "from torch.nn.parameter import Parameter\n",
    "from torch.nn.init import xavier_normal_\n",
    "import torch.optim as optim\n",
    "from sklearn.metrics import f1_score, confusion_matrix\n",
    "from skimage.transform import resize\n",
    "import cv2\n",
    "from torch.utils.data import Dataset, DataLoader\n",
    "from torchvision import transforms\n",
    "from PIL import Image\n",
    "from sklearn.model_selection import train_test_split\n",
    "from imgaug import augmenters as iaa\n",
    "import geotorch\n",
    "import itertools\n",
    "import kornia as K\n",
    "from scipy import ndimage\n",
    "from tqdm import tqdm\n",
    "from typing import Callable, List, Tuple\n",
    "\n",
    "pd.set_option(\"display.max_columns\", 50)\n",
    "%load_ext autoreload\n",
    "%autoreload 2"
   ]
  },
  {
   "cell_type": "code",
   "execution_count": 2,
   "metadata": {},
   "outputs": [],
   "source": [
    "import random\n",
    "\n",
    "random.seed(1)\n",
    "torch.manual_seed(1)\n",
    "torch.cuda.manual_seed(1)\n",
    "torch.backends.cudnn.deterministic = True\n",
    "torch.backends.cudnn.benchmark = False"
   ]
  },
  {
   "cell_type": "code",
   "execution_count": 2,
   "metadata": {},
   "outputs": [],
   "source": [
    "df, input_data = datasets.cross_dataset(resize=28, optical_flow=True)"
   ]
  },
  {
   "cell_type": "code",
   "execution_count": 5,
   "metadata": {},
   "outputs": [],
   "source": [
    "aus = df.loc[:, \"AU1\":].sum(0)[df.loc[:, \"AU1\":].sum(0) > 10].index.tolist()\n",
    "# Remove AU45\n",
    "aus.remove(\"AU45\")\n",
    "aus.remove(\"AU18\")\n",
    "aus.remove(\"AU26\")\n",
    "aus.remove(\"AU38\")"
   ]
  },
  {
   "cell_type": "code",
   "execution_count": 5,
   "metadata": {},
   "outputs": [],
   "source": [
    "from models.models import OffApexNet\n",
    "model = OffApexNet(task_num=len(aus))"
   ]
  },
  {
   "cell_type": "code",
   "execution_count": 6,
   "metadata": {},
   "outputs": [],
   "source": [
    "input_data = input_data[:, :2]"
   ]
  },
  {
   "cell_type": "code",
   "execution_count": 8,
   "metadata": {
    "scrolled": true
   },
   "outputs": [
    {
     "name": "stderr",
     "output_type": "stream",
     "text": [
      "[autoreload of utils.utils failed: Traceback (most recent call last):\n",
      "  File \"/home/tvaranka/.local/lib/python3.6/site-packages/IPython/extensions/autoreload.py\", line 245, in check\n",
      "    superreload(m, reload, self.old_objects)\n",
      "  File \"/home/tvaranka/.local/lib/python3.6/site-packages/IPython/extensions/autoreload.py\", line 410, in superreload\n",
      "    update_generic(old_obj, new_obj)\n",
      "  File \"/home/tvaranka/.local/lib/python3.6/site-packages/IPython/extensions/autoreload.py\", line 347, in update_generic\n",
      "    update(a, b)\n",
      "  File \"/home/tvaranka/.local/lib/python3.6/site-packages/IPython/extensions/autoreload.py\", line 302, in update_class\n",
      "    if update_generic(old_obj, new_obj): continue\n",
      "  File \"/home/tvaranka/.local/lib/python3.6/site-packages/IPython/extensions/autoreload.py\", line 347, in update_generic\n",
      "    update(a, b)\n",
      "  File \"/home/tvaranka/.local/lib/python3.6/site-packages/IPython/extensions/autoreload.py\", line 302, in update_class\n",
      "    if update_generic(old_obj, new_obj): continue\n",
      "  File \"/home/tvaranka/.local/lib/python3.6/site-packages/IPython/extensions/autoreload.py\", line 347, in update_generic\n",
      "    update(a, b)\n",
      "  File \"/home/tvaranka/.local/lib/python3.6/site-packages/IPython/extensions/autoreload.py\", line 302, in update_class\n",
      "    if update_generic(old_obj, new_obj): continue\n",
      "  File \"/home/tvaranka/.local/lib/python3.6/site-packages/IPython/extensions/autoreload.py\", line 347, in update_generic\n",
      "    update(a, b)\n",
      "  File \"/home/tvaranka/.local/lib/python3.6/site-packages/IPython/extensions/autoreload.py\", line 302, in update_class\n",
      "    if update_generic(old_obj, new_obj): continue\n",
      "RecursionError: maximum recursion depth exceeded\n",
      "]\n"
     ]
    },
    {
     "name": "stdout",
     "output_type": "stream",
     "text": [
      "Dataset: casme, n=189 |train_f1: 0.66799 |test_f1: 0.59173\n",
      "Test F1 per AU: [('AU1', 0.72688), ('AU2', 0.89138), ('AU4', 0.78034), ('AU5', 0.49734), ('AU6', 0.4933), ('AU7', 0.52561), ('AU9', 0.44083), ('AU10', 0.49465), ('AU12', 0.62828), ('AU14', 0.46761), ('AU15', 0.60843), ('AU17', 0.63979), ('AU18', 0.48501), ('AU20', 0.49734), ('AU24', 0.49465), ('AU25', 0.4933), ('AU26', 0.48641), ('AU38', 1.0)]\n",
      "\n",
      "Dataset: casme2, n=256 |train_f1: 0.69113 |test_f1: 0.60919\n",
      "Test F1 per AU: [('AU1', 0.95719), ('AU2', 0.85331), ('AU4', 0.9413), ('AU5', 0.49507), ('AU6', 0.54839), ('AU7', 0.66389), ('AU9', 0.55359), ('AU10', 0.54367), ('AU12', 0.65273), ('AU14', 0.47216), ('AU15', 0.59694), ('AU17', 0.7), ('AU18', 0.49902), ('AU20', 0.49902), ('AU24', 0.49804), ('AU25', 0.49804), ('AU26', 0.49507), ('AU38', 0.49804)]\n",
      "\n",
      "Dataset: samm, n=159 |train_f1: 0.69096 |test_f1: 0.63152\n",
      "Test F1 per AU: [('AU1', 0.70556), ('AU2', 0.82627), ('AU4', 0.84828), ('AU5', 0.48039), ('AU6', 0.48875), ('AU7', 0.83298), ('AU9', 0.63482), ('AU10', 0.74355), ('AU12', 0.61594), ('AU14', 0.47351), ('AU15', 0.69521), ('AU17', 0.7402), ('AU18', 0.49363), ('AU20', 0.48875), ('AU24', 0.48544), ('AU25', 0.48875), ('AU26', 0.82848), ('AU38', 0.49684)]\n",
      "\n",
      "Dataset: fourDmicro, n=267 |train_f1: 0.67567 |test_f1: 0.67508\n",
      "Test F1 per AU: [('AU1', 0.88698), ('AU2', 0.80793), ('AU4', 0.86487), ('AU5', 0.50775), ('AU6', 0.47544), ('AU7', 0.66679), ('AU9', 0.49623), ('AU10', 0.49812), ('AU12', 0.59509), ('AU14', 0.59237), ('AU15', 0.63811), ('AU17', 0.63324), ('AU18', 1.0), ('AU20', 0.49812), ('AU24', 0.49143), ('AU25', 0.49906), ('AU26', 1.0), ('AU38', 1.0)]\n",
      "\n",
      "Dataset: mmew, n=300 |train_f1: 0.64598 |test_f1: 0.58127\n",
      "Test F1 per AU: [('AU1', 0.89184), ('AU2', 0.86157), ('AU4', 0.92674), ('AU5', 0.43396), ('AU6', 0.49153), ('AU7', 0.57573), ('AU9', 0.49239), ('AU10', 0.46619), ('AU12', 0.64206), ('AU14', 0.48542), ('AU15', 0.58327), ('AU17', 0.65636), ('AU18', 0.49324), ('AU20', 0.49324), ('AU24', 0.49749), ('AU25', 0.4958), ('AU26', 0.48805), ('AU38', 0.48805)]\n",
      "\n",
      "All AUs:  [('AU1', 0.87183), ('AU2', 0.84467), ('AU4', 0.88827), ('AU5', 0.4824), ('AU6', 0.50249), ('AU7', 0.68441), ('AU9', 0.51101), ('AU10', 0.52962), ('AU12', 0.62774), ('AU14', 0.49052), ('AU15', 0.6134), ('AU17', 0.67635), ('AU18', 0.49482), ('AU20', 0.49569), ('AU24', 0.49417), ('AU25', 0.49569), ('AU26', 0.572), ('AU38', 0.49613)]\n",
      "Mean f1:  0.5983999937521897\n"
     ]
    }
   ],
   "source": [
    "import utils.train_eval as te\n",
    "outputs_list = te.cross_dataset_validation(model, input_data, df)"
   ]
  },
  {
   "cell_type": "code",
   "execution_count": 33,
   "metadata": {},
   "outputs": [
    {
     "data": {
      "text/html": [
       "<div>\n",
       "<style scoped>\n",
       "    .dataframe tbody tr th:only-of-type {\n",
       "        vertical-align: middle;\n",
       "    }\n",
       "\n",
       "    .dataframe tbody tr th {\n",
       "        vertical-align: top;\n",
       "    }\n",
       "\n",
       "    .dataframe thead th {\n",
       "        text-align: right;\n",
       "    }\n",
       "</style>\n",
       "<table border=\"1\" class=\"dataframe\">\n",
       "  <thead>\n",
       "    <tr style=\"text-align: right;\">\n",
       "      <th></th>\n",
       "      <th>AU1</th>\n",
       "      <th>AU2</th>\n",
       "      <th>AU4</th>\n",
       "      <th>AU5</th>\n",
       "      <th>AU6</th>\n",
       "      <th>AU7</th>\n",
       "      <th>AU9</th>\n",
       "      <th>AU10</th>\n",
       "      <th>AU12</th>\n",
       "      <th>AU14</th>\n",
       "      <th>AU15</th>\n",
       "      <th>AU17</th>\n",
       "      <th>AU20</th>\n",
       "      <th>AU24</th>\n",
       "      <th>AU25</th>\n",
       "      <th>total</th>\n",
       "    </tr>\n",
       "  </thead>\n",
       "  <tbody>\n",
       "    <tr>\n",
       "      <th>casme</th>\n",
       "      <td>23</td>\n",
       "      <td>17</td>\n",
       "      <td>70</td>\n",
       "      <td>0</td>\n",
       "      <td>1</td>\n",
       "      <td>4</td>\n",
       "      <td>40</td>\n",
       "      <td>3</td>\n",
       "      <td>9</td>\n",
       "      <td>23</td>\n",
       "      <td>14</td>\n",
       "      <td>13</td>\n",
       "      <td>2</td>\n",
       "      <td>4</td>\n",
       "      <td>5</td>\n",
       "      <td>228</td>\n",
       "    </tr>\n",
       "    <tr>\n",
       "      <th>casme2</th>\n",
       "      <td>26</td>\n",
       "      <td>22</td>\n",
       "      <td>130</td>\n",
       "      <td>2</td>\n",
       "      <td>13</td>\n",
       "      <td>39</td>\n",
       "      <td>13</td>\n",
       "      <td>16</td>\n",
       "      <td>34</td>\n",
       "      <td>27</td>\n",
       "      <td>16</td>\n",
       "      <td>25</td>\n",
       "      <td>1</td>\n",
       "      <td>2</td>\n",
       "      <td>2</td>\n",
       "      <td>368</td>\n",
       "    </tr>\n",
       "    <tr>\n",
       "      <th>fourDmicro</th>\n",
       "      <td>46</td>\n",
       "      <td>54</td>\n",
       "      <td>102</td>\n",
       "      <td>8</td>\n",
       "      <td>25</td>\n",
       "      <td>89</td>\n",
       "      <td>1</td>\n",
       "      <td>2</td>\n",
       "      <td>53</td>\n",
       "      <td>4</td>\n",
       "      <td>6</td>\n",
       "      <td>11</td>\n",
       "      <td>2</td>\n",
       "      <td>9</td>\n",
       "      <td>1</td>\n",
       "      <td>413</td>\n",
       "    </tr>\n",
       "    <tr>\n",
       "      <th>mmew</th>\n",
       "      <td>50</td>\n",
       "      <td>41</td>\n",
       "      <td>109</td>\n",
       "      <td>70</td>\n",
       "      <td>10</td>\n",
       "      <td>47</td>\n",
       "      <td>8</td>\n",
       "      <td>38</td>\n",
       "      <td>37</td>\n",
       "      <td>17</td>\n",
       "      <td>6</td>\n",
       "      <td>11</td>\n",
       "      <td>8</td>\n",
       "      <td>3</td>\n",
       "      <td>5</td>\n",
       "      <td>460</td>\n",
       "    </tr>\n",
       "    <tr>\n",
       "      <th>samm</th>\n",
       "      <td>6</td>\n",
       "      <td>18</td>\n",
       "      <td>23</td>\n",
       "      <td>10</td>\n",
       "      <td>3</td>\n",
       "      <td>46</td>\n",
       "      <td>5</td>\n",
       "      <td>6</td>\n",
       "      <td>28</td>\n",
       "      <td>13</td>\n",
       "      <td>4</td>\n",
       "      <td>6</td>\n",
       "      <td>7</td>\n",
       "      <td>9</td>\n",
       "      <td>7</td>\n",
       "      <td>191</td>\n",
       "    </tr>\n",
       "    <tr>\n",
       "      <th>Total</th>\n",
       "      <td>151</td>\n",
       "      <td>152</td>\n",
       "      <td>434</td>\n",
       "      <td>90</td>\n",
       "      <td>52</td>\n",
       "      <td>225</td>\n",
       "      <td>67</td>\n",
       "      <td>65</td>\n",
       "      <td>161</td>\n",
       "      <td>84</td>\n",
       "      <td>46</td>\n",
       "      <td>66</td>\n",
       "      <td>20</td>\n",
       "      <td>27</td>\n",
       "      <td>20</td>\n",
       "      <td>1660</td>\n",
       "    </tr>\n",
       "  </tbody>\n",
       "</table>\n",
       "</div>"
      ],
      "text/plain": [
       "            AU1  AU2  AU4  AU5  AU6  AU7  AU9  AU10  AU12  AU14  AU15  AU17  \\\n",
       "casme        23   17   70    0    1    4   40     3     9    23    14    13   \n",
       "casme2       26   22  130    2   13   39   13    16    34    27    16    25   \n",
       "fourDmicro   46   54  102    8   25   89    1     2    53     4     6    11   \n",
       "mmew         50   41  109   70   10   47    8    38    37    17     6    11   \n",
       "samm          6   18   23   10    3   46    5     6    28    13     4     6   \n",
       "Total       151  152  434   90   52  225   67    65   161    84    46    66   \n",
       "\n",
       "            AU20  AU24  AU25  total  \n",
       "casme          2     4     5    228  \n",
       "casme2         1     2     2    368  \n",
       "fourDmicro     2     9     1    413  \n",
       "mmew           8     3     5    460  \n",
       "samm           7     9     7    191  \n",
       "Total         20    27    20   1660  "
      ]
     },
     "execution_count": 33,
     "metadata": {},
     "output_type": "execute_result"
    }
   ],
   "source": [
    "dataset_df = pd.concat(\n",
    "    [\n",
    "        df.groupby(\"dataset\")[aus].sum(),\n",
    "        pd.DataFrame(df.groupby(\"dataset\")[aus].sum().sum(0)).T,\n",
    "    ]\n",
    ")\n",
    "dataset_df[\"total\"] = dataset_df.sum(1)\n",
    "dataset_df = dataset_df.rename({0: \"Total\"})\n",
    "dataset_df"
   ]
  },
  {
   "cell_type": "markdown",
   "metadata": {},
   "source": [
    "AU1,AU2,AU4,AU6,AU7,AU10,AU12,AU15,AU23,AU24,AU25,AU26"
   ]
  },
  {
   "cell_type": "code",
   "execution_count": 86,
   "metadata": {},
   "outputs": [],
   "source": [
    "def calculate_optical_flow(onset: np.ndarray, apex: np.ndarray) -> np.ndarray:\n",
    "    # flow = cv2.calcOpticalFlowFarneback(onset, apex, flow=None,\n",
    "    #                                pyr_scale=0.8, levels=15, winsize=5,\n",
    "    #                                iterations=10,\n",
    "    #                                poly_n=5, poly_sigma=0, flags=10)\n",
    "    optical_flow = cv2.optflow.DualTVL1OpticalFlow_create()\n",
    "    flow = optical_flow.calc(onset, apex, None)\n",
    "    u = flow[..., 0]\n",
    "    v = flow[..., 1]\n",
    "    ux = ndimage.sobel(u, axis=0, mode=\"constant\")\n",
    "    uy = ndimage.sobel(u, axis=1, mode=\"constant\")\n",
    "    vx = ndimage.sobel(v, axis=0, mode=\"constant\")\n",
    "    vy = ndimage.sobel(v, axis=1, mode=\"constant\")\n",
    "    grad = np.sqrt(ux**2 + vy**2 + 0.5 * (uy**2 + vx**2))\n",
    "    frames = np.concatenate([flow, np.expand_dims(grad, 2)], 2)\n",
    "    frames = (frames - frames.min((0, 1))) / (frames.max((0, 1)) - frames.min((0, 1)))\n",
    "    return frames"
   ]
  },
  {
   "cell_type": "code",
   "execution_count": 87,
   "metadata": {
    "scrolled": true
   },
   "outputs": [
    {
     "name": "stderr",
     "output_type": "stream",
     "text": [
      "  2%|▏         | 28/1171 [02:56<2:38:14,  8.31s/it]/home/tvaranka/.local/lib/python3.6/site-packages/ipykernel_launcher.py:16: RuntimeWarning: invalid value encountered in true_divide\n",
      "  app.launch_new_instance()\n",
      "100%|██████████| 1171/1171 [2:43:07<00:00,  8.36s/it] \n"
     ]
    }
   ],
   "source": [
    "n_videos = len(data)\n",
    "of_frames = np.empty((n_videos, 3, 64, 64))\n",
    "for i, video in enumerate(tqdm(data)):\n",
    "    flow = calculate_optical_flow(video[0], video[df.loc[i, \"apexf\"]])\n",
    "    of_frames[i] = resize(flow, (64, 64, 3)).transpose(2, 0, 1)"
   ]
  },
  {
   "cell_type": "code",
   "execution_count": null,
   "metadata": {},
   "outputs": [],
   "source": [
    "# Test that onset and offset frames in df correspond to the ones in files"
   ]
  },
  {
   "cell_type": "markdown",
   "metadata": {},
   "source": [
    "secrets of OF\n",
    "All AUs:  [('AU1', 0.8404276225287899), ('AU2', 0.7960803677741352), ('AU4', 0.8906447061614922), ('AU6', 0.5242435289828655), ('AU7', 0.7294963034616182), ('AU9', 0.618928652542098), ('AU10', 0.5426433298286846), ('AU12', 0.7222420254231772), ('AU14', 0.6625211585480535), ('AU15', 0.7993002422238455), ('AU17', 0.7373188405797102), ('AU18', 0.5476925899874614), ('AU20', 0.49535962877030165), ('AU24', 0.49300699300699297), ('AU25', 0.49447995351539803), ('AU26', 0.49477351916376305), ('AU5', 0.493891797556719)]\n",
    "Mean f1:  0.6401794858855944\n",
    "\n",
    "dualtvl1\n",
    "All AUs:  [('AU1', 0.48669477310848175), ('AU2', 0.47437389542652697), ('AU4', 0.4770888678763864), ('AU5', 0.4938988959907031), ('AU6', 0.4870435806831566), ('AU7', 0.43770174306003873), ('AU9', 0.48247177658942364), ('AU10', 0.4909409701928696), ('AU12', 0.47095950704225353), ('AU14', 0.4784431137724551), ('AU15', 0.5336759824392333), ('AU17', 0.51844950446392), ('AU18', 0.4953650057937428), ('AU20', 0.49653179190751445), ('AU24', 0.49271986022131625), ('AU25', 0.4953650057937427), ('AU26', 0.495949074074074)]\n",
    "Mean f1:  0.4886866675550494"
   ]
  },
  {
   "cell_type": "markdown",
   "metadata": {},
   "source": [
    "all 5 datasets - sample 222 from casme2 as no OF\n",
    "secrets of OF\n",
    "Dataset: casme, n=189 | train_f1: 0.99912 | test_f1: 0.62678\n",
    "Test F1 per AU: [('AU1', 0.84953), ('AU2', 0.88379), ('AU4', 0.79301), ('AU5', 0.48919), ('AU6', 0.48641), ('AU7', 0.49047), ('AU9', 0.49107), ('AU10', 0.63612), ('AU12', 0.67227), ('AU14', 0.72688), ('AU15', 0.78883), ('AU17', 0.66124), ('AU18', 0.64152), ('AU20', 0.496), ('AU24', 0.69598), ('AU25', 0.49194), ('AU26', 0.48919), ('AU38', 0.49867)]\n",
    "\n",
    "Dataset: casme2, n=255 | train_f1: 1.0 | test_f1: 0.6476\n",
    "Test F1 per AU: [('AU1', 0.92218), ('AU2', 0.86314), ('AU4', 0.95294), ('AU5', 0.49704), ('AU6', 0.64466), ('AU7', 0.72508), ('AU9', 0.60446), ('AU10', 0.53532), ('AU12', 0.74986), ('AU14', 0.68722), ('AU15', 0.68776), ('AU17', 0.80096), ('AU18', 0.49803), ('AU20', 0.49605), ('AU24', 0.49803), ('AU25', 0.49803), ('AU26', 0.49803), ('AU38', 0.49803)]\n",
    "\n",
    "Dataset: samm, n=159 | train_f1: 0.99976 | test_f1: 0.67075\n",
    "Test F1 per AU: [('AU1', 0.73675), ('AU2', 0.8747), ('AU4', 0.79965), ('AU5', 0.73675), ('AU6', 0.49201), ('AU7', 0.86854), ('AU9', 0.49201), ('AU10', 0.82848), ('AU12', 0.72412), ('AU14', 0.58018), ('AU15', 0.83013), ('AU17', 0.67042), ('AU18', 0.49363), ('AU20', 0.48875), ('AU24', 0.58701), ('AU25', 0.48875), ('AU26', 0.63482), ('AU38', 0.74682)]\n",
    "\n",
    "Dataset: fourDmicro, n=267 | train_f1: 0.9988 | test_f1: 0.66555\n",
    "Test F1 per AU: [('AU1', 0.87033), ('AU2', 0.81615), ('AU4', 0.91518), ('AU5', 0.48054), ('AU6', 0.5854), ('AU7', 0.68489), ('AU9', 0.49906), ('AU10', 0.49527), ('AU12', 0.65881), ('AU14', 0.62274), ('AU15', 0.63811), ('AU17', 0.72659), ('AU18', 1.0), ('AU20', 0.49718), ('AU24', 0.49143), ('AU25', 0.49906), ('AU26', 0.49906), ('AU38', 1.0)]\n",
    "\n",
    "Dataset: mmew, n=300 | train_f1: 1.0 | test_f1: 0.6567\n",
    "Test F1 per AU: [('AU1', 0.9062), ('AU2', 0.84462), ('AU4', 0.88116), ('AU5', 0.43396), ('AU6', 0.49153), ('AU7', 0.75417), ('AU9', 0.53448), ('AU10', 0.49107), ('AU12', 0.68519), ('AU14', 0.68142), ('AU15', 0.54181), ('AU17', 0.71689), ('AU18', 0.59322), ('AU20', 0.49066), ('AU24', 0.74832), ('AU25', 0.6633), ('AU26', 0.74792), ('AU38', 0.61473)]\n",
    "\n",
    "All AUs:  [('AU1', 0.88261), ('AU2', 0.84916), ('AU4', 0.88785), ('AU5', 0.50967), ('AU6', 0.57011), ('AU7', 0.73319), ('AU9', 0.54219), ('AU10', 0.55996), ('AU12', 0.70309), ('AU14', 0.67494), ('AU15', 0.68771), ('AU17', 0.73576), ('AU18', 0.59847), ('AU20', 0.49394), ('AU24', 0.59481), ('AU25', 0.54114), ('AU26', 0.67146), ('AU38', 0.62677)]\n",
    "Mean f1:  0.6590460779085798\n",
    "\n",
    "\n",
    "resnet18 pretrained\n",
    "All AUs:  [('AU1', 0.8571269075912887), ('AU2', 0.8332019683445882), ('AU4', 0.8957803115137942), ('AU5', 0.5192725130240635), ('AU6', 0.539229746097088), ('AU7', 0.69580101399662), ('AU9', 0.5184270516717325), ('AU10', 0.5376139111028455), ('AU12', 0.6584340514976353), ('AU14', 0.5923957886398891), ('AU15', 0.6407894736842106), ('AU17', 0.7124469770066814), ('AU18', 0.6023850716757291), ('AU20', 0.49547218628719275), ('AU24', 0.5286411316193915), ('AU25', 0.49547218628719275), ('AU26', 0.561038961038961), ('AU38', 0.49612403100775193)]\n",
    "Mean f1:  0.6210918490048142\n",
    "\n",
    "resnet18\n",
    "All AUs:  [('AU1', 0.8398003033367037), ('AU2', 0.8174410540915396), ('AU4', 0.8905428932955739), ('AU5', 0.5211225069640096), ('AU6', 0.5218421893460347), ('AU7', 0.7166788677232829), ('AU9', 0.4832155477031802), ('AU10', 0.5576702888375208), ('AU12', 0.6495192307692308), ('AU14', 0.5695945945945947), ('AU15', 0.6158056042031524), ('AU17', 0.7042344797790147), ('AU18', 0.533275713050994), ('AU20', 0.49547218628719275), ('AU24', 0.4941634241245136), ('AU25', 0.49547218628719275), ('AU26', 0.5881174176776429), ('AU38', 0.4959069366652305)]\n",
    "Mean f1:  0.610548634707589\n",
    "\n",
    "resnet8\n",
    "All AUs:  [('AU1', 0.8548477141616524), ('AU2', 0.8093733466849489), ('AU4', 0.8903207259455541), ('AU5', 0.49244748412310696), ('AU6', 0.5202814003841202), ('AU7', 0.7043051218700412), ('AU9', 0.5076484186709951), ('AU10', 0.5121789100313613), ('AU12', 0.6716649887846836), ('AU14', 0.5794535734149581), ('AU15', 0.5975106329747311), ('AU17', 0.6627072349615701), ('AU18', 0.5350323974082074), ('AU20', 0.4952545297670406), ('AU24', 0.4939446366782007), ('AU25', 0.49503668536901163), ('AU26', 0.5850573353824329), ('AU38', 0.49612403100775193)]\n",
    "Mean f1:  0.6057327315344649"
   ]
  },
  {
   "cell_type": "code",
   "execution_count": 2,
   "metadata": {},
   "outputs": [],
   "source": [
    "from functools import partial\n",
    "\n",
    "import utils.train_eval as te\n",
    "import utils.models.models as models\n",
    "import utils.datasets as datasets\n",
    "from utils.latex_tools import results_to_latex\n",
    "\n",
    "\n",
    "import torch\n",
    "import torch.optim as optim"
   ]
  },
  {
   "cell_type": "code",
   "execution_count": 3,
   "metadata": {},
   "outputs": [],
   "source": [
    "class BasicConfig:\n",
    "    device = torch.device(\"cuda:0\")\n",
    "    epochs = 200\n",
    "    # Optimizer\n",
    "    learning_rate = 1e-2\n",
    "    weight_decay = 1e-3\n",
    "    optimizer = partial(optim.SGD, momentum=0.9)\n",
    "    scheduler = None\n",
    "    # Dataloader\n",
    "    batch_size = 64\n",
    "    train_transform = None\n",
    "    test_transform = None\n",
    "    action_units = ['AU1', 'AU2', 'AU4', 'AU5', 'AU6', 'AU7', 'AU9', 'AU10',\n",
    "                    'AU12', 'AU14', 'AU15', 'AU17', 'AU20', 'AU24', 'AU25']"
   ]
  },
  {
   "cell_type": "code",
   "execution_count": 3,
   "metadata": {
    "scrolled": true
   },
   "outputs": [
    {
     "name": "stdout",
     "output_type": "stream",
     "text": [
      "Dataset: casme, n=189 | train_f1: 1.0 | test_f1: 0.64124\n",
      "Test F1 per AU: [('AU1', 0.86021), ('AU2', 0.83841), ('AU4', 0.80475), ('AU5', 0.49465), ('AU6', 0.4933), ('AU7', 0.50142), ('AU9', 0.59432), ('AU10', 0.65574), ('AU12', 0.66216), ('AU14', 0.64449), ('AU15', 0.72269), ('AU17', 0.66124), ('AU20', 0.49734), ('AU24', 0.69598), ('AU25', 0.49194)]\n",
      "\n",
      "Dataset: casme2, n=256 | train_f1: 1.0 | test_f1: 0.64041\n",
      "Test F1 per AU: [('AU1', 0.94907), ('AU2', 0.86207), ('AU4', 0.94138), ('AU5', 0.49206), ('AU6', 0.48697), ('AU7', 0.71961), ('AU9', 0.55359), ('AU10', 0.54367), ('AU12', 0.6792), ('AU14', 0.67134), ('AU15', 0.59694), ('AU17', 0.61619), ('AU20', 0.49804), ('AU24', 0.49804), ('AU25', 0.49804)]\n",
      "\n",
      "Dataset: samm, n=159 | train_f1: 1.0 | test_f1: 0.64851\n",
      "Test F1 per AU: [('AU1', 0.64849), ('AU2', 0.83534), ('AU4', 0.84386), ('AU5', 0.56699), ('AU6', 0.48544), ('AU7', 0.80293), ('AU9', 0.74355), ('AU10', 0.74355), ('AU12', 0.64403), ('AU14', 0.61518), ('AU15', 0.49363), ('AU17', 0.7402), ('AU20', 0.48875), ('AU24', 0.58701), ('AU25', 0.48875)]\n",
      "\n",
      "Dataset: fourDmicro, n=267 | train_f1: 1.0 | test_f1: 0.63941\n",
      "Test F1 per AU: [('AU1', 0.86708), ('AU2', 0.82423), ('AU4', 0.90066), ('AU5', 0.47544), ('AU6', 0.51238), ('AU7', 0.68826), ('AU9', 0.49432), ('AU10', 0.63811), ('AU12', 0.59893), ('AU14', 0.69427), ('AU15', 0.71746), ('AU17', 0.69133), ('AU20', 0.49812), ('AU24', 0.49143), ('AU25', 0.49906)]\n",
      "\n",
      "Dataset: mmew, n=300 | train_f1: 1.0 | test_f1: 0.64243\n",
      "Test F1 per AU: [('AU1', 0.89881), ('AU2', 0.8125), ('AU4', 0.91129), ('AU5', 0.44887), ('AU6', 0.49066), ('AU7', 0.67654), ('AU9', 0.55556), ('AU10', 0.49266), ('AU12', 0.68963), ('AU14', 0.64658), ('AU15', 0.59235), ('AU17', 0.81126), ('AU20', 0.49239), ('AU24', 0.49749), ('AU25', 0.61993)]\n",
      "\n",
      "All AUs:  [('AU1', 0.87526), ('AU2', 0.83224), ('AU4', 0.89658), ('AU5', 0.49056), ('AU6', 0.50155), ('AU7', 0.7091), ('AU9', 0.60401), ('AU10', 0.56907), ('AU12', 0.65589), ('AU14', 0.65652), ('AU15', 0.64414), ('AU17', 0.69829), ('AU20', 0.49526), ('AU24', 0.56356), ('AU25', 0.53692)]\n",
      "Mean f1:  0.6485966472224037\n"
     ]
    }
   ],
   "source": [
    "class SSSNetConfig(BasicConfig):\n",
    "    model = models.SSSNet(h_dims=[32, 64, 256], task_num=len(BasicConfig.action_units))\n",
    "    \n",
    "df, input_data = datasets.cross_dataset(resize=64, optical_flow=True)\n",
    "outputs_list = te.cross_dataset_validation(input_data, df, SSSNetConfig)\n",
    "results_to_latex(outputs_list, df, SSSNetConfig.action_units)"
   ]
  },
  {
   "cell_type": "code",
   "execution_count": 13,
   "metadata": {
    "scrolled": true
   },
   "outputs": [
    {
     "name": "stdout",
     "output_type": "stream",
     "text": [
      "Dataset: casme, n=189 | train_f1: 1.0 | test_f1: 0.58955\n",
      "Test F1 per AU: [('AU1', 0.7753), ('AU2', 0.83193), ('AU4', 0.81375), ('AU5', 0.49057), ('AU6', 0.48501), ('AU7', 0.4958), ('AU9', 0.44083), ('AU10', 0.57865), ('AU12', 0.62108), ('AU14', 0.56552), ('AU15', 0.66124), ('AU17', 0.59964), ('AU20', 0.496), ('AU24', 0.49465), ('AU25', 0.4933)]\n",
      "\n",
      "Dataset: casme2, n=256 | train_f1: 0.97797 | test_f1: 0.59821\n",
      "Test F1 per AU: [('AU1', 0.87824), ('AU2', 0.825), ('AU4', 0.89382), ('AU5', 0.47216), ('AU6', 0.48178), ('AU7', 0.66816), ('AU9', 0.52827), ('AU10', 0.53936), ('AU12', 0.67135), ('AU14', 0.46998), ('AU15', 0.54367), ('AU17', 0.51126), ('AU20', 0.49902), ('AU24', 0.49804), ('AU25', 0.49307)]\n",
      "\n",
      "Dataset: samm, n=159 | train_f1: 1.0 | test_f1: 0.63384\n",
      "Test F1 per AU: [('AU1', 0.77585), ('AU2', 0.81404), ('AU4', 0.85763), ('AU5', 0.66859), ('AU6', 0.49363), ('AU7', 0.77334), ('AU9', 0.66026), ('AU10', 0.74355), ('AU12', 0.6203), ('AU14', 0.47351), ('AU15', 0.49363), ('AU17', 0.67042), ('AU20', 0.48875), ('AU24', 0.48544), ('AU25', 0.48875)]\n",
      "\n",
      "Dataset: fourDmicro, n=267 | train_f1: 1.0 | test_f1: 0.61479\n",
      "Test F1 per AU: [('AU1', 0.84152), ('AU2', 0.82774), ('AU4', 0.88337), ('AU5', 0.57333), ('AU6', 0.47544), ('AU7', 0.69149), ('AU9', 0.49527), ('AU10', 0.49623), ('AU12', 0.63307), ('AU14', 0.6138), ('AU15', 0.71746), ('AU17', 0.48456), ('AU20', 0.49812), ('AU24', 0.49143), ('AU25', 0.49906)]\n",
      "\n",
      "Dataset: mmew, n=300 | train_f1: 0.98011 | test_f1: 0.60679\n",
      "Test F1 per AU: [('AU1', 0.86309), ('AU2', 0.83587), ('AU4', 0.87745), ('AU5', 0.44887), ('AU6', 0.49153), ('AU7', 0.47776), ('AU9', 0.4898), ('AU10', 0.53401), ('AU12', 0.6259), ('AU14', 0.65578), ('AU15', 0.54181), ('AU17', 0.77522), ('AU20', 0.49324), ('AU24', 0.49664), ('AU25', 0.49495)]\n",
      "\n",
      "All AUs:  [('AU1', 0.84708), ('AU2', 0.83036), ('AU4', 0.87572), ('AU5', 0.51676), ('AU6', 0.48505), ('AU7', 0.66474), ('AU9', 0.50609), ('AU10', 0.56662), ('AU12', 0.64119), ('AU14', 0.56291), ('AU15', 0.59649), ('AU17', 0.61504), ('AU20', 0.49548), ('AU24', 0.49395), ('AU25', 0.49439)]\n",
      "Mean f1:  0.612791936188621\n",
      "AUS: ['AU1', 'AU2', 'AU4', 'AU5', 'AU6', 'AU7', 'AU9', 'AU10', 'AU12', 'AU14', 'AU15', 'AU17', 'AU20', 'AU24', 'AU25', 'Average']\n",
      "0.8471 & 0.8304 & 0.8757 & 0.5168 & 0.485 & 0.6647 & 0.5061 & 0.5666 & 0.6412 & 0.5629 & 0.5965 & 0.615 & 0.4955 & 0.4939 & 0.4944 & 0.6128\n",
      "\n",
      "Datasets:  ['casme', 'casme2', 'samm', 'fourDmicro', 'mmew', 'Average']\n",
      "0.5896 & 0.5982 & 0.6338 & 0.6148 & 0.6068 & 0.6086\n"
     ]
    }
   ],
   "source": [
    "class ModelConfig(BasicConfig):\n",
    "    model = models.Resnet18(task_num=len(BasicConfig.action_units), pretrained=True)\n",
    "    \n",
    "df, input_data = datasets.cross_dataset(resize=112, optical_flow=True)\n",
    "outputs_list = te.cross_dataset_validation(input_data, df, ModelConfig)\n",
    "results_to_latex(outputs_list, df, ModelConfig.action_units)"
   ]
  },
  {
   "cell_type": "code",
   "execution_count": 22,
   "metadata": {
    "scrolled": true
   },
   "outputs": [
    {
     "name": "stdout",
     "output_type": "stream",
     "text": [
      "Dataset: casme, n=189 | train_f1: 0.99947 | test_f1: 0.62172\n",
      "Test F1 per AU: [('AU1', 0.81416), ('AU2', 0.86518), ('AU4', 0.78034), ('AU5', 0.496), ('AU6', 0.4878), ('AU7', 0.54567), ('AU9', 0.55049), ('AU10', 0.7033), ('AU12', 0.62828), ('AU14', 0.60785), ('AU15', 0.66124), ('AU17', 0.70833), ('AU20', 0.49194), ('AU24', 0.4933), ('AU25', 0.49194)]\n",
      "\n",
      "Dataset: casme2, n=256 | train_f1: 0.99513 | test_f1: 0.63055\n",
      "Test F1 per AU: [('AU1', 0.9198), ('AU2', 0.87115), ('AU4', 0.87488), ('AU5', 0.48283), ('AU6', 0.54839), ('AU7', 0.67906), ('AU9', 0.58946), ('AU10', 0.53936), ('AU12', 0.6189), ('AU14', 0.5817), ('AU15', 0.59694), ('AU17', 0.66667), ('AU20', 0.49902), ('AU24', 0.49307), ('AU25', 0.49705)]\n",
      "\n",
      "Dataset: samm, n=159 | train_f1: 0.99083 | test_f1: 0.63596\n",
      "Test F1 per AU: [('AU1', 0.67987), ('AU2', 0.84785), ('AU4', 0.68267), ('AU5', 0.52889), ('AU6', 0.48377), ('AU7', 0.75579), ('AU9', 0.78089), ('AU10', 0.77585), ('AU12', 0.61877), ('AU14', 0.56662), ('AU15', 0.61532), ('AU17', 0.7402), ('AU20', 0.48875), ('AU24', 0.48544), ('AU25', 0.48875)]\n",
      "\n",
      "Dataset: fourDmicro, n=267 | train_f1: 0.99903 | test_f1: 0.63878\n",
      "Test F1 per AU: [('AU1', 0.88698), ('AU2', 0.83995), ('AU4', 0.88763), ('AU5', 0.55139), ('AU6', 0.55139), ('AU7', 0.65604), ('AU9', 0.4924), ('AU10', 0.49432), ('AU12', 0.72065), ('AU14', 0.56637), ('AU15', 0.7462), ('AU17', 0.69985), ('AU20', 0.49812), ('AU24', 0.49143), ('AU25', 0.49906)]\n",
      "\n",
      "Dataset: mmew, n=300 | train_f1: 0.99941 | test_f1: 0.63873\n",
      "Test F1 per AU: [('AU1', 0.89547), ('AU2', 0.8379), ('AU4', 0.89105), ('AU5', 0.43396), ('AU6', 0.58327), ('AU7', 0.61827), ('AU9', 0.53121), ('AU10', 0.6191), ('AU12', 0.6744), ('AU14', 0.54386), ('AU15', 0.6157), ('AU17', 0.7287), ('AU20', 0.49066), ('AU24', 0.49749), ('AU25', 0.61993)]\n",
      "\n",
      "All AUs:  [('AU1', 0.87238), ('AU2', 0.85045), ('AU4', 0.8506), ('AU5', 0.493), ('AU6', 0.54047), ('AU7', 0.67722), ('AU9', 0.58029), ('AU10', 0.63613), ('AU12', 0.66564), ('AU14', 0.5775), ('AU15', 0.63718), ('AU17', 0.70356), ('AU20', 0.49417), ('AU24', 0.49285), ('AU25', 0.53504)]\n",
      "Mean f1:  0.6404328835241239\n",
      "AUS: ['AU1', 'AU2', 'AU4', 'AU5', 'AU6', 'AU7', 'AU9', 'AU10', 'AU12', 'AU14', 'AU15', 'AU17', 'AU20', 'AU24', 'AU25', 'Average']\n",
      "0.8724 & 0.8504 & 0.8506 & 0.493 & 0.5405 & 0.6772 & 0.5803 & 0.6361 & 0.6656 & 0.5775 & 0.6372 & 0.7036 & 0.4942 & 0.4929 & 0.535 & 0.6404\n",
      "\n",
      "Datasets:  ['casme', 'casme2', 'samm', 'fourDmicro', 'mmew', 'Average']\n",
      "0.6217 & 0.6306 & 0.636 & 0.6388 & 0.6387 & 0.6331\n"
     ]
    }
   ],
   "source": [
    "class ModelConfig(BasicConfig):\n",
    "    model = models.OffApexNet(task_num=len(BasicConfig.action_units))\n",
    "    epochs = 1000\n",
    "    learning_rate = 1e-4\n",
    "    optimizer = optim.Adam\n",
    "    \n",
    "df, input_data = datasets.cross_dataset(resize=28, optical_flow=True)\n",
    "input_data = input_data[:, :2]\n",
    "outputs_list = te.cross_dataset_validation(input_data, df, ModelConfig)\n",
    "results_to_latex(outputs_list, df, ModelConfig.action_units)"
   ]
  },
  {
   "cell_type": "code",
   "execution_count": 24,
   "metadata": {},
   "outputs": [
    {
     "data": {
      "text/plain": [
       "0.7261375"
      ]
     },
     "execution_count": 24,
     "metadata": {},
     "output_type": "execute_result"
    }
   ],
   "source": [
    "# Casme2 8 AUS cross-dataset significantly worse\n",
    "np.mean([0.9198, 0.87115, 0.87488, 0.67906,  0.6189, 0.5817, 0.59694, 0.66667])"
   ]
  },
  {
   "cell_type": "code",
   "execution_count": 4,
   "metadata": {
    "scrolled": true
   },
   "outputs": [
    {
     "name": "stdout",
     "output_type": "stream",
     "text": [
      "Dataset: casme, n=189 | train_f1: 0.8287 | test_f1: 0.60003\n",
      "Test F1 per AU: [('AU1', 0.74145), ('AU2', 0.88429), ('AU4', 0.79699), ('AU5', 0.48919), ('AU6', 0.48919), ('AU7', 0.4879), ('AU9', 0.55856), ('AU10', 0.4878), ('AU12', 0.59032), ('AU14', 0.61429), ('AU15', 0.70833), ('AU17', 0.67369), ('AU20', 0.496), ('AU24', 0.4933), ('AU25', 0.48919)]\n",
      "\n",
      "Dataset: casme2, n=256 | train_f1: 0.84474 | test_f1: 0.63358\n",
      "Test F1 per AU: [('AU1', 0.92378), ('AU2', 0.84164), ('AU4', 0.92186), ('AU5', 0.49804), ('AU6', 0.60452), ('AU7', 0.69948), ('AU9', 0.48697), ('AU10', 0.53936), ('AU12', 0.64207), ('AU14', 0.47216), ('AU15', 0.76252), ('AU17', 0.61619), ('AU20', 0.49902), ('AU24', 0.49804), ('AU25', 0.49804)]\n",
      "\n",
      "Dataset: samm, n=159 | train_f1: 0.84088 | test_f1: 0.60959\n",
      "Test F1 per AU: [('AU1', 0.63946), ('AU2', 0.89295), ('AU4', 0.76526), ('AU5', 0.48377), ('AU6', 0.49201), ('AU7', 0.82316), ('AU9', 0.61532), ('AU10', 0.65359), ('AU12', 0.63216), ('AU14', 0.5242), ('AU15', 0.49363), ('AU17', 0.67042), ('AU20', 0.48544), ('AU24', 0.48377), ('AU25', 0.48875)]\n",
      "\n",
      "Dataset: fourDmicro, n=267 | train_f1: 0.8656 | test_f1: 0.61776\n",
      "Test F1 per AU: [('AU1', 0.87101), ('AU2', 0.8349), ('AU4', 0.86194), ('AU5', 0.50775), ('AU6', 0.51484), ('AU7', 0.72684), ('AU9', 0.49527), ('AU10', 0.49527), ('AU12', 0.58358), ('AU14', 0.60444), ('AU15', 0.71746), ('AU17', 0.56637), ('AU20', 0.49623), ('AU24', 0.49143), ('AU25', 0.49906)]\n",
      "\n",
      "Dataset: mmew, n=300 | train_f1: 0.80721 | test_f1: 0.622\n",
      "Test F1 per AU: [('AU1', 0.9062), ('AU2', 0.85846), ('AU4', 0.90738), ('AU5', 0.43396), ('AU6', 0.56119), ('AU7', 0.49467), ('AU9', 0.4863), ('AU10', 0.48951), ('AU12', 0.66972), ('AU14', 0.58056), ('AU15', 0.49239), ('AU17', 0.79898), ('AU20', 0.49153), ('AU24', 0.6633), ('AU25', 0.4958)]\n",
      "\n",
      "All AUs:  [('AU1', 0.85644), ('AU2', 0.85732), ('AU4', 0.87235), ('AU5', 0.48209), ('AU6', 0.5435), ('AU7', 0.69943), ('AU9', 0.55234), ('AU10', 0.53), ('AU12', 0.62766), ('AU14', 0.55726), ('AU15', 0.68522), ('AU17', 0.67635), ('AU20', 0.49417), ('AU24', 0.52476), ('AU25', 0.49504)]\n",
      "Mean f1:  0.630261028229902\n",
      "AUS: ['AU1', 'AU2', 'AU4', 'AU5', 'AU6', 'AU7', 'AU9', 'AU10', 'AU12', 'AU14', 'AU15', 'AU17', 'AU20', 'AU24', 'AU25', 'Average']\n",
      "0.8564 & 0.8573 & 0.8724 & 0.4821 & 0.5435 & 0.6994 & 0.5523 & 0.53 & 0.6277 & 0.5573 & 0.6852 & 0.6763 & 0.4942 & 0.5248 & 0.495 & 0.6303\n",
      "\n",
      "Datasets:  ['casme', 'casme2', 'samm', 'fourDmicro', 'mmew', 'Average']\n",
      "0.6 & 0.6336 & 0.6096 & 0.6178 & 0.622 & 0.6166\n"
     ]
    }
   ],
   "source": [
    "class ModelConfig(BasicConfig):\n",
    "    model = models.STSTNet(task_num=len(BasicConfig.action_units))\n",
    "    \n",
    "df, input_data = datasets.cross_dataset(resize=28, optical_flow=True)\n",
    "#input_data = input_data[:, :2]\n",
    "outputs_list = te.cross_dataset_validation(input_data, df, ModelConfig)\n",
    "results_to_latex(outputs_list, df, ModelConfig.action_units)"
   ]
  },
  {
   "cell_type": "markdown",
   "metadata": {},
   "source": [
    "## Constant method"
   ]
  },
  {
   "cell_type": "code",
   "execution_count": 19,
   "metadata": {},
   "outputs": [],
   "source": [
    "constant_outputs = [torch.zeros(i, len(BasicConfig.action_units)) for i in [189, 256, 159, 267, 300]]"
   ]
  },
  {
   "cell_type": "code",
   "execution_count": 20,
   "metadata": {
    "scrolled": true
   },
   "outputs": [
    {
     "name": "stdout",
     "output_type": "stream",
     "text": [
      "AUS: ['AU1', 'AU2', 'AU4', 'AU5', 'AU6', 'AU7', 'AU9', 'AU10', 'AU12', 'AU14', 'AU15', 'AU17', 'AU20', 'AU24', 'AU25', 'Average']\n",
      "0.4655 & 0.4653 & 0.3863 & 0.48 & 0.4886 & 0.4469 & 0.4853 & 0.4857 & 0.4631 & 0.4814 & 0.49 & 0.4855 & 0.4957 & 0.4942 & 0.4957 & 0.4739\n",
      "\n",
      "Datasets:  ['casme', 'casme2', 'samm', 'fourDmicro', 'mmew', 'Average']\n",
      "0.5109 & 0.4723 & 0.4784 & 0.4705 & 0.4716 & 0.4807\n"
     ]
    }
   ],
   "source": [
    "results_to_latex(constant_outputs, df, BasicConfig.action_units)"
   ]
  },
  {
   "cell_type": "markdown",
   "metadata": {},
   "source": [
    "# Multi label"
   ]
  },
  {
   "cell_type": "code",
   "execution_count": 7,
   "metadata": {},
   "outputs": [
    {
     "data": {
      "text/plain": [
       "array([0.66666667, 1.        , 0.66666667])"
      ]
     },
     "execution_count": 7,
     "metadata": {},
     "output_type": "execute_result"
    }
   ],
   "source": [
    "from sklearn.metrics import f1_score\n",
    "y_true = [[0, 0, 0], [1, 1, 1], [0, 1, 1]]\n",
    "y_pred = [[0, 0, 0], [1, 1, 1], [1, 1, 0]]\n",
    "f1_score(y_true, y_pred, average=None)"
   ]
  },
  {
   "cell_type": "code",
   "execution_count": 9,
   "metadata": {},
   "outputs": [],
   "source": [
    "import numpy as np\n",
    "y_true = np.array(df.loc[df[\"dataset\"] == \"casme\", SSSNetConfig.action_units])"
   ]
  },
  {
   "cell_type": "code",
   "execution_count": 10,
   "metadata": {},
   "outputs": [],
   "source": [
    "y_pred = outputs_list[0].numpy()"
   ]
  },
  {
   "cell_type": "code",
   "execution_count": 14,
   "metadata": {},
   "outputs": [
    {
     "data": {
      "text/plain": [
       "array([0.75      , 0.70588235, 0.75      , 0.        , 0.        ,\n",
       "       0.07407407, 0.29166667, 0.33333333, 0.36363636, 0.35294118,\n",
       "       0.47619048, 0.35294118, 0.        , 0.4       , 0.        ])"
      ]
     },
     "execution_count": 14,
     "metadata": {},
     "output_type": "execute_result"
    }
   ],
   "source": [
    "f1_score(y_true, y_pred, average=None)"
   ]
  },
  {
   "cell_type": "markdown",
   "metadata": {},
   "source": [
    "# Code to class"
   ]
  },
  {
   "cell_type": "code",
   "execution_count": 7,
   "metadata": {
    "scrolled": true
   },
   "outputs": [
    {
     "name": "stdout",
     "output_type": "stream",
     "text": [
      "Dataset: casme, n=189 | train_f1: 0.54619 | test_f1: 0.54221\n",
      "Test F1 per AU: [('AU1', 0.58698), ('AU2', 0.53333), ('AU4', 0.63185), ('AU5', 1.0), ('AU6', 0.49867), ('AU7', 0.48641), ('AU9', 0.44083), ('AU10', 0.496), ('AU12', 0.54316), ('AU14', 0.46761), ('AU15', 0.48077), ('AU17', 0.48219), ('AU20', 0.49734), ('AU24', 0.49465), ('AU25', 0.4933)]\n",
      "\n",
      "Dataset: casme2, n=256 | train_f1: 0.49242 | test_f1: 0.48436\n",
      "Test F1 per AU: [('AU1', 0.47325), ('AU2', 0.47755), ('AU4', 0.35501), ('AU5', 0.49804), ('AU6', 0.48697), ('AU7', 0.60666), ('AU9', 0.48697), ('AU10', 0.48387), ('AU12', 0.47162), ('AU14', 0.47216), ('AU15', 0.48387), ('AU17', 0.47433), ('AU20', 0.49902), ('AU24', 0.49804), ('AU25', 0.49804)]\n",
      "\n",
      "Dataset: samm, n=159 | train_f1: 0.54934 | test_f1: 0.53252\n",
      "Test F1 per AU: [('AU1', 0.59605), ('AU2', 0.67339), ('AU4', 0.88134), ('AU5', 0.48377), ('AU6', 0.49524), ('AU7', 0.41544), ('AU9', 0.49201), ('AU10', 0.49038), ('AU12', 0.53448), ('AU14', 0.47869), ('AU15', 0.49363), ('AU17', 0.49038), ('AU20', 0.48875), ('AU24', 0.48544), ('AU25', 0.48875)]\n",
      "\n",
      "Dataset: fourDmicro, n=267 | train_f1: 0.507 | test_f1: 0.5012\n",
      "Test F1 per AU: [('AU1', 0.45287), ('AU2', 0.44375), ('AU4', 0.84275), ('AU5', 0.4924), ('AU6', 0.47544), ('AU7', 0.4), ('AU9', 0.49906), ('AU10', 0.49812), ('AU12', 0.44491), ('AU14', 0.49623), ('AU15', 0.49432), ('AU17', 0.48948), ('AU20', 0.49812), ('AU24', 0.49143), ('AU25', 0.49906)]\n",
      "\n",
      "Dataset: mmew, n=300 | train_f1: 0.51375 | test_f1: 0.51082\n",
      "Test F1 per AU: [('AU1', 0.45455), ('AU2', 0.46333), ('AU4', 0.85107), ('AU5', 0.43396), ('AU6', 0.49153), ('AU7', 0.5838), ('AU9', 0.49324), ('AU10', 0.46619), ('AU12', 0.46714), ('AU14', 0.48542), ('AU15', 0.49495), ('AU17', 0.49066), ('AU20', 0.49324), ('AU24', 0.49749), ('AU25', 0.4958)]\n",
      "\n",
      "All AUs:  [('AU1', 0.4947), ('AU2', 0.5421), ('AU4', 0.71508), ('AU5', 0.48002), ('AU6', 0.48865), ('AU7', 0.50866), ('AU9', 0.48527), ('AU10', 0.48573), ('AU12', 0.53096), ('AU14', 0.4814), ('AU15', 0.48998), ('AU17', 0.4855), ('AU20', 0.49569), ('AU24', 0.49417), ('AU25', 0.49569)]\n",
      "Mean f1:  0.5115736392403205\n",
      "AUS: ['AU1', 'AU2', 'AU4', 'AU5', 'AU6', 'AU7', 'AU9', 'AU10', 'AU12', 'AU14', 'AU15', 'AU17', 'AU20', 'AU24', 'AU25', 'Average']\n",
      "0.4947 & 0.5421 & 0.7151 & 0.48 & 0.4886 & 0.5087 & 0.4853 & 0.4857 & 0.531 & 0.4814 & 0.49 & 0.4855 & 0.4957 & 0.4942 & 0.4957 & 0.5116\n",
      "\n",
      "Datasets:  ['casme', 'casme2', 'samm', 'fourDmicro', 'mmew', 'Average']\n",
      "0.5422 & 0.4844 & 0.5325 & 0.5012 & 0.5108 & 0.5142\n"
     ]
    }
   ],
   "source": [
    "class SSSNetConfig(BasicConfig):\n",
    "    epochs = 1\n",
    "    model = models.SSSNet(h_dims=[32, 64, 256], task_num=len(BasicConfig.action_units))\n",
    "    \n",
    "df, input_data = datasets.cross_dataset(resize=64, optical_flow=True)\n",
    "outputs_list = cross_dataset_validation(input_data, df, SSSNetConfig)\n",
    "results_to_latex(outputs_list, df, SSSNetConfig.action_units)"
   ]
  },
  {
   "cell_type": "code",
   "execution_count": null,
   "metadata": {},
   "outputs": [],
   "source": [
    "df, input_data = datasets.cross_dataset(resize=64, optical_flow=True)"
   ]
  },
  {
   "cell_type": "code",
   "execution_count": 51,
   "metadata": {},
   "outputs": [
    {
     "name": "stdout",
     "output_type": "stream",
     "text": [
      "Dataset: casme, n=189 | train_f1: 1.0 | test_f1: 0.64124\n",
      "Test F1 per AU: [('AU1', 0.86021), ('AU2', 0.83841), ('AU4', 0.80475), ('AU5', 0.49465), ('AU6', 0.4933), ('AU7', 0.50142), ('AU9', 0.59432), ('AU10', 0.65574), ('AU12', 0.66216), ('AU14', 0.64449), ('AU15', 0.72269), ('AU17', 0.66124), ('AU20', 0.49734), ('AU24', 0.69598), ('AU25', 0.49194)]\n",
      "\n",
      "Dataset: casme2, n=256 | train_f1: 1.0 | test_f1: 0.64041\n",
      "Test F1 per AU: [('AU1', 0.94907), ('AU2', 0.86207), ('AU4', 0.94138), ('AU5', 0.49206), ('AU6', 0.48697), ('AU7', 0.71961), ('AU9', 0.55359), ('AU10', 0.54367), ('AU12', 0.6792), ('AU14', 0.67134), ('AU15', 0.59694), ('AU17', 0.61619), ('AU20', 0.49804), ('AU24', 0.49804), ('AU25', 0.49804)]\n",
      "\n",
      "Dataset: samm, n=159 | train_f1: 1.0 | test_f1: 0.64851\n",
      "Test F1 per AU: [('AU1', 0.64849), ('AU2', 0.83534), ('AU4', 0.84386), ('AU5', 0.56699), ('AU6', 0.48544), ('AU7', 0.80293), ('AU9', 0.74355), ('AU10', 0.74355), ('AU12', 0.64403), ('AU14', 0.61518), ('AU15', 0.49363), ('AU17', 0.7402), ('AU20', 0.48875), ('AU24', 0.58701), ('AU25', 0.48875)]\n",
      "\n",
      "Dataset: fourDmicro, n=267 | train_f1: 1.0 | test_f1: 0.63941\n",
      "Test F1 per AU: [('AU1', 0.86708), ('AU2', 0.82423), ('AU4', 0.90066), ('AU5', 0.47544), ('AU6', 0.51238), ('AU7', 0.68826), ('AU9', 0.49432), ('AU10', 0.63811), ('AU12', 0.59893), ('AU14', 0.69427), ('AU15', 0.71746), ('AU17', 0.69133), ('AU20', 0.49812), ('AU24', 0.49143), ('AU25', 0.49906)]\n",
      "\n",
      "Dataset: mmew, n=300 | train_f1: 1.0 | test_f1: 0.64243\n",
      "Test F1 per AU: [('AU1', 0.89881), ('AU2', 0.8125), ('AU4', 0.91129), ('AU5', 0.44887), ('AU6', 0.49066), ('AU7', 0.67654), ('AU9', 0.55556), ('AU10', 0.49266), ('AU12', 0.68963), ('AU14', 0.64658), ('AU15', 0.59235), ('AU17', 0.81126), ('AU20', 0.49239), ('AU24', 0.49749), ('AU25', 0.61993)]\n",
      "\n",
      "All AUs:  [('AU1', 0.87526), ('AU2', 0.83224), ('AU4', 0.89658), ('AU5', 0.49056), ('AU6', 0.50155), ('AU7', 0.7091), ('AU9', 0.60401), ('AU10', 0.56907), ('AU12', 0.65589), ('AU14', 0.65652), ('AU15', 0.64414), ('AU17', 0.69829), ('AU20', 0.49526), ('AU24', 0.56356), ('AU25', 0.53692)]\n",
      "Mean f1:  0.6485966472224037\n"
     ]
    }
   ],
   "source": [
    "outputs_list = CrossDatasetValidation(input_data, df).validation()"
   ]
  },
  {
   "cell_type": "code",
   "execution_count": null,
   "metadata": {},
   "outputs": [],
   "source": [
    "# Add class seperately test"
   ]
  },
  {
   "cell_type": "code",
   "execution_count": 50,
   "metadata": {},
   "outputs": [],
   "source": [
    "class CrossDatasetValidation(Validation):\n",
    "    def __init__(self, input_data: np.ndarray, df: pd.DataFrame):\n",
    "        super().__init__()\n",
    "        self.model = models.SSSNet(h_dims=[32, 64, 256], task_num=len(BasicConfig.action_units))\n",
    "        self.epochs = 200\n",
    "        self.df = df\n",
    "        self.input_data = input_data\n",
    "        number_of_tasks = len(self.action_units)\n",
    "        self.criterion = utils.MultiTaskLoss(number_of_tasks)\n",
    "        self.evaluation = utils.MultiTaskF1(number_of_tasks)\n",
    "    \n",
    "    def validation(self) -> List[np.ndarray]:\n",
    "        \"\"\"\n",
    "        Cross dataset evaluation\n",
    "        \"\"\"\n",
    "        utils.set_random_seeds()\n",
    "        dataset_names = df[\"dataset\"].unique()\n",
    "        labels = np.concatenate([np.expand_dims(df[au], 1) for au in self.action_units], axis=1)\n",
    "        number_of_tasks = labels.shape[1]\n",
    "        outputs_list = []\n",
    "        \n",
    "        model = self.model.to(self.device)\n",
    "        for dataset_name in dataset_names:\n",
    "            train_data, train_labels, test_data, test_labels = split_data(\n",
    "                self.df[\"dataset\"], self.input_data, labels, dataset_name\n",
    "            )\n",
    "            train_loader = self.get_data_loader(train_data, train_labels, transform=self.train_transform, train=True)\n",
    "            test_loader = self.get_data_loader(test_data, test_labels, transform=self.test_transform, train=False)\n",
    "            self.model.apply(utils.reset_weights)\n",
    "            self.optimizer = self.optimizer_obj(self.model.parameters(), lr=self.learning_rate, weight_decay=self.weight_decay)\n",
    "\n",
    "            self.train_model(train_loader)\n",
    "\n",
    "            train_f1 = self.evaluate_model(train_loader)\n",
    "            test_f1, outputs_test = self.evaluate_model(test_loader, test=True)\n",
    "            outputs_list.append(outputs_test)\n",
    "            print(\n",
    "                f\"Dataset: {dataset_name}, n={test_data.shape[0]} | \"\n",
    "                f\"train_f1: {np.mean(train_f1):.5} | \"\n",
    "                f\"test_f1: {np.mean(test_f1):.5}\"\n",
    "            )\n",
    "            print(f\"Test F1 per AU: {list(zip(self.action_units, np.around(test_f1, 5)))}\\n\")\n",
    "        # Calculate total f1-scores\n",
    "        predictions = torch.cat(outputs_list)\n",
    "        f1_aus = self.evaluation(labels, predictions)\n",
    "        print(\"All AUs: \", list(zip(self.action_units, np.around(f1_aus, 5))))\n",
    "        print(\"Mean f1: \", np.mean(f1_aus))\n",
    "        return outputs_list\n",
    "    \n",
    "    def evaluate_model(\n",
    "        self,\n",
    "        dataloader: torch.utils.data.DataLoader,\n",
    "        test: bool = False,\n",
    "    ) -> Union[List[float], Tuple[List[float], torch.tensor]]:\n",
    "        \"\"\"\n",
    "        Evaluates the model given a dataloader and an evaluation function. Returns\n",
    "        the evaluation result and if boolean test is set to true also the\n",
    "        predictions.\n",
    "        \"\"\"\n",
    "        self.model.eval()\n",
    "        outputs_list = []\n",
    "        labels_list = []\n",
    "        for batch in dataloader:\n",
    "            data_batch = batch[0].to(self.device)\n",
    "            labels_batch = batch[1]\n",
    "            outputs = self.model(data_batch.float())\n",
    "            outputs_list.append([output.detach().cpu() for output in outputs])\n",
    "            labels_list.append(labels_batch)\n",
    "        self.model.train()\n",
    "        predictions = self.outputs_list_to_predictions(outputs_list)\n",
    "        labels = torch.cat(labels_list)\n",
    "        result = self.evaluation(labels, predictions)\n",
    "        if test:\n",
    "            return result, predictions\n",
    "        return result"
   ]
  },
  {
   "cell_type": "code",
   "execution_count": 23,
   "metadata": {},
   "outputs": [],
   "source": [
    "from functools import partial\n",
    "import numpy as np\n",
    "import torch.nn as nn\n",
    "import torch\n",
    "import pandas as pd\n",
    "import utils.utils as utils\n",
    "from typing import Callable, Tuple, List, Union\n",
    "from sklearn.metrics import f1_score\n",
    "from sklearn.preprocessing import LabelEncoder\n",
    "from abc import ABC, abstractmethod\n",
    "\n",
    "\n",
    "class Validation(ABC):\n",
    "    def __init__(self):\n",
    "        self.device = torch.device(\"cuda:0\")\n",
    "        self.epochs = 200\n",
    "        # Optimizer\n",
    "        self.learning_rate = 1e-2\n",
    "        self.weight_decay = 1e-3\n",
    "        self.optimizer_obj = partial(optim.SGD, momentum=0.9)\n",
    "        self.scheduler = None\n",
    "        # Dataloader\n",
    "        self.batch_size = 64\n",
    "        self.train_transform = None\n",
    "        self.test_transform = None\n",
    "        self.action_units = ['AU1', 'AU2', 'AU4', 'AU5', 'AU6', 'AU7', 'AU9', 'AU10',\n",
    "                        'AU12', 'AU14', 'AU15', 'AU17', 'AU20', 'AU24', 'AU25']\n",
    "        self.criterion = nn.CrossEntropyLoss()\n",
    "        \n",
    "    @abstractmethod\n",
    "    def validation(self):\n",
    "        pass\n",
    "    \n",
    "    \n",
    "    def split_data(\n",
    "        self,\n",
    "        split_column: pd.Series,\n",
    "        data: np.ndarray,\n",
    "        labels: np.ndarray,\n",
    "        split_name: str\n",
    "    ) -> Tuple[np.ndarray, np.ndarray, np.ndarray, np.ndarray]:\n",
    "        \"\"\"\n",
    "        Splits data based on the split_column and split_name. E.g., df[\"dataset\"] == \"smic\"\n",
    "        \"\"\"\n",
    "        train_idx = split_column[split_column != split_name].index\n",
    "        test_idx = split_column[split_column == split_name].index\n",
    "        return data[train_idx], labels[train_idx], data[test_idx], labels[test_idx]\n",
    "    \n",
    "    def get_data_loader(\n",
    "        self,\n",
    "        data: np.ndarray,\n",
    "        labels: np.ndarray,\n",
    "        transform,\n",
    "        train: bool,\n",
    "    ) -> torch.utils.data.DataLoader:\n",
    "        \"\"\"\n",
    "        Constructs a pytorch dataloader form a given input data, labels and transform.\n",
    "        \"\"\"\n",
    "        dataset = utils.MEData(data, labels, transform)\n",
    "        dataloader = torch.utils.data.DataLoader(\n",
    "            dataset, batch_size=self.batch_size, shuffle=train, num_workers=0, pin_memory=True\n",
    "        )\n",
    "        return dataloader\n",
    "    \n",
    "    def train_model(\n",
    "        self,\n",
    "        dataloader: torch.utils.data.DataLoader,\n",
    "    ) -> None:\n",
    "        for epoch in range(self.epochs):\n",
    "            for batch in dataloader:\n",
    "                data_batch, labels_batch = batch[0].to(self.device), batch[1].to(self.device)\n",
    "                self.optimizer.zero_grad()\n",
    "\n",
    "                outputs = self.model(data_batch.float())\n",
    "                loss = self.criterion(outputs, labels_batch.long())\n",
    "                loss.backward()\n",
    "                self.optimizer.step()\n",
    "    \n",
    "    @abstractmethod\n",
    "    def evaluate_model(\n",
    "        self,\n",
    "        dataloader: torch.utils.data.DataLoader,\n",
    "        test: bool = False,\n",
    "    ) -> Union[float, Tuple[float, torch.tensor]]:\n",
    "        pass\n",
    "    \n",
    "    def outputs_list_to_predictions(\n",
    "        self,\n",
    "        outputs_list: List[List[torch.tensor]]\n",
    "    ) -> torch.tensor:\n",
    "        predictions = torch.cat(\n",
    "            [\n",
    "                torch.tensor(\n",
    "                    [torch.max(au_output, 1)[1].tolist() for au_output in split_output]\n",
    "                ).T\n",
    "                for split_output in outputs_list\n",
    "            ]\n",
    "        )\n",
    "        return predictions"
   ]
  }
 ],
 "metadata": {
  "kernelspec": {
   "display_name": "Python 3",
   "language": "python",
   "name": "python3"
  },
  "language_info": {
   "codemirror_mode": {
    "name": "ipython",
    "version": 3
   },
   "file_extension": ".py",
   "mimetype": "text/x-python",
   "name": "python",
   "nbconvert_exporter": "python",
   "pygments_lexer": "ipython3",
   "version": "3.6.8"
  }
 },
 "nbformat": 4,
 "nbformat_minor": 2
}
