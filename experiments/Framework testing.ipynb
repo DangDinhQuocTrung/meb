{
 "cells": [
  {
   "cell_type": "code",
   "execution_count": 12,
   "metadata": {},
   "outputs": [],
   "source": [
    "import utils.utils as utils\n",
    "import utils.datasets as datasets\n",
    "import models.models as models\n",
    "from utils.train_eval import CrossDatasetValidation\n",
    "\n",
    "import os\n",
    "from tqdm import tqdm\n",
    "from typing import Callable, List, Tuple, Union\n",
    "from functools import partial\n",
    "\n",
    "import numpy as np\n",
    "from numba import jit\n",
    "import pandas as pd\n",
    "import matplotlib.pyplot as plt\n",
    "from sklearn.svm import SVC\n",
    "from sklearn.metrics import f1_score, confusion_matrix\n",
    "from skimage.transform import resize\n",
    "import cv2\n",
    "from sklearn.model_selection import train_test_split\n",
    "from sklearn.svm import SVC\n",
    "import torch\n",
    "import torch.nn as nn\n",
    "import torch.optim as optim\n",
    "import timm\n",
    "\n",
    "\n",
    "\n",
    "pd.set_option(\"display.max_columns\", 50)\n",
    "%load_ext autoreload\n",
    "%autoreload 2"
   ]
  },
  {
   "cell_type": "markdown",
   "metadata": {},
   "source": [
    "Smic registered videos have missing frames "
   ]
  },
  {
   "cell_type": "code",
   "execution_count": 33,
   "metadata": {},
   "outputs": [],
   "source": [
    "c = datasets.CrossDataset(resize=64, optical_flow=True)"
   ]
  },
  {
   "cell_type": "code",
   "execution_count": 13,
   "metadata": {},
   "outputs": [],
   "source": [
    "c = datasets.Casme2(resize=64, optical_flow=True)"
   ]
  },
  {
   "cell_type": "code",
   "execution_count": 34,
   "metadata": {},
   "outputs": [],
   "source": [
    "df = c.data_frame\n",
    "data = c.data"
   ]
  },
  {
   "cell_type": "markdown",
   "metadata": {},
   "source": [
    "## Table of AUs from each dataset and total"
   ]
  },
  {
   "cell_type": "code",
   "execution_count": 18,
   "metadata": {},
   "outputs": [
    {
     "data": {
      "text/html": [
       "<div>\n",
       "<style scoped>\n",
       "    .dataframe tbody tr th:only-of-type {\n",
       "        vertical-align: middle;\n",
       "    }\n",
       "\n",
       "    .dataframe tbody tr th {\n",
       "        vertical-align: top;\n",
       "    }\n",
       "\n",
       "    .dataframe thead th {\n",
       "        text-align: right;\n",
       "    }\n",
       "</style>\n",
       "<table border=\"1\" class=\"dataframe\">\n",
       "  <thead>\n",
       "    <tr style=\"text-align: right;\">\n",
       "      <th></th>\n",
       "      <th>AU1</th>\n",
       "      <th>AU2</th>\n",
       "      <th>AU4</th>\n",
       "      <th>AU5</th>\n",
       "      <th>AU6</th>\n",
       "      <th>AU7</th>\n",
       "      <th>AU9</th>\n",
       "      <th>AU10</th>\n",
       "      <th>AU12</th>\n",
       "      <th>AU14</th>\n",
       "      <th>AU15</th>\n",
       "      <th>AU17</th>\n",
       "      <th>Total</th>\n",
       "    </tr>\n",
       "    <tr>\n",
       "      <th>dataset</th>\n",
       "      <th></th>\n",
       "      <th></th>\n",
       "      <th></th>\n",
       "      <th></th>\n",
       "      <th></th>\n",
       "      <th></th>\n",
       "      <th></th>\n",
       "      <th></th>\n",
       "      <th></th>\n",
       "      <th></th>\n",
       "      <th></th>\n",
       "      <th></th>\n",
       "      <th></th>\n",
       "    </tr>\n",
       "  </thead>\n",
       "  <tbody>\n",
       "    <tr>\n",
       "      <th>casme</th>\n",
       "      <td>23</td>\n",
       "      <td>17</td>\n",
       "      <td>70</td>\n",
       "      <td>0</td>\n",
       "      <td>1</td>\n",
       "      <td>4</td>\n",
       "      <td>40</td>\n",
       "      <td>3</td>\n",
       "      <td>9</td>\n",
       "      <td>23</td>\n",
       "      <td>14</td>\n",
       "      <td>13</td>\n",
       "      <td>217</td>\n",
       "    </tr>\n",
       "    <tr>\n",
       "      <th>casme2</th>\n",
       "      <td>26</td>\n",
       "      <td>22</td>\n",
       "      <td>130</td>\n",
       "      <td>2</td>\n",
       "      <td>13</td>\n",
       "      <td>39</td>\n",
       "      <td>13</td>\n",
       "      <td>16</td>\n",
       "      <td>34</td>\n",
       "      <td>27</td>\n",
       "      <td>16</td>\n",
       "      <td>25</td>\n",
       "      <td>363</td>\n",
       "    </tr>\n",
       "    <tr>\n",
       "      <th>fourDmicro</th>\n",
       "      <td>46</td>\n",
       "      <td>54</td>\n",
       "      <td>102</td>\n",
       "      <td>8</td>\n",
       "      <td>25</td>\n",
       "      <td>89</td>\n",
       "      <td>1</td>\n",
       "      <td>2</td>\n",
       "      <td>53</td>\n",
       "      <td>4</td>\n",
       "      <td>6</td>\n",
       "      <td>11</td>\n",
       "      <td>401</td>\n",
       "    </tr>\n",
       "    <tr>\n",
       "      <th>mmew</th>\n",
       "      <td>50</td>\n",
       "      <td>41</td>\n",
       "      <td>109</td>\n",
       "      <td>70</td>\n",
       "      <td>10</td>\n",
       "      <td>47</td>\n",
       "      <td>8</td>\n",
       "      <td>38</td>\n",
       "      <td>37</td>\n",
       "      <td>17</td>\n",
       "      <td>6</td>\n",
       "      <td>11</td>\n",
       "      <td>444</td>\n",
       "    </tr>\n",
       "    <tr>\n",
       "      <th>samm</th>\n",
       "      <td>6</td>\n",
       "      <td>18</td>\n",
       "      <td>23</td>\n",
       "      <td>10</td>\n",
       "      <td>3</td>\n",
       "      <td>46</td>\n",
       "      <td>5</td>\n",
       "      <td>6</td>\n",
       "      <td>28</td>\n",
       "      <td>13</td>\n",
       "      <td>4</td>\n",
       "      <td>6</td>\n",
       "      <td>168</td>\n",
       "    </tr>\n",
       "    <tr>\n",
       "      <th>Total</th>\n",
       "      <td>151</td>\n",
       "      <td>152</td>\n",
       "      <td>434</td>\n",
       "      <td>90</td>\n",
       "      <td>52</td>\n",
       "      <td>225</td>\n",
       "      <td>67</td>\n",
       "      <td>65</td>\n",
       "      <td>161</td>\n",
       "      <td>84</td>\n",
       "      <td>46</td>\n",
       "      <td>66</td>\n",
       "      <td>1593</td>\n",
       "    </tr>\n",
       "  </tbody>\n",
       "</table>\n",
       "</div>"
      ],
      "text/plain": [
       "            AU1  AU2  AU4  AU5  AU6  AU7  AU9  AU10  AU12  AU14  AU15  AU17  \\\n",
       "dataset                                                                       \n",
       "casme        23   17   70    0    1    4   40     3     9    23    14    13   \n",
       "casme2       26   22  130    2   13   39   13    16    34    27    16    25   \n",
       "fourDmicro   46   54  102    8   25   89    1     2    53     4     6    11   \n",
       "mmew         50   41  109   70   10   47    8    38    37    17     6    11   \n",
       "samm          6   18   23   10    3   46    5     6    28    13     4     6   \n",
       "Total       151  152  434   90   52  225   67    65   161    84    46    66   \n",
       "\n",
       "            Total  \n",
       "dataset            \n",
       "casme         217  \n",
       "casme2        363  \n",
       "fourDmicro    401  \n",
       "mmew          444  \n",
       "samm          168  \n",
       "Total        1593  "
      ]
     },
     "execution_count": 18,
     "metadata": {},
     "output_type": "execute_result"
    }
   ],
   "source": [
    "# Table of aus for paper\n",
    "action_units = df.loc[:, \"AU1\":].columns[df.loc[:, \"AU1\":].sum() > 40].tolist()\n",
    "au_sum_df = df.groupby(\"dataset\")[action_units].sum()\n",
    "au_sum_df[\"Total\"] = au_sum_df.sum(1)\n",
    "au_sum_df.loc[\"Total\"] = au_sum_df.sum(numeric_only=True)\n",
    "au_sum_df\n",
    "#au_sum_df.to_latex()"
   ]
  },
  {
   "cell_type": "markdown",
   "metadata": {},
   "source": [
    "## Predicting emotions from AUs"
   ]
  },
  {
   "cell_type": "markdown",
   "metadata": {},
   "source": [
    "Let's try with a few models: logistic regression, SVM, random forests and gradient boosting. \n",
    "\n",
    "- Do we care about data leakage or just trying to find a fit?\n",
    "- Use all AUs and then the selected ones"
   ]
  },
  {
   "cell_type": "code",
   "execution_count": 19,
   "metadata": {},
   "outputs": [],
   "source": [
    "from sklearn.linear_model import LogisticRegression\n",
    "from sklearn.svm import SVC\n",
    "from sklearn.ensemble import RandomForestClassifier, GradientBoostingClassifier\n",
    "from sklearn.metrics import f1_score\n",
    "from sklearn.base import BaseEstimator"
   ]
  },
  {
   "cell_type": "code",
   "execution_count": 20,
   "metadata": {},
   "outputs": [],
   "source": [
    "def predict_emotions_from_aus(\n",
    "    df: pd.DataFrame,\n",
    "    dataset_name: str,\n",
    "    model: BaseEstimator,\n",
    "    action_units: list = []\n",
    "):\n",
    "    action_units = action_units if action_units else df.loc[:, \"AU1\":].columns\n",
    "    df_dataset = df[df[\"dataset\"] == dataset_name]\n",
    "    \n",
    "    aus = np.array(df_dataset.loc[:, action_units])\n",
    "    emotions = df_dataset[\"emotion\"]\n",
    "    model.fit(aus, emotions)\n",
    "    predicted_emotions = model.predict(aus)\n",
    "    f1 = f1_score(emotions, predicted_emotions, average=\"macro\")\n",
    "    print(f1)\n",
    "    return emotions, predicted_emotions"
   ]
  },
  {
   "cell_type": "code",
   "execution_count": 21,
   "metadata": {},
   "outputs": [],
   "source": [
    "from utils.utils import dataset_aus"
   ]
  },
  {
   "cell_type": "code",
   "execution_count": 22,
   "metadata": {},
   "outputs": [
    {
     "name": "stdout",
     "output_type": "stream",
     "text": [
      "0.9582190502610853\n"
     ]
    }
   ],
   "source": [
    "y, y_hat = predict_emotions_from_aus(df, \"mmew\", GradientBoostingClassifier())"
   ]
  },
  {
   "cell_type": "markdown",
   "metadata": {},
   "source": [
    "#### Clashes between AUs and emotions"
   ]
  },
  {
   "cell_type": "code",
   "execution_count": 23,
   "metadata": {},
   "outputs": [],
   "source": [
    "def au_clashes(df: pd.DataFrame, dataset_name: str = None) -> dict:\n",
    "    \"\"\"\n",
    "    Sees if the AUs are the same but the emotion is different in a dataframe\n",
    "    \"\"\"\n",
    "    # Remove any extras from AUs, e.g., R, (k), A\n",
    "    dft = df.copy()\n",
    "    dft[\"CAU\"] = dft.loc[:, \"AU1\":].transpose().apply(lambda x: \"+\".join([au for au, idx in x.items() if idx]))\n",
    "    # Create a dict with the au and emotion mappings\n",
    "    d = {}\n",
    "    dft = dft[dft[\"dataset\"] == dataset_name] if dataset_name in dft[\"dataset\"].unique() else dft\n",
    "    for i, row in dft.iterrows():\n",
    "        if row[\"CAU\"] not in d:\n",
    "            d.setdefault(row[\"CAU\"], [])\n",
    "        if row[\"emotion\"] not in d[row[\"CAU\"]]:\n",
    "            d[row[\"CAU\"]].append(row[\"emotion\"])\n",
    "\n",
    "    # See if there are clashes\n",
    "    clashes = {}\n",
    "    for s in d:\n",
    "        if len(d[s]) > 1:\n",
    "            clashes[s] = d[s]\n",
    "    return clashes"
   ]
  },
  {
   "cell_type": "code",
   "execution_count": 24,
   "metadata": {},
   "outputs": [
    {
     "data": {
      "text/plain": [
       "{'AU4': ['tense', 'disgust'],\n",
       " 'AU12': ['happiness', 'comtempt'],\n",
       " 'AU17': ['repression', 'tense'],\n",
       " 'AU15': ['repression', 'disgust', 'tense'],\n",
       " 'AU9': ['disgust', 'tense'],\n",
       " 'AU24': ['repression', 'tense'],\n",
       " 'AU10': ['disgust', 'happiness'],\n",
       " 'AU16': ['tense', 'surprise'],\n",
       " 'AU1': ['sadness', 'surprise']}"
      ]
     },
     "execution_count": 24,
     "metadata": {},
     "output_type": "execute_result"
    }
   ],
   "source": [
    "au_clashes(df, \"casme\")"
   ]
  },
  {
   "cell_type": "code",
   "execution_count": 25,
   "metadata": {
    "collapsed": true
   },
   "outputs": [
    {
     "data": {
      "text/plain": [
       "{'AU4': ['tense',\n",
       "  'disgust',\n",
       "  'others',\n",
       "  'Anger',\n",
       "  'Negative',\n",
       "  'Others',\n",
       "  'repression'],\n",
       " 'AU12': ['happiness',\n",
       "  'comtempt',\n",
       "  'others',\n",
       "  'Happiness',\n",
       "  'Positive',\n",
       "  'Others'],\n",
       " 'AU14': ['repression',\n",
       "  'others',\n",
       "  'happiness',\n",
       "  'Contempt',\n",
       "  'Repression',\n",
       "  'fear',\n",
       "  'sadness'],\n",
       " 'AU17': ['repression',\n",
       "  'tense',\n",
       "  'others',\n",
       "  'Sadness',\n",
       "  'Anger',\n",
       "  'Positive+Repression',\n",
       "  'Repression',\n",
       "  'sadness'],\n",
       " 'AU15': ['repression', 'disgust', 'tense', 'happiness'],\n",
       " 'AU9': ['disgust', 'tense', 'Disgust', 'Negative'],\n",
       " 'AU18': ['tense', 'others', 'repression', 'surprise'],\n",
       " 'AU1+AU2': ['surprise',\n",
       "  'Surprise',\n",
       "  'Surprise+Negative',\n",
       "  'Surprise+Positive',\n",
       "  'sadness'],\n",
       " 'AU24': ['repression', 'tense', 'others', 'Other', 'Positive+Repression'],\n",
       " 'AU4+AU14': ['tense', 'others', 'repression', 'fear'],\n",
       " 'AU7': ['tense', 'others', 'Anger', 'Negative', 'Others', 'anger'],\n",
       " 'AU10': ['disgust', 'happiness', 'Disgust'],\n",
       " 'AU14+AU15': ['tense', 'happiness', 'repression'],\n",
       " 'AU15+AU17': ['repression',\n",
       "  'Sadness',\n",
       "  'Repression',\n",
       "  'Negative+Repression',\n",
       "  'disgust'],\n",
       " 'AU20': ['fear', 'Fear', 'Others'],\n",
       " 'AU26': ['tense', 'Surprise', 'surprise'],\n",
       " 'AU16': ['tense', 'surprise', 'fear'],\n",
       " 'AU4+AU9': ['disgust', 'Disgust'],\n",
       " 'AU1+AU4': ['sadness', 'Negative'],\n",
       " 'AU1': ['sadness', 'surprise', 'Sadness', 'Negative', 'Others'],\n",
       " 'AU2': ['surprise', 'Other', 'Surprise', 'Surprise+Positive'],\n",
       " 'AU4+AU10': ['disgust', 'Negative'],\n",
       " 'AU12+AU15': ['repression',\n",
       "  'happiness',\n",
       "  'Happiness',\n",
       "  'Sadness',\n",
       "  'Positive+Repression'],\n",
       " 'AU4+AU7': ['disgust', 'others', 'Anger', 'Negative', 'Others', 'repression'],\n",
       " 'AU4+AU6+AU7': ['disgust', 'Negative'],\n",
       " 'AU2+AU12': ['surprise', 'Happiness', 'Surprise+Positive'],\n",
       " '': ['others', 'Positive'],\n",
       " 'AU2+AU15': ['others', 'disgust'],\n",
       " 'AU4+AU38': ['others', 'repression'],\n",
       " 'AU6+AU12': ['happiness', 'Happiness', 'Positive', 'Others'],\n",
       " 'AU4+AU12': ['happiness', 'others', 'Others'],\n",
       " 'AU6+AU7+AU12': ['others', 'happiness', 'Others'],\n",
       " 'AU6+AU7': ['others', 'Negative'],\n",
       " 'AU4+AU7+AU12': ['others', 'Others'],\n",
       " 'AU5': ['Surprise', 'Positive', 'surprise'],\n",
       " 'AU31': ['Fear', 'Disgust'],\n",
       " 'AU12+AU24': ['Happiness', 'Positive+Repression'],\n",
       " 'AU38': ['Other', 'repression'],\n",
       " 'AU2+AU45': ['Surprise', 'Surprise+Positive'],\n",
       " 'AU1+AU2+AU5': ['Surprise+Negative', 'Surprise', 'surprise'],\n",
       " 'AU4+AU5': ['Negative', 'fear'],\n",
       " 'AU4+AU39': ['Others', 'Negative'],\n",
       " 'AU4+AU5+AU14': ['Negative+Repression', 'fear'],\n",
       " 'AU4+AU15': ['Negative+Repression', 'repression'],\n",
       " 'AU1+AU2+AU15': ['Surprise+Repression', 'sadness'],\n",
       " 'AU4+AU7+AU14': ['disgust', 'repression']}"
      ]
     },
     "execution_count": 25,
     "metadata": {},
     "output_type": "execute_result"
    }
   ],
   "source": [
    "au_clashes(df)"
   ]
  },
  {
   "cell_type": "markdown",
   "metadata": {},
   "source": [
    "### Label cardinality for AUs"
   ]
  },
  {
   "cell_type": "code",
   "execution_count": 26,
   "metadata": {},
   "outputs": [
    {
     "name": "stdout",
     "output_type": "stream",
     "text": [
      "dataset\n",
      "casme         1.148148\n",
      "casme2        1.417969\n",
      "fourDmicro    1.501873\n",
      "mmew          1.480000\n",
      "samm          1.056604\n",
      "Name: cardinality, dtype: float64\n"
     ]
    }
   ],
   "source": [
    "def cardinality(df: pd.DataFrame):\n",
    "    dft = df.copy()\n",
    "    dft[\"cardinality\"] = dft[dataset_aus[\"cross\"]].sum(1)\n",
    "    print(dft.groupby(\"dataset\")[\"cardinality\"].mean())\n",
    "    \n",
    "cardinality(df)"
   ]
  },
  {
   "cell_type": "code",
   "execution_count": 27,
   "metadata": {},
   "outputs": [
    {
     "data": {
      "text/plain": [
       "dataset\n",
       "casme         22.052910\n",
       "casme2        66.804688\n",
       "fourDmicro    21.374532\n",
       "mmew          39.916667\n",
       "samm          74.314465\n",
       "Name: n_frames, dtype: float64"
      ]
     },
     "execution_count": 27,
     "metadata": {},
     "output_type": "execute_result"
    }
   ],
   "source": [
    "df.groupby(\"dataset\")[\"n_frames\"].mean()"
   ]
  },
  {
   "cell_type": "markdown",
   "metadata": {},
   "source": [
    "## Testing Validation for individual datasets, cross validation and MEGC"
   ]
  },
  {
   "cell_type": "markdown",
   "metadata": {},
   "source": [
    "Should also include ones for individual emotions and the ability to choose which datasets go into cross validation?"
   ]
  },
  {
   "cell_type": "code",
   "execution_count": 28,
   "metadata": {},
   "outputs": [],
   "source": [
    "from torchvision import transforms"
   ]
  },
  {
   "cell_type": "code",
   "execution_count": 57,
   "metadata": {},
   "outputs": [],
   "source": [
    "class Config:\n",
    "    action_units = ['AU1', 'AU2', 'AU4', 'AU7', 'AU12', 'AU14', 'AU15', 'AU17']\n",
    "    device = torch.device(\"cuda:0\")\n",
    "    #device = torch.device(\"cpu\")\n",
    "    epochs = 200\n",
    "    weight = torch.tensor((1 / df.loc[:, action_units].sum(0) * 100).tolist()).to(device)\n",
    "    criterion = utils.MultiLabelBCELoss(weight=weight)\n",
    "    evaluation = utils.MultiLabelF1Score(average=\"macro\")\n",
    "    # Optimizer\n",
    "    learning_rate = 1e-4\n",
    "    weight_decay = 1e-3\n",
    "    optimizer = optim.Adam\n",
    "    scheduler = None\n",
    "    # Dataloader\n",
    "    batch_size = 128\n",
    "    #train_transform = {\"spatial\": transforms.TrivialAugmentWide(num_magnitude_bins=2), \"temporal\": None}\n",
    "    train_transform = {\"spatial\": None, \"temporal\": None}\n",
    "    test_transform = {\"spatial\": None, \"temporal\": None}\n",
    "    model = models.SSSNet(output_size=len(action_units))"
   ]
  },
  {
   "cell_type": "code",
   "execution_count": 29,
   "metadata": {},
   "outputs": [],
   "source": [
    "from utils.train_eval import IndividualDatasetAUValidation, CrossDatasetValidation"
   ]
  },
  {
   "cell_type": "code",
   "execution_count": 35,
   "metadata": {
    "scrolled": true
   },
   "outputs": [
    {
     "name": "stdout",
     "output_type": "stream",
     "text": [
      "Subject: 01, n=9 | train_f1: 0.9914 | test_f1: 0.9297\n",
      "Test F1 per AU: [('AU1', 100.0), ('AU2', 100.0), ('AU4', 100.0), ('AU7', 43.75), ('AU12', 100.0), ('AU14', 100.0), ('AU15', 100.0), ('AU17', 100.0)]\n",
      "\n",
      "Subject: 02, n=13 | train_f1: 0.9936 | test_f1: 0.7305\n",
      "Test F1 per AU: [('AU1', 100.0), ('AU2', 45.83), ('AU4', 100.0), ('AU7', 100.0), ('AU12', 45.83), ('AU14', 70.68), ('AU15', 40.91), ('AU17', 81.16)]\n",
      "\n",
      "Subject: 03, n=7 | train_f1: 0.9935 | test_f1: 0.7487\n",
      "Test F1 per AU: [('AU1', 100.0), ('AU2', 46.15), ('AU4', 65.0), ('AU7', 41.67), ('AU12', 100.0), ('AU14', 100.0), ('AU15', 100.0), ('AU17', 46.15)]\n",
      "\n",
      "Subject: 04, n=5 | train_f1: 0.9922 | test_f1: 0.8313\n",
      "Test F1 per AU: [('AU1', 100.0), ('AU2', 100.0), ('AU4', 44.44), ('AU7', 76.19), ('AU12', 100.0), ('AU14', 44.44), ('AU15', 100.0), ('AU17', 100.0)]\n",
      "\n",
      "Subject: 05, n=19 | train_f1: 0.9948 | test_f1: 0.7991\n",
      "Test F1 per AU: [('AU1', 100.0), ('AU2', 73.73), ('AU4', 89.2), ('AU7', 100.0), ('AU12', 47.22), ('AU14', 81.9), ('AU15', 47.22), ('AU17', 100.0)]\n",
      "\n",
      "Subject: 06, n=5 | train_f1: 0.995 | test_f1: 0.7445\n",
      "Test F1 per AU: [('AU1', 37.5), ('AU2', 76.19), ('AU4', 100.0), ('AU7', 100.0), ('AU12', 44.44), ('AU14', 100.0), ('AU15', 37.5), ('AU17', 100.0)]\n",
      "\n",
      "Subject: 07, n=9 | train_f1: 0.996 | test_f1: 0.6958\n",
      "Test F1 per AU: [('AU1', 100.0), ('AU2', 43.75), ('AU4', 75.0), ('AU7', 100.0), ('AU12', 47.06), ('AU14', 43.75), ('AU15', 47.06), ('AU17', 100.0)]\n",
      "\n",
      "Subject: 08, n=3 | train_f1: 0.9905 | test_f1: 0.925\n",
      "Test F1 per AU: [('AU1', 100.0), ('AU2', 100.0), ('AU4', 100.0), ('AU7', 100.0), ('AU12', 100.0), ('AU14', 100.0), ('AU15', 100.0), ('AU17', 40.0)]\n",
      "\n",
      "Subject: 09, n=14 | train_f1: 0.9898 | test_f1: 0.8287\n",
      "Test F1 per AU: [('AU1', 100.0), ('AU2', 100.0), ('AU4', 100.0), ('AU7', 44.0), ('AU12', 63.48), ('AU14', 100.0), ('AU15', 65.0), ('AU17', 90.48)]\n",
      "\n",
      "Subject: 10, n=14 | train_f1: 0.992 | test_f1: 0.9119\n",
      "Test F1 per AU: [('AU1', 100.0), ('AU2', 100.0), ('AU4', 81.33), ('AU7', 100.0), ('AU12', 100.0), ('AU14', 100.0), ('AU15', 48.15), ('AU17', 100.0)]\n",
      "\n",
      "Subject: 11, n=10 | train_f1: 0.9925 | test_f1: 0.9097\n",
      "Test F1 per AU: [('AU1', 100.0), ('AU2', 100.0), ('AU4', 100.0), ('AU7', 47.37), ('AU12', 100.0), ('AU14', 80.39), ('AU15', 100.0), ('AU17', 100.0)]\n",
      "\n",
      "Subject: 12, n=12 | train_f1: 0.9939 | test_f1: 0.8356\n",
      "Test F1 per AU: [('AU1', 89.92), ('AU2', 100.0), ('AU4', 81.25), ('AU7', 62.11), ('AU12', 87.37), ('AU14', 47.83), ('AU15', 100.0), ('AU17', 100.0)]\n",
      "\n",
      "Subject: 13, n=8 | train_f1: 0.992 | test_f1: 0.9403\n",
      "Test F1 per AU: [('AU1', 100.0), ('AU2', 100.0), ('AU4', 87.3), ('AU7', 100.0), ('AU12', 79.49), ('AU14', 85.45), ('AU15', 100.0), ('AU17', 100.0)]\n",
      "\n",
      "Subject: 14, n=4 | train_f1: 0.9931 | test_f1: 0.9667\n",
      "Test F1 per AU: [('AU1', 100.0), ('AU2', 100.0), ('AU4', 100.0), ('AU7', 100.0), ('AU12', 100.0), ('AU14', 73.33), ('AU15', 100.0), ('AU17', 100.0)]\n",
      "\n",
      "Subject: 15, n=3 | train_f1: 0.9934 | test_f1: 0.775\n",
      "Test F1 per AU: [('AU1', 100.0), ('AU2', 40.0), ('AU4', 100.0), ('AU7', 40.0), ('AU12', 40.0), ('AU14', 100.0), ('AU15', 100.0), ('AU17', 100.0)]\n",
      "\n",
      "Subject: 16, n=4 | train_f1: 0.9949 | test_f1: 0.9\n",
      "Test F1 per AU: [('AU1', 100.0), ('AU2', 100.0), ('AU4', 100.0), ('AU7', 100.0), ('AU12', 20.0), ('AU14', 100.0), ('AU15', 100.0), ('AU17', 100.0)]\n",
      "\n",
      "Subject: 17, n=36 | train_f1: 0.9958 | test_f1: 0.8941\n",
      "Test F1 per AU: [('AU1', 100.0), ('AU2', 100.0), ('AU4', 97.2), ('AU7', 73.82), ('AU12', 83.9), ('AU14', 67.76), ('AU15', 100.0), ('AU17', 92.59)]\n",
      "\n",
      "Subject: 18, n=3 | train_f1: 0.9926 | test_f1: 0.925\n",
      "Test F1 per AU: [('AU1', 100.0), ('AU2', 100.0), ('AU4', 100.0), ('AU7', 40.0), ('AU12', 100.0), ('AU14', 100.0), ('AU15', 100.0), ('AU17', 100.0)]\n",
      "\n",
      "Subject: 19, n=16 | train_f1: 0.9926 | test_f1: 0.8478\n",
      "Test F1 per AU: [('AU1', 83.33), ('AU2', 100.0), ('AU4', 100.0), ('AU7', 71.43), ('AU12', 76.81), ('AU14', 46.67), ('AU15', 100.0), ('AU17', 100.0)]\n",
      "\n",
      "Subject: 20, n=11 | train_f1: 0.9924 | test_f1: 0.8581\n",
      "Test F1 per AU: [('AU1', 100.0), ('AU2', 100.0), ('AU4', 100.0), ('AU7', 100.0), ('AU12', 47.62), ('AU14', 38.89), ('AU15', 100.0), ('AU17', 100.0)]\n",
      "\n",
      "Subject: 21, n=2 | train_f1: 0.992 | test_f1: 0.8333\n",
      "Test F1 per AU: [('AU1', 100.0), ('AU2', 100.0), ('AU4', 100.0), ('AU7', 100.0), ('AU12', 33.33), ('AU14', 100.0), ('AU15', 100.0), ('AU17', 33.33)]\n",
      "\n",
      "Subject: 22, n=2 | train_f1: 0.9944 | test_f1: 0.875\n",
      "Test F1 per AU: [('AU1', 100.0), ('AU2', 100.0), ('AU4', 100.0), ('AU7', 100.0), ('AU12', 100.0), ('AU14', 100.0), ('AU15', 0.0), ('AU17', 100.0)]\n",
      "\n",
      "Subject: 23, n=12 | train_f1: 0.9947 | test_f1: 0.7243\n",
      "Test F1 per AU: [('AU1', 100.0), ('AU2', 100.0), ('AU4', 87.37), ('AU7', 80.95), ('AU12', 47.83), ('AU14', 47.83), ('AU15', 45.45), ('AU17', 70.0)]\n",
      "\n",
      "Subject: 24, n=11 | train_f1: 0.9955 | test_f1: 0.8594\n",
      "Test F1 per AU: [('AU1', 90.6), ('AU2', 80.7), ('AU4', 81.67), ('AU7', 89.52), ('AU12', 45.0), ('AU14', 100.0), ('AU15', 100.0), ('AU17', 100.0)]\n",
      "\n",
      "Subject: 25, n=7 | train_f1: 0.995 | test_f1: 0.8705\n",
      "Test F1 per AU: [('AU1', 100.0), ('AU2', 78.79), ('AU4', 85.71), ('AU7', 85.71), ('AU12', 46.15), ('AU14', 100.0), ('AU15', 100.0), ('AU17', 100.0)]\n",
      "\n",
      "Subject: 26, n=17 | train_f1: 0.9928 | test_f1: 0.8393\n",
      "Test F1 per AU: [('AU1', 100.0), ('AU2', 100.0), ('AU4', 81.32), ('AU7', 81.72), ('AU12', 71.67), ('AU14', 88.28), ('AU15', 100.0), ('AU17', 48.48)]\n",
      "\n",
      "All AUs:  [('AU1', 93.35), ('AU2', 84.44), ('AU4', 92.58), ('AU7', 75.65), ('AU12', 71.37), ('AU14', 74.71), ('AU15', 60.66), ('AU17', 87.57)]\n",
      "Mean f1:  80.04\n"
     ]
    }
   ],
   "source": [
    "out = IndividualDatasetAUValidation(Config).validate(df, data)"
   ]
  },
  {
   "cell_type": "code",
   "execution_count": 58,
   "metadata": {},
   "outputs": [
    {
     "name": "stderr",
     "output_type": "stream",
     "text": [
      "100%|██████████| 5/5 [08:08<00:00, 97.61s/it]"
     ]
    },
    {
     "name": "stdout",
     "output_type": "stream",
     "text": [
      "AUS: ['AU1', 'AU2', 'AU4', 'AU7', 'AU12', 'AU14', 'AU15', 'AU17', 'Average']\n",
      "94.6 & 82.2 & 93.0 & 74.1 & 69.0 & 73.0 & 66.4 & 87.1 & 79.9\n",
      "\n",
      "Subjects:  ['01', '02', '03', '04', '05', '06', '07', '08', '09', '10', '11', '12', '13', '14', '15', '16', '17', '18', '19', '20', '21', '22', '23', '24', '25', '26', 'Average']\n",
      "92.9 & 75.2 & 82.6 & 88.5 & 78.8 & 80.4 & 66.9 & 91.0 & 76.4 & 89.9 & 90.6 & 81.0 & 95.1 & 96.1 & 76.7 & 90.0 & 86.9 & 95.5 & 83.9 & 85.4 & 83.3 & 90.8 & 71.8 & 83.3 & 85.9 & 82.5 & 84.7\n"
     ]
    },
    {
     "name": "stderr",
     "output_type": "stream",
     "text": [
      "\n"
     ]
    }
   ],
   "source": [
    "out = IndividualDatasetAUValidation(Config).validate_n_times(df, data)"
   ]
  },
  {
   "cell_type": "code",
   "execution_count": 31,
   "metadata": {},
   "outputs": [],
   "source": [
    "class Config:\n",
    "    action_units = ['AU1', 'AU2', 'AU4', 'AU5', 'AU6', 'AU7', 'AU9', 'AU10', 'AU12', 'AU14', 'AU15', 'AU17']\n",
    "    device = torch.device(\"cuda:0\")\n",
    "    #device = torch.device(\"cpu\")\n",
    "    epochs = 200\n",
    "    weight = torch.tensor((1 / df.loc[:, action_units].sum(0) * 100).tolist()).to(device)\n",
    "    criterion = utils.MultiLabelBCELoss(weight=weight)\n",
    "    evaluation = utils.MultiLabelF1Score(average=\"macro\")\n",
    "    # Optimizer\n",
    "    learning_rate = 1e-4\n",
    "    weight_decay = 1e-3\n",
    "    optimizer = optim.Adam\n",
    "    scheduler = None\n",
    "    # Dataloader\n",
    "    batch_size = 128\n",
    "    #train_transform = {\"spatial\": transforms.TrivialAugmentWide(num_magnitude_bins=2), \"temporal\": None}\n",
    "    train_transform = {\"spatial\": None, \"temporal\": None}\n",
    "    test_transform = {\"spatial\": None, \"temporal\": None}\n",
    "    model = models.SSSNet(output_size=len(action_units))"
   ]
  },
  {
   "cell_type": "code",
   "execution_count": 35,
   "metadata": {},
   "outputs": [
    {
     "name": "stderr",
     "output_type": "stream",
     "text": [
      "100%|██████████| 200/200 [00:15<00:00, 13.14it/s]\n"
     ]
    },
    {
     "name": "stdout",
     "output_type": "stream",
     "text": [
      "Dataset: casme, n=189 | train_f1: 0.9868 | test_f1: 0.6568\n",
      "Test F1 per AU: [('AU1', 83.52), ('AU2', 84.19), ('AU4', 82.05), ('AU5', 49.06), ('AU6', 48.36), ('AU7', 52.93), ('AU9', 51.45), ('AU10', 60.16), ('AU12', 69.91), ('AU14', 65.29), ('AU15', 66.12), ('AU17', 75.06)]\n",
      "\n"
     ]
    },
    {
     "name": "stderr",
     "output_type": "stream",
     "text": [
      "100%|██████████| 200/200 [00:15<00:00, 13.26it/s]\n"
     ]
    },
    {
     "name": "stdout",
     "output_type": "stream",
     "text": [
      "Dataset: casme2, n=256 | train_f1: 0.9827 | test_f1: 0.7087\n",
      "Test F1 per AU: [('AU1', 90.56), ('AU2', 83.44), ('AU4', 95.7), ('AU5', 49.8), ('AU6', 64.47), ('AU7', 72.78), ('AU9', 55.36), ('AU10', 53.17), ('AU12', 72.36), ('AU14', 60.0), ('AU15', 72.69), ('AU17', 80.1)]\n",
      "\n"
     ]
    },
    {
     "name": "stderr",
     "output_type": "stream",
     "text": [
      "100%|██████████| 200/200 [00:15<00:00, 13.11it/s]\n"
     ]
    },
    {
     "name": "stdout",
     "output_type": "stream",
     "text": [
      "Dataset: samm, n=159 | train_f1: 0.9826 | test_f1: 0.7037\n",
      "Test F1 per AU: [('AU1', 70.56), ('AU2', 87.49), ('AU4', 83.51), ('AU5', 63.91), ('AU6', 49.36), ('AU7', 85.92), ('AU9', 66.03), ('AU10', 79.35), ('AU12', 65.05), ('AU14', 56.66), ('AU15', 69.52), ('AU17', 67.04)]\n",
      "\n"
     ]
    },
    {
     "name": "stderr",
     "output_type": "stream",
     "text": [
      "100%|██████████| 200/200 [00:15<00:00, 13.32it/s]\n"
     ]
    },
    {
     "name": "stdout",
     "output_type": "stream",
     "text": [
      "Dataset: fourDmicro, n=267 | train_f1: 0.9714 | test_f1: 0.6468\n",
      "Test F1 per AU: [('AU1', 86.77), ('AU2', 82.93), ('AU4', 89.43), ('AU5', 47.85), ('AU6', 55.14), ('AU7', 66.73), ('AU9', 49.91), ('AU10', 49.72), ('AU12', 62.72), ('AU14', 64.52), ('AU15', 63.81), ('AU17', 56.64)]\n",
      "\n"
     ]
    },
    {
     "name": "stderr",
     "output_type": "stream",
     "text": [
      "100%|██████████| 200/200 [00:13<00:00, 14.87it/s]\n"
     ]
    },
    {
     "name": "stdout",
     "output_type": "stream",
     "text": [
      "Dataset: mmew, n=300 | train_f1: 0.9763 | test_f1: 0.6741\n",
      "Test F1 per AU: [('AU1', 87.6), ('AU2', 86.16), ('AU4', 92.93), ('AU5', 43.4), ('AU6', 49.15), ('AU7', 65.56), ('AU9', 59.91), ('AU10', 53.66), ('AU12', 71.89), ('AU14', 64.28), ('AU15', 59.24), ('AU17', 75.13)]\n",
      "\n",
      "All AUs:  [('AU1', 86.46), ('AU2', 84.74), ('AU4', 90.49), ('AU5', 49.29), ('AU6', 55.58), ('AU7', 71.2), ('AU9', 56.91), ('AU10', 57.88), ('AU12', 68.64), ('AU14', 62.39), ('AU15', 66.4), ('AU17', 73.84)]\n",
      "Mean f1:  68.65\n"
     ]
    }
   ],
   "source": [
    "out = CrossDatasetValidation(Config).validate(df, data)"
   ]
  },
  {
   "cell_type": "code",
   "execution_count": 7,
   "metadata": {},
   "outputs": [
    {
     "name": "stderr",
     "output_type": "stream",
     "text": [
      "100%|██████████| 5/5 [06:11<00:00, 74.37s/it]"
     ]
    },
    {
     "name": "stdout",
     "output_type": "stream",
     "text": [
      "AUS: ['AU1', 'AU2', 'AU4', 'AU5', 'AU6', 'AU7', 'AU9', 'AU10', 'AU12', 'AU14', 'AU15', 'AU17', 'Average']\n",
      "87.6 & 84.6 & 90.2 & 49.7 & 54.0 & 71.9 & 60.5 & 55.9 & 68.2 & 62.7 & 68.9 & 76.6 & 69.2\n",
      "\n",
      "Datasets:  ['casme', 'casme2', 'samm', 'fourDmicro', 'mmew', 'Average']\n",
      "66.1 & 71.5 & 70.7 & 66.5 & 66.9 & 68.3\n"
     ]
    },
    {
     "name": "stderr",
     "output_type": "stream",
     "text": [
      "\n"
     ]
    }
   ],
   "source": [
    "out = CrossDatasetValidation(Config).validate_n_times(df, data)"
   ]
  },
  {
   "cell_type": "markdown",
   "metadata": {},
   "source": [
    "## Adding magnification to data loader"
   ]
  },
  {
   "cell_type": "code",
   "execution_count": 25,
   "metadata": {},
   "outputs": [],
   "source": [
    "c = datasets.CrossDataset(resize=False, color=True, magnify=True, magnify_params={\"alpha\": 20, \"r1\": 0.5, \"r2\": 0.04})"
   ]
  },
  {
   "cell_type": "code",
   "execution_count": 26,
   "metadata": {},
   "outputs": [
    {
     "data": {
      "text/plain": [
       "<matplotlib.image.AxesImage at 0x7f64f8924550>"
      ]
     },
     "execution_count": 26,
     "metadata": {},
     "output_type": "execute_result"
    },
    {
     "data": {
      "image/png": "[encoded data removed]",
      "text/plain": [
       "<Figure size 432x288 with 1 Axes>"
      ]
     },
     "metadata": {
      "needs_background": "light"
     },
     "output_type": "display_data"
    }
   ],
   "source": [
    "plt.imshow(c.data[3][10])"
   ]
  },
  {
   "cell_type": "code",
   "execution_count": null,
   "metadata": {},
   "outputs": [],
   "source": []
  }
 ],
 "metadata": {
  "kernelspec": {
   "display_name": "Python 3",
   "language": "python",
   "name": "python3"
  },
  "language_info": {
   "codemirror_mode": {
    "name": "ipython",
    "version": 3
   },
   "file_extension": ".py",
   "mimetype": "text/x-python",
   "name": "python",
   "nbconvert_exporter": "python",
   "pygments_lexer": "ipython3",
   "version": "3.6.8"
  }
 },
 "nbformat": 4,
 "nbformat_minor": 2
}
