{
 "cells": [
  {
   "cell_type": "code",
   "execution_count": 1,
   "metadata": {},
   "outputs": [],
   "source": [
    "import meb\n",
    "from meb import utils\n",
    "from meb import datasets\n",
    "from meb import core\n",
    "from meb import models\n",
    "\n",
    "from functools import partial\n",
    "from typing import List, Tuple\n",
    "\n",
    "import numpy as np\n",
    "import pandas as pd\n",
    "from numba import jit, njit\n",
    "import matplotlib.pyplot as plt\n",
    "import torch\n",
    "import torch.nn as nn\n",
    "import torch.optim as optim\n",
    "import torchvision\n",
    "from torchvision import transforms\n",
    "import timm\n",
    "from tqdm import tqdm\n",
    "\n",
    "\n",
    "\n",
    "pd.set_option(\"display.max_columns\", 50)\n",
    "%load_ext autoreload\n",
    "%autoreload 2"
   ]
  },
  {
   "cell_type": "code",
   "execution_count": 8,
   "metadata": {},
   "outputs": [],
   "source": [
    "class Config(core.Config):\n",
    "    device = torch.device(\"cuda:0\")\n",
    "    num_workers = 0\n",
    "    evaluation_fn = [\n",
    "        partial(utils.MultiLabelF1Score, average=\"macro\"),\n",
    "        partial(utils.MultiLabelF1Score, average=\"binary\"),\n",
    "    ]"
   ]
  },
  {
   "cell_type": "code",
   "execution_count": 9,
   "metadata": {},
   "outputs": [],
   "source": [
    "c = datasets.CrossDataset(optical_flow=True, resize=28)\n",
    "df = c.data_frame\n",
    "data = c.data"
   ]
  },
  {
   "cell_type": "code",
   "execution_count": 10,
   "metadata": {
    "scrolled": true
   },
   "outputs": [
    {
     "name": "stderr",
     "output_type": "stream",
     "text": [
      "100%|█████████████████████████████████████████| 5/5 [9:00:17<00:00, 6483.56s/it]"
     ]
    },
    {
     "name": "stdout",
     "output_type": "stream",
     "text": [
      "MultiLabelF1Score\n",
      "AUS: ['AU1', 'AU2', 'AU4', 'AU5', 'AU6', 'AU7', 'AU9', 'AU10', 'AU12', 'AU14', 'AU15', 'AU17', 'Average']\n",
      "85.4 & 83.0 & 89.5 & 54.5 & 50.7 & 69.0 & 66.9 & 58.2 & 63.6 & 65.4 & 58.6 & 67.9 & 67.7\n",
      "\n",
      "Datasets:  ['casme', 'casme2', 'samm', 'fourd', 'mmew', 'casme3a', 'Average']\n",
      "62.7 & 69.7 & 69.9 & 62.9 & 66.2 & 66.5 & 66.3\n",
      "MultiLabelF1Score\n",
      "AUS: ['AU1', 'AU2', 'AU4', 'AU5', 'AU6', 'AU7', 'AU9', 'AU10', 'AU12', 'AU14', 'AU15', 'AU17', 'Average']\n",
      "74.9 & 70.2 & 86.3 & 13.5 & 3.3 & 44.5 & 36.6 & 18.3 & 32.0 & 37.7 & 19.0 & 38.2 & 39.5\n",
      "\n",
      "Datasets:  ['casme', 'casme2', 'samm', 'fourd', 'mmew', 'casme3a', 'Average']\n",
      "30.5 & 43.1 & 43.6 & 30.6 & 37.1 & 36.8 & 37.0\n"
     ]
    },
    {
     "name": "stderr",
     "output_type": "stream",
     "text": [
      "\n"
     ]
    }
   ],
   "source": [
    "#Off-ApexNet\n",
    "class MConfig(Config):\n",
    "    epochs = 3000\n",
    "    optimizer = partial(optim.Adam, lr=1e-4, weight_decay=1e-3)\n",
    "    model = partial(models.OffApexNet, num_classes=len(Config.action_units))\n",
    "    \n",
    "#Only use u and v optical flows, skip the strain\n",
    "core.CrossDatasetValidation(MConfig).validate_n_times(df, data[:, :2], n_times=5)"
   ]
  },
  {
   "cell_type": "code",
   "execution_count": 8,
   "metadata": {
    "scrolled": true
   },
   "outputs": [
    {
     "name": "stderr",
     "output_type": "stream",
     "text": [
      "100%|█████████████████████████████████████████| 5/5 [2:09:59<00:00, 1559.96s/it]"
     ]
    },
    {
     "name": "stdout",
     "output_type": "stream",
     "text": [
      "MultiLabelF1Score\n",
      "AUS: ['AU1', 'AU2', 'AU4', 'AU5', 'AU6', 'AU7', 'AU9', 'AU10', 'AU12', 'AU14', 'AU15', 'AU17', 'Average']\n",
      "85.0 & 82.2 & 89.2 & 49.8 & 52.4 & 60.3 & 57.8 & 53.5 & 55.6 & 60.9 & 55.1 & 62.9 & 63.7\n",
      "\n",
      "Datasets:  ['casme', 'casme2', 'samm', 'fourd', 'mmew', 'casme3a', 'Average']\n",
      "62.5 & 67.3 & 65.3 & 59.0 & 62.6 & 62.6 & 63.2\n",
      "MultiLabelF1Score\n",
      "AUS: ['AU1', 'AU2', 'AU4', 'AU5', 'AU6', 'AU7', 'AU9', 'AU10', 'AU12', 'AU14', 'AU15', 'AU17', 'Average']\n",
      "74.2 & 68.8 & 85.7 & 3.6 & 6.4 & 29.0 & 18.6 & 9.0 & 16.7 & 29.0 & 11.8 & 28.3 & 31.8\n",
      "\n",
      "Datasets:  ['casme', 'casme2', 'samm', 'fourd', 'mmew', 'casme3a', 'Average']\n",
      "29.9 & 38.3 & 34.9 & 23.1 & 30.2 & 29.2 & 31.0\n"
     ]
    },
    {
     "name": "stderr",
     "output_type": "stream",
     "text": [
      "\n"
     ]
    }
   ],
   "source": [
    "#STSTNet\n",
    "class MConfig(Config):\n",
    "    epochs = 500\n",
    "    model = partial(models.STSTNet, num_classes=len(Config.action_units))\n",
    "    optimizer = partial(optim.Adam, lr=5e-5, weight_decay=1e-3)\n",
    "    \n",
    "core.CrossDatasetValidation(MConfig).validate_n_times(df, data, n_times=5)"
   ]
  },
  {
   "cell_type": "code",
   "execution_count": 11,
   "metadata": {},
   "outputs": [],
   "source": [
    "c = datasets.CrossDataset(optical_flow=True, resize=60)\n",
    "df = c.data_frame\n",
    "data = c.data"
   ]
  },
  {
   "cell_type": "code",
   "execution_count": 13,
   "metadata": {
    "scrolled": true
   },
   "outputs": [
    {
     "name": "stderr",
     "output_type": "stream",
     "text": [
      "100%|█████████████████████████████████████████| 5/5 [5:19:38<00:00, 3835.69s/it]"
     ]
    },
    {
     "name": "stdout",
     "output_type": "stream",
     "text": [
      "MultiLabelF1Score\n",
      "AUS: ['AU1', 'AU2', 'AU4', 'AU5', 'AU6', 'AU7', 'AU9', 'AU10', 'AU12', 'AU14', 'AU15', 'AU17', 'Average']\n",
      "85.2 & 83.1 & 88.6 & 49.8 & 49.3 & 55.5 & 56.3 & 49.1 & 57.8 & 58.0 & 49.4 & 60.7 & 61.9\n",
      "\n",
      "Datasets:  ['casme', 'casme2', 'samm', 'fourd', 'mmew', 'casme3a', 'Average']\n",
      "59.6 & 65.3 & 64.3 & 59.7 & 60.7 & 61.0 & 61.8\n",
      "MultiLabelF1Score\n",
      "AUS: ['AU1', 'AU2', 'AU4', 'AU5', 'AU6', 'AU7', 'AU9', 'AU10', 'AU12', 'AU14', 'AU15', 'AU17', 'Average']\n",
      "74.8 & 71.0 & 85.3 & 4.7 & 0.0 & 24.1 & 15.9 & 0.0 & 21.1 & 23.7 & 0.0 & 24.0 & 28.7\n",
      "\n",
      "Datasets:  ['casme', 'casme2', 'samm', 'fourd', 'mmew', 'casme3a', 'Average']\n",
      "24.2 & 34.6 & 33.5 & 24.7 & 26.4 & 27.1 & 28.4\n"
     ]
    },
    {
     "name": "stderr",
     "output_type": "stream",
     "text": [
      "\n"
     ]
    }
   ],
   "source": [
    "#RCN-A\n",
    "class MConfig(Config):\n",
    "    epochs = 500\n",
    "    model = partial(models.RCN_A, num_input=3, featuremaps=64, num_classes=len(Config.action_units))\n",
    "    optimizer = partial(optim.SGD, lr=1e-4, weight_decay=5e-4, momentum=0.9)\n",
    "    \n",
    "core.CrossDatasetValidation(MConfig).validate_n_times(df, data, n_times=5)"
   ]
  },
  {
   "cell_type": "code",
   "execution_count": 15,
   "metadata": {
    "scrolled": true
   },
   "outputs": [
    {
     "name": "stderr",
     "output_type": "stream",
     "text": [
      "100%|██████████████████████████████████████████| 5/5 [1:06:55<00:00, 803.18s/it]"
     ]
    },
    {
     "name": "stdout",
     "output_type": "stream",
     "text": [
      "MultiLabelF1Score\n",
      "AUS: ['AU1', 'AU2', 'AU4', 'AU5', 'AU6', 'AU7', 'AU9', 'AU10', 'AU12', 'AU14', 'AU15', 'AU17', 'Average']\n",
      "85.2 & 84.0 & 90.5 & 54.8 & 51.9 & 71.1 & 58.6 & 58.6 & 65.8 & 66.9 & 60.6 & 71.3 & 68.3\n",
      "\n",
      "Datasets:  ['casme', 'casme2', 'samm', 'fourd', 'mmew', 'casme3a', 'Average']\n",
      "64.2 & 71.4 & 69.2 & 64.7 & 66.5 & 66.4 & 67.1\n",
      "MultiLabelF1Score\n",
      "AUS: ['AU1', 'AU2', 'AU4', 'AU5', 'AU6', 'AU7', 'AU9', 'AU10', 'AU12', 'AU14', 'AU15', 'AU17', 'Average']\n",
      "74.6 & 72.1 & 87.5 & 13.6 & 5.3 & 48.6 & 20.3 & 19.3 & 36.2 & 40.8 & 22.7 & 44.7 & 40.5\n",
      "\n",
      "Datasets:  ['casme', 'casme2', 'samm', 'fourd', 'mmew', 'casme3a', 'Average']\n",
      "33.1 & 46.3 & 42.3 & 34.3 & 38.1 & 36.2 & 38.4\n"
     ]
    },
    {
     "name": "stderr",
     "output_type": "stream",
     "text": [
      "\n"
     ]
    }
   ],
   "source": [
    "#SSSNet\n",
    "c = datasets.CrossDataset(optical_flow=True, resize=64)\n",
    "df = c.data_frame\n",
    "data = c.data\n",
    "\n",
    "class MConfig(Config):\n",
    "    epochs = 200\n",
    "    optimizer = partial(optim.Adam, lr=1e-4, weight_decay=1e-3)\n",
    "    model = partial(models.SSSNet, num_classes=len(Config.action_units))\n",
    "    \n",
    "core.CrossDatasetValidation(MConfig).validate_n_times(df, data, n_times=5)"
   ]
  },
  {
   "cell_type": "code",
   "execution_count": 2,
   "metadata": {},
   "outputs": [],
   "source": [
    "c = datasets.CrossDataset(optical_flow=True, resize=112)\n",
    "df = c.data_frame\n",
    "data = c.data"
   ]
  },
  {
   "cell_type": "code",
   "execution_count": 9,
   "metadata": {},
   "outputs": [],
   "source": [
    "class MConfig(Config):\n",
    "    epochs = 50\n",
    "    optimizer = partial(optim.Adam, lr=1e-4, weight_decay=1e-3)\n",
    "    model = partial(timm.models.resnet34, num_classes=len(Config.action_units))"
   ]
  },
  {
   "cell_type": "code",
   "execution_count": 11,
   "metadata": {
    "scrolled": true
   },
   "outputs": [
    {
     "name": "stderr",
     "output_type": "stream",
     "text": [
      "100%|█████████████████████████████████████████| 5/5 [2:02:36<00:00, 1471.38s/it]"
     ]
    },
    {
     "name": "stdout",
     "output_type": "stream",
     "text": [
      "MultiLabelF1Score\n",
      "AUS: ['AU1', 'AU2', 'AU4', 'AU5', 'AU6', 'AU7', 'AU9', 'AU10', 'AU12', 'AU14', 'AU15', 'AU17', 'Average']\n",
      "82.6 & 76.5 & 86.4 & 50.9 & 50.0 & 60.6 & 52.2 & 54.5 & 56.9 & 61.4 & 54.1 & 63.4 & 62.5\n",
      "\n",
      "Datasets:  ['casme', 'casme2', 'samm', 'fourd', 'mmew', 'casme3a', 'Average']\n",
      "58.4 & 67.2 & 61.4 & 60.0 & 62.0 & 60.6 & 61.6\n",
      "MultiLabelF1Score\n",
      "AUS: ['AU1', 'AU2', 'AU4', 'AU5', 'AU6', 'AU7', 'AU9', 'AU10', 'AU12', 'AU14', 'AU15', 'AU17', 'Average']\n",
      "69.9 & 58.3 & 82.1 & 6.2 & 1.7 & 30.1 & 7.9 & 11.4 & 19.8 & 30.6 & 9.7 & 29.1 & 29.7\n",
      "\n",
      "Datasets:  ['casme', 'casme2', 'samm', 'fourd', 'mmew', 'casme3a', 'Average']\n",
      "22.2 & 38.4 & 27.8 & 25.5 & 29.8 & 25.6 & 28.2\n"
     ]
    },
    {
     "name": "stderr",
     "output_type": "stream",
     "text": [
      "\n"
     ]
    }
   ],
   "source": [
    "core.CrossDatasetValidation(MConfig).validate_n_times(df, data, n_times=5)"
   ]
  },
  {
   "cell_type": "code",
   "execution_count": 3,
   "metadata": {},
   "outputs": [],
   "source": [
    "class Config(core.Config):\n",
    "    epochs = 50\n",
    "    device = torch.device(\"cuda:1\")\n",
    "    optimizer = partial(optim.Adam, lr=1e-4, weight_decay=1e-3)\n",
    "    num_workers = 0\n",
    "    evaluation_fn = [\n",
    "        partial(utils.MultiLabelF1Score, average=\"macro\"),\n",
    "        partial(utils.MultiLabelF1Score, average=\"binary\"),\n",
    "    ]\n",
    "    model = partial(timm.models.resnet34, num_classes=len(core.Config.action_units), pretrained=True)"
   ]
  },
  {
   "cell_type": "code",
   "execution_count": 5,
   "metadata": {
    "scrolled": true
   },
   "outputs": [
    {
     "name": "stderr",
     "output_type": "stream",
     "text": [
      "\r",
      "  0%|                                                     | 0/5 [00:00<?, ?it/s]"
     ]
    },
    {
     "name": "stdout",
     "output_type": "stream",
     "text": [
      "MultiLabelF1Score\n",
      "Dataset: casme, n=189 | train_mean: 0.9974 | test_mean: 0.5905\n",
      "Test per AU: [('AU1', 74.53), ('AU2', 75.07), ('AU4', 80.43), ('AU5', 49.19), ('AU6', 49.06), ('AU7', 53.8), ('AU9', 58.97), ('AU10', 49.47), ('AU12', 57.99), ('AU14', 50.74), ('AU15', 53.8), ('AU17', 55.49)]\n",
      "\n",
      "MultiLabelF1Score\n",
      "Dataset: casme, n=189 | train_mean: 0.9952 | test_mean: 0.2348\n",
      "Test per AU: [('AU1', 54.05), ('AU2', 55.81), ('AU4', 74.02), ('AU5', 0.0), ('AU6', 0.0), ('AU7', 11.76), ('AU9', 28.57), ('AU10', 0.0), ('AU12', 23.53), ('AU14', 8.0), ('AU15', 11.76), ('AU17', 14.29)]\n",
      "\n",
      "MultiLabelF1Score\n",
      "Dataset: casme2, n=256 | train_mean: 0.9959 | test_mean: 0.7058\n",
      "Test per AU: [('AU1', 90.56), ('AU2', 85.02), ('AU4', 93.36), ('AU5', 49.8), ('AU6', 61.29), ('AU7', 71.94), ('AU9', 54.84), ('AU10', 59.69), ('AU12', 76.57), ('AU14', 76.45), ('AU15', 48.39), ('AU17', 79.08)]\n",
      "\n",
      "MultiLabelF1Score\n",
      "Dataset: casme2, n=256 | train_mean: 0.9921 | test_mean: 0.4477\n",
      "Test per AU: [('AU1', 83.33), ('AU2', 73.08), ('AU4', 93.33), ('AU5', 0.0), ('AU6', 25.0), ('AU7', 50.79), ('AU9', 12.5), ('AU10', 22.22), ('AU12', 58.18), ('AU14', 57.69), ('AU15', 0.0), ('AU17', 61.11)]\n",
      "\n",
      "MultiLabelF1Score\n",
      "Dataset: samm, n=159 | train_mean: 0.9822 | test_mean: 0.6358\n",
      "Test per AU: [('AU1', 63.95), ('AU2', 75.34), ('AU4', 92.09), ('AU5', 69.62), ('AU6', 49.36), ('AU7', 54.02), ('AU9', 59.98), ('AU10', 69.03), ('AU12', 51.35), ('AU14', 62.2), ('AU15', 49.04), ('AU17', 67.04)]\n",
      "\n",
      "MultiLabelF1Score\n",
      "Dataset: samm, n=159 | train_mean: 0.9663 | test_mean: 0.3236\n",
      "Test per AU: [('AU1', 33.33), ('AU2', 55.17), ('AU4', 86.36), ('AU5', 45.16), ('AU6', 0.0), ('AU7', 23.08), ('AU9', 22.22), ('AU10', 40.0), ('AU12', 12.5), ('AU14', 34.15), ('AU15', 0.0), ('AU17', 36.36)]\n",
      "\n",
      "MultiLabelF1Score\n",
      "Dataset: fourd, n=267 | train_mean: 0.9898 | test_mean: 0.6447\n",
      "Test per AU: [('AU1', 77.53), ('AU2', 80.74), ('AU4', 87.42), ('AU5', 62.27), ('AU6', 47.54), ('AU7', 76.81), ('AU9', 49.91), ('AU10', 49.43), ('AU12', 56.51), ('AU14', 52.61), ('AU15', 70.66), ('AU17', 62.27)]\n",
      "\n",
      "MultiLabelF1Score\n",
      "Dataset: fourd, n=267 | train_mean: 0.9809 | test_mean: 0.3407\n",
      "Test per AU: [('AU1', 60.61), ('AU2', 67.47), ('AU4', 83.94), ('AU5', 26.67), ('AU6', 0.0), ('AU7', 66.21), ('AU9', 0.0), ('AU10', 0.0), ('AU12', 22.95), ('AU14', 11.43), ('AU15', 42.86), ('AU17', 26.67)]\n",
      "\n",
      "MultiLabelF1Score\n",
      "Dataset: mmew, n=300 | train_mean: 0.9958 | test_mean: 0.6485\n",
      "Test per AU: [('AU1', 83.05), ('AU2', 83.51), ('AU4', 90.25), ('AU5', 44.89), ('AU6', 49.07), ('AU7', 64.79), ('AU9', 53.92), ('AU10', 49.27), ('AU12', 74.28), ('AU14', 64.52), ('AU15', 49.32), ('AU17', 71.36)]\n",
      "\n",
      "MultiLabelF1Score\n",
      "Dataset: mmew, n=300 | train_mean: 0.9926 | test_mean: 0.35\n",
      "Test per AU: [('AU1', 70.73), ('AU2', 71.91), ('AU4', 87.0), ('AU5', 2.82), ('AU6', 0.0), ('AU7', 37.68), ('AU9', 14.29), ('AU10', 5.13), ('AU12', 53.97), ('AU14', 32.0), ('AU15', 0.0), ('AU17', 44.44)]\n",
      "\n",
      "MultiLabelF1Score\n",
      "Dataset: casme3a, n=860 | train_mean: 0.9986 | test_mean: 0.6491\n",
      "Test per AU: [('AU1', 85.24), ('AU2', 84.79), ('AU4', 89.51), ('AU5', 50.36), ('AU6', 49.68), ('AU7', 65.33), ('AU9', 52.1), ('AU10', 57.37), ('AU12', 61.76), ('AU14', 60.29), ('AU15', 55.65), ('AU17', 66.86)]\n",
      "\n",
      "MultiLabelF1Score\n",
      "Dataset: casme3a, n=860 | train_mean: 0.9975 | test_mean: 0.3357\n",
      "Test per AU: [('AU1', 75.43), ('AU2', 74.24), ('AU4', 85.82), ('AU5', 3.77), ('AU6', 0.0), ('AU7', 34.41), ('AU9', 7.27), ('AU10', 15.38), ('AU12', 25.93), ('AU14', 31.67), ('AU15', 12.9), ('AU17', 36.07)]\n",
      "\n",
      "Final results\n",
      "\n",
      "MultiLabelF1Score\n",
      "All AUs:  [('AU1', 82.96), ('AU2', 82.81), ('AU4', 89.45), ('AU5', 54.17), ('AU6', 51.83), ('AU7', 69.48), ('AU9', 56.29), ('AU10', 55.68), ('AU12', 65.16), ('AU14', 62.13), ('AU15', 55.51), ('AU17', 68.81)]\n",
      "Mean:  66.19\n",
      "\n",
      "\n",
      "MultiLabelF1Score\n",
      "All AUs:  [('AU1', 70.61), ('AU2', 70.36), ('AU4', 86.05), ('AU5', 12.36), ('AU6', 5.41), ('AU7', 45.56), ('AU9', 16.28), ('AU10', 13.33), ('AU12', 35.45), ('AU14', 32.06), ('AU15', 13.04), ('AU17', 40.0)]\n",
      "Mean:  36.71\n",
      "\n",
      "\n"
     ]
    },
    {
     "name": "stderr",
     "output_type": "stream",
     "text": [
      "\r",
      " 20%|████████▏                                | 1/5 [31:42<2:06:51, 1902.86s/it]"
     ]
    },
    {
     "name": "stdout",
     "output_type": "stream",
     "text": [
      "MultiLabelF1Score\n",
      "Dataset: casme, n=189 | train_mean: 0.9934 | test_mean: 0.5986\n",
      "Test per AU: [('AU1', 70.09), ('AU2', 76.86), ('AU4', 77.56), ('AU5', 49.19), ('AU6', 49.33), ('AU7', 43.81), ('AU9', 44.08), ('AU10', 66.13), ('AU12', 66.1), ('AU14', 58.5), ('AU15', 54.88), ('AU17', 61.82)]\n",
      "\n",
      "MultiLabelF1Score\n",
      "Dataset: casme, n=189 | train_mean: 0.9882 | test_mean: 0.2634\n",
      "Test per AU: [('AU1', 45.71), ('AU2', 57.14), ('AU4', 72.22), ('AU5', 0.0), ('AU6', 0.0), ('AU7', 6.35), ('AU9', 0.0), ('AU10', 33.33), ('AU12', 37.04), ('AU14', 24.24), ('AU15', 13.33), ('AU17', 26.67)]\n",
      "\n",
      "MultiLabelF1Score\n",
      "Dataset: casme2, n=256 | train_mean: 0.9965 | test_mean: 0.6749\n",
      "Test per AU: [('AU1', 90.56), ('AU2', 87.16), ('AU4', 95.31), ('AU5', 49.61), ('AU6', 48.59), ('AU7', 53.31), ('AU9', 48.59), ('AU10', 56.75), ('AU12', 75.8), ('AU14', 73.69), ('AU15', 54.37), ('AU17', 76.1)]\n",
      "\n",
      "MultiLabelF1Score\n",
      "Dataset: casme2, n=256 | train_mean: 0.9938 | test_mean: 0.3866\n",
      "Test per AU: [('AU1', 83.33), ('AU2', 76.92), ('AU4', 95.24), ('AU5', 0.0), ('AU6', 0.0), ('AU7', 14.29), ('AU9', 0.0), ('AU10', 17.39), ('AU12', 56.6), ('AU14', 52.83), ('AU15', 11.76), ('AU17', 55.56)]\n",
      "\n",
      "MultiLabelF1Score\n",
      "Dataset: samm, n=159 | train_mean: 0.9995 | test_mean: 0.6904\n",
      "Test per AU: [('AU1', 63.95), ('AU2', 84.34), ('AU4', 83.51), ('AU5', 69.21), ('AU6', 49.52), ('AU7', 76.19), ('AU9', 66.03), ('AU10', 74.35), ('AU12', 54.35), ('AU14', 77.74), ('AU15', 49.36), ('AU17', 79.95)]\n",
      "\n",
      "MultiLabelF1Score\n",
      "Dataset: samm, n=159 | train_mean: 0.9991 | test_mean: 0.4213\n",
      "Test per AU: [('AU1', 33.33), ('AU2', 72.22), ('AU4', 72.73), ('AU5', 42.11), ('AU6', 0.0), ('AU7', 62.86), ('AU9', 33.33), ('AU10', 50.0), ('AU12', 18.18), ('AU14', 59.26), ('AU15', 0.0), ('AU17', 61.54)]\n",
      "\n",
      "MultiLabelF1Score\n",
      "Dataset: fourd, n=267 | train_mean: 0.9981 | test_mean: 0.64\n",
      "Test per AU: [('AU1', 86.71), ('AU2', 80.45), ('AU4', 89.0), ('AU5', 56.79), ('AU6', 47.54), ('AU7', 69.46), ('AU9', 49.91), ('AU10', 49.72), ('AU12', 53.32), ('AU14', 53.61), ('AU15', 71.75), ('AU17', 59.75)]\n",
      "\n",
      "MultiLabelF1Score\n",
      "Dataset: fourd, n=267 | train_mean: 0.9966 | test_mean: 0.3316\n",
      "Test per AU: [('AU1', 77.65), ('AU2', 67.42), ('AU4', 85.86), ('AU5', 18.75), ('AU6', 0.0), ('AU7', 54.14), ('AU9', 0.0), ('AU10', 0.0), ('AU12', 16.95), ('AU14', 10.53), ('AU15', 44.44), ('AU17', 22.22)]\n",
      "\n",
      "MultiLabelF1Score\n",
      "Dataset: mmew, n=300 | train_mean: 0.9972 | test_mean: 0.6492\n",
      "Test per AU: [('AU1', 83.71), ('AU2', 84.36), ('AU4', 86.23), ('AU5', 49.13), ('AU6', 48.81), ('AU7', 50.0), ('AU9', 61.4), ('AU10', 53.92), ('AU12', 75.24), ('AU14', 64.54), ('AU15', 48.98), ('AU17', 72.76)]\n",
      "\n",
      "MultiLabelF1Score\n",
      "Dataset: mmew, n=300 | train_mean: 0.9949 | test_mean: 0.3537\n",
      "Test per AU: [('AU1', 72.09), ('AU2', 72.73), ('AU4', 82.97), ('AU5', 10.81), ('AU6', 0.0), ('AU7', 8.16), ('AU9', 26.67), ('AU10', 14.29), ('AU12', 56.34), ('AU14', 33.33), ('AU15', 0.0), ('AU17', 47.06)]\n",
      "\n",
      "MultiLabelF1Score\n",
      "Dataset: casme3a, n=860 | train_mean: 1.0 | test_mean: 0.6447\n",
      "Test per AU: [('AU1', 85.86), ('AU2', 84.58), ('AU4', 88.65), ('AU5', 48.66), ('AU6', 56.79), ('AU7', 67.85), ('AU9', 52.1), ('AU10', 49.68), ('AU12', 58.37), ('AU14', 57.15), ('AU15', 57.37), ('AU17', 66.54)]\n",
      "\n",
      "MultiLabelF1Score\n",
      "Dataset: casme3a, n=860 | train_mean: 1.0 | test_mean: 0.3263\n",
      "Test per AU: [('AU1', 76.05), ('AU2', 73.42), ('AU4', 84.11), ('AU5', 0.0), ('AU6', 14.29), ('AU7', 39.13), ('AU9', 7.27), ('AU10', 0.0), ('AU12', 20.51), ('AU14', 25.86), ('AU15', 15.38), ('AU17', 35.48)]\n",
      "\n",
      "Final results\n",
      "\n",
      "MultiLabelF1Score\n",
      "All AUs:  [('AU1', 84.2), ('AU2', 83.76), ('AU4', 88.23), ('AU5', 54.08), ('AU6', 50.42), ('AU7', 64.57), ('AU9', 53.11), ('AU10', 57.63), ('AU12', 64.65), ('AU14', 62.01), ('AU15', 56.39), ('AU17', 69.28)]\n",
      "Mean:  65.69\n",
      "\n",
      "\n",
      "MultiLabelF1Score\n",
      "All AUs:  [('AU1', 72.69), ('AU2', 71.68), ('AU4', 84.5), ('AU5', 12.22), ('AU6', 2.67), ('AU7', 36.97), ('AU9', 9.59), ('AU10', 17.2), ('AU12', 34.89), ('AU14', 31.5), ('AU15', 14.29), ('AU17', 40.99)]\n",
      "Mean:  35.77\n",
      "\n",
      "\n"
     ]
    },
    {
     "name": "stderr",
     "output_type": "stream",
     "text": [
      "\r",
      " 40%|███████████████▌                       | 2/5 [1:08:28<1:44:03, 2081.18s/it]"
     ]
    },
    {
     "name": "stdout",
     "output_type": "stream",
     "text": [
      "MultiLabelF1Score\n",
      "Dataset: casme, n=189 | train_mean: 0.9965 | test_mean: 0.631\n",
      "Test per AU: [('AU1', 76.38), ('AU2', 79.35), ('AU4', 79.33), ('AU5', 49.73), ('AU6', 49.33), ('AU7', 59.96), ('AU9', 73.06), ('AU10', 49.6), ('AU12', 63.59), ('AU14', 56.55), ('AU15', 48.08), ('AU17', 72.28)]\n",
      "\n",
      "MultiLabelF1Score\n",
      "Dataset: casme, n=189 | train_mean: 0.9934 | test_mean: 0.3085\n",
      "Test per AU: [('AU1', 57.14), ('AU2', 61.54), ('AU4', 73.53), ('AU5', 0.0), ('AU6', 0.0), ('AU7', 23.53), ('AU9', 55.38), ('AU10', 0.0), ('AU12', 32.0), ('AU14', 20.0), ('AU15', 0.0), ('AU17', 47.06)]\n",
      "\n",
      "MultiLabelF1Score\n",
      "Dataset: casme2, n=256 | train_mean: 0.989 | test_mean: 0.6879\n",
      "Test per AU: [('AU1', 94.17), ('AU2', 85.02), ('AU4', 91.78), ('AU5', 49.21), ('AU6', 54.84), ('AU7', 71.59), ('AU9', 48.39), ('AU10', 48.18), ('AU12', 73.73), ('AU14', 71.93), ('AU15', 59.69), ('AU17', 77.0)]\n",
      "\n",
      "MultiLabelF1Score\n",
      "Dataset: casme2, n=256 | train_mean: 0.9798 | test_mean: 0.4144\n",
      "Test per AU: [('AU1', 89.66), ('AU2', 73.08), ('AU4', 91.43), ('AU5', 0.0), ('AU6', 12.5), ('AU7', 49.06), ('AU9', 0.0), ('AU10', 0.0), ('AU12', 52.17), ('AU14', 50.0), ('AU15', 22.22), ('AU17', 57.14)]\n",
      "\n",
      "MultiLabelF1Score\n",
      "Dataset: samm, n=159 | train_mean: 0.9927 | test_mean: 0.6243\n",
      "Test per AU: [('AU1', 62.3), ('AU2', 88.76), ('AU4', 83.97), ('AU5', 57.63), ('AU6', 49.2), ('AU7', 61.5), ('AU9', 49.2), ('AU10', 49.04), ('AU12', 58.85), ('AU14', 67.44), ('AU15', 49.36), ('AU17', 71.93)]\n",
      "\n",
      "MultiLabelF1Score\n",
      "Dataset: samm, n=159 | train_mean: 0.9863 | test_mean: 0.2955\n",
      "Test per AU: [('AU1', 30.77), ('AU2', 80.0), ('AU4', 73.68), ('AU5', 18.18), ('AU6', 0.0), ('AU7', 37.29), ('AU9', 0.0), ('AU10', 0.0), ('AU12', 28.57), ('AU14', 40.0), ('AU15', 0.0), ('AU17', 46.15)]\n",
      "\n",
      "MultiLabelF1Score\n",
      "Dataset: fourd, n=267 | train_mean: 0.9877 | test_mean: 0.6334\n",
      "Test per AU: [('AU1', 86.71), ('AU2', 81.63), ('AU4', 85.14), ('AU5', 61.15), ('AU6', 47.54), ('AU7', 54.36), ('AU9', 49.91), ('AU10', 49.43), ('AU12', 60.24), ('AU14', 56.84), ('AU15', 63.81), ('AU17', 63.32)]\n",
      "\n",
      "MultiLabelF1Score\n",
      "Dataset: fourd, n=267 | train_mean: 0.9771 | test_mean: 0.3225\n",
      "Test per AU: [('AU1', 77.65), ('AU2', 69.05), ('AU4', 82.08), ('AU5', 26.67), ('AU6', 0.0), ('AU7', 26.67), ('AU9', 0.0), ('AU10', 0.0), ('AU12', 30.3), ('AU14', 17.39), ('AU15', 28.57), ('AU17', 28.57)]\n",
      "\n",
      "MultiLabelF1Score\n",
      "Dataset: mmew, n=300 | train_mean: 0.997 | test_mean: 0.6544\n",
      "Test per AU: [('AU1', 88.69), ('AU2', 84.83), ('AU4', 93.32), ('AU5', 44.89), ('AU6', 51.3), ('AU7', 55.78), ('AU9', 55.05), ('AU10', 51.79), ('AU12', 70.45), ('AU14', 61.58), ('AU15', 58.33), ('AU17', 69.23)]\n",
      "\n",
      "MultiLabelF1Score\n",
      "Dataset: mmew, n=300 | train_mean: 0.9943 | test_mean: 0.3628\n",
      "Test per AU: [('AU1', 81.19), ('AU2', 74.16), ('AU4', 91.18), ('AU5', 2.82), ('AU6', 7.14), ('AU7', 19.23), ('AU9', 15.79), ('AU10', 10.0), ('AU12', 47.89), ('AU14', 27.78), ('AU15', 18.18), ('AU17', 40.0)]\n",
      "\n",
      "MultiLabelF1Score\n",
      "Dataset: casme3a, n=860 | train_mean: 0.9959 | test_mean: 0.6419\n",
      "Test per AU: [('AU1', 83.1), ('AU2', 81.09), ('AU4', 91.37), ('AU5', 48.69), ('AU6', 49.47), ('AU7', 68.18), ('AU9', 52.3), ('AU10', 62.15), ('AU12', 58.58), ('AU14', 67.81), ('AU15', 49.77), ('AU17', 57.74)]\n",
      "\n",
      "MultiLabelF1Score\n",
      "Dataset: casme3a, n=860 | train_mean: 0.9929 | test_mean: 0.3194\n",
      "Test per AU: [('AU1', 71.02), ('AU2', 66.97), ('AU4', 88.33), ('AU5', 0.0), ('AU6', 0.0), ('AU7', 39.53), ('AU9', 7.55), ('AU10', 25.0), ('AU12', 19.61), ('AU14', 45.76), ('AU15', 0.0), ('AU17', 19.51)]\n",
      "\n",
      "Final results\n",
      "\n",
      "MultiLabelF1Score\n",
      "All AUs:  [('AU1', 84.44), ('AU2', 82.78), ('AU4', 89.52), ('AU5', 51.64), ('AU6', 50.89), ('AU7', 63.31), ('AU9', 61.22), ('AU10', 53.48), ('AU12', 65.37), ('AU14', 67.06), ('AU15', 55.78), ('AU17', 65.55)]\n",
      "Mean:  65.92\n",
      "\n",
      "\n",
      "MultiLabelF1Score\n",
      "All AUs:  [('AU1', 73.09), ('AU2', 69.84), ('AU4', 86.32), ('AU5', 7.23), ('AU6', 4.12), ('AU7', 33.33), ('AU9', 25.84), ('AU10', 8.99), ('AU12', 35.88), ('AU14', 41.27), ('AU15', 12.9), ('AU17', 34.09)]\n",
      "Mean:  36.08\n",
      "\n",
      "\n"
     ]
    },
    {
     "name": "stderr",
     "output_type": "stream",
     "text": [
      "\r",
      " 60%|███████████████████████▍               | 3/5 [1:45:16<1:11:17, 2138.93s/it]"
     ]
    },
    {
     "name": "stdout",
     "output_type": "stream",
     "text": [
      "MultiLabelF1Score\n",
      "Dataset: casme, n=189 | train_mean: 0.9982 | test_mean: 0.6373\n",
      "Test per AU: [('AU1', 68.25), ('AU2', 77.75), ('AU4', 85.07), ('AU5', 47.93), ('AU6', 49.87), ('AU7', 53.8), ('AU9', 62.6), ('AU10', 66.13), ('AU12', 69.91), ('AU14', 55.62), ('AU15', 72.27), ('AU17', 55.49)]\n",
      "\n",
      "MultiLabelF1Score\n",
      "Dataset: casme, n=189 | train_mean: 0.9965 | test_mean: 0.3209\n",
      "Test per AU: [('AU1', 41.38), ('AU2', 58.33), ('AU4', 80.88), ('AU5', 0.0), ('AU6', 0.0), ('AU7', 11.76), ('AU9', 35.29), ('AU10', 33.33), ('AU12', 43.48), ('AU14', 18.75), ('AU15', 47.62), ('AU17', 14.29)]\n",
      "\n",
      "MultiLabelF1Score\n",
      "Dataset: casme2, n=256 | train_mean: 0.9986 | test_mean: 0.6926\n",
      "Test per AU: [('AU1', 93.3), ('AU2', 84.22), ('AU4', 95.7), ('AU5', 49.51), ('AU6', 48.59), ('AU7', 71.68), ('AU9', 48.7), ('AU10', 53.94), ('AU12', 76.05), ('AU14', 72.78), ('AU15', 59.69), ('AU17', 77.0)]\n",
      "\n",
      "MultiLabelF1Score\n",
      "Dataset: casme2, n=256 | train_mean: 0.9975 | test_mean: 0.4205\n",
      "Test per AU: [('AU1', 88.14), ('AU2', 71.7), ('AU4', 95.72), ('AU5', 0.0), ('AU6', 0.0), ('AU7', 50.0), ('AU9', 0.0), ('AU10', 11.11), ('AU12', 57.63), ('AU14', 50.98), ('AU15', 22.22), ('AU17', 57.14)]\n",
      "\n",
      "MultiLabelF1Score\n",
      "Dataset: samm, n=159 | train_mean: 0.9959 | test_mean: 0.6832\n",
      "Test per AU: [('AU1', 66.49), ('AU2', 86.85), ('AU4', 94.72), ('AU5', 75.58), ('AU6', 49.36), ('AU7', 69.41), ('AU9', 49.2), ('AU10', 65.36), ('AU12', 69.07), ('AU14', 70.56), ('AU15', 49.2), ('AU17', 74.02)]\n",
      "\n",
      "MultiLabelF1Score\n",
      "Dataset: samm, n=159 | train_mean: 0.9927 | test_mean: 0.4074\n",
      "Test per AU: [('AU1', 38.46), ('AU2', 76.92), ('AU4', 90.91), ('AU5', 54.55), ('AU6', 0.0), ('AU7', 51.52), ('AU9', 0.0), ('AU10', 33.33), ('AU12', 46.51), ('AU14', 46.67), ('AU15', 0.0), ('AU17', 50.0)]\n",
      "\n",
      "MultiLabelF1Score\n",
      "Dataset: fourd, n=267 | train_mean: 0.9996 | test_mean: 0.66\n",
      "Test per AU: [('AU1', 89.31), ('AU2', 82.51), ('AU4', 89.81), ('AU5', 55.32), ('AU6', 47.54), ('AU7', 70.16), ('AU9', 49.91), ('AU10', 49.72), ('AU12', 58.03), ('AU14', 57.33), ('AU15', 74.62), ('AU17', 67.78)]\n",
      "\n",
      "MultiLabelF1Score\n",
      "Dataset: fourd, n=267 | train_mean: 0.9993 | test_mean: 0.369\n",
      "Test per AU: [('AU1', 82.22), ('AU2', 70.59), ('AU4', 86.91), ('AU5', 16.67), ('AU6', 0.0), ('AU7', 54.96), ('AU9', 0.0), ('AU10', 0.0), ('AU12', 25.81), ('AU14', 18.18), ('AU15', 50.0), ('AU17', 37.5)]\n",
      "\n",
      "MultiLabelF1Score\n",
      "Dataset: mmew, n=300 | train_mean: 0.9994 | test_mean: 0.6471\n",
      "Test per AU: [('AU1', 86.09), ('AU2', 85.35), ('AU4', 88.23), ('AU5', 44.89), ('AU6', 48.54), ('AU7', 50.0), ('AU9', 57.48), ('AU10', 46.62), ('AU12', 71.53), ('AU14', 59.8), ('AU15', 58.33), ('AU17', 79.65)]\n",
      "\n",
      "MultiLabelF1Score\n",
      "Dataset: mmew, n=300 | train_mean: 0.999 | test_mean: 0.3462\n",
      "Test per AU: [('AU1', 76.77), ('AU2', 75.0), ('AU4', 84.62), ('AU5', 2.82), ('AU6', 0.0), ('AU7', 8.16), ('AU9', 16.67), ('AU10', 0.0), ('AU12', 49.23), ('AU14', 23.08), ('AU15', 18.18), ('AU17', 60.87)]\n",
      "\n",
      "MultiLabelF1Score\n",
      "Dataset: casme3a, n=860 | train_mean: 0.9993 | test_mean: 0.6569\n",
      "Test per AU: [('AU1', 84.94), ('AU2', 86.22), ('AU4', 90.18), ('AU5', 52.85), ('AU6', 49.68), ('AU7', 63.49), ('AU9', 54.96), ('AU10', 49.71), ('AU12', 62.8), ('AU14', 73.76), ('AU15', 49.53), ('AU17', 70.18)]\n",
      "\n",
      "MultiLabelF1Score\n",
      "Dataset: casme3a, n=860 | train_mean: 0.9988 | test_mean: 0.3468\n",
      "Test per AU: [('AU1', 74.31), ('AU2', 76.63), ('AU4', 86.56), ('AU5', 8.33), ('AU6', 0.0), ('AU7', 30.59), ('AU9', 13.11), ('AU10', 0.0), ('AU12', 28.07), ('AU14', 56.67), ('AU15', 0.0), ('AU17', 41.86)]\n",
      "\n",
      "Final results\n",
      "\n",
      "MultiLabelF1Score\n",
      "All AUs:  [('AU1', 85.0), ('AU2', 85.07), ('AU4', 90.61), ('AU5', 53.85), ('AU6', 49.1), ('AU7', 67.3), ('AU9', 58.32), ('AU10', 53.6), ('AU12', 68.3), ('AU14', 71.25), ('AU15', 61.92), ('AU17', 72.09)]\n",
      "Mean:  68.04\n",
      "\n",
      "\n",
      "MultiLabelF1Score\n",
      "All AUs:  [('AU1', 74.1), ('AU2', 74.18), ('AU4', 87.6), ('AU5', 12.18), ('AU6', 0.0), ('AU7', 41.18), ('AU9', 19.58), ('AU10', 9.2), ('AU12', 41.42), ('AU14', 49.02), ('AU15', 25.32), ('AU17', 46.15)]\n",
      "Mean:  39.99\n",
      "\n",
      "\n"
     ]
    },
    {
     "name": "stderr",
     "output_type": "stream",
     "text": [
      "\r",
      " 80%|████████████████████████████████▊        | 4/5 [2:23:37<36:42, 2202.77s/it]"
     ]
    },
    {
     "name": "stdout",
     "output_type": "stream",
     "text": [
      "MultiLabelF1Score\n",
      "Dataset: casme, n=189 | train_mean: 0.9993 | test_mean: 0.6159\n",
      "Test per AU: [('AU1', 76.38), ('AU2', 80.67), ('AU4', 81.54), ('AU5', 49.47), ('AU6', 54.32), ('AU7', 51.06), ('AU9', 49.11), ('AU10', 49.33), ('AU12', 64.41), ('AU14', 60.17), ('AU15', 60.84), ('AU17', 61.82)]\n",
      "\n",
      "MultiLabelF1Score\n",
      "Dataset: casme, n=189 | train_mean: 0.9987 | test_mean: 0.2841\n",
      "Test per AU: [('AU1', 57.14), ('AU2', 64.52), ('AU4', 77.24), ('AU5', 0.0), ('AU6', 12.5), ('AU7', 8.33), ('AU9', 9.52), ('AU10', 0.0), ('AU12', 33.33), ('AU14', 26.67), ('AU15', 25.0), ('AU17', 26.67)]\n",
      "\n",
      "MultiLabelF1Score\n",
      "Dataset: casme2, n=256 | train_mean: 0.9966 | test_mean: 0.6757\n",
      "Test per AU: [('AU1', 92.45), ('AU2', 84.22), ('AU4', 93.75), ('AU5', 49.71), ('AU6', 68.78), ('AU7', 57.01), ('AU9', 48.49), ('AU10', 53.94), ('AU12', 70.11), ('AU14', 69.32), ('AU15', 48.28), ('AU17', 74.8)]\n",
      "\n",
      "MultiLabelF1Score\n",
      "Dataset: casme2, n=256 | train_mean: 0.9937 | test_mean: 0.3931\n",
      "Test per AU: [('AU1', 86.67), ('AU2', 71.7), ('AU4', 93.6), ('AU5', 0.0), ('AU6', 40.0), ('AU7', 21.74), ('AU9', 0.0), ('AU10', 11.11), ('AU12', 45.83), ('AU14', 48.1), ('AU15', 0.0), ('AU17', 52.94)]\n",
      "\n",
      "MultiLabelF1Score\n",
      "Dataset: samm, n=159 | train_mean: 0.9895 | test_mean: 0.6614\n",
      "Test per AU: [('AU1', 70.56), ('AU2', 93.41), ('AU4', 81.51), ('AU5', 68.45), ('AU6', 49.52), ('AU7', 72.58), ('AU9', 74.35), ('AU10', 49.04), ('AU12', 51.75), ('AU14', 66.04), ('AU15', 49.36), ('AU17', 67.04)]\n",
      "\n",
      "MultiLabelF1Score\n",
      "Dataset: samm, n=159 | train_mean: 0.981 | test_mean: 0.3659\n",
      "Test per AU: [('AU1', 44.44), ('AU2', 88.24), ('AU4', 70.0), ('AU5', 41.67), ('AU6', 0.0), ('AU7', 56.72), ('AU9', 50.0), ('AU10', 0.0), ('AU12', 12.9), ('AU14', 38.71), ('AU15', 0.0), ('AU17', 36.36)]\n",
      "\n",
      "MultiLabelF1Score\n",
      "Dataset: fourd, n=267 | train_mean: 0.9966 | test_mean: 0.6422\n",
      "Test per AU: [('AU1', 75.87), ('AU2', 84.49), ('AU4', 84.93), ('AU5', 58.44), ('AU6', 47.44), ('AU7', 65.39), ('AU9', 49.91), ('AU10', 49.72), ('AU12', 61.6), ('AU14', 59.07), ('AU15', 63.81), ('AU17', 69.98)]\n",
      "\n",
      "MultiLabelF1Score\n",
      "Dataset: fourd, n=267 | train_mean: 0.9935 | test_mean: 0.3378\n",
      "Test per AU: [('AU1', 57.97), ('AU2', 74.16), ('AU4', 81.37), ('AU5', 20.0), ('AU6', 0.0), ('AU7', 47.24), ('AU9', 0.0), ('AU10', 0.0), ('AU12', 32.84), ('AU14', 21.05), ('AU15', 28.57), ('AU17', 42.11)]\n",
      "\n",
      "MultiLabelF1Score\n",
      "Dataset: mmew, n=300 | train_mean: 0.9995 | test_mean: 0.6413\n",
      "Test per AU: [('AU1', 86.36), ('AU2', 87.54), ('AU4', 87.31), ('AU5', 47.75), ('AU6', 49.07), ('AU7', 53.43), ('AU9', 52.01), ('AU10', 59.97), ('AU12', 70.86), ('AU14', 52.53), ('AU15', 48.89), ('AU17', 73.78)]\n",
      "\n",
      "MultiLabelF1Score\n",
      "Dataset: mmew, n=300 | train_mean: 0.9991 | test_mean: 0.3372\n",
      "Test per AU: [('AU1', 77.08), ('AU2', 78.57), ('AU4', 83.17), ('AU5', 8.22), ('AU6', 0.0), ('AU7', 15.09), ('AU9', 10.26), ('AU10', 26.09), ('AU12', 47.46), ('AU14', 8.7), ('AU15', 0.0), ('AU17', 50.0)]\n",
      "\n",
      "MultiLabelF1Score\n",
      "Dataset: casme3a, n=860 | train_mean: 0.9906 | test_mean: 0.6465\n",
      "Test per AU: [('AU1', 82.45), ('AU2', 81.85), ('AU4', 89.46), ('AU5', 48.63), ('AU6', 59.53), ('AU7', 65.62), ('AU9', 50.16), ('AU10', 60.7), ('AU12', 58.14), ('AU14', 69.98), ('AU15', 49.59), ('AU17', 59.65)]\n",
      "\n",
      "MultiLabelF1Score\n",
      "Dataset: casme3a, n=860 | train_mean: 0.9828 | test_mean: 0.3295\n",
      "Test per AU: [('AU1', 69.92), ('AU2', 68.22), ('AU4', 85.21), ('AU5', 0.0), ('AU6', 20.0), ('AU7', 33.85), ('AU9', 3.57), ('AU10', 22.22), ('AU12', 17.39), ('AU14', 51.38), ('AU15', 0.0), ('AU17', 23.66)]\n",
      "\n",
      "Final results\n",
      "\n",
      "MultiLabelF1Score\n",
      "All AUs:  [('AU1', 82.69), ('AU2', 84.28), ('AU4', 88.18), ('AU5', 53.96), ('AU6', 56.26), ('AU7', 65.04), ('AU9', 52.46), ('AU10', 58.39), ('AU12', 65.31), ('AU14', 68.89), ('AU15', 53.41), ('AU17', 65.82)]\n",
      "Mean:  66.22\n",
      "\n",
      "\n",
      "MultiLabelF1Score\n",
      "All AUs:  [('AU1', 69.85), ('AU2', 72.48), ('AU4', 84.36), ('AU5', 11.76), ('AU6', 14.58), ('AU7', 36.65), ('AU9', 8.7), ('AU10', 18.75), ('AU12', 34.92), ('AU14', 45.58), ('AU15', 8.45), ('AU17', 35.0)]\n",
      "Mean:  36.76\n",
      "\n",
      "\n"
     ]
    },
    {
     "name": "stderr",
     "output_type": "stream",
     "text": [
      "100%|█████████████████████████████████████████| 5/5 [3:01:59<00:00, 2183.93s/it]"
     ]
    },
    {
     "name": "stdout",
     "output_type": "stream",
     "text": [
      "MultiLabelF1Score\n",
      "AUS: ['AU1', 'AU2', 'AU4', 'AU5', 'AU6', 'AU7', 'AU9', 'AU10', 'AU12', 'AU14', 'AU15', 'AU17', 'Average']\n",
      "83.9 & 83.7 & 89.2 & 53.5 & 51.7 & 65.9 & 56.3 & 55.8 & 65.8 & 66.3 & 56.6 & 68.3 & 66.4\n",
      "\n",
      "Datasets:  ['casme', 'casme2', 'samm', 'fourd', 'mmew', 'casme3a', 'Average']\n",
      "61.5 & 68.7 & 65.9 & 64.4 & 64.8 & 64.8 & 65.0\n",
      "MultiLabelF1Score\n",
      "AUS: ['AU1', 'AU2', 'AU4', 'AU5', 'AU6', 'AU7', 'AU9', 'AU10', 'AU12', 'AU14', 'AU15', 'AU17', 'Average']\n",
      "72.1 & 71.7 & 85.8 & 11.2 & 5.4 & 38.7 & 16.0 & 13.5 & 36.5 & 39.9 & 14.8 & 39.2 & 37.1\n",
      "\n",
      "Datasets:  ['casme', 'casme2', 'samm', 'fourd', 'mmew', 'casme3a', 'Average']\n",
      "28.2 & 41.2 & 36.3 & 34.0 & 35.0 & 33.2 & 34.7\n"
     ]
    },
    {
     "name": "stderr",
     "output_type": "stream",
     "text": [
      "\n"
     ]
    }
   ],
   "source": [
    "core.CrossDatasetValidator(Config).validate_n_times(df, data, n_times=5)"
   ]
  },
  {
   "cell_type": "code",
   "execution_count": 27,
   "metadata": {
    "scrolled": true
   },
   "outputs": [
    {
     "name": "stderr",
     "output_type": "stream",
     "text": [
      "\r",
      "  0%|                                                     | 0/5 [00:00<?, ?it/s]"
     ]
    },
    {
     "name": "stdout",
     "output_type": "stream",
     "text": [
      "MultiLabelF1Score\n",
      "Dataset: casme, n=189 | train_mean: 0.998 | test_mean: 0.5919\n",
      "Test per AU: [('AU1', 79.53), ('AU2', 80.73), ('AU4', 75.58), ('AU5', 49.19), ('AU6', 49.87), ('AU7', 55.49), ('AU9', 46.65), ('AU10', 49.6), ('AU12', 59.96), ('AU14', 53.71), ('AU15', 48.08), ('AU17', 61.82)]\n",
      "\n",
      "MultiLabelF1Score\n",
      "Dataset: casme, n=189 | train_mean: 0.9963 | test_mean: 0.231\n",
      "Test per AU: [('AU1', 62.86), ('AU2', 64.0), ('AU4', 66.67), ('AU5', 0.0), ('AU6', 0.0), ('AU7', 14.29), ('AU9', 4.88), ('AU10', 0.0), ('AU12', 23.53), ('AU14', 14.29), ('AU15', 0.0), ('AU17', 26.67)]\n",
      "\n",
      "MultiLabelF1Score\n",
      "Dataset: casme2, n=256 | train_mean: 0.9962 | test_mean: 0.6716\n",
      "Test per AU: [('AU1', 93.3), ('AU2', 81.95), ('AU4', 92.95), ('AU5', 49.71), ('AU6', 48.7), ('AU7', 76.67), ('AU9', 48.7), ('AU10', 48.28), ('AU12', 67.11), ('AU14', 76.85), ('AU15', 54.37), ('AU17', 67.38)]\n",
      "\n",
      "MultiLabelF1Score\n",
      "Dataset: casme2, n=256 | train_mean: 0.993 | test_mean: 0.3796\n",
      "Test per AU: [('AU1', 88.14), ('AU2', 67.86), ('AU4', 92.62), ('AU5', 0.0), ('AU6', 0.0), ('AU7', 58.62), ('AU9', 0.0), ('AU10', 0.0), ('AU12', 40.0), ('AU14', 57.78), ('AU15', 11.76), ('AU17', 38.71)]\n",
      "\n",
      "MultiLabelF1Score\n",
      "Dataset: samm, n=159 | train_mean: 0.996 | test_mean: 0.604\n",
      "Test per AU: [('AU1', 69.21), ('AU2', 77.74), ('AU4', 86.73), ('AU5', 47.87), ('AU6', 49.52), ('AU7', 74.47), ('AU9', 49.2), ('AU10', 49.04), ('AU12', 48.47), ('AU14', 63.19), ('AU15', 49.36), ('AU17', 59.98)]\n",
      "\n",
      "MultiLabelF1Score\n",
      "Dataset: samm, n=159 | train_mean: 0.9924 | test_mean: 0.2507\n",
      "Test per AU: [('AU1', 42.11), ('AU2', 59.26), ('AU4', 77.55), ('AU5', 0.0), ('AU6', 0.0), ('AU7', 59.7), ('AU9', 0.0), ('AU10', 0.0), ('AU12', 6.67), ('AU14', 33.33), ('AU15', 0.0), ('AU17', 22.22)]\n",
      "\n",
      "MultiLabelF1Score\n",
      "Dataset: fourd, n=267 | train_mean: 0.9967 | test_mean: 0.6084\n",
      "Test per AU: [('AU1', 87.53), ('AU2', 83.52), ('AU4', 86.61), ('AU5', 48.85), ('AU6', 47.54), ('AU7', 65.19), ('AU9', 49.81), ('AU10', 49.81), ('AU12', 48.13), ('AU14', 59.24), ('AU15', 49.43), ('AU17', 54.43)]\n",
      "\n",
      "MultiLabelF1Score\n",
      "Dataset: fourd, n=267 | train_mean: 0.9938 | test_mean: 0.2666\n",
      "Test per AU: [('AU1', 79.07), ('AU2', 73.27), ('AU4', 82.9), ('AU5', 0.0), ('AU6', 0.0), ('AU7', 45.76), ('AU9', 0.0), ('AU10', 0.0), ('AU12', 7.14), ('AU14', 20.0), ('AU15', 0.0), ('AU17', 11.76)]\n",
      "\n",
      "MultiLabelF1Score\n",
      "Dataset: mmew, n=300 | train_mean: 0.9963 | test_mean: 0.6178\n",
      "Test per AU: [('AU1', 81.78), ('AU2', 78.43), ('AU4', 91.25), ('AU5', 46.34), ('AU6', 49.15), ('AU7', 52.0), ('AU9', 49.15), ('AU10', 49.27), ('AU12', 59.6), ('AU14', 57.48), ('AU15', 56.12), ('AU17', 70.75)]\n",
      "\n",
      "MultiLabelF1Score\n",
      "Dataset: mmew, n=300 | train_mean: 0.9932 | test_mean: 0.2861\n",
      "Test per AU: [('AU1', 68.35), ('AU2', 61.54), ('AU4', 88.68), ('AU5', 5.56), ('AU6', 0.0), ('AU7', 12.0), ('AU9', 0.0), ('AU10', 5.13), ('AU12', 25.53), ('AU14', 19.35), ('AU15', 14.29), ('AU17', 42.86)]\n",
      "\n",
      "MultiLabelF1Score\n",
      "Dataset: casme3a, n=860 | train_mean: 0.9967 | test_mean: 0.6144\n",
      "Test per AU: [('AU1', 83.62), ('AU2', 80.46), ('AU4', 88.9), ('AU5', 48.69), ('AU6', 49.65), ('AU7', 55.8), ('AU9', 53.85), ('AU10', 49.68), ('AU12', 59.28), ('AU14', 53.41), ('AU15', 49.74), ('AU17', 64.26)]\n",
      "\n",
      "MultiLabelF1Score\n",
      "Dataset: casme3a, n=860 | train_mean: 0.9938 | test_mean: 0.2702\n",
      "Test per AU: [('AU1', 72.6), ('AU2', 66.39), ('AU4', 84.57), ('AU5', 0.0), ('AU6', 0.0), ('AU7', 20.24), ('AU9', 10.71), ('AU10', 0.0), ('AU12', 20.83), ('AU14', 18.52), ('AU15', 0.0), ('AU17', 30.43)]\n",
      "\n",
      "Final results\n",
      "\n",
      "MultiLabelF1Score\n",
      "All AUs:  [('AU1', 84.34), ('AU2', 80.99), ('AU4', 88.49), ('AU5', 49.47), ('AU6', 49.2), ('AU7', 63.64), ('AU9', 51.64), ('AU10', 50.33), ('AU12', 57.76), ('AU14', 58.55), ('AU15', 52.37), ('AU17', 63.98)]\n",
      "Mean:  62.56\n",
      "\n",
      "\n",
      "MultiLabelF1Score\n",
      "All AUs:  [('AU1', 72.99), ('AU2', 66.8), ('AU4', 84.59), ('AU5', 2.67), ('AU6', 0.0), ('AU7', 35.79), ('AU9', 6.3), ('AU10', 2.56), ('AU12', 20.58), ('AU14', 24.44), ('AU15', 6.25), ('AU17', 30.3)]\n",
      "Mean:  29.44\n",
      "\n",
      "\n"
     ]
    },
    {
     "name": "stderr",
     "output_type": "stream",
     "text": [
      "\r",
      " 20%|████████▊                                   | 1/5 [14:51<59:24, 891.01s/it]"
     ]
    },
    {
     "name": "stdout",
     "output_type": "stream",
     "text": [
      "[[59.18514834284382, 67.16368685580647, 60.399706100661824, 60.841168662079056, 61.77620165870836, 61.444570410658905, 61.80174700512641], [23.09744710892487, 37.95737813598432, 25.06993813207108, 26.65907695569131, 28.60712571926162, 27.02486252056802, 28.069304762083544]]\n",
      "MultiLabelF1Score\n",
      "Dataset: casme, n=189 | train_mean: 0.9983 | test_mean: 0.5788\n",
      "Test per AU: [('AU1', 77.38), ('AU2', 73.31), ('AU4', 77.0), ('AU5', 49.73), ('AU6', 49.73), ('AU7', 58.91), ('AU9', 46.65), ('AU10', 49.06), ('AU12', 55.51), ('AU14', 53.71), ('AU15', 48.08), ('AU17', 55.49)]\n",
      "\n",
      "MultiLabelF1Score\n",
      "Dataset: casme, n=189 | train_mean: 0.9968 | test_mean: 0.2065\n",
      "Test per AU: [('AU1', 58.82), ('AU2', 50.0), ('AU4', 68.85), ('AU5', 0.0), ('AU6', 0.0), ('AU7', 20.0), ('AU9', 4.88), ('AU10', 0.0), ('AU12', 16.67), ('AU14', 14.29), ('AU15', 0.0), ('AU17', 14.29)]\n",
      "\n",
      "MultiLabelF1Score\n",
      "Dataset: casme2, n=256 | train_mean: 0.9913 | test_mean: 0.6317\n",
      "Test per AU: [('AU1', 89.97), ('AU2', 78.15), ('AU4', 95.31), ('AU5', 49.8), ('AU6', 48.7), ('AU7', 63.3), ('AU9', 48.7), ('AU10', 48.39), ('AU12', 61.56), ('AU14', 67.28), ('AU15', 48.39), ('AU17', 58.44)]\n",
      "\n",
      "MultiLabelF1Score\n",
      "Dataset: casme2, n=256 | train_mean: 0.9839 | test_mean: 0.3032\n",
      "Test per AU: [('AU1', 82.14), ('AU2', 59.46), ('AU4', 95.28), ('AU5', 0.0), ('AU6', 0.0), ('AU7', 35.48), ('AU9', 0.0), ('AU10', 0.0), ('AU12', 29.27), ('AU14', 40.82), ('AU15', 0.0), ('AU17', 21.43)]\n",
      "\n",
      "MultiLabelF1Score\n",
      "Dataset: samm, n=159 | train_mean: 0.9958 | test_mean: 0.6087\n",
      "Test per AU: [('AU1', 69.21), ('AU2', 80.34), ('AU4', 85.76), ('AU5', 53.93), ('AU6', 49.36), ('AU7', 62.04), ('AU9', 48.87), ('AU10', 63.48), ('AU12', 45.17), ('AU14', 63.1), ('AU15', 49.2), ('AU17', 59.98)]\n",
      "\n",
      "MultiLabelF1Score\n",
      "Dataset: samm, n=159 | train_mean: 0.9922 | test_mean: 0.2632\n",
      "Test per AU: [('AU1', 42.11), ('AU2', 64.52), ('AU4', 76.0), ('AU5', 12.5), ('AU6', 0.0), ('AU7', 37.93), ('AU9', 0.0), ('AU10', 28.57), ('AU12', 0.0), ('AU14', 32.0), ('AU15', 0.0), ('AU17', 22.22)]\n",
      "\n",
      "MultiLabelF1Score\n",
      "Dataset: fourd, n=267 | train_mean: 0.9969 | test_mean: 0.6054\n",
      "Test per AU: [('AU1', 85.31), ('AU2', 81.54), ('AU4', 84.3), ('AU5', 48.65), ('AU6', 47.54), ('AU7', 59.38), ('AU9', 49.91), ('AU10', 49.81), ('AU12', 50.13), ('AU14', 58.23), ('AU15', 49.43), ('AU17', 62.27)]\n",
      "\n",
      "MultiLabelF1Score\n",
      "Dataset: fourd, n=267 | train_mean: 0.9942 | test_mean: 0.2642\n",
      "Test per AU: [('AU1', 75.29), ('AU2', 70.0), ('AU4', 80.95), ('AU5', 0.0), ('AU6', 0.0), ('AU7', 35.19), ('AU9', 0.0), ('AU10', 0.0), ('AU12', 10.71), ('AU14', 18.18), ('AU15', 0.0), ('AU17', 26.67)]\n",
      "\n",
      "MultiLabelF1Score\n",
      "Dataset: mmew, n=300 | train_mean: 0.9969 | test_mean: 0.6307\n",
      "Test per AU: [('AU1', 83.4), ('AU2', 80.62), ('AU4', 84.17), ('AU5', 44.89), ('AU6', 49.15), ('AU7', 56.67), ('AU9', 53.8), ('AU10', 46.62), ('AU12', 69.47), ('AU14', 66.28), ('AU15', 49.07), ('AU17', 72.76)]\n",
      "\n",
      "MultiLabelF1Score\n",
      "Dataset: mmew, n=300 | train_mean: 0.9942 | test_mean: 0.3159\n",
      "Test per AU: [('AU1', 72.16), ('AU2', 66.67), ('AU4', 78.31), ('AU5', 2.82), ('AU6', 0.0), ('AU7', 21.43), ('AU9', 10.53), ('AU10', 0.0), ('AU12', 44.44), ('AU14', 35.71), ('AU15', 0.0), ('AU17', 47.06)]\n",
      "\n",
      "MultiLabelF1Score\n",
      "Dataset: casme3a, n=860 | train_mean: 0.9948 | test_mean: 0.5995\n",
      "Test per AU: [('AU1', 81.25), ('AU2', 79.04), ('AU4', 87.22), ('AU5', 48.69), ('AU6', 49.77), ('AU7', 54.43), ('AU9', 50.16), ('AU10', 57.37), ('AU12', 55.3), ('AU14', 56.97), ('AU15', 49.82), ('AU17', 49.41)]\n",
      "\n",
      "MultiLabelF1Score\n",
      "Dataset: casme3a, n=860 | train_mean: 0.9902 | test_mean: 0.2424\n",
      "Test per AU: [('AU1', 67.77), ('AU2', 63.11), ('AU4', 83.19), ('AU5', 0.0), ('AU6', 0.0), ('AU7', 17.39), ('AU9', 3.57), ('AU10', 15.38), ('AU12', 14.81), ('AU14', 25.64), ('AU15', 0.0), ('AU17', 0.0)]\n",
      "\n",
      "Final results\n",
      "\n",
      "MultiLabelF1Score\n",
      "All AUs:  [('AU1', 82.62), ('AU2', 79.76), ('AU4', 86.87), ('AU5', 49.49), ('AU6', 49.22), ('AU7', 59.04), ('AU9', 50.52), ('AU10', 51.42), ('AU12', 57.22), ('AU14', 60.19), ('AU15', 49.28), ('AU17', 59.66)]\n",
      "Mean:  61.27\n",
      "\n",
      "\n",
      "MultiLabelF1Score\n",
      "All AUs:  [('AU1', 69.79), ('AU2', 64.32), ('AU4', 82.89), ('AU5', 2.68), ('AU6', 0.0), ('AU7', 27.25), ('AU9', 4.38), ('AU10', 4.82), ('AU12', 20.42), ('AU14', 27.73), ('AU15', 0.0), ('AU17', 21.36)]\n",
      "Mean:  27.14\n",
      "\n",
      "\n"
     ]
    },
    {
     "name": "stderr",
     "output_type": "stream",
     "text": [
      "\r",
      " 40%|█████████████████▏                         | 2/5 [35:17<54:24, 1088.21s/it]"
     ]
    },
    {
     "name": "stdout",
     "output_type": "stream",
     "text": [
      "[[57.88090964175016, 63.165157637126946, 60.871767708659775, 60.54262397002562, 63.0746317673619, 59.952537616394594, 60.91460472355317], [20.649344370561764, 30.32291406361251, 26.320506455546848, 26.41620452894962, 31.593986311815915, 24.2392025426471, 26.59035971218896]]\n",
      "MultiLabelF1Score\n",
      "Dataset: casme, n=189 | train_mean: 0.9976 | test_mean: 0.5866\n",
      "Test per AU: [('AU1', 72.69), ('AU2', 73.31), ('AU4', 76.15), ('AU5', 49.33), ('AU6', 49.87), ('AU7', 55.49), ('AU9', 51.13), ('AU10', 48.78), ('AU12', 65.0), ('AU14', 53.31), ('AU15', 48.08), ('AU17', 60.84)]\n",
      "\n",
      "MultiLabelF1Score\n",
      "Dataset: casme, n=189 | train_mean: 0.9957 | test_mean: 0.2218\n",
      "Test per AU: [('AU1', 50.0), ('AU2', 50.0), ('AU4', 66.06), ('AU5', 0.0), ('AU6', 0.0), ('AU7', 14.29), ('AU9', 13.64), ('AU10', 0.0), ('AU12', 33.33), ('AU14', 13.79), ('AU15', 0.0), ('AU17', 25.0)]\n",
      "\n",
      "MultiLabelF1Score\n",
      "Dataset: casme2, n=256 | train_mean: 0.994 | test_mean: 0.6407\n",
      "Test per AU: [('AU1', 90.83), ('AU2', 74.8), ('AU4', 95.31), ('AU5', 49.61), ('AU6', 48.7), ('AU7', 67.38), ('AU9', 48.7), ('AU10', 48.39), ('AU12', 75.16), ('AU14', 74.14), ('AU15', 48.39), ('AU17', 47.43)]\n",
      "\n",
      "MultiLabelF1Score\n",
      "Dataset: casme2, n=256 | train_mean: 0.989 | test_mean: 0.3193\n",
      "Test per AU: [('AU1', 83.64), ('AU2', 52.94), ('AU4', 95.24), ('AU5', 0.0), ('AU6', 0.0), ('AU7', 41.51), ('AU9', 0.0), ('AU10', 0.0), ('AU12', 55.56), ('AU14', 54.24), ('AU15', 0.0), ('AU17', 0.0)]\n",
      "\n",
      "MultiLabelF1Score\n",
      "Dataset: samm, n=159 | train_mean: 0.9976 | test_mean: 0.5982\n",
      "Test per AU: [('AU1', 73.68), ('AU2', 72.96), ('AU4', 86.27), ('AU5', 47.87), ('AU6', 49.52), ('AU7', 57.62), ('AU9', 49.2), ('AU10', 49.04), ('AU12', 56.66), ('AU14', 56.66), ('AU15', 49.36), ('AU17', 69.03)]\n",
      "\n",
      "MultiLabelF1Score\n",
      "Dataset: samm, n=159 | train_mean: 0.9956 | test_mean: 0.2401\n",
      "Test per AU: [('AU1', 50.0), ('AU2', 50.0), ('AU4', 76.6), ('AU5', 0.0), ('AU6', 0.0), ('AU7', 29.63), ('AU9', 0.0), ('AU10', 0.0), ('AU12', 22.86), ('AU14', 19.05), ('AU15', 0.0), ('AU17', 40.0)]\n",
      "\n",
      "MultiLabelF1Score\n",
      "Dataset: fourd, n=267 | train_mean: 0.9982 | test_mean: 0.6017\n",
      "Test per AU: [('AU1', 83.71), ('AU2', 73.54), ('AU4', 84.99), ('AU5', 54.01), ('AU6', 47.54), ('AU7', 52.99), ('AU9', 49.72), ('AU10', 49.81), ('AU12', 49.92), ('AU14', 65.9), ('AU15', 49.43), ('AU17', 60.51)]\n",
      "\n",
      "MultiLabelF1Score\n",
      "Dataset: fourd, n=267 | train_mean: 0.9967 | test_mean: 0.2584\n",
      "Test per AU: [('AU1', 72.0), ('AU2', 55.0), ('AU4', 80.83), ('AU5', 11.11), ('AU6', 0.0), ('AU7', 23.76), ('AU9', 0.0), ('AU10', 0.0), ('AU12', 10.53), ('AU14', 33.33), ('AU15', 0.0), ('AU17', 23.53)]\n",
      "\n",
      "MultiLabelF1Score\n",
      "Dataset: mmew, n=300 | train_mean: 0.9973 | test_mean: 0.6167\n",
      "Test per AU: [('AU1', 85.37), ('AU2', 85.58), ('AU4', 88.75), ('AU5', 44.89), ('AU6', 49.15), ('AU7', 52.0), ('AU9', 48.54), ('AU10', 46.62), ('AU12', 55.27), ('AU14', 64.0), ('AU15', 62.39), ('AU17', 57.48)]\n",
      "\n",
      "MultiLabelF1Score\n",
      "Dataset: mmew, n=300 | train_mean: 0.9952 | test_mean: 0.286\n",
      "Test per AU: [('AU1', 75.27), ('AU2', 75.0), ('AU4', 85.0), ('AU5', 2.82), ('AU6', 0.0), ('AU7', 12.0), ('AU9', 0.0), ('AU10', 0.0), ('AU12', 17.39), ('AU14', 32.43), ('AU15', 26.67), ('AU17', 16.67)]\n",
      "\n",
      "MultiLabelF1Score\n",
      "Dataset: casme3a, n=860 | train_mean: 0.9967 | test_mean: 0.6137\n",
      "Test per AU: [('AU1', 79.64), ('AU2', 77.15), ('AU4', 88.07), ('AU5', 48.69), ('AU6', 49.77), ('AU7', 51.74), ('AU9', 53.37), ('AU10', 56.79), ('AU12', 56.97), ('AU14', 63.11), ('AU15', 49.74), ('AU17', 61.44)]\n",
      "\n",
      "MultiLabelF1Score\n",
      "Dataset: casme3a, n=860 | train_mean: 0.994 | test_mean: 0.267\n",
      "Test per AU: [('AU1', 65.37), ('AU2', 59.49), ('AU4', 83.73), ('AU5', 0.0), ('AU6', 0.0), ('AU7', 9.43), ('AU9', 10.0), ('AU10', 14.29), ('AU12', 17.39), ('AU14', 36.73), ('AU15', 0.0), ('AU17', 24.0)]\n",
      "\n",
      "Final results\n",
      "\n",
      "MultiLabelF1Score\n",
      "All AUs:  [('AU1', 81.93), ('AU2', 77.56), ('AU4', 88.01), ('AU5', 49.36), ('AU6', 49.25), ('AU7', 56.54), ('AU9', 52.57), ('AU10', 50.13), ('AU12', 59.78), ('AU14', 64.6), ('AU15', 52.37), ('AU17', 58.45)]\n",
      "Mean:  61.71\n",
      "\n",
      "\n",
      "MultiLabelF1Score\n",
      "All AUs:  [('AU1', 68.56), ('AU2', 59.95), ('AU4', 83.98), ('AU5', 2.58), ('AU6', 0.0), ('AU7', 21.16), ('AU9', 8.45), ('AU10', 2.35), ('AU12', 25.09), ('AU14', 36.23), ('AU15', 6.25), ('AU17', 19.05)]\n",
      "Mean:  27.8\n",
      "\n",
      "\n"
     ]
    },
    {
     "name": "stderr",
     "output_type": "stream",
     "text": [
      "\r",
      " 60%|█████████████████████████▊                 | 3/5 [59:31<41:50, 1255.29s/it]"
     ]
    },
    {
     "name": "stdout",
     "output_type": "stream",
     "text": [
      "[[58.66493208008902, 64.0686968694479, 59.82186836848994, 60.17187481849488, 61.669312880834525, 61.37400005729494, 60.9617808457752], [22.175296714603896, 31.926492749871667, 24.01084468460355, 25.840963648357434, 28.603565727195296, 26.70266144502202, 26.543304161608976]]\n",
      "MultiLabelF1Score\n",
      "Dataset: casme, n=189 | train_mean: 0.9935 | test_mean: 0.5687\n",
      "Test per AU: [('AU1', 81.58), ('AU2', 63.04), ('AU4', 77.53), ('AU5', 49.73), ('AU6', 49.87), ('AU7', 67.23), ('AU9', 44.08), ('AU10', 49.47), ('AU12', 56.97), ('AU14', 46.61), ('AU15', 48.08), ('AU17', 48.22)]\n",
      "\n",
      "MultiLabelF1Score\n",
      "Dataset: casme, n=189 | train_mean: 0.9879 | test_mean: 0.184\n",
      "Test per AU: [('AU1', 66.67), ('AU2', 30.0), ('AU4', 71.11), ('AU5', 0.0), ('AU6', 0.0), ('AU7', 36.36), ('AU9', 0.0), ('AU10', 0.0), ('AU12', 16.67), ('AU14', 0.0), ('AU15', 0.0), ('AU17', 0.0)]\n",
      "\n",
      "MultiLabelF1Score\n",
      "Dataset: casme2, n=256 | train_mean: 0.9966 | test_mean: 0.6515\n",
      "Test per AU: [('AU1', 90.28), ('AU2', 83.67), ('AU4', 93.75), ('AU5', 49.51), ('AU6', 48.7), ('AU7', 70.21), ('AU9', 48.7), ('AU10', 48.39), ('AU12', 71.34), ('AU14', 70.11), ('AU15', 59.69), ('AU17', 47.43)]\n",
      "\n",
      "MultiLabelF1Score\n",
      "Dataset: casme2, n=256 | train_mean: 0.9937 | test_mean: 0.3429\n",
      "Test per AU: [('AU1', 82.76), ('AU2', 70.59), ('AU4', 93.65), ('AU5', 0.0), ('AU6', 0.0), ('AU7', 48.57), ('AU9', 0.0), ('AU10', 0.0), ('AU12', 47.83), ('AU14', 45.83), ('AU15', 22.22), ('AU17', 0.0)]\n",
      "\n",
      "MultiLabelF1Score\n",
      "Dataset: samm, n=159 | train_mean: 0.9965 | test_mean: 0.6067\n",
      "Test per AU: [('AU1', 73.68), ('AU2', 70.68), ('AU4', 83.77), ('AU5', 47.7), ('AU6', 49.52), ('AU7', 62.59), ('AU9', 49.2), ('AU10', 74.35), ('AU12', 51.75), ('AU14', 55.48), ('AU15', 49.36), ('AU17', 59.98)]\n",
      "\n",
      "MultiLabelF1Score\n",
      "Dataset: samm, n=159 | train_mean: 0.9936 | test_mean: 0.258\n",
      "Test per AU: [('AU1', 50.0), ('AU2', 46.15), ('AU4', 72.34), ('AU5', 0.0), ('AU6', 0.0), ('AU7', 38.6), ('AU9', 0.0), ('AU10', 50.0), ('AU12', 12.9), ('AU14', 17.39), ('AU15', 0.0), ('AU17', 22.22)]\n",
      "\n",
      "MultiLabelF1Score\n",
      "Dataset: fourd, n=267 | train_mean: 0.9951 | test_mean: 0.5938\n",
      "Test per AU: [('AU1', 85.59), ('AU2', 76.48), ('AU4', 86.3), ('AU5', 48.75), ('AU6', 47.54), ('AU7', 52.99), ('AU9', 49.91), ('AU10', 49.72), ('AU12', 51.41), ('AU14', 58.44), ('AU15', 49.43), ('AU17', 55.99)]\n",
      "\n",
      "MultiLabelF1Score\n",
      "Dataset: fourd, n=267 | train_mean: 0.9908 | test_mean: 0.2416\n",
      "Test per AU: [('AU1', 75.61), ('AU2', 60.0), ('AU4', 82.65), ('AU5', 0.0), ('AU6', 0.0), ('AU7', 23.76), ('AU9', 0.0), ('AU10', 0.0), ('AU12', 13.56), ('AU14', 20.0), ('AU15', 0.0), ('AU17', 14.29)]\n",
      "\n",
      "MultiLabelF1Score\n",
      "Dataset: mmew, n=300 | train_mean: 0.996 | test_mean: 0.6038\n",
      "Test per AU: [('AU1', 78.86), ('AU2', 80.41), ('AU4', 75.88), ('AU5', 43.4), ('AU6', 49.15), ('AU7', 59.3), ('AU9', 57.48), ('AU10', 51.57), ('AU12', 56.16), ('AU14', 59.8), ('AU15', 49.07), ('AU17', 63.43)]\n",
      "\n",
      "MultiLabelF1Score\n",
      "Dataset: mmew, n=300 | train_mean: 0.9933 | test_mean: 0.2702\n",
      "Test per AU: [('AU1', 63.29), ('AU2', 65.79), ('AU4', 72.59), ('AU5', 0.0), ('AU6', 0.0), ('AU7', 25.93), ('AU9', 16.67), ('AU10', 9.76), ('AU12', 18.6), ('AU14', 23.08), ('AU15', 0.0), ('AU17', 28.57)]\n",
      "\n",
      "MultiLabelF1Score\n",
      "Dataset: casme3a, n=860 | train_mean: 0.9975 | test_mean: 0.5943\n",
      "Test per AU: [('AU1', 76.38), ('AU2', 73.48), ('AU4', 88.39), ('AU5', 48.69), ('AU6', 49.74), ('AU7', 56.32), ('AU9', 52.2), ('AU10', 49.68), ('AU12', 54.68), ('AU14', 53.04), ('AU15', 49.65), ('AU17', 60.95)]\n",
      "\n",
      "MultiLabelF1Score\n",
      "Dataset: casme3a, n=860 | train_mean: 0.9955 | test_mean: 0.2291\n",
      "Test per AU: [('AU1', 58.82), ('AU2', 52.69), ('AU4', 84.07), ('AU5', 0.0), ('AU6', 0.0), ('AU7', 19.05), ('AU9', 7.41), ('AU10', 0.0), ('AU12', 12.0), ('AU14', 17.76), ('AU15', 0.0), ('AU17', 23.08)]\n",
      "\n",
      "Final results\n",
      "\n",
      "MultiLabelF1Score\n",
      "All AUs:  [('AU1', 80.34), ('AU2', 75.87), ('AU4', 86.02), ('AU5', 48.11), ('AU6', 49.24), ('AU7', 60.48), ('AU9', 50.89), ('AU10', 53.88), ('AU12', 57.87), ('AU14', 56.63), ('AU15', 52.31), ('AU17', 55.83)]\n",
      "Mean:  60.62\n",
      "\n",
      "\n",
      "MultiLabelF1Score\n",
      "All AUs:  [('AU1', 65.45), ('AU2', 56.95), ('AU4', 81.88), ('AU5', 0.0), ('AU6', 0.0), ('AU7', 29.12), ('AU9', 4.8), ('AU10', 9.64), ('AU12', 20.75), ('AU14', 20.85), ('AU15', 6.15), ('AU17', 13.86)]\n",
      "Mean:  25.79\n",
      "\n",
      "\n"
     ]
    },
    {
     "name": "stderr",
     "output_type": "stream",
     "text": [
      "\r",
      " 80%|████████████████████████████████▊        | 4/5 [1:19:02<20:21, 1221.96s/it]"
     ]
    },
    {
     "name": "stdout",
     "output_type": "stream",
     "text": [
      "[[56.86713543444786, 65.14800321410532, 60.67183194555237, 59.37924129252261, 60.37624420615765, 59.43248179550954, 60.31248964804923], [18.400673400673405, 34.287560059839365, 25.80062627419426, 24.155852489940596, 27.022431539691667, 22.906227867216124, 25.428895271925906]]\n",
      "MultiLabelF1Score\n",
      "Dataset: casme, n=189 | train_mean: 0.9953 | test_mean: 0.5654\n",
      "Test per AU: [('AU1', 72.69), ('AU2', 71.04), ('AU4', 76.14), ('AU5', 49.6), ('AU6', 49.87), ('AU7', 55.49), ('AU9', 44.08), ('AU10', 49.06), ('AU12', 56.19), ('AU14', 50.74), ('AU15', 48.08), ('AU17', 55.49)]\n",
      "\n",
      "MultiLabelF1Score\n",
      "Dataset: casme, n=189 | train_mean: 0.9913 | test_mean: 0.1784\n",
      "Test per AU: [('AU1', 50.0), ('AU2', 45.45), ('AU4', 66.67), ('AU5', 0.0), ('AU6', 0.0), ('AU7', 14.29), ('AU9', 0.0), ('AU10', 0.0), ('AU12', 15.38), ('AU14', 8.0), ('AU15', 0.0), ('AU17', 14.29)]\n",
      "\n",
      "MultiLabelF1Score\n",
      "Dataset: casme2, n=256 | train_mean: 0.9931 | test_mean: 0.6464\n",
      "Test per AU: [('AU1', 87.12), ('AU2', 81.37), ('AU4', 91.79), ('AU5', 49.71), ('AU6', 54.37), ('AU7', 72.66), ('AU9', 48.59), ('AU10', 48.39), ('AU12', 65.19), ('AU14', 74.71), ('AU15', 54.37), ('AU17', 47.43)]\n",
      "\n",
      "MultiLabelF1Score\n",
      "Dataset: casme2, n=256 | train_mean: 0.9869 | test_mean: 0.3364\n",
      "Test per AU: [('AU1', 77.61), ('AU2', 66.67), ('AU4', 92.02), ('AU5', 0.0), ('AU6', 11.76), ('AU7', 53.33), ('AU9', 0.0), ('AU10', 0.0), ('AU12', 36.36), ('AU14', 54.17), ('AU15', 11.76), ('AU17', 0.0)]\n",
      "\n",
      "MultiLabelF1Score\n",
      "Dataset: samm, n=159 | train_mean: 0.9941 | test_mean: 0.5908\n",
      "Test per AU: [('AU1', 79.95), ('AU2', 60.93), ('AU4', 77.01), ('AU5', 56.7), ('AU6', 49.36), ('AU7', 43.83), ('AU9', 49.04), ('AU10', 63.48), ('AU12', 48.47), ('AU14', 61.77), ('AU15', 49.36), ('AU17', 69.03)]\n",
      "\n",
      "MultiLabelF1Score\n",
      "Dataset: samm, n=159 | train_mean: 0.989 | test_mean: 0.2325\n",
      "Test per AU: [('AU1', 61.54), ('AU2', 27.27), ('AU4', 61.54), ('AU5', 16.67), ('AU6', 0.0), ('AU7', 4.26), ('AU9', 0.0), ('AU10', 28.57), ('AU12', 6.67), ('AU14', 32.43), ('AU15', 0.0), ('AU17', 40.0)]\n",
      "\n",
      "MultiLabelF1Score\n",
      "Dataset: fourd, n=267 | train_mean: 0.9976 | test_mean: 0.5925\n",
      "Test per AU: [('AU1', 84.4), ('AU2', 76.36), ('AU4', 86.59), ('AU5', 48.36), ('AU6', 47.54), ('AU7', 56.45), ('AU9', 49.91), ('AU10', 49.81), ('AU12', 50.13), ('AU14', 55.41), ('AU15', 49.43), ('AU17', 56.64)]\n",
      "\n",
      "MultiLabelF1Score\n",
      "Dataset: fourd, n=267 | train_mean: 0.9955 | test_mean: 0.2384\n",
      "Test per AU: [('AU1', 73.42), ('AU2', 60.87), ('AU4', 82.22), ('AU5', 0.0), ('AU6', 0.0), ('AU7', 30.19), ('AU9', 0.0), ('AU10', 0.0), ('AU12', 10.71), ('AU14', 13.33), ('AU15', 0.0), ('AU17', 15.38)]\n",
      "\n",
      "MultiLabelF1Score\n",
      "Dataset: mmew, n=300 | train_mean: 0.9939 | test_mean: 0.6314\n",
      "Test per AU: [('AU1', 84.37), ('AU2', 76.42), ('AU4', 83.92), ('AU5', 44.89), ('AU6', 49.15), ('AU7', 57.57), ('AU9', 54.18), ('AU10', 49.27), ('AU12', 59.04), ('AU14', 65.58), ('AU15', 61.99), ('AU17', 71.36)]\n",
      "\n",
      "MultiLabelF1Score\n",
      "Dataset: mmew, n=300 | train_mean: 0.9888 | test_mean: 0.3172\n",
      "Test per AU: [('AU1', 73.68), ('AU2', 58.97), ('AU4', 78.61), ('AU5', 2.82), ('AU6', 0.0), ('AU7', 22.64), ('AU9', 11.11), ('AU10', 5.13), ('AU12', 23.81), ('AU14', 34.48), ('AU15', 25.0), ('AU17', 44.44)]\n",
      "\n",
      "MultiLabelF1Score\n",
      "Dataset: casme3a, n=860 | train_mean: 0.9977 | test_mean: 0.6189\n",
      "Test per AU: [('AU1', 79.05), ('AU2', 81.87), ('AU4', 87.36), ('AU5', 48.6), ('AU6', 49.77), ('AU7', 55.49), ('AU9', 50.49), ('AU10', 58.04), ('AU12', 59.05), ('AU14', 60.43), ('AU15', 49.8), ('AU17', 62.68)]\n",
      "\n",
      "MultiLabelF1Score\n",
      "Dataset: casme3a, n=860 | train_mean: 0.9958 | test_mean: 0.2784\n",
      "Test per AU: [('AU1', 63.83), ('AU2', 69.57), ('AU4', 82.72), ('AU5', 0.0), ('AU6', 0.0), ('AU7', 19.11), ('AU9', 3.92), ('AU10', 16.67), ('AU12', 20.0), ('AU14', 31.62), ('AU15', 0.0), ('AU17', 26.67)]\n",
      "\n",
      "Final results\n",
      "\n",
      "MultiLabelF1Score\n",
      "All AUs:  [('AU1', 81.62), ('AU2', 78.99), ('AU4', 86.26), ('AU5', 49.4), ('AU6', 50.75), ('AU7', 58.43), ('AU9', 49.94), ('AU10', 52.65), ('AU12', 57.42), ('AU14', 62.67), ('AU15', 52.92), ('AU17', 59.82)]\n",
      "Mean:  61.74\n",
      "\n",
      "\n",
      "MultiLabelF1Score\n",
      "All AUs:  [('AU1', 67.95), ('AU2', 63.6), ('AU4', 81.68), ('AU5', 2.61), ('AU6', 3.08), ('AU7', 26.11), ('AU9', 3.08), ('AU10', 7.23), ('AU12', 19.56), ('AU14', 32.47), ('AU15', 7.14), ('AU17', 21.82)]\n",
      "Mean:  28.03\n",
      "\n",
      "\n"
     ]
    },
    {
     "name": "stderr",
     "output_type": "stream",
     "text": [
      "100%|█████████████████████████████████████████| 5/5 [1:39:39<00:00, 1195.88s/it]"
     ]
    },
    {
     "name": "stdout",
     "output_type": "stream",
     "text": [
      "[[56.53887703894694, 64.64159393608332, 59.077493386621484, 59.25270284796045, 63.144581848511, 61.885946172848136, 60.75686587182856], [17.83977133977134, 33.6405720182493, 23.245180319648405, 23.844201886343193, 31.724999052599266, 27.841892225011172, 26.356102806937113]]\n",
      "MultiLabelF1Score\n",
      "AUS: ['AU1', 'AU2', 'AU4', 'AU5', 'AU6', 'AU7', 'AU9', 'AU10', 'AU12', 'AU14', 'AU15', 'AU17', 'Average']\n",
      "82.2 & 78.6 & 87.1 & 49.2 & 49.5 & 59.6 & 51.1 & 51.7 & 58.0 & 60.5 & 51.9 & 59.5 & 61.6\n",
      "\n",
      "Datasets:  ['casme', 'casme2', 'samm', 'fourd', 'mmew', 'casme3a', 'Average']\n",
      "57.8 & 64.8 & 60.2 & 60.0 & 62.0 & 60.8 & 60.9\n",
      "MultiLabelF1Score\n",
      "AUS: ['AU1', 'AU2', 'AU4', 'AU5', 'AU6', 'AU7', 'AU9', 'AU10', 'AU12', 'AU14', 'AU15', 'AU17', 'Average']\n",
      "68.9 & 62.3 & 83.0 & 2.1 & 0.6 & 27.9 & 5.4 & 5.3 & 21.3 & 28.3 & 5.2 & 21.3 & 27.6\n",
      "\n",
      "Datasets:  ['casme', 'casme2', 'samm', 'fourd', 'mmew', 'casme3a', 'Average']\n",
      "20.4 & 33.6 & 24.9 & 25.4 & 29.5 & 25.7 & 26.6\n"
     ]
    },
    {
     "name": "stderr",
     "output_type": "stream",
     "text": [
      "\n"
     ]
    }
   ],
   "source": [
    "core.CrossDatasetValidator(MConfig).validate_n_times(df, data, n_times=5)"
   ]
  },
  {
   "cell_type": "code",
   "execution_count": 9,
   "metadata": {},
   "outputs": [],
   "source": [
    "class MConfig(Config):\n",
    "    epochs = 50\n",
    "    optimizer = partial(optim.Adam, lr=1e-4, weight_decay=1e-3)\n",
    "    model = partial(timm.models.resnet18, num_classes=len(Config.action_units))"
   ]
  },
  {
   "cell_type": "code",
   "execution_count": 22,
   "metadata": {},
   "outputs": [],
   "source": [
    "class Config(core.Config):\n",
    "    epochs = 50\n",
    "    device = torch.device(\"cuda:0\")\n",
    "    optimizer = partial(optim.Adam, lr=1e-4, weight_decay=1e-3)\n",
    "    num_workers = 0\n",
    "    evaluation_fn = [\n",
    "        partial(utils.MultiLabelF1Score, average=\"macro\"),\n",
    "        partial(utils.MultiLabelF1Score, average=\"binary\"),\n",
    "    ]\n",
    "    model = partial(timm.models.resnet18, num_classes=len(core.Config.action_units), pretrained=True)"
   ]
  },
  {
   "cell_type": "code",
   "execution_count": 24,
   "metadata": {
    "scrolled": true
   },
   "outputs": [
    {
     "name": "stderr",
     "output_type": "stream",
     "text": [
      "\r",
      "  0%|                                                     | 0/5 [00:00<?, ?it/s]"
     ]
    },
    {
     "name": "stdout",
     "output_type": "stream",
     "text": [
      "MultiLabelF1Score\n",
      "Dataset: casme, n=189 | train_mean: 0.9997 | test_mean: 0.5936\n",
      "Test per AU: [('AU1', 79.53), ('AU2', 77.75), ('AU4', 79.07), ('AU5', 49.33), ('AU6', 49.6), ('AU7', 51.74), ('AU9', 46.65), ('AU10', 49.6), ('AU12', 65.0), ('AU14', 53.71), ('AU15', 54.88), ('AU17', 55.49)]\n",
      "\n",
      "MultiLabelF1Score\n",
      "Dataset: casme, n=189 | train_mean: 0.9995 | test_mean: 0.2368\n",
      "Test per AU: [('AU1', 62.86), ('AU2', 58.33), ('AU4', 73.76), ('AU5', 0.0), ('AU6', 0.0), ('AU7', 9.09), ('AU9', 4.88), ('AU10', 0.0), ('AU12', 33.33), ('AU14', 14.29), ('AU15', 13.33), ('AU17', 14.29)]\n",
      "\n",
      "MultiLabelF1Score\n",
      "Dataset: casme2, n=256 | train_mean: 0.9992 | test_mean: 0.6857\n",
      "Test per AU: [('AU1', 91.63), ('AU2', 86.32), ('AU4', 94.14), ('AU5', 49.71), ('AU6', 48.7), ('AU7', 67.89), ('AU9', 48.59), ('AU10', 54.37), ('AU12', 80.01), ('AU14', 74.05), ('AU15', 48.39), ('AU17', 79.08)]\n",
      "\n",
      "MultiLabelF1Score\n",
      "Dataset: casme2, n=256 | train_mean: 0.9984 | test_mean: 0.4059\n",
      "Test per AU: [('AU1', 85.25), ('AU2', 75.47), ('AU4', 93.98), ('AU5', 0.0), ('AU6', 0.0), ('AU7', 42.31), ('AU9', 0.0), ('AU10', 11.76), ('AU12', 64.15), ('AU14', 53.06), ('AU15', 0.0), ('AU17', 61.11)]\n",
      "\n",
      "MultiLabelF1Score\n",
      "Dataset: samm, n=159 | train_mean: 0.9998 | test_mean: 0.6756\n",
      "Test per AU: [('AU1', 66.86), ('AU2', 89.58), ('AU4', 96.12), ('AU5', 74.81), ('AU6', 49.52), ('AU7', 78.46), ('AU9', 49.2), ('AU10', 71.41), ('AU12', 45.17), ('AU14', 63.77), ('AU15', 49.36), ('AU17', 76.46)]\n",
      "\n",
      "MultiLabelF1Score\n",
      "Dataset: samm, n=159 | train_mean: 0.9996 | test_mean: 0.3886\n",
      "Test per AU: [('AU1', 38.1), ('AU2', 81.25), ('AU4', 93.33), ('AU5', 52.63), ('AU6', 0.0), ('AU7', 66.67), ('AU9', 0.0), ('AU10', 44.44), ('AU12', 0.0), ('AU14', 35.29), ('AU15', 0.0), ('AU17', 54.55)]\n",
      "\n",
      "MultiLabelF1Score\n",
      "Dataset: fourd, n=267 | train_mean: 0.9995 | test_mean: 0.6368\n",
      "Test per AU: [('AU1', 89.71), ('AU2', 79.32), ('AU4', 88.18), ('AU5', 61.38), ('AU6', 47.54), ('AU7', 65.27), ('AU9', 49.91), ('AU10', 49.62), ('AU12', 59.86), ('AU14', 53.25), ('AU15', 49.43), ('AU17', 70.66)]\n",
      "\n",
      "MultiLabelF1Score\n",
      "Dataset: fourd, n=267 | train_mean: 0.9991 | test_mean: 0.3222\n",
      "Test per AU: [('AU1', 82.5), ('AU2', 65.06), ('AU4', 84.82), ('AU5', 26.09), ('AU6', 0.0), ('AU7', 46.28), ('AU9', 0.0), ('AU10', 0.0), ('AU12', 29.03), ('AU14', 10.0), ('AU15', 0.0), ('AU17', 42.86)]\n",
      "\n",
      "MultiLabelF1Score\n",
      "Dataset: mmew, n=300 | train_mean: 1.0 | test_mean: 0.6557\n",
      "Test per AU: [('AU1', 85.88), ('AU2', 85.61), ('AU4', 92.67), ('AU5', 44.89), ('AU6', 49.15), ('AU7', 52.0), ('AU9', 52.0), ('AU10', 58.67), ('AU12', 75.51), ('AU14', 65.58), ('AU15', 49.32), ('AU17', 75.54)]\n",
      "\n",
      "MultiLabelF1Score\n",
      "Dataset: mmew, n=300 | train_mean: 1.0 | test_mean: 0.3594\n",
      "Test per AU: [('AU1', 76.09), ('AU2', 75.29), ('AU4', 90.48), ('AU5', 2.82), ('AU6', 0.0), ('AU7', 12.0), ('AU9', 8.0), ('AU10', 23.26), ('AU12', 56.25), ('AU14', 34.48), ('AU15', 0.0), ('AU17', 52.63)]\n",
      "\n",
      "MultiLabelF1Score\n",
      "Dataset: casme3a, n=860 | train_mean: 1.0 | test_mean: 0.654\n",
      "Test per AU: [('AU1', 85.04), ('AU2', 83.19), ('AU4', 89.22), ('AU5', 57.0), ('AU6', 52.8), ('AU7', 61.96), ('AU9', 52.3), ('AU10', 57.37), ('AU12', 59.28), ('AU14', 63.86), ('AU15', 49.62), ('AU17', 73.2)]\n",
      "\n",
      "MultiLabelF1Score\n",
      "Dataset: casme3a, n=860 | train_mean: 1.0 | test_mean: 0.3447\n",
      "Test per AU: [('AU1', 74.51), ('AU2', 70.48), ('AU4', 85.56), ('AU5', 16.95), ('AU6', 7.14), ('AU7', 28.83), ('AU9', 7.55), ('AU10', 15.38), ('AU12', 20.83), ('AU14', 38.61), ('AU15', 0.0), ('AU17', 47.83)]\n",
      "\n",
      "Final results\n",
      "\n",
      "MultiLabelF1Score\n",
      "All AUs:  [('AU1', 85.57), ('AU2', 83.55), ('AU4', 89.88), ('AU5', 55.82), ('AU6', 50.21), ('AU7', 65.79), ('AU9', 51.21), ('AU10', 59.22), ('AU12', 66.82), ('AU14', 64.74), ('AU15', 50.86), ('AU17', 73.37)]\n",
      "Mean:  66.42\n",
      "\n",
      "\n",
      "MultiLabelF1Score\n",
      "All AUs:  [('AU1', 75.0), ('AU2', 71.05), ('AU4', 86.75), ('AU5', 15.56), ('AU6', 2.44), ('AU7', 38.79), ('AU9', 5.76), ('AU10', 20.22), ('AU12', 38.1), ('AU14', 36.75), ('AU15', 3.23), ('AU17', 48.57)]\n",
      "Mean:  36.85\n",
      "\n",
      "\n"
     ]
    },
    {
     "name": "stderr",
     "output_type": "stream",
     "text": [
      "\r",
      " 20%|████████▍                                 | 1/5 [16:25<1:05:42, 985.70s/it]"
     ]
    },
    {
     "name": "stdout",
     "output_type": "stream",
     "text": [
      "[[59.36375111992592, 68.57191839552829, 67.56036024784234, 63.6769849483867, 65.56845680794623, 65.40330262238251, 65.02412902366866], [23.679699545682944, 40.590765046182355, 38.85506947329702, 32.21952867245769, 35.9411931312488, 34.47262144077816, 34.2931462182745]]\n",
      "MultiLabelF1Score\n",
      "Dataset: casme, n=189 | train_mean: 1.0 | test_mean: 0.5848\n",
      "Test per AU: [('AU1', 77.38), ('AU2', 78.42), ('AU4', 81.62), ('AU5', 49.19), ('AU6', 49.73), ('AU7', 56.02), ('AU9', 44.08), ('AU10', 49.47), ('AU12', 59.17), ('AU14', 53.71), ('AU15', 48.08), ('AU17', 54.88)]\n",
      "\n",
      "MultiLabelF1Score\n",
      "Dataset: casme, n=189 | train_mean: 1.0 | test_mean: 0.2193\n",
      "Test per AU: [('AU1', 58.82), ('AU2', 60.61), ('AU4', 76.47), ('AU5', 0.0), ('AU6', 0.0), ('AU7', 17.39), ('AU9', 0.0), ('AU10', 0.0), ('AU12', 22.22), ('AU14', 14.29), ('AU15', 0.0), ('AU17', 13.33)]\n",
      "\n",
      "MultiLabelF1Score\n",
      "Dataset: casme2, n=256 | train_mean: 0.9939 | test_mean: 0.6831\n",
      "Test per AU: [('AU1', 90.82), ('AU2', 82.5), ('AU4', 96.48), ('AU5', 49.61), ('AU6', 66.54), ('AU7', 58.62), ('AU9', 48.7), ('AU10', 54.37), ('AU12', 80.36), ('AU14', 65.31), ('AU15', 59.01), ('AU17', 67.38)]\n",
      "\n",
      "MultiLabelF1Score\n",
      "Dataset: casme2, n=256 | train_mean: 0.9889 | test_mean: 0.4022\n",
      "Test per AU: [('AU1', 83.87), ('AU2', 68.97), ('AU4', 96.5), ('AU5', 0.0), ('AU6', 35.29), ('AU7', 25.0), ('AU9', 0.0), ('AU10', 11.76), ('AU12', 65.62), ('AU14', 35.9), ('AU15', 21.05), ('AU17', 38.71)]\n",
      "\n",
      "MultiLabelF1Score\n",
      "Dataset: samm, n=159 | train_mean: 0.9992 | test_mean: 0.7064\n",
      "Test per AU: [('AU1', 67.99), ('AU2', 89.58), ('AU4', 93.76), ('AU5', 80.47), ('AU6', 49.36), ('AU7', 79.15), ('AU9', 66.03), ('AU10', 71.41), ('AU12', 65.68), ('AU14', 60.84), ('AU15', 49.36), ('AU17', 74.02)]\n",
      "\n",
      "MultiLabelF1Score\n",
      "Dataset: samm, n=159 | train_mean: 0.9987 | test_mean: 0.4485\n",
      "Test per AU: [('AU1', 40.0), ('AU2', 81.25), ('AU4', 89.36), ('AU5', 63.64), ('AU6', 0.0), ('AU7', 67.61), ('AU9', 33.33), ('AU10', 44.44), ('AU12', 40.0), ('AU14', 28.57), ('AU15', 0.0), ('AU17', 50.0)]\n",
      "\n",
      "MultiLabelF1Score\n",
      "Dataset: fourd, n=267 | train_mean: 0.9972 | test_mean: 0.6685\n",
      "Test per AU: [('AU1', 85.58), ('AU2', 80.6), ('AU4', 86.35), ('AU5', 60.74), ('AU6', 47.54), ('AU7', 58.22), ('AU9', 49.81), ('AU10', 49.72), ('AU12', 68.47), ('AU14', 64.52), ('AU15', 74.62), ('AU17', 75.99)]\n",
      "\n",
      "MultiLabelF1Score\n",
      "Dataset: fourd, n=267 | train_mean: 0.9949 | test_mean: 0.3867\n",
      "Test per AU: [('AU1', 75.86), ('AU2', 67.44), ('AU4', 82.16), ('AU5', 25.0), ('AU6', 0.0), ('AU7', 33.33), ('AU9', 0.0), ('AU10', 0.0), ('AU12', 46.15), ('AU14', 30.77), ('AU15', 50.0), ('AU17', 53.33)]\n",
      "\n",
      "MultiLabelF1Score\n",
      "Dataset: mmew, n=300 | train_mean: 0.9994 | test_mean: 0.6551\n",
      "Test per AU: [('AU1', 86.36), ('AU2', 85.61), ('AU4', 91.04), ('AU5', 43.4), ('AU6', 49.15), ('AU7', 55.5), ('AU9', 53.95), ('AU10', 61.5), ('AU12', 74.82), ('AU14', 68.7), ('AU15', 49.41), ('AU17', 66.7)]\n",
      "\n",
      "MultiLabelF1Score\n",
      "Dataset: mmew, n=300 | train_mean: 0.9988 | test_mean: 0.363\n",
      "Test per AU: [('AU1', 77.08), ('AU2', 75.29), ('AU4', 88.12), ('AU5', 0.0), ('AU6', 0.0), ('AU7', 18.87), ('AU9', 16.95), ('AU10', 29.17), ('AU12', 54.84), ('AU14', 40.0), ('AU15', 0.0), ('AU17', 35.29)]\n",
      "\n",
      "MultiLabelF1Score\n",
      "Dataset: casme3a, n=860 | train_mean: 1.0 | test_mean: 0.642\n",
      "Test per AU: [('AU1', 89.64), ('AU2', 86.15), ('AU4', 91.05), ('AU5', 48.66), ('AU6', 49.68), ('AU7', 63.7), ('AU9', 52.1), ('AU10', 49.62), ('AU12', 61.72), ('AU14', 57.27), ('AU15', 49.68), ('AU17', 71.16)]\n",
      "\n",
      "MultiLabelF1Score\n",
      "Dataset: casme3a, n=860 | train_mean: 1.0 | test_mean: 0.3171\n",
      "Test per AU: [('AU1', 82.69), ('AU2', 75.98), ('AU4', 87.84), ('AU5', 0.0), ('AU6', 0.0), ('AU7', 30.95), ('AU9', 7.27), ('AU10', 0.0), ('AU12', 25.53), ('AU14', 26.27), ('AU15', 0.0), ('AU17', 44.0)]\n",
      "\n",
      "Final results\n",
      "\n",
      "MultiLabelF1Score\n",
      "All AUs:  [('AU1', 87.16), ('AU2', 84.53), ('AU4', 90.66), ('AU5', 53.91), ('AU6', 53.56), ('AU7', 64.16), ('AU9', 52.53), ('AU10', 59.71), ('AU12', 71.1), ('AU14', 60.21), ('AU15', 55.66), ('AU17', 68.93)]\n",
      "Mean:  66.84\n",
      "\n",
      "\n",
      "MultiLabelF1Score\n",
      "All AUs:  [('AU1', 78.01), ('AU2', 73.04), ('AU4', 87.66), ('AU5', 11.7), ('AU6', 8.7), ('AU7', 35.14), ('AU9', 9.14), ('AU10', 21.28), ('AU12', 46.6), ('AU14', 27.64), ('AU15', 12.7), ('AU17', 40.0)]\n",
      "Mean:  37.63\n",
      "\n",
      "\n"
     ]
    },
    {
     "name": "stderr",
     "output_type": "stream",
     "text": [
      "\r",
      " 40%|█████████████████▌                          | 2/5 [31:24<46:44, 934.86s/it]"
     ]
    },
    {
     "name": "stdout",
     "output_type": "stream",
     "text": [
      "[[58.479062779748226, 68.3070471417629, 70.63668006724613, 66.84674002678315, 65.51163758519391, 64.2028737591361, 65.66400689331174], [21.92772937018461, 40.22317565693106, 44.85024215967054, 38.67131959854493, 36.30106949361665, 31.71137875492594, 35.61415250564562]]\n",
      "MultiLabelF1Score\n",
      "Dataset: casme, n=189 | train_mean: 0.9999 | test_mean: 0.5939\n",
      "Test per AU: [('AU1', 81.58), ('AU2', 78.06), ('AU4', 80.32), ('AU5', 49.47), ('AU6', 49.33), ('AU7', 50.44), ('AU9', 44.08), ('AU10', 49.47), ('AU12', 65.0), ('AU14', 54.57), ('AU15', 54.88), ('AU17', 55.49)]\n",
      "\n",
      "MultiLabelF1Score\n",
      "Dataset: casme, n=189 | train_mean: 0.9998 | test_mean: 0.2379\n",
      "Test per AU: [('AU1', 66.67), ('AU2', 59.26), ('AU4', 75.52), ('AU5', 0.0), ('AU6', 0.0), ('AU7', 7.69), ('AU9', 0.0), ('AU10', 0.0), ('AU12', 33.33), ('AU14', 15.38), ('AU15', 13.33), ('AU17', 14.29)]\n",
      "\n",
      "MultiLabelF1Score\n",
      "Dataset: casme2, n=256 | train_mean: 0.9999 | test_mean: 0.702\n",
      "Test per AU: [('AU1', 93.3), ('AU2', 84.72), ('AU4', 93.75), ('AU5', 49.71), ('AU6', 55.94), ('AU7', 71.93), ('AU9', 48.7), ('AU10', 54.37), ('AU12', 72.78), ('AU14', 75.62), ('AU15', 59.69), ('AU17', 81.96)]\n",
      "\n",
      "MultiLabelF1Score\n",
      "Dataset: casme2, n=256 | train_mean: 0.9999 | test_mean: 0.4387\n",
      "Test per AU: [('AU1', 88.14), ('AU2', 72.73), ('AU4', 93.65), ('AU5', 0.0), ('AU6', 14.29), ('AU7', 50.0), ('AU9', 0.0), ('AU10', 11.76), ('AU12', 50.98), ('AU14', 56.0), ('AU15', 22.22), ('AU17', 66.67)]\n",
      "\n",
      "MultiLabelF1Score\n",
      "Dataset: samm, n=159 | train_mean: 0.9992 | test_mean: 0.6847\n",
      "Test per AU: [('AU1', 69.21), ('AU2', 87.49), ('AU4', 91.26), ('AU5', 78.66), ('AU6', 49.52), ('AU7', 79.15), ('AU9', 49.2), ('AU10', 69.03), ('AU12', 54.83), ('AU14', 66.39), ('AU15', 49.36), ('AU17', 77.58)]\n",
      "\n",
      "MultiLabelF1Score\n",
      "Dataset: samm, n=159 | train_mean: 0.9987 | test_mean: 0.4076\n",
      "Test per AU: [('AU1', 42.11), ('AU2', 77.42), ('AU4', 85.11), ('AU5', 60.0), ('AU6', 0.0), ('AU7', 67.61), ('AU9', 0.0), ('AU10', 40.0), ('AU12', 18.75), ('AU14', 41.03), ('AU15', 0.0), ('AU17', 57.14)]\n",
      "\n",
      "MultiLabelF1Score\n",
      "Dataset: fourd, n=267 | train_mean: 0.9998 | test_mean: 0.6493\n",
      "Test per AU: [('AU1', 86.33), ('AU2', 81.8), ('AU4', 89.76), ('AU5', 56.37), ('AU6', 47.54), ('AU7', 70.56), ('AU9', 49.72), ('AU10', 49.72), ('AU12', 54.94), ('AU14', 52.91), ('AU15', 71.75), ('AU17', 67.78)]\n",
      "\n",
      "MultiLabelF1Score\n",
      "Dataset: fourd, n=267 | train_mean: 0.9996 | test_mean: 0.3476\n",
      "Test per AU: [('AU1', 77.42), ('AU2', 69.66), ('AU4', 86.77), ('AU5', 16.67), ('AU6', 0.0), ('AU7', 55.12), ('AU9', 0.0), ('AU10', 0.0), ('AU12', 20.0), ('AU14', 9.52), ('AU15', 44.44), ('AU17', 37.5)]\n",
      "\n",
      "MultiLabelF1Score\n",
      "Dataset: mmew, n=300 | train_mean: 0.9984 | test_mean: 0.6577\n",
      "Test per AU: [('AU1', 83.2), ('AU2', 86.98), ('AU4', 91.09), ('AU5', 44.89), ('AU6', 49.07), ('AU7', 54.44), ('AU9', 65.99), ('AU10', 46.62), ('AU12', 66.24), ('AU14', 63.12), ('AU15', 60.52), ('AU17', 77.09)]\n",
      "\n",
      "MultiLabelF1Score\n",
      "Dataset: mmew, n=300 | train_mean: 0.9971 | test_mean: 0.3652\n",
      "Test per AU: [('AU1', 71.26), ('AU2', 77.65), ('AU4', 88.24), ('AU5', 2.82), ('AU6', 0.0), ('AU7', 17.54), ('AU9', 33.33), ('AU10', 0.0), ('AU12', 39.34), ('AU14', 30.3), ('AU15', 22.22), ('AU17', 55.56)]\n",
      "\n",
      "MultiLabelF1Score\n",
      "Dataset: casme3a, n=860 | train_mean: 1.0 | test_mean: 0.6578\n",
      "Test per AU: [('AU1', 87.08), ('AU2', 85.34), ('AU4', 90.52), ('AU5', 48.66), ('AU6', 49.68), ('AU7', 65.61), ('AU9', 52.2), ('AU10', 60.7), ('AU12', 63.77), ('AU14', 63.85), ('AU15', 49.74), ('AU17', 72.24)]\n",
      "\n",
      "MultiLabelF1Score\n",
      "Dataset: casme3a, n=860 | train_mean: 1.0 | test_mean: 0.3487\n",
      "Test per AU: [('AU1', 78.23), ('AU2', 74.56), ('AU4', 87.11), ('AU5', 0.0), ('AU6', 0.0), ('AU7', 35.29), ('AU9', 7.41), ('AU10', 22.22), ('AU12', 29.27), ('AU14', 38.25), ('AU15', 0.0), ('AU17', 46.15)]\n",
      "\n",
      "Final results\n",
      "\n",
      "MultiLabelF1Score\n",
      "All AUs:  [('AU1', 86.12), ('AU2', 84.77), ('AU4', 90.25), ('AU5', 53.48), ('AU6', 50.61), ('AU7', 68.71), ('AU9', 51.64), ('AU10', 54.55), ('AU12', 64.02), ('AU14', 64.95), ('AU15', 58.72), ('AU17', 73.85)]\n",
      "Mean:  66.81\n",
      "\n",
      "\n",
      "MultiLabelF1Score\n",
      "All AUs:  [('AU1', 76.11), ('AU2', 73.4), ('AU4', 87.16), ('AU5', 10.78), ('AU6', 2.9), ('AU7', 44.19), ('AU9', 6.3), ('AU10', 11.11), ('AU12', 32.7), ('AU14', 37.14), ('AU15', 18.75), ('AU17', 49.67)]\n",
      "Mean:  37.52\n",
      "\n",
      "\n"
     ]
    },
    {
     "name": "stderr",
     "output_type": "stream",
     "text": [
      "\r",
      " 60%|██████████████████████████▍                 | 3/5 [46:46<30:57, 928.84s/it]"
     ]
    },
    {
     "name": "stdout",
     "output_type": "stream",
     "text": [
      "[[59.38958700813929, 70.20457377129405, 68.47407354462362, 64.93128792378998, 65.76974509608804, 65.78117963436934, 65.75840782971738], [23.78997545664213, 43.86944673435202, 40.76292774555357, 34.75898281922101, 36.52215712700544, 34.87478511919213, 35.763045833661046]]\n",
      "MultiLabelF1Score\n",
      "Dataset: casme, n=189 | train_mean: 1.0 | test_mean: 0.6151\n",
      "Test per AU: [('AU1', 83.52), ('AU2', 79.35), ('AU4', 80.21), ('AU5', 49.87), ('AU6', 49.6), ('AU7', 58.44), ('AU9', 51.45), ('AU10', 49.6), ('AU12', 66.22), ('AU14', 54.13), ('AU15', 54.88), ('AU17', 60.84)]\n",
      "\n",
      "MultiLabelF1Score\n",
      "Dataset: casme, n=189 | train_mean: 1.0 | test_mean: 0.2755\n",
      "Test per AU: [('AU1', 70.27), ('AU2', 61.54), ('AU4', 74.24), ('AU5', 0.0), ('AU6', 0.0), ('AU7', 21.05), ('AU9', 13.95), ('AU10', 0.0), ('AU12', 36.36), ('AU14', 14.81), ('AU15', 13.33), ('AU17', 25.0)]\n",
      "\n",
      "MultiLabelF1Score\n",
      "Dataset: casme2, n=256 | train_mean: 0.9999 | test_mean: 0.6916\n",
      "Test per AU: [('AU1', 92.22), ('AU2', 87.16), ('AU4', 94.14), ('AU5', 49.71), ('AU6', 62.23), ('AU7', 67.38), ('AU9', 53.17), ('AU10', 48.39), ('AU12', 74.54), ('AU14', 71.59), ('AU15', 48.39), ('AU17', 81.06)]\n",
      "\n",
      "MultiLabelF1Score\n",
      "Dataset: casme2, n=256 | train_mean: 0.9998 | test_mean: 0.4198\n",
      "Test per AU: [('AU1', 86.21), ('AU2', 76.92), ('AU4', 94.02), ('AU5', 0.0), ('AU6', 26.67), ('AU7', 41.51), ('AU9', 10.0), ('AU10', 0.0), ('AU12', 54.55), ('AU14', 49.06), ('AU15', 0.0), ('AU17', 64.86)]\n",
      "\n",
      "MultiLabelF1Score\n",
      "Dataset: samm, n=159 | train_mean: 1.0 | test_mean: 0.7207\n",
      "Test per AU: [('AU1', 69.21), ('AU2', 90.12), ('AU4', 91.26), ('AU5', 78.91), ('AU6', 49.36), ('AU7', 68.7), ('AU9', 66.03), ('AU10', 67.04), ('AU12', 67.8), ('AU14', 66.88), ('AU15', 69.52), ('AU17', 79.95)]\n",
      "\n",
      "MultiLabelF1Score\n",
      "Dataset: samm, n=159 | train_mean: 1.0 | test_mean: 0.4796\n",
      "Test per AU: [('AU1', 42.11), ('AU2', 82.35), ('AU4', 85.11), ('AU5', 60.87), ('AU6', 0.0), ('AU7', 50.0), ('AU9', 33.33), ('AU10', 36.36), ('AU12', 43.9), ('AU14', 40.0), ('AU15', 40.0), ('AU17', 61.54)]\n",
      "\n",
      "MultiLabelF1Score\n",
      "Dataset: fourd, n=267 | train_mean: 0.9853 | test_mean: 0.6133\n",
      "Test per AU: [('AU1', 84.31), ('AU2', 56.51), ('AU4', 85.92), ('AU5', 56.02), ('AU6', 47.23), ('AU7', 61.14), ('AU9', 49.81), ('AU10', 49.81), ('AU12', 58.84), ('AU14', 53.61), ('AU15', 69.43), ('AU17', 63.32)]\n",
      "\n",
      "MultiLabelF1Score\n",
      "Dataset: fourd, n=267 | train_mean: 0.9733 | test_mean: 0.2849\n",
      "Test per AU: [('AU1', 72.97), ('AU2', 22.95), ('AU4', 82.23), ('AU5', 17.65), ('AU6', 0.0), ('AU7', 39.32), ('AU9', 0.0), ('AU10', 0.0), ('AU12', 27.69), ('AU14', 10.53), ('AU15', 40.0), ('AU17', 28.57)]\n",
      "\n",
      "MultiLabelF1Score\n",
      "Dataset: mmew, n=300 | train_mean: 0.9894 | test_mean: 0.634\n",
      "Test per AU: [('AU1', 87.8), ('AU2', 87.69), ('AU4', 92.5), ('AU5', 43.4), ('AU6', 49.15), ('AU7', 54.44), ('AU9', 58.06), ('AU10', 64.64), ('AU12', 60.97), ('AU14', 48.54), ('AU15', 48.98), ('AU17', 64.66)]\n",
      "\n",
      "MultiLabelF1Score\n",
      "Dataset: mmew, n=300 | train_mean: 0.9803 | test_mean: 0.3199\n",
      "Test per AU: [('AU1', 79.59), ('AU2', 79.12), ('AU4', 90.0), ('AU5', 0.0), ('AU6', 0.0), ('AU7', 17.54), ('AU9', 19.05), ('AU10', 35.29), ('AU12', 29.09), ('AU14', 0.0), ('AU15', 0.0), ('AU17', 34.15)]\n",
      "\n",
      "MultiLabelF1Score\n",
      "Dataset: casme3a, n=860 | train_mean: 0.9998 | test_mean: 0.643\n",
      "Test per AU: [('AU1', 86.5), ('AU2', 83.97), ('AU4', 90.2), ('AU5', 48.66), ('AU6', 49.71), ('AU7', 62.79), ('AU9', 53.85), ('AU10', 49.71), ('AU12', 60.34), ('AU14', 61.09), ('AU15', 49.77), ('AU17', 74.96)]\n",
      "\n",
      "MultiLabelF1Score\n",
      "Dataset: casme3a, n=860 | train_mean: 0.9997 | test_mean: 0.3206\n",
      "Test per AU: [('AU1', 77.04), ('AU2', 72.07), ('AU4', 86.79), ('AU5', 0.0), ('AU6', 0.0), ('AU7', 30.89), ('AU9', 10.71), ('AU10', 0.0), ('AU12', 23.08), ('AU14', 32.91), ('AU15', 0.0), ('AU17', 51.16)]\n",
      "\n",
      "Final results\n",
      "\n",
      "MultiLabelF1Score\n",
      "All AUs:  [('AU1', 86.29), ('AU2', 81.77), ('AU4', 89.87), ('AU5', 53.67), ('AU6', 52.03), ('AU7', 63.68), ('AU9', 55.12), ('AU10', 60.93), ('AU12', 65.09), ('AU14', 62.38), ('AU15', 55.33), ('AU17', 72.04)]\n",
      "Mean:  66.52\n",
      "\n",
      "\n",
      "MultiLabelF1Score\n",
      "All AUs:  [('AU1', 76.24), ('AU2', 67.9), ('AU4', 86.66), ('AU5', 11.36), ('AU6', 5.71), ('AU7', 35.1), ('AU9', 13.51), ('AU10', 23.66), ('AU12', 35.17), ('AU14', 31.85), ('AU15', 12.12), ('AU17', 46.34)]\n",
      "Mean:  37.14\n",
      "\n",
      "\n"
     ]
    },
    {
     "name": "stderr",
     "output_type": "stream",
     "text": [
      "\r",
      " 80%|█████████████████████████████████▌        | 4/5 [1:02:40<15:38, 938.69s/it]"
     ]
    },
    {
     "name": "stdout",
     "output_type": "stream",
     "text": [
      "[[61.50880960432127, 69.16344490471538, 72.06504132268208, 61.33075934163696, 63.40294996925556, 64.29528142986656, 65.29438109541297], [27.547421709498416, 41.98307513917552, 47.96433523252513, 28.492553781346153, 31.986296896141454, 32.05502406260354, 35.004784470215036]]\n",
      "MultiLabelF1Score\n",
      "Dataset: casme, n=189 | train_mean: 0.9993 | test_mean: 0.6175\n",
      "Test per AU: [('AU1', 77.38), ('AU2', 80.73), ('AU4', 80.35), ('AU5', 49.87), ('AU6', 49.6), ('AU7', 55.49), ('AU9', 49.11), ('AU10', 49.6), ('AU12', 66.12), ('AU14', 54.57), ('AU15', 60.84), ('AU17', 67.37)]\n",
      "\n",
      "MultiLabelF1Score\n",
      "Dataset: casme, n=189 | train_mean: 0.9986 | test_mean: 0.2787\n",
      "Test per AU: [('AU1', 58.82), ('AU2', 64.0), ('AU4', 74.63), ('AU5', 0.0), ('AU6', 0.0), ('AU7', 14.29), ('AU9', 9.52), ('AU10', 0.0), ('AU12', 35.29), ('AU14', 15.38), ('AU15', 25.0), ('AU17', 37.5)]\n",
      "\n",
      "MultiLabelF1Score\n",
      "Dataset: casme2, n=256 | train_mean: 0.9996 | test_mean: 0.6966\n",
      "Test per AU: [('AU1', 95.86), ('AU2', 88.02), ('AU4', 96.09), ('AU5', 49.61), ('AU6', 66.54), ('AU7', 72.5), ('AU9', 48.59), ('AU10', 53.94), ('AU12', 74.05), ('AU14', 75.32), ('AU15', 54.37), ('AU17', 61.05)]\n",
      "\n",
      "MultiLabelF1Score\n",
      "Dataset: casme2, n=256 | train_mean: 0.9993 | test_mean: 0.4267\n",
      "Test per AU: [('AU1', 92.59), ('AU2', 78.43), ('AU4', 96.06), ('AU5', 0.0), ('AU6', 35.29), ('AU7', 50.91), ('AU9', 0.0), ('AU10', 11.11), ('AU12', 53.06), ('AU14', 56.14), ('AU15', 11.76), ('AU17', 26.67)]\n",
      "\n",
      "MultiLabelF1Score\n",
      "Dataset: samm, n=159 | train_mean: 0.9969 | test_mean: 0.6787\n",
      "Test per AU: [('AU1', 67.99), ('AU2', 86.83), ('AU4', 93.76), ('AU5', 80.41), ('AU6', 49.52), ('AU7', 76.86), ('AU9', 49.2), ('AU10', 67.04), ('AU12', 57.19), ('AU14', 64.85), ('AU15', 49.36), ('AU17', 71.41)]\n",
      "\n",
      "MultiLabelF1Score\n",
      "Dataset: samm, n=159 | train_mean: 0.994 | test_mean: 0.3932\n",
      "Test per AU: [('AU1', 40.0), ('AU2', 76.47), ('AU4', 89.36), ('AU5', 63.16), ('AU6', 0.0), ('AU7', 63.77), ('AU9', 0.0), ('AU10', 36.36), ('AU12', 23.53), ('AU14', 34.78), ('AU15', 0.0), ('AU17', 44.44)]\n",
      "\n",
      "MultiLabelF1Score\n",
      "Dataset: fourd, n=267 | train_mean: 0.9999 | test_mean: 0.6293\n",
      "Test per AU: [('AU1', 87.99), ('AU2', 77.89), ('AU4', 88.45), ('AU5', 62.82), ('AU6', 47.54), ('AU7', 53.17), ('AU9', 49.91), ('AU10', 49.72), ('AU12', 48.31), ('AU14', 52.88), ('AU15', 63.81), ('AU17', 72.66)]\n",
      "\n",
      "MultiLabelF1Score\n",
      "Dataset: fourd, n=267 | train_mean: 0.9998 | test_mean: 0.3126\n",
      "Test per AU: [('AU1', 79.49), ('AU2', 62.65), ('AU4', 84.95), ('AU5', 28.57), ('AU6', 0.0), ('AU7', 24.76), ('AU9', 0.0), ('AU10', 0.0), ('AU12', 7.27), ('AU14', 11.76), ('AU15', 28.57), ('AU17', 47.06)]\n",
      "\n",
      "MultiLabelF1Score\n",
      "Dataset: mmew, n=300 | train_mean: 0.9988 | test_mean: 0.6569\n",
      "Test per AU: [('AU1', 88.24), ('AU2', 85.88), ('AU4', 89.5), ('AU5', 44.89), ('AU6', 49.07), ('AU7', 58.97), ('AU9', 58.33), ('AU10', 51.79), ('AU12', 73.83), ('AU14', 63.12), ('AU15', 56.76), ('AU17', 67.89)]\n",
      "\n",
      "MultiLabelF1Score\n",
      "Dataset: mmew, n=300 | train_mean: 0.9979 | test_mean: 0.3639\n",
      "Test per AU: [('AU1', 80.0), ('AU2', 75.86), ('AU4', 86.0), ('AU5', 2.82), ('AU6', 0.0), ('AU7', 25.45), ('AU9', 20.69), ('AU10', 10.0), ('AU12', 52.63), ('AU14', 30.3), ('AU15', 15.38), ('AU17', 37.5)]\n",
      "\n",
      "MultiLabelF1Score\n",
      "Dataset: casme3a, n=860 | train_mean: 0.9997 | test_mean: 0.6614\n",
      "Test per AU: [('AU1', 85.13), ('AU2', 88.33), ('AU4', 90.2), ('AU5', 50.78), ('AU6', 49.53), ('AU7', 66.96), ('AU9', 50.36), ('AU10', 65.12), ('AU12', 63.54), ('AU14', 62.71), ('AU15', 49.77), ('AU17', 71.27)]\n",
      "\n",
      "MultiLabelF1Score\n",
      "Dataset: casme3a, n=860 | train_mean: 0.9994 | test_mean: 0.3547\n",
      "Test per AU: [('AU1', 74.71), ('AU2', 79.83), ('AU4', 87.12), ('AU5', 4.26), ('AU6', 0.0), ('AU7', 36.84), ('AU9', 3.77), ('AU10', 30.77), ('AU12', 28.57), ('AU14', 35.83), ('AU15', 0.0), ('AU17', 43.9)]\n",
      "\n",
      "Final results\n",
      "\n",
      "MultiLabelF1Score\n",
      "All AUs:  [('AU1', 86.07), ('AU2', 85.83), ('AU4', 90.17), ('AU5', 54.94), ('AU6', 53.13), ('AU7', 65.84), ('AU9', 52.48), ('AU10', 57.02), ('AU12', 64.87), ('AU14', 63.75), ('AU15', 57.0), ('AU17', 68.38)]\n",
      "Mean:  66.62\n",
      "\n",
      "\n",
      "MultiLabelF1Score\n",
      "All AUs:  [('AU1', 75.8), ('AU2', 75.24), ('AU4', 87.17), ('AU5', 13.5), ('AU6', 8.0), ('AU7', 37.97), ('AU9', 8.33), ('AU10', 15.91), ('AU12', 34.01), ('AU14', 34.87), ('AU15', 15.38), ('AU17', 38.76)]\n",
      "Mean:  37.08\n",
      "\n",
      "\n"
     ]
    },
    {
     "name": "stderr",
     "output_type": "stream",
     "text": [
      "100%|██████████████████████████████████████████| 5/5 [1:17:48<00:00, 933.76s/it]"
     ]
    },
    {
     "name": "stdout",
     "output_type": "stream",
     "text": [
      "[[61.75162352532318, 69.66142576472714, 67.8686125018704, 62.929868246307585, 65.68807336945838, 66.1421644332552, 65.67362797349033], [27.869887660383707, 42.66951873757214, 39.32320019252197, 31.25708642043431, 36.38686630299511, 35.466881872534756, 35.49557353107367]]\n",
      "MultiLabelF1Score\n",
      "AUS: ['AU1', 'AU2', 'AU4', 'AU5', 'AU6', 'AU7', 'AU9', 'AU10', 'AU12', 'AU14', 'AU15', 'AU17', 'Average']\n",
      "86.2 & 84.1 & 90.2 & 54.4 & 51.9 & 65.6 & 52.6 & 58.3 & 66.4 & 63.2 & 55.5 & 71.3 & 66.6\n",
      "\n",
      "Datasets:  ['casme', 'casme2', 'samm', 'fourd', 'mmew', 'casme3a', 'Average']\n",
      "60.1 & 69.2 & 69.3 & 63.9 & 65.2 & 65.2 & 65.5\n",
      "MultiLabelF1Score\n",
      "AUS: ['AU1', 'AU2', 'AU4', 'AU5', 'AU6', 'AU7', 'AU9', 'AU10', 'AU12', 'AU14', 'AU15', 'AU17', 'Average']\n",
      "76.2 & 72.1 & 87.1 & 12.6 & 5.5 & 38.2 & 8.6 & 18.4 & 37.3 & 33.7 & 12.4 & 44.7 & 37.2\n",
      "\n",
      "Datasets:  ['casme', 'casme2', 'samm', 'fourd', 'mmew', 'casme3a', 'Average']\n",
      "25.0 & 41.9 & 42.4 & 33.1 & 35.4 & 33.7 & 35.2\n"
     ]
    },
    {
     "name": "stderr",
     "output_type": "stream",
     "text": [
      "\n"
     ]
    }
   ],
   "source": [
    "core.CrossDatasetValidator(Config).validate_n_times(df, data, n_times=5)"
   ]
  },
  {
   "cell_type": "code",
   "execution_count": 12,
   "metadata": {
    "scrolled": true
   },
   "outputs": [
    {
     "name": "stderr",
     "output_type": "stream",
     "text": [
      " 20%|████████▊                                   | 1/5 [13:17<53:08, 797.19s/it]"
     ]
    },
    {
     "name": "stdout",
     "output_type": "stream",
     "text": [
      "[[59.18514834284382, 67.16368685580647, 60.399706100661824, 60.841168662079056, 61.77620165870836, 61.444570410658905, 61.80174700512641], [23.09744710892487, 37.95737813598432, 25.06993813207108, 26.65907695569131, 28.60712571926162, 27.02486252056802, 28.069304762083544]]\n"
     ]
    },
    {
     "name": "stderr",
     "output_type": "stream",
     "text": [
      "\r",
      " 40%|█████████████████▌                          | 2/5 [25:56<38:44, 774.94s/it]"
     ]
    },
    {
     "name": "stdout",
     "output_type": "stream",
     "text": [
      "[[57.88090964175016, 63.165157637126946, 60.871767708659775, 60.54262397002562, 63.0746317673619, 59.952537616394594, 60.91460472355317], [20.649344370561764, 30.32291406361251, 26.320506455546848, 26.41620452894962, 31.593986311815915, 24.2392025426471, 26.59035971218896]]\n"
     ]
    },
    {
     "name": "stderr",
     "output_type": "stream",
     "text": [
      "\r",
      " 60%|██████████████████████████▍                 | 3/5 [38:31<25:31, 765.89s/it]"
     ]
    },
    {
     "name": "stdout",
     "output_type": "stream",
     "text": [
      "[[58.66493208008902, 64.0686968694479, 59.82186836848994, 60.17187481849488, 61.669312880834525, 61.37400005729494, 60.9617808457752], [22.175296714603896, 31.926492749871667, 24.01084468460355, 25.840963648357434, 28.603565727195296, 26.70266144502202, 26.543304161608976]]\n"
     ]
    },
    {
     "name": "stderr",
     "output_type": "stream",
     "text": [
      "\r",
      " 80%|███████████████████████████████████▏        | 4/5 [51:13<12:44, 764.11s/it]"
     ]
    },
    {
     "name": "stdout",
     "output_type": "stream",
     "text": [
      "[[56.86713543444786, 65.14800321410532, 60.67183194555237, 59.37924129252261, 60.37624420615765, 59.43248179550954, 60.31248964804923], [18.400673400673405, 34.287560059839365, 25.80062627419426, 24.155852489940596, 27.022431539691667, 22.906227867216124, 25.428895271925906]]\n"
     ]
    },
    {
     "name": "stderr",
     "output_type": "stream",
     "text": [
      " 80%|███████████████████████████████████▏        | 4/5 [53:07<13:16, 796.75s/it]\n"
     ]
    },
    {
     "ename": "KeyboardInterrupt",
     "evalue": "",
     "output_type": "error",
     "traceback": [
      "\u001b[0;31m---------------------------------------------------------------------------\u001b[0m",
      "\u001b[0;31mKeyboardInterrupt\u001b[0m                         Traceback (most recent call last)",
      "Input \u001b[0;32mIn [12]\u001b[0m, in \u001b[0;36m<cell line: 1>\u001b[0;34m()\u001b[0m\n\u001b[0;32m----> 1\u001b[0m \u001b[43mcore\u001b[49m\u001b[38;5;241;43m.\u001b[39;49m\u001b[43mCrossDatasetValidator\u001b[49m\u001b[43m(\u001b[49m\u001b[43mMConfig\u001b[49m\u001b[43m)\u001b[49m\u001b[38;5;241;43m.\u001b[39;49m\u001b[43mvalidate_n_times\u001b[49m\u001b[43m(\u001b[49m\u001b[43mdf\u001b[49m\u001b[43m,\u001b[49m\u001b[43m \u001b[49m\u001b[43mdata\u001b[49m\u001b[43m,\u001b[49m\u001b[43m \u001b[49m\u001b[43mn_times\u001b[49m\u001b[38;5;241;43m=\u001b[39;49m\u001b[38;5;241;43m5\u001b[39;49m\u001b[43m)\u001b[49m\n",
      "File \u001b[0;32m/research/tklab/personal/tvaranka/micro_expression/me_benchmark/meb/core/train_eval.py:345\u001b[0m, in \u001b[0;36mCrossDatasetValidator.validate_n_times\u001b[0;34m(self, df, input_data, n_times)\u001b[0m\n\u001b[1;32m    343\u001b[0m dataset_results \u001b[38;5;241m=\u001b[39m []\n\u001b[1;32m    344\u001b[0m \u001b[38;5;28;01mfor\u001b[39;00m n \u001b[38;5;129;01min\u001b[39;00m tqdm(\u001b[38;5;28mrange\u001b[39m(n_times)):\n\u001b[0;32m--> 345\u001b[0m     outputs_list \u001b[38;5;241m=\u001b[39m \u001b[38;5;28;43mself\u001b[39;49m\u001b[38;5;241;43m.\u001b[39;49m\u001b[43mvalidate\u001b[49m\u001b[43m(\u001b[49m\u001b[43mdf\u001b[49m\u001b[43m,\u001b[49m\u001b[43m \u001b[49m\u001b[43minput_data\u001b[49m\u001b[43m,\u001b[49m\u001b[43m \u001b[49m\u001b[43mseed_n\u001b[49m\u001b[38;5;241;43m=\u001b[39;49m\u001b[43mn\u001b[49m\u001b[43m \u001b[49m\u001b[38;5;241;43m+\u001b[39;49m\u001b[43m \u001b[49m\u001b[38;5;241;43m45\u001b[39;49m\u001b[43m)\u001b[49m\n\u001b[1;32m    346\u001b[0m     au_result, dataset_result \u001b[38;5;241m=\u001b[39m \u001b[38;5;28mself\u001b[39m\u001b[38;5;241m.\u001b[39mprinter\u001b[38;5;241m.\u001b[39mresults_to_list(outputs_list, df)\n\u001b[1;32m    347\u001b[0m     au_results\u001b[38;5;241m.\u001b[39mappend(au_result)\n",
      "File \u001b[0;32m/research/tklab/personal/tvaranka/micro_expression/me_benchmark/meb/core/train_eval.py:378\u001b[0m, in \u001b[0;36mCrossDatasetValidator.validate\u001b[0;34m(self, df, input_data, seed_n)\u001b[0m\n\u001b[1;32m    376\u001b[0m outputs_list \u001b[38;5;241m=\u001b[39m []\n\u001b[1;32m    377\u001b[0m \u001b[38;5;28;01mfor\u001b[39;00m dataset_name \u001b[38;5;129;01min\u001b[39;00m dataset_names:\n\u001b[0;32m--> 378\u001b[0m     train_metrics, test_metrics, outputs_test \u001b[38;5;241m=\u001b[39m \u001b[38;5;28;43mself\u001b[39;49m\u001b[38;5;241;43m.\u001b[39;49m\u001b[43mvalidate_split\u001b[49m\u001b[43m(\u001b[49m\n\u001b[1;32m    379\u001b[0m \u001b[43m        \u001b[49m\u001b[43mdf\u001b[49m\u001b[43m,\u001b[49m\u001b[43m \u001b[49m\u001b[43minput_data\u001b[49m\u001b[43m,\u001b[49m\u001b[43m \u001b[49m\u001b[43mlabels\u001b[49m\u001b[43m,\u001b[49m\u001b[43m \u001b[49m\u001b[43mdataset_name\u001b[49m\n\u001b[1;32m    380\u001b[0m \u001b[43m    \u001b[49m\u001b[43m)\u001b[49m\n\u001b[1;32m    381\u001b[0m     outputs_list\u001b[38;5;241m.\u001b[39mappend(outputs_test)\n\u001b[1;32m    382\u001b[0m     \u001b[38;5;28;01mif\u001b[39;00m \u001b[38;5;28mself\u001b[39m\u001b[38;5;241m.\u001b[39mverbose:\n",
      "File \u001b[0;32m/research/tklab/personal/tvaranka/micro_expression/me_benchmark/meb/core/train_eval.py:296\u001b[0m, in \u001b[0;36mValidator.validate_split\u001b[0;34m(self, df, input_data, labels, split_name)\u001b[0m\n\u001b[1;32m    293\u001b[0m \u001b[38;5;28mself\u001b[39m\u001b[38;5;241m.\u001b[39msetup_training()\n\u001b[1;32m    295\u001b[0m \u001b[38;5;66;03m# Train and evaluation\u001b[39;00m\n\u001b[0;32m--> 296\u001b[0m \u001b[38;5;28;43mself\u001b[39;49m\u001b[38;5;241;43m.\u001b[39;49m\u001b[43mtrain_model\u001b[49m\u001b[43m(\u001b[49m\u001b[43mtrain_loader\u001b[49m\u001b[43m,\u001b[49m\u001b[43m \u001b[49m\u001b[43mtest_loader\u001b[49m\u001b[43m)\u001b[49m\n\u001b[1;32m    297\u001b[0m train_metrics \u001b[38;5;241m=\u001b[39m \u001b[38;5;28mself\u001b[39m\u001b[38;5;241m.\u001b[39mevaluate_model(train_loader)\n\u001b[1;32m    298\u001b[0m test_metrics, outputs_test \u001b[38;5;241m=\u001b[39m \u001b[38;5;28mself\u001b[39m\u001b[38;5;241m.\u001b[39mevaluate_model(test_loader, test\u001b[38;5;241m=\u001b[39m\u001b[38;5;28;01mTrue\u001b[39;00m)\n",
      "File \u001b[0;32m/research/tklab/personal/tvaranka/micro_expression/me_benchmark/meb/core/train_eval.py:217\u001b[0m, in \u001b[0;36mValidator.train_model\u001b[0;34m(self, train_loader, test_loader)\u001b[0m\n\u001b[1;32m    210\u001b[0m \u001b[38;5;124;03m\"\"\"Main training loop\u001b[39;00m\n\u001b[1;32m    211\u001b[0m \n\u001b[1;32m    212\u001b[0m \u001b[38;5;124;03mThe main training loop that controls the scheduler and printing.\u001b[39;00m\n\u001b[1;32m    213\u001b[0m \u001b[38;5;124;03mThis function can be overwritten for custom schedulers, printing,\u001b[39;00m\n\u001b[1;32m    214\u001b[0m \u001b[38;5;124;03metc.\u001b[39;00m\n\u001b[1;32m    215\u001b[0m \u001b[38;5;124;03m\"\"\"\u001b[39;00m\n\u001b[1;32m    216\u001b[0m \u001b[38;5;28;01mfor\u001b[39;00m epoch \u001b[38;5;129;01min\u001b[39;00m tqdm(\u001b[38;5;28mrange\u001b[39m(\u001b[38;5;28mself\u001b[39m\u001b[38;5;241m.\u001b[39mcf\u001b[38;5;241m.\u001b[39mepochs), disable\u001b[38;5;241m=\u001b[39m\u001b[38;5;28mself\u001b[39m\u001b[38;5;241m.\u001b[39mdisable_tqdm):\n\u001b[0;32m--> 217\u001b[0m     \u001b[38;5;28;43mself\u001b[39;49m\u001b[38;5;241;43m.\u001b[39;49m\u001b[43mtrain_one_epoch\u001b[49m\u001b[43m(\u001b[49m\u001b[43mepoch\u001b[49m\u001b[43m,\u001b[49m\u001b[43m \u001b[49m\u001b[43mtrain_loader\u001b[49m\u001b[43m)\u001b[49m\n\u001b[1;32m    218\u001b[0m     \u001b[38;5;28;01mif\u001b[39;00m \u001b[38;5;28mself\u001b[39m\u001b[38;5;241m.\u001b[39mscheduler:\n\u001b[1;32m    219\u001b[0m         \u001b[38;5;28mself\u001b[39m\u001b[38;5;241m.\u001b[39mscheduler\u001b[38;5;241m.\u001b[39mstep(epoch \u001b[38;5;241m+\u001b[39m \u001b[38;5;241m1\u001b[39m)\n",
      "File \u001b[0;32m/research/tklab/personal/tvaranka/micro_expression/me_benchmark/meb/core/train_eval.py:238\u001b[0m, in \u001b[0;36mValidator.train_one_epoch\u001b[0;34m(self, epoch, dataloader)\u001b[0m\n\u001b[1;32m    236\u001b[0m num_updates \u001b[38;5;241m=\u001b[39m epoch \u001b[38;5;241m*\u001b[39m \u001b[38;5;28mlen\u001b[39m(dataloader)\n\u001b[1;32m    237\u001b[0m \u001b[38;5;28;01mfor\u001b[39;00m i, (X, y) \u001b[38;5;129;01min\u001b[39;00m \u001b[38;5;28menumerate\u001b[39m(dataloader):\n\u001b[0;32m--> 238\u001b[0m     X, y \u001b[38;5;241m=\u001b[39m \u001b[43mX\u001b[49m\u001b[38;5;241;43m.\u001b[39;49m\u001b[43mto\u001b[49m\u001b[43m(\u001b[49m\u001b[38;5;28;43mself\u001b[39;49m\u001b[38;5;241;43m.\u001b[39;49m\u001b[43mcf\u001b[49m\u001b[38;5;241;43m.\u001b[39;49m\u001b[43mdevice\u001b[49m\u001b[43m)\u001b[49m, y\u001b[38;5;241m.\u001b[39mto(\u001b[38;5;28mself\u001b[39m\u001b[38;5;241m.\u001b[39mcf\u001b[38;5;241m.\u001b[39mdevice)\n\u001b[1;32m    239\u001b[0m     \u001b[38;5;28mself\u001b[39m\u001b[38;5;241m.\u001b[39moptimizer\u001b[38;5;241m.\u001b[39mzero_grad()\n\u001b[1;32m    240\u001b[0m     \u001b[38;5;28;01mif\u001b[39;00m \u001b[38;5;28mself\u001b[39m\u001b[38;5;241m.\u001b[39mmixup_fn:\n",
      "\u001b[0;31mKeyboardInterrupt\u001b[0m: "
     ]
    }
   ],
   "source": [
    "core.CrossDatasetValidator(MConfig).validate_n_times(df, data, n_times=5)"
   ]
  },
  {
   "cell_type": "code",
   "execution_count": 11,
   "metadata": {},
   "outputs": [
    {
     "name": "stderr",
     "output_type": "stream",
     "text": [
      "100%|██████████████████████████████████████████| 5/5 [1:14:55<00:00, 899.20s/it]"
     ]
    },
    {
     "name": "stdout",
     "output_type": "stream",
     "text": [
      "MultiLabelF1Score\n",
      "AUS: ['AU1', 'AU2', 'AU4', 'AU5', 'AU6', 'AU7', 'AU9', 'AU10', 'AU12', 'AU14', 'AU15', 'AU17', 'Average']\n",
      "82.2 & 78.6 & 87.1 & 49.2 & 49.5 & 59.6 & 51.1 & 51.7 & 58.0 & 60.5 & 51.9 & 59.5 & 61.6\n",
      "\n",
      "Datasets:  ['casme', 'casme2', 'samm', 'fourd', 'mmew', 'casme3a', 'Average']\n",
      "57.8 & 64.8 & 60.2 & 60.0 & 62.0 & 60.8 & 60.9\n",
      "MultiLabelF1Score\n",
      "AUS: ['AU1', 'AU2', 'AU4', 'AU5', 'AU6', 'AU7', 'AU9', 'AU10', 'AU12', 'AU14', 'AU15', 'AU17', 'Average']\n",
      "68.9 & 62.3 & 83.0 & 2.1 & 0.6 & 27.9 & 5.4 & 5.3 & 21.3 & 28.3 & 5.2 & 21.3 & 27.6\n",
      "\n",
      "Datasets:  ['casme', 'casme2', 'samm', 'fourd', 'mmew', 'casme3a', 'Average']\n",
      "20.4 & 33.6 & 24.9 & 25.4 & 29.5 & 25.7 & 26.6\n"
     ]
    },
    {
     "name": "stderr",
     "output_type": "stream",
     "text": [
      "\n"
     ]
    }
   ],
   "source": [
    "core.CrossDatasetValidator(MConfig).validate_n_times(df, data, n_times=5)"
   ]
  },
  {
   "cell_type": "code",
   "execution_count": 13,
   "metadata": {},
   "outputs": [
    {
     "name": "stderr",
     "output_type": "stream",
     "text": [
      "100%|█████████████████████████████████████████| 5/5 [2:08:29<00:00, 1541.80s/it]"
     ]
    },
    {
     "name": "stdout",
     "output_type": "stream",
     "text": [
      "MultiLabelF1Score\n",
      "AUS: ['AU1', 'AU2', 'AU4', 'AU5', 'AU6', 'AU7', 'AU9', 'AU10', 'AU12', 'AU14', 'AU15', 'AU17', 'Average']\n",
      "82.2 & 78.6 & 87.1 & 49.2 & 49.5 & 59.6 & 51.1 & 51.7 & 58.0 & 60.5 & 51.9 & 59.5 & 61.6\n",
      "\n",
      "Datasets:  ['casme', 'casme2', 'samm', 'fourd', 'mmew', 'casme3a', 'Average']\n",
      "57.8 & 64.8 & 60.2 & 60.0 & 62.0 & 60.8 & 60.9\n",
      "MultiLabelF1Score\n",
      "AUS: ['AU1', 'AU2', 'AU4', 'AU5', 'AU6', 'AU7', 'AU9', 'AU10', 'AU12', 'AU14', 'AU15', 'AU17', 'Average']\n",
      "68.9 & 62.3 & 83.0 & 2.1 & 0.6 & 27.9 & 5.4 & 5.3 & 21.3 & 28.3 & 5.2 & 21.3 & 27.6\n",
      "\n",
      "Datasets:  ['casme', 'casme2', 'samm', 'fourd', 'mmew', 'casme3a', 'Average']\n",
      "20.4 & 33.6 & 24.9 & 25.4 & 29.5 & 25.7 & 26.6\n"
     ]
    },
    {
     "name": "stderr",
     "output_type": "stream",
     "text": [
      "\n"
     ]
    }
   ],
   "source": [
    "core.CrossDatasetValidation(MConfig).validate_n_times(df, data, n_times=5)"
   ]
  },
  {
   "cell_type": "code",
   "execution_count": 28,
   "metadata": {
    "scrolled": true
   },
   "outputs": [],
   "source": [
    "class Config(core.Config):\n",
    "    epochs = 50\n",
    "    device = torch.device(\"cuda:0\")\n",
    "    optimizer = partial(optim.Adam, lr=1e-4, weight_decay=1e-3)\n",
    "    num_workers = 0\n",
    "    evaluation_fn = [\n",
    "        partial(utils.MultiLabelF1Score, average=\"macro\"),\n",
    "        partial(utils.MultiLabelF1Score, average=\"binary\"),\n",
    "    ]\n",
    "    model = partial(timm.models.resnet10t, num_classes=len(core.Config.action_units), pretrained=True)"
   ]
  },
  {
   "cell_type": "code",
   "execution_count": 29,
   "metadata": {
    "scrolled": true
   },
   "outputs": [
    {
     "name": "stderr",
     "output_type": "stream",
     "text": [
      "\r",
      "  0%|                                                     | 0/5 [00:00<?, ?it/s]"
     ]
    },
    {
     "name": "stdout",
     "output_type": "stream",
     "text": [
      "MultiLabelF1Score\n",
      "Dataset: casme, n=189 | train_mean: 0.9931 | test_mean: 0.576\n",
      "Test per AU: [('AU1', 73.24), ('AU2', 84.57), ('AU4', 76.05), ('AU5', 49.6), ('AU6', 49.87), ('AU7', 47.65), ('AU9', 46.43), ('AU10', 49.6), ('AU12', 54.88), ('AU14', 55.62), ('AU15', 55.53), ('AU17', 48.22)]\n",
      "\n",
      "MultiLabelF1Score\n",
      "Dataset: casme, n=189 | train_mean: 0.9866 | test_mean: 0.2145\n",
      "Test per AU: [('AU1', 51.43), ('AU2', 71.43), ('AU4', 68.7), ('AU5', 0.0), ('AU6', 0.0), ('AU7', 0.0), ('AU9', 4.76), ('AU10', 0.0), ('AU12', 13.33), ('AU14', 18.75), ('AU15', 28.95), ('AU17', 0.0)]\n",
      "\n",
      "MultiLabelF1Score\n",
      "Dataset: casme2, n=256 | train_mean: 0.9996 | test_mean: 0.6898\n",
      "Test per AU: [('AU1', 91.63), ('AU2', 83.44), ('AU4', 94.92), ('AU5', 49.51), ('AU6', 48.59), ('AU7', 75.32), ('AU9', 48.59), ('AU10', 54.37), ('AU12', 66.28), ('AU14', 74.31), ('AU15', 54.37), ('AU17', 86.44)]\n",
      "\n",
      "MultiLabelF1Score\n",
      "Dataset: casme2, n=256 | train_mean: 0.9992 | test_mean: 0.415\n",
      "Test per AU: [('AU1', 85.25), ('AU2', 70.37), ('AU4', 94.82), ('AU5', 0.0), ('AU6', 0.0), ('AU7', 56.14), ('AU9', 0.0), ('AU10', 11.76), ('AU12', 38.1), ('AU14', 54.84), ('AU15', 11.76), ('AU17', 75.0)]\n",
      "\n",
      "MultiLabelF1Score\n",
      "Dataset: samm, n=159 | train_mean: 0.9998 | test_mean: 0.6296\n",
      "Test per AU: [('AU1', 69.21), ('AU2', 80.34), ('AU4', 88.13), ('AU5', 55.17), ('AU6', 49.36), ('AU7', 65.08), ('AU9', 66.03), ('AU10', 48.71), ('AU12', 48.78), ('AU14', 58.9), ('AU15', 49.36), ('AU17', 76.46)]\n",
      "\n",
      "MultiLabelF1Score\n",
      "Dataset: samm, n=159 | train_mean: 0.9997 | test_mean: 0.304\n",
      "Test per AU: [('AU1', 42.11), ('AU2', 64.52), ('AU4', 80.0), ('AU5', 14.29), ('AU6', 0.0), ('AU7', 43.33), ('AU9', 33.33), ('AU10', 0.0), ('AU12', 6.9), ('AU14', 25.81), ('AU15', 0.0), ('AU17', 54.55)]\n",
      "\n",
      "MultiLabelF1Score\n",
      "Dataset: fourd, n=267 | train_mean: 0.9997 | test_mean: 0.6301\n",
      "Test per AU: [('AU1', 87.03), ('AU2', 80.95), ('AU4', 81.89), ('AU5', 59.57), ('AU6', 54.42), ('AU7', 64.04), ('AU9', 49.91), ('AU10', 49.62), ('AU12', 58.84), ('AU14', 59.07), ('AU15', 49.43), ('AU17', 61.34)]\n",
      "\n",
      "MultiLabelF1Score\n",
      "Dataset: fourd, n=267 | train_mean: 0.9995 | test_mean: 0.3167\n",
      "Test per AU: [('AU1', 78.05), ('AU2', 68.18), ('AU4', 77.88), ('AU5', 23.08), ('AU6', 13.79), ('AU7', 45.31), ('AU9', 0.0), ('AU10', 0.0), ('AU12', 27.69), ('AU14', 21.05), ('AU15', 0.0), ('AU17', 25.0)]\n",
      "\n",
      "MultiLabelF1Score\n",
      "Dataset: mmew, n=300 | train_mean: 0.9998 | test_mean: 0.627\n",
      "Test per AU: [('AU1', 88.0), ('AU2', 83.43), ('AU4', 85.37), ('AU5', 44.89), ('AU6', 49.15), ('AU7', 49.82), ('AU9', 52.01), ('AU10', 49.27), ('AU12', 65.4), ('AU14', 61.57), ('AU15', 49.24), ('AU17', 74.32)]\n",
      "\n",
      "MultiLabelF1Score\n",
      "Dataset: mmew, n=300 | train_mean: 0.9997 | test_mean: 0.31\n",
      "Test per AU: [('AU1', 80.0), ('AU2', 71.05), ('AU4', 81.61), ('AU5', 2.82), ('AU6', 0.0), ('AU7', 8.0), ('AU9', 10.26), ('AU10', 5.13), ('AU12', 37.04), ('AU14', 26.09), ('AU15', 0.0), ('AU17', 50.0)]\n",
      "\n",
      "MultiLabelF1Score\n",
      "Dataset: casme3a, n=860 | train_mean: 0.9997 | test_mean: 0.614\n",
      "Test per AU: [('AU1', 79.07), ('AU2', 76.64), ('AU4', 87.17), ('AU5', 48.69), ('AU6', 49.53), ('AU7', 56.88), ('AU9', 50.29), ('AU10', 49.71), ('AU12', 55.7), ('AU14', 61.0), ('AU15', 49.62), ('AU17', 72.45)]\n",
      "\n",
      "MultiLabelF1Score\n",
      "Dataset: casme3a, n=860 | train_mean: 0.9994 | test_mean: 0.2686\n",
      "Test per AU: [('AU1', 63.79), ('AU2', 58.82), ('AU4', 82.55), ('AU5', 0.0), ('AU6', 0.0), ('AU7', 19.83), ('AU9', 3.7), ('AU10', 0.0), ('AU12', 14.29), ('AU14', 33.2), ('AU15', 0.0), ('AU17', 46.15)]\n",
      "\n",
      "Final results\n",
      "\n",
      "MultiLabelF1Score\n",
      "All AUs:  [('AU1', 82.72), ('AU2', 80.07), ('AU4', 86.6), ('AU5', 51.11), ('AU6', 51.83), ('AU7', 62.65), ('AU9', 51.34), ('AU10', 51.5), ('AU12', 60.08), ('AU14', 63.15), ('AU15', 58.32), ('AU17', 73.57)]\n",
      "Mean:  64.41\n",
      "\n",
      "\n",
      "MultiLabelF1Score\n",
      "All AUs:  [('AU1', 69.94), ('AU2', 64.86), ('AU4', 82.52), ('AU5', 6.13), ('AU6', 5.41), ('AU7', 33.26), ('AU9', 6.41), ('AU10', 4.94), ('AU12', 25.29), ('AU14', 33.82), ('AU15', 19.2), ('AU17', 48.89)]\n",
      "Mean:  33.39\n",
      "\n",
      "\n"
     ]
    },
    {
     "name": "stderr",
     "output_type": "stream",
     "text": [
      "\r",
      " 20%|████████▏                                | 1/5 [18:18<1:13:13, 1098.30s/it]"
     ]
    },
    {
     "name": "stdout",
     "output_type": "stream",
     "text": [
      "MultiLabelF1Score\n",
      "Dataset: casme, n=189 | train_mean: 1.0 | test_mean: 0.5851\n",
      "Test per AU: [('AU1', 80.53), ('AU2', 79.35), ('AU4', 77.31), ('AU5', 49.47), ('AU6', 49.6), ('AU7', 53.8), ('AU9', 43.92), ('AU10', 49.47), ('AU12', 62.91), ('AU14', 52.2), ('AU15', 48.08), ('AU17', 55.49)]\n",
      "\n",
      "MultiLabelF1Score\n",
      "Dataset: casme, n=189 | train_mean: 1.0 | test_mean: 0.2187\n",
      "Test per AU: [('AU1', 64.86), ('AU2', 61.54), ('AU4', 68.91), ('AU5', 0.0), ('AU6', 0.0), ('AU7', 11.76), ('AU9', 0.0), ('AU10', 0.0), ('AU12', 28.57), ('AU14', 12.5), ('AU15', 0.0), ('AU17', 14.29)]\n",
      "\n",
      "MultiLabelF1Score\n",
      "Dataset: casme2, n=256 | train_mean: 1.0 | test_mean: 0.6773\n",
      "Test per AU: [('AU1', 89.76), ('AU2', 81.95), ('AU4', 94.53), ('AU5', 49.71), ('AU6', 62.23), ('AU7', 70.83), ('AU9', 48.7), ('AU10', 54.37), ('AU12', 72.41), ('AU14', 72.5), ('AU15', 48.39), ('AU17', 67.38)]\n",
      "\n",
      "MultiLabelF1Score\n",
      "Dataset: casme2, n=256 | train_mean: 1.0 | test_mean: 0.3921\n",
      "Test per AU: [('AU1', 81.97), ('AU2', 67.86), ('AU4', 94.35), ('AU5', 0.0), ('AU6', 26.67), ('AU7', 48.28), ('AU9', 0.0), ('AU10', 11.76), ('AU12', 50.0), ('AU14', 50.91), ('AU15', 0.0), ('AU17', 38.71)]\n",
      "\n",
      "MultiLabelF1Score\n",
      "Dataset: samm, n=159 | train_mean: 1.0 | test_mean: 0.6821\n",
      "Test per AU: [('AU1', 72.03), ('AU2', 81.6), ('AU4', 89.14), ('AU5', 62.64), ('AU6', 49.36), ('AU7', 71.32), ('AU9', 74.35), ('AU10', 71.41), ('AU12', 58.3), ('AU14', 59.61), ('AU15', 49.36), ('AU17', 79.35)]\n",
      "\n",
      "MultiLabelF1Score\n",
      "Dataset: samm, n=159 | train_mean: 1.0 | test_mean: 0.4012\n",
      "Test per AU: [('AU1', 47.06), ('AU2', 66.67), ('AU4', 81.63), ('AU5', 28.57), ('AU6', 0.0), ('AU7', 54.55), ('AU9', 50.0), ('AU10', 44.44), ('AU12', 25.0), ('AU14', 23.53), ('AU15', 0.0), ('AU17', 60.0)]\n",
      "\n",
      "MultiLabelF1Score\n",
      "Dataset: fourd, n=267 | train_mean: 1.0 | test_mean: 0.6382\n",
      "Test per AU: [('AU1', 90.48), ('AU2', 79.95), ('AU4', 86.9), ('AU5', 64.53), ('AU6', 51.0), ('AU7', 61.27), ('AU9', 49.91), ('AU10', 49.62), ('AU12', 65.86), ('AU14', 53.25), ('AU15', 49.43), ('AU17', 63.64)]\n",
      "\n",
      "MultiLabelF1Score\n",
      "Dataset: fourd, n=267 | train_mean: 1.0 | test_mean: 0.3271\n",
      "Test per AU: [('AU1', 84.09), ('AU2', 66.67), ('AU4', 82.49), ('AU5', 31.58), ('AU6', 7.14), ('AU7', 38.94), ('AU9', 0.0), ('AU10', 0.0), ('AU12', 41.56), ('AU14', 10.0), ('AU15', 0.0), ('AU17', 30.0)]\n",
      "\n",
      "MultiLabelF1Score\n",
      "Dataset: mmew, n=300 | train_mean: 0.9988 | test_mean: 0.6347\n",
      "Test per AU: [('AU1', 86.58), ('AU2', 84.77), ('AU4', 86.09), ('AU5', 46.34), ('AU6', 53.8), ('AU7', 52.0), ('AU9', 54.19), ('AU10', 46.62), ('AU12', 67.23), ('AU14', 62.25), ('AU15', 49.07), ('AU17', 72.76)]\n",
      "\n",
      "MultiLabelF1Score\n",
      "Dataset: mmew, n=300 | train_mean: 0.9978 | test_mean: 0.3319\n",
      "Test per AU: [('AU1', 77.55), ('AU2', 73.81), ('AU4', 81.41), ('AU5', 5.56), ('AU6', 10.53), ('AU7', 12.0), ('AU9', 14.63), ('AU10', 0.0), ('AU12', 48.44), ('AU14', 27.27), ('AU15', 0.0), ('AU17', 47.06)]\n",
      "\n",
      "MultiLabelF1Score\n",
      "Dataset: casme3a, n=860 | train_mean: 1.0 | test_mean: 0.6151\n",
      "Test per AU: [('AU1', 79.49), ('AU2', 75.78), ('AU4', 87.79), ('AU5', 48.66), ('AU6', 49.59), ('AU7', 60.54), ('AU9', 52.2), ('AU10', 49.71), ('AU12', 58.58), ('AU14', 56.52), ('AU15', 49.59), ('AU17', 69.68)]\n",
      "\n",
      "MultiLabelF1Score\n",
      "Dataset: casme3a, n=860 | train_mean: 1.0 | test_mean: 0.2695\n",
      "Test per AU: [('AU1', 64.73), ('AU2', 56.99), ('AU4', 82.88), ('AU5', 0.0), ('AU6', 0.0), ('AU7', 26.32), ('AU9', 7.41), ('AU10', 0.0), ('AU12', 19.61), ('AU14', 24.56), ('AU15', 0.0), ('AU17', 40.91)]\n",
      "\n",
      "Final results\n",
      "\n",
      "MultiLabelF1Score\n",
      "All AUs:  [('AU1', 83.61), ('AU2', 79.53), ('AU4', 87.81), ('AU5', 52.63), ('AU6', 53.88), ('AU7', 63.73), ('AU9', 52.59), ('AU10', 52.7), ('AU12', 67.17), ('AU14', 59.65), ('AU15', 49.19), ('AU17', 68.05)]\n",
      "Mean:  64.21\n",
      "\n",
      "\n",
      "MultiLabelF1Score\n",
      "All AUs:  [('AU1', 71.59), ('AU2', 63.88), ('AU4', 83.46), ('AU5', 8.92), ('AU6', 9.64), ('AU7', 34.93), ('AU9', 8.86), ('AU10', 7.32), ('AU12', 40.0), ('AU14', 26.74), ('AU15', 0.0), ('AU17', 38.24)]\n",
      "Mean:  32.8\n",
      "\n",
      "\n"
     ]
    },
    {
     "name": "stderr",
     "output_type": "stream",
     "text": [
      "\r",
      " 40%|█████████████████▏                         | 2/5 [36:44<55:08, 1102.69s/it]"
     ]
    },
    {
     "name": "stdout",
     "output_type": "stream",
     "text": [
      "MultiLabelF1Score\n",
      "Dataset: casme, n=189 | train_mean: 0.9994 | test_mean: 0.5774\n",
      "Test per AU: [('AU1', 77.38), ('AU2', 73.31), ('AU4', 78.06), ('AU5', 49.47), ('AU6', 49.73), ('AU7', 56.02), ('AU9', 49.11), ('AU10', 49.6), ('AU12', 59.96), ('AU14', 46.76), ('AU15', 47.93), ('AU17', 55.49)]\n",
      "\n",
      "MultiLabelF1Score\n",
      "Dataset: casme, n=189 | train_mean: 0.9988 | test_mean: 0.2037\n",
      "Test per AU: [('AU1', 58.82), ('AU2', 50.0), ('AU4', 70.87), ('AU5', 0.0), ('AU6', 0.0), ('AU7', 17.39), ('AU9', 9.52), ('AU10', 0.0), ('AU12', 23.53), ('AU14', 0.0), ('AU15', 0.0), ('AU17', 14.29)]\n",
      "\n",
      "MultiLabelF1Score\n",
      "Dataset: casme2, n=256 | train_mean: 1.0 | test_mean: 0.6735\n",
      "Test per AU: [('AU1', 92.22), ('AU2', 84.22), ('AU4', 94.14), ('AU5', 49.61), ('AU6', 48.7), ('AU7', 73.21), ('AU9', 48.7), ('AU10', 54.37), ('AU12', 74.05), ('AU14', 70.6), ('AU15', 48.39), ('AU17', 70.0)]\n",
      "\n",
      "MultiLabelF1Score\n",
      "Dataset: casme2, n=256 | train_mean: 1.0 | test_mean: 0.3839\n",
      "Test per AU: [('AU1', 86.21), ('AU2', 71.7), ('AU4', 94.02), ('AU5', 0.0), ('AU6', 0.0), ('AU7', 53.12), ('AU9', 0.0), ('AU10', 11.76), ('AU12', 53.06), ('AU14', 47.06), ('AU15', 0.0), ('AU17', 43.75)]\n",
      "\n",
      "MultiLabelF1Score\n",
      "Dataset: samm, n=159 | train_mean: 0.9817 | test_mean: 0.6247\n",
      "Test per AU: [('AU1', 60.16), ('AU2', 80.12), ('AU4', 86.24), ('AU5', 52.89), ('AU6', 49.52), ('AU7', 76.66), ('AU9', 59.98), ('AU10', 71.93), ('AU12', 52.15), ('AU14', 47.0), ('AU15', 49.36), ('AU17', 63.62)]\n",
      "\n",
      "MultiLabelF1Score\n",
      "Dataset: samm, n=159 | train_mean: 0.9667 | test_mean: 0.3004\n",
      "Test per AU: [('AU1', 27.59), ('AU2', 64.86), ('AU4', 75.68), ('AU5', 11.11), ('AU6', 0.0), ('AU7', 68.0), ('AU9', 22.22), ('AU10', 46.15), ('AU12', 13.33), ('AU14', 0.0), ('AU15', 0.0), ('AU17', 31.58)]\n",
      "\n",
      "MultiLabelF1Score\n",
      "Dataset: fourd, n=267 | train_mean: 0.9996 | test_mean: 0.6629\n",
      "Test per AU: [('AU1', 86.71), ('AU2', 80.95), ('AU4', 85.86), ('AU5', 69.13), ('AU6', 50.78), ('AU7', 67.8), ('AU9', 49.81), ('AU10', 49.24), ('AU12', 66.7), ('AU14', 59.24), ('AU15', 63.81), ('AU17', 65.5)]\n",
      "\n",
      "MultiLabelF1Score\n",
      "Dataset: fourd, n=267 | train_mean: 0.9994 | test_mean: 0.3748\n",
      "Test per AU: [('AU1', 77.65), ('AU2', 68.18), ('AU4', 82.05), ('AU5', 40.0), ('AU6', 6.9), ('AU7', 50.79), ('AU9', 0.0), ('AU10', 0.0), ('AU12', 42.25), ('AU14', 20.0), ('AU15', 28.57), ('AU17', 33.33)]\n",
      "\n",
      "MultiLabelF1Score\n",
      "Dataset: mmew, n=300 | train_mean: 1.0 | test_mean: 0.6493\n",
      "Test per AU: [('AU1', 87.09), ('AU2', 86.43), ('AU4', 88.86), ('AU5', 47.75), ('AU6', 48.36), ('AU7', 55.23), ('AU9', 53.15), ('AU10', 46.62), ('AU12', 71.71), ('AU14', 57.89), ('AU15', 56.76), ('AU17', 79.31)]\n",
      "\n",
      "MultiLabelF1Score\n",
      "Dataset: mmew, n=300 | train_mean: 1.0 | test_mean: 0.3542\n",
      "Test per AU: [('AU1', 78.35), ('AU2', 76.74), ('AU4', 85.29), ('AU5', 8.22), ('AU6', 0.0), ('AU7', 18.52), ('AU9', 13.33), ('AU10', 0.0), ('AU12', 49.18), ('AU14', 20.0), ('AU15', 15.38), ('AU17', 60.0)]\n",
      "\n",
      "MultiLabelF1Score\n",
      "Dataset: casme3a, n=860 | train_mean: 0.9998 | test_mean: 0.6081\n",
      "Test per AU: [('AU1', 61.05), ('AU2', 77.4), ('AU4', 90.13), ('AU5', 48.66), ('AU6', 49.65), ('AU7', 61.96), ('AU9', 55.39), ('AU10', 49.68), ('AU12', 54.99), ('AU14', 64.2), ('AU15', 49.53), ('AU17', 67.13)]\n",
      "\n",
      "MultiLabelF1Score\n",
      "Dataset: casme3a, n=860 | train_mean: 0.9997 | test_mean: 0.2561\n",
      "Test per AU: [('AU1', 30.43), ('AU2', 60.29), ('AU4', 86.77), ('AU5', 0.0), ('AU6', 0.0), ('AU7', 28.83), ('AU9', 13.79), ('AU10', 0.0), ('AU12', 11.76), ('AU14', 39.06), ('AU15', 0.0), ('AU17', 36.36)]\n",
      "\n",
      "Final results\n",
      "\n",
      "MultiLabelF1Score\n",
      "All AUs:  [('AU1', 75.39), ('AU2', 80.4), ('AU4', 88.97), ('AU5', 52.54), ('AU6', 50.33), ('AU7', 68.46), ('AU9', 54.0), ('AU10', 53.41), ('AU12', 66.54), ('AU14', 63.53), ('AU15', 51.98), ('AU17', 67.73)]\n",
      "Mean:  64.44\n",
      "\n",
      "\n",
      "MultiLabelF1Score\n",
      "All AUs:  [('AU1', 56.67), ('AU2', 65.59), ('AU4', 85.45), ('AU5', 8.81), ('AU6', 2.56), ('AU7', 44.35), ('AU9', 11.83), ('AU10', 8.89), ('AU12', 37.4), ('AU14', 34.02), ('AU15', 5.63), ('AU17', 37.97)]\n",
      "Mean:  33.27\n",
      "\n",
      "\n"
     ]
    },
    {
     "name": "stderr",
     "output_type": "stream",
     "text": [
      "\r",
      " 60%|█████████████████████████▊                 | 3/5 [55:08<36:47, 1103.64s/it]"
     ]
    },
    {
     "name": "stdout",
     "output_type": "stream",
     "text": [
      "MultiLabelF1Score\n",
      "Dataset: casme, n=189 | train_mean: 1.0 | test_mean: 0.5756\n",
      "Test per AU: [('AU1', 77.38), ('AU2', 84.57), ('AU4', 72.97), ('AU5', 49.19), ('AU6', 49.87), ('AU7', 52.9), ('AU9', 43.92), ('AU10', 49.6), ('AU12', 56.56), ('AU14', 50.14), ('AU15', 48.08), ('AU17', 55.49)]\n",
      "\n",
      "MultiLabelF1Score\n",
      "Dataset: casme, n=189 | train_mean: 1.0 | test_mean: 0.2013\n",
      "Test per AU: [('AU1', 58.82), ('AU2', 71.43), ('AU4', 60.95), ('AU5', 0.0), ('AU6', 0.0), ('AU7', 10.53), ('AU9', 0.0), ('AU10', 0.0), ('AU12', 18.18), ('AU14', 7.41), ('AU15', 0.0), ('AU17', 14.29)]\n",
      "\n",
      "MultiLabelF1Score\n",
      "Dataset: casme2, n=256 | train_mean: 1.0 | test_mean: 0.6726\n",
      "Test per AU: [('AU1', 92.22), ('AU2', 84.22), ('AU4', 94.53), ('AU5', 49.61), ('AU6', 55.94), ('AU7', 75.32), ('AU9', 48.7), ('AU10', 53.94), ('AU12', 64.21), ('AU14', 75.46), ('AU15', 48.39), ('AU17', 64.59)]\n",
      "\n",
      "MultiLabelF1Score\n",
      "Dataset: casme2, n=256 | train_mean: 1.0 | test_mean: 0.3817\n",
      "Test per AU: [('AU1', 86.21), ('AU2', 71.7), ('AU4', 94.49), ('AU5', 0.0), ('AU6', 14.29), ('AU7', 56.14), ('AU9', 0.0), ('AU10', 11.11), ('AU12', 34.15), ('AU14', 56.67), ('AU15', 0.0), ('AU17', 33.33)]\n",
      "\n",
      "MultiLabelF1Score\n",
      "Dataset: samm, n=159 | train_mean: 1.0 | test_mean: 0.6917\n",
      "Test per AU: [('AU1', 70.56), ('AU2', 81.6), ('AU4', 92.38), ('AU5', 60.51), ('AU6', 49.52), ('AU7', 70.66), ('AU9', 78.09), ('AU10', 71.41), ('AU12', 48.47), ('AU14', 58.02), ('AU15', 69.52), ('AU17', 79.35)]\n",
      "\n",
      "MultiLabelF1Score\n",
      "Dataset: samm, n=159 | train_mean: 1.0 | test_mean: 0.4212\n",
      "Test per AU: [('AU1', 44.44), ('AU2', 66.67), ('AU4', 86.96), ('AU5', 25.0), ('AU6', 0.0), ('AU7', 53.12), ('AU9', 57.14), ('AU10', 44.44), ('AU12', 6.67), ('AU14', 21.05), ('AU15', 40.0), ('AU17', 60.0)]\n",
      "\n",
      "MultiLabelF1Score\n",
      "Dataset: fourd, n=267 | train_mean: 0.9876 | test_mean: 0.6247\n",
      "Test per AU: [('AU1', 86.71), ('AU2', 77.82), ('AU4', 83.88), ('AU5', 52.88), ('AU6', 51.48), ('AU7', 60.76), ('AU9', 49.62), ('AU10', 48.46), ('AU12', 48.13), ('AU14', 63.81), ('AU15', 63.81), ('AU17', 62.27)]\n",
      "\n",
      "MultiLabelF1Score\n",
      "Dataset: fourd, n=267 | train_mean: 0.9771 | test_mean: 0.3069\n",
      "Test per AU: [('AU1', 77.65), ('AU2', 62.79), ('AU4', 79.59), ('AU5', 11.76), ('AU6', 7.69), ('AU7', 37.84), ('AU9', 0.0), ('AU10', 0.0), ('AU12', 7.14), ('AU14', 28.57), ('AU15', 28.57), ('AU17', 26.67)]\n",
      "\n",
      "MultiLabelF1Score\n",
      "Dataset: mmew, n=300 | train_mean: 0.9994 | test_mean: 0.6333\n",
      "Test per AU: [('AU1', 86.36), ('AU2', 84.31), ('AU4', 89.04), ('AU5', 50.48), ('AU6', 49.15), ('AU7', 54.96), ('AU9', 53.45), ('AU10', 46.62), ('AU12', 58.32), ('AU14', 60.94), ('AU15', 49.24), ('AU17', 77.09)]\n",
      "\n",
      "MultiLabelF1Score\n",
      "Dataset: mmew, n=300 | train_mean: 0.9989 | test_mean: 0.3186\n",
      "Test per AU: [('AU1', 77.08), ('AU2', 73.33), ('AU4', 85.28), ('AU5', 13.33), ('AU6', 0.0), ('AU7', 18.18), ('AU9', 10.0), ('AU10', 0.0), ('AU12', 24.56), ('AU14', 25.0), ('AU15', 0.0), ('AU17', 55.56)]\n",
      "\n",
      "MultiLabelF1Score\n",
      "Dataset: casme3a, n=860 | train_mean: 1.0 | test_mean: 0.6334\n",
      "Test per AU: [('AU1', 82.16), ('AU2', 77.93), ('AU4', 87.23), ('AU5', 48.63), ('AU6', 49.77), ('AU7', 63.28), ('AU9', 56.5), ('AU10', 58.04), ('AU12', 58.58), ('AU14', 53.01), ('AU15', 58.14), ('AU17', 66.78)]\n",
      "\n",
      "MultiLabelF1Score\n",
      "Dataset: casme3a, n=860 | train_mean: 1.0 | test_mean: 0.3062\n",
      "Test per AU: [('AU1', 69.57), ('AU2', 61.0), ('AU4', 83.04), ('AU5', 0.0), ('AU6', 0.0), ('AU7', 30.23), ('AU9', 16.13), ('AU10', 16.67), ('AU12', 19.61), ('AU14', 18.1), ('AU15', 17.39), ('AU17', 35.71)]\n",
      "\n",
      "Final results\n",
      "\n",
      "MultiLabelF1Score\n",
      "All AUs:  [('AU1', 84.08), ('AU2', 80.52), ('AU4', 87.47), ('AU5', 52.87), ('AU6', 52.5), ('AU7', 65.27), ('AU9', 53.77), ('AU10', 53.06), ('AU12', 56.59), ('AU14', 58.65), ('AU15', 54.58), ('AU17', 67.02)]\n",
      "Mean:  63.86\n",
      "\n",
      "\n",
      "MultiLabelF1Score\n",
      "All AUs:  [('AU1', 72.43), ('AU2', 65.71), ('AU4', 83.43), ('AU5', 9.94), ('AU6', 6.45), ('AU7', 37.24), ('AU9', 10.88), ('AU10', 8.33), ('AU12', 18.68), ('AU14', 24.58), ('AU15', 10.81), ('AU17', 36.36)]\n",
      "Mean:  32.07\n",
      "\n",
      "\n"
     ]
    },
    {
     "name": "stderr",
     "output_type": "stream",
     "text": [
      "\r",
      " 80%|████████████████████████████████▊        | 4/5 [1:13:28<18:22, 1102.19s/it]"
     ]
    },
    {
     "name": "stdout",
     "output_type": "stream",
     "text": [
      "MultiLabelF1Score\n",
      "Dataset: casme, n=189 | train_mean: 1.0 | test_mean: 0.5858\n",
      "Test per AU: [('AU1', 71.78), ('AU2', 82.05), ('AU4', 76.55), ('AU5', 49.87), ('AU6', 49.33), ('AU7', 57.86), ('AU9', 46.65), ('AU10', 49.47), ('AU12', 69.52), ('AU14', 46.31), ('AU15', 48.08), ('AU17', 55.49)]\n",
      "\n",
      "MultiLabelF1Score\n",
      "Dataset: casme, n=189 | train_mean: 1.0 | test_mean: 0.2199\n",
      "Test per AU: [('AU1', 48.48), ('AU2', 66.67), ('AU4', 69.23), ('AU5', 0.0), ('AU6', 0.0), ('AU7', 18.18), ('AU9', 4.88), ('AU10', 0.0), ('AU12', 42.11), ('AU14', 0.0), ('AU15', 0.0), ('AU17', 14.29)]\n",
      "\n",
      "MultiLabelF1Score\n",
      "Dataset: casme2, n=256 | train_mean: 0.9982 | test_mean: 0.6915\n",
      "Test per AU: [('AU1', 92.87), ('AU2', 85.84), ('AU4', 92.57), ('AU5', 49.8), ('AU6', 66.54), ('AU7', 75.18), ('AU9', 48.7), ('AU10', 54.37), ('AU12', 71.59), ('AU14', 73.34), ('AU15', 54.37), ('AU17', 64.59)]\n",
      "\n",
      "MultiLabelF1Score\n",
      "Dataset: casme2, n=256 | train_mean: 0.9969 | test_mean: 0.4197\n",
      "Test per AU: [('AU1', 87.27), ('AU2', 74.51), ('AU4', 92.31), ('AU5', 0.0), ('AU6', 35.29), ('AU7', 57.14), ('AU9', 0.0), ('AU10', 11.76), ('AU12', 49.06), ('AU14', 51.16), ('AU15', 11.76), ('AU17', 33.33)]\n",
      "\n",
      "MultiLabelF1Score\n",
      "Dataset: samm, n=159 | train_mean: 1.0 | test_mean: 0.6869\n",
      "Test per AU: [('AU1', 70.56), ('AU2', 83.53), ('AU4', 94.72), ('AU5', 55.17), ('AU6', 49.52), ('AU7', 83.3), ('AU9', 78.09), ('AU10', 59.98), ('AU12', 51.75), ('AU14', 62.65), ('AU15', 66.03), ('AU17', 69.03)]\n",
      "\n",
      "MultiLabelF1Score\n",
      "Dataset: samm, n=159 | train_mean: 1.0 | test_mean: 0.409\n",
      "Test per AU: [('AU1', 44.44), ('AU2', 70.59), ('AU4', 90.91), ('AU5', 14.29), ('AU6', 0.0), ('AU7', 75.0), ('AU9', 57.14), ('AU10', 22.22), ('AU12', 12.9), ('AU14', 30.0), ('AU15', 33.33), ('AU17', 40.0)]\n",
      "\n",
      "MultiLabelF1Score\n",
      "Dataset: fourd, n=267 | train_mean: 1.0 | test_mean: 0.6579\n",
      "Test per AU: [('AU1', 88.91), ('AU2', 79.95), ('AU4', 87.86), ('AU5', 64.53), ('AU6', 46.92), ('AU7', 70.75), ('AU9', 49.81), ('AU10', 49.53), ('AU12', 68.06), ('AU14', 49.34), ('AU15', 63.81), ('AU17', 69.98)]\n",
      "\n",
      "MultiLabelF1Score\n",
      "Dataset: fourd, n=267 | train_mean: 1.0 | test_mean: 0.3639\n",
      "Test per AU: [('AU1', 81.4), ('AU2', 66.67), ('AU4', 84.54), ('AU5', 31.58), ('AU6', 0.0), ('AU7', 56.3), ('AU9', 0.0), ('AU10', 0.0), ('AU12', 45.57), ('AU14', 0.0), ('AU15', 28.57), ('AU17', 42.11)]\n",
      "\n",
      "MultiLabelF1Score\n",
      "Dataset: mmew, n=300 | train_mean: 0.9999 | test_mean: 0.6312\n",
      "Test per AU: [('AU1', 87.3), ('AU2', 82.16), ('AU4', 87.26), ('AU5', 46.34), ('AU6', 49.15), ('AU7', 52.0), ('AU9', 57.48), ('AU10', 46.62), ('AU12', 61.33), ('AU14', 64.52), ('AU15', 48.98), ('AU17', 74.32)]\n",
      "\n",
      "MultiLabelF1Score\n",
      "Dataset: mmew, n=300 | train_mean: 0.9998 | test_mean: 0.3167\n",
      "Test per AU: [('AU1', 78.79), ('AU2', 69.14), ('AU4', 83.57), ('AU5', 5.56), ('AU6', 0.0), ('AU7', 12.0), ('AU9', 19.35), ('AU10', 0.0), ('AU12', 29.63), ('AU14', 32.0), ('AU15', 0.0), ('AU17', 50.0)]\n",
      "\n",
      "MultiLabelF1Score\n",
      "Dataset: casme3a, n=860 | train_mean: 1.0 | test_mean: 0.6246\n",
      "Test per AU: [('AU1', 82.39), ('AU2', 78.31), ('AU4', 88.34), ('AU5', 48.69), ('AU6', 49.68), ('AU7', 62.84), ('AU9', 60.28), ('AU10', 49.62), ('AU12', 53.49), ('AU14', 58.45), ('AU15', 49.53), ('AU17', 67.85)]\n",
      "\n",
      "MultiLabelF1Score\n",
      "Dataset: casme3a, n=860 | train_mean: 1.0 | test_mean: 0.2869\n",
      "Test per AU: [('AU1', 70.04), ('AU2', 61.76), ('AU4', 84.1), ('AU5', 0.0), ('AU6', 0.0), ('AU7', 30.0), ('AU9', 23.33), ('AU10', 0.0), ('AU12', 9.3), ('AU14', 28.21), ('AU15', 0.0), ('AU17', 37.5)]\n",
      "\n",
      "Final results\n",
      "\n",
      "MultiLabelF1Score\n",
      "All AUs:  [('AU1', 84.39), ('AU2', 80.75), ('AU4', 88.18), ('AU5', 52.16), ('AU6', 53.01), ('AU7', 70.78), ('AU9', 56.8), ('AU10', 51.29), ('AU12', 64.4), ('AU14', 60.95), ('AU15', 53.34), ('AU17', 67.14)]\n",
      "Mean:  65.27\n",
      "\n",
      "\n",
      "MultiLabelF1Score\n",
      "All AUs:  [('AU1', 72.99), ('AU2', 66.12), ('AU4', 84.36), ('AU5', 7.89), ('AU6', 7.79), ('AU7', 47.98), ('AU9', 16.88), ('AU10', 4.65), ('AU12', 33.69), ('AU14', 28.73), ('AU15', 8.33), ('AU17', 36.5)]\n",
      "Mean:  34.66\n",
      "\n",
      "\n"
     ]
    },
    {
     "name": "stderr",
     "output_type": "stream",
     "text": [
      "100%|█████████████████████████████████████████| 5/5 [1:31:52<00:00, 1102.48s/it]"
     ]
    },
    {
     "name": "stdout",
     "output_type": "stream",
     "text": [
      "MultiLabelF1Score\n",
      "AUS: ['AU1', 'AU2', 'AU4', 'AU5', 'AU6', 'AU7', 'AU9', 'AU10', 'AU12', 'AU14', 'AU15', 'AU17', 'Average']\n",
      "82.0 & 80.3 & 87.8 & 52.3 & 52.3 & 66.2 & 53.7 & 52.4 & 63.0 & 61.2 & 53.5 & 68.7 & 64.4\n",
      "\n",
      "Datasets:  ['casme', 'casme2', 'samm', 'fourd', 'mmew', 'casme3a', 'Average']\n",
      "58.0 & 68.1 & 66.3 & 64.3 & 63.5 & 61.9 & 63.7\n",
      "MultiLabelF1Score\n",
      "AUS: ['AU1', 'AU2', 'AU4', 'AU5', 'AU6', 'AU7', 'AU9', 'AU10', 'AU12', 'AU14', 'AU15', 'AU17', 'Average']\n",
      "68.7 & 65.2 & 83.8 & 8.3 & 6.4 & 39.6 & 11.0 & 6.8 & 31.0 & 29.6 & 8.8 & 39.6 & 33.2\n",
      "\n",
      "Datasets:  ['casme', 'casme2', 'samm', 'fourd', 'mmew', 'casme3a', 'Average']\n",
      "21.2 & 39.8 & 36.7 & 33.8 & 32.6 & 27.7 & 32.0\n"
     ]
    },
    {
     "name": "stderr",
     "output_type": "stream",
     "text": [
      "\n"
     ]
    }
   ],
   "source": [
    "core.CrossDatasetValidator(Config).validate_n_times(df, data, n_times=5)"
   ]
  }
 ],
 "metadata": {
  "kernelspec": {
   "display_name": "Python 3 (ipykernel)",
   "language": "python",
   "name": "python3"
  },
  "language_info": {
   "codemirror_mode": {
    "name": "ipython",
    "version": 3
   },
   "file_extension": ".py",
   "mimetype": "text/x-python",
   "name": "python",
   "nbconvert_exporter": "python",
   "pygments_lexer": "ipython3",
   "version": "3.10.4"
  }
 },
 "nbformat": 4,
 "nbformat_minor": 2
}
