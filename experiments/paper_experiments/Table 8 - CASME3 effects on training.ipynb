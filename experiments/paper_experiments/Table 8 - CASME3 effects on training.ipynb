{
 "cells": [
  {
   "cell_type": "code",
   "execution_count": 1,
   "id": "02bff4e8",
   "metadata": {},
   "outputs": [],
   "source": [
    "import meb\n",
    "from meb import utils\n",
    "from meb import datasets\n",
    "from meb import core\n",
    "from meb import models\n",
    "\n",
    "from functools import partial\n",
    "\n",
    "import numpy as np\n",
    "import pandas as pd\n",
    "import matplotlib.pyplot as plt\n",
    "import torch\n",
    "import torch.nn as nn\n",
    "import torch.optim as optim\n",
    "import torchvision\n",
    "from torchvision import transforms\n",
    "import timm\n",
    "\n",
    "\n",
    "\n",
    "pd.set_option(\"display.max_columns\", 50)\n",
    "%load_ext autoreload\n",
    "%autoreload 2"
   ]
  },
  {
   "cell_type": "code",
   "execution_count": 35,
   "id": "3e4aca42",
   "metadata": {},
   "outputs": [],
   "source": [
    "c = datasets.CrossDataset(resize=64, optical_flow=True)\n",
    "df = c.data_frame\n",
    "data = c.data"
   ]
  },
  {
   "cell_type": "code",
   "execution_count": 12,
   "id": "9042f865",
   "metadata": {},
   "outputs": [],
   "source": [
    "class Config(core.Config):\n",
    "    device = torch.device(\"cuda:0\")\n",
    "    num_workers = 0\n",
    "    evaluation_fn = [\n",
    "        partial(utils.MultiLabelF1Score, average=\"macro\"),\n",
    "        partial(utils.MultiLabelF1Score, average=\"binary\")\n",
    "    ]\n",
    "    epochs = 200\n",
    "    batch_size = 128\n",
    "    model = partial(meb.models.SSSNet, num_classes=len(core.Config.action_units))"
   ]
  },
  {
   "cell_type": "code",
   "execution_count": 5,
   "id": "c40119ac",
   "metadata": {},
   "outputs": [],
   "source": [
    "from tqdm import tqdm"
   ]
  },
  {
   "cell_type": "code",
   "execution_count": 6,
   "id": "5eb369a5",
   "metadata": {},
   "outputs": [],
   "source": [
    "# Only validate casme2\n",
    "class IValidator(core.CrossDatasetValidator):\n",
    "    def __init__(self, config: \"Config\"):\n",
    "        super().__init__(config)\n",
    "        \n",
    "    def validate_n_times(\n",
    "        self, df: pd.DataFrame, input_data, n_times: int = 5\n",
    "    ) -> None:\n",
    "        self.verbose = False\n",
    "        self.disable_tqdm = True\n",
    "        au_results = []\n",
    "        dataset_results = []\n",
    "        casme2_idx = df[\"dataset\"] == \"casme2\"\n",
    "        for n in tqdm(range(n_times)):\n",
    "            outputs_list = self.validate(df, input_data, seed_n=n + 45)\n",
    "            au_result, dataset_result = self.printer.results_to_list(outputs_list, df[casme2_idx])\n",
    "            au_results.append(au_result)\n",
    "            dataset_results.append(dataset_result)\n",
    "\n",
    "        aus = [i for i in self.cf.action_units]\n",
    "        dataset_names = df[\"dataset\"].unique().tolist()\n",
    "        aus.append(\"Average\")\n",
    "        dataset_names.append(\"Average\")\n",
    "        au_results = np.array(au_results)\n",
    "        dataset_results = np.array(dataset_results)\n",
    "        for i in range(len(self.cf.evaluation_fn)):\n",
    "            if len(self.cf.evaluation_fn) > 1:\n",
    "                print(self.printer.metric_name(self.cf.evaluation_fn[i]))\n",
    "            au_result = self.printer.list_to_latex(list(au_results[:, i].mean(axis=0)))\n",
    "            dataset_result = self.printer.list_to_latex(\n",
    "                list(dataset_results[:, i].mean(axis=0))\n",
    "            )\n",
    "            print(\"AUS:\", aus)\n",
    "            print(au_result)\n",
    "            print(\"\\nDatasets: \", dataset_names)\n",
    "            print(dataset_result)\n",
    "    \n",
    "    def validate(self, df: pd.DataFrame, input_data: np.ndarray, seed_n: int = 1):\n",
    "        utils.set_random_seeds(seed_n)\n",
    "        dataset_names = df[\"dataset\"].unique()\n",
    "        # Create a boolean array with the AUs\n",
    "        labels = np.array(df[self.cf.action_units])\n",
    "        outputs_list = []\n",
    "        for dataset_name in dataset_names:\n",
    "            if dataset_name != \"casme2\":\n",
    "                continue\n",
    "            train_metrics, test_metrics, outputs_test = self.validate_split(\n",
    "                df, input_data, labels, dataset_name\n",
    "            )\n",
    "            outputs_list.append(outputs_test)\n",
    "            if self.verbose:\n",
    "                self.printer.print_train_test_evaluation(\n",
    "                    train_metrics, test_metrics, dataset_name, outputs_test.shape[0]\n",
    "                )\n",
    "\n",
    "        # Calculate total f1-scores\n",
    "        predictions = torch.cat(outputs_list)\n",
    "        idx = df[\"dataset\"] == \"casme2\"\n",
    "        metrics = self.evaluation_fn(labels[idx], predictions)\n",
    "        if self.verbose:\n",
    "            self.printer.print_test_validation(metrics)\n",
    "        return outputs_list"
   ]
  },
  {
   "cell_type": "code",
   "execution_count": 7,
   "id": "a08ea2b1",
   "metadata": {},
   "outputs": [],
   "source": [
    "#how is casme3 of extracted for samples with onset == apex?"
   ]
  },
  {
   "cell_type": "markdown",
   "id": "55b358f9",
   "metadata": {},
   "source": [
    "## First row\n",
    "concatenating other datasets, no casme3"
   ]
  },
  {
   "cell_type": "code",
   "execution_count": 13,
   "id": "64290d80",
   "metadata": {
    "scrolled": true
   },
   "outputs": [
    {
     "name": "stdout",
     "output_type": "stream",
     "text": [
      "['casme2', 'casme']\n"
     ]
    },
    {
     "name": "stderr",
     "output_type": "stream",
     "text": [
      "  0%|                                                     | 0/5 [00:00<?, ?it/s]/home/tvaranka/anaconda3/envs/python3.10/lib/python3.10/site-packages/sklearn/metrics/_classification.py:1599: UndefinedMetricWarning: F-score is ill-defined and being set to 0.0 due to no true nor predicted samples. Use `zero_division` parameter to control this behavior.\n",
      "  _warn_prf(average, \"true nor predicted\", \"F-score is\", len(true_sum))\n",
      " 20%|█████████                                    | 1/5 [00:05<00:21,  5.43s/it]/home/tvaranka/anaconda3/envs/python3.10/lib/python3.10/site-packages/sklearn/metrics/_classification.py:1599: UndefinedMetricWarning: F-score is ill-defined and being set to 0.0 due to no true nor predicted samples. Use `zero_division` parameter to control this behavior.\n",
      "  _warn_prf(average, \"true nor predicted\", \"F-score is\", len(true_sum))\n",
      " 40%|██████████████████                           | 2/5 [00:10<00:16,  5.49s/it]/home/tvaranka/anaconda3/envs/python3.10/lib/python3.10/site-packages/sklearn/metrics/_classification.py:1599: UndefinedMetricWarning: F-score is ill-defined and being set to 0.0 due to no true nor predicted samples. Use `zero_division` parameter to control this behavior.\n",
      "  _warn_prf(average, \"true nor predicted\", \"F-score is\", len(true_sum))\n",
      " 60%|███████████████████████████                  | 3/5 [00:16<00:11,  5.52s/it]/home/tvaranka/anaconda3/envs/python3.10/lib/python3.10/site-packages/sklearn/metrics/_classification.py:1599: UndefinedMetricWarning: F-score is ill-defined and being set to 0.0 due to no true nor predicted samples. Use `zero_division` parameter to control this behavior.\n",
      "  _warn_prf(average, \"true nor predicted\", \"F-score is\", len(true_sum))\n",
      " 80%|████████████████████████████████████         | 4/5 [00:22<00:05,  5.51s/it]/home/tvaranka/anaconda3/envs/python3.10/lib/python3.10/site-packages/sklearn/metrics/_classification.py:1599: UndefinedMetricWarning: F-score is ill-defined and being set to 0.0 due to no true nor predicted samples. Use `zero_division` parameter to control this behavior.\n",
      "  _warn_prf(average, \"true nor predicted\", \"F-score is\", len(true_sum))\n",
      "100%|█████████████████████████████████████████████| 5/5 [00:27<00:00,  5.49s/it]\n"
     ]
    },
    {
     "name": "stdout",
     "output_type": "stream",
     "text": [
      "MultiLabelF1Score\n",
      "AUS: ['AU1', 'AU2', 'AU4', 'AU5', 'AU6', 'AU7', 'AU9', 'AU10', 'AU12', 'AU14', 'AU15', 'AU17', 'Average']\n",
      "90.7 & 79.2 & 94.2 & 49.8 & 48.7 & 45.9 & 55.8 & 48.4 & 56.3 & 64.0 & 71.0 & 76.5 & 65.1\n",
      "\n",
      "Datasets:  ['casme', 'casme2', 'Average']\n",
      "65.1 & 65.1\n",
      "MultiLabelF1Score\n",
      "AUS: ['AU1', 'AU2', 'AU4', 'AU5', 'AU6', 'AU7', 'AU9', 'AU10', 'AU12', 'AU14', 'AU15', 'AU17', 'Average']\n",
      "83.7 & 62.9 & 94.3 & 0.0 & 0.0 & 0.0 & 14.4 & 0.0 & 19.2 & 36.1 & 44.4 & 56.3 & 34.3\n",
      "\n",
      "Datasets:  ['casme', 'casme2', 'Average']\n",
      "34.3 & 34.3\n",
      "['casme2', 'casme', 'samm']\n"
     ]
    },
    {
     "name": "stderr",
     "output_type": "stream",
     "text": [
      "100%|█████████████████████████████████████████████| 5/5 [00:44<00:00,  8.95s/it]\n"
     ]
    },
    {
     "name": "stdout",
     "output_type": "stream",
     "text": [
      "MultiLabelF1Score\n",
      "AUS: ['AU1', 'AU2', 'AU4', 'AU5', 'AU6', 'AU7', 'AU9', 'AU10', 'AU12', 'AU14', 'AU15', 'AU17', 'Average']\n",
      "95.5 & 84.7 & 94.4 & 49.8 & 48.7 & 63.5 & 63.8 & 48.2 & 71.3 & 68.9 & 70.3 & 77.9 & 69.7\n",
      "\n",
      "Datasets:  ['casme', 'casme2', 'samm', 'Average']\n",
      "69.7 & 69.7\n",
      "MultiLabelF1Score\n",
      "AUS: ['AU1', 'AU2', 'AU4', 'AU5', 'AU6', 'AU7', 'AU9', 'AU10', 'AU12', 'AU14', 'AU15', 'AU17', 'Average']\n",
      "91.9 & 72.5 & 94.3 & 0.0 & 0.0 & 34.0 & 30.1 & 0.0 & 48.4 & 43.0 & 42.9 & 58.9 & 43.0\n",
      "\n",
      "Datasets:  ['casme', 'casme2', 'samm', 'Average']\n",
      "43.0 & 43.0\n",
      "['casme2', 'casme', 'samm', 'mmew']\n"
     ]
    },
    {
     "name": "stderr",
     "output_type": "stream",
     "text": [
      "100%|█████████████████████████████████████████████| 5/5 [01:26<00:00, 17.39s/it]\n"
     ]
    },
    {
     "name": "stdout",
     "output_type": "stream",
     "text": [
      "MultiLabelF1Score\n",
      "AUS: ['AU1', 'AU2', 'AU4', 'AU5', 'AU6', 'AU7', 'AU9', 'AU10', 'AU12', 'AU14', 'AU15', 'AU17', 'Average']\n",
      "93.7 & 82.8 & 96.2 & 48.1 & 52.9 & 68.0 & 56.3 & 51.0 & 69.1 & 67.3 & 61.2 & 80.3 & 68.9\n",
      "\n",
      "Datasets:  ['casme', 'casme2', 'samm', 'mmew', 'Average']\n",
      "68.9 & 68.9\n",
      "MultiLabelF1Score\n",
      "AUS: ['AU1', 'AU2', 'AU4', 'AU5', 'AU6', 'AU7', 'AU9', 'AU10', 'AU12', 'AU14', 'AU15', 'AU17', 'Average']\n",
      "88.8 & 69.4 & 96.3 & 0.0 & 8.4 & 43.8 & 15.3 & 5.8 & 44.6 & 39.6 & 25.2 & 63.4 & 41.7\n",
      "\n",
      "Datasets:  ['casme', 'casme2', 'samm', 'mmew', 'Average']\n",
      "41.7 & 41.7\n",
      "['casme2', 'casme', 'samm', 'mmew', 'fourd']\n"
     ]
    },
    {
     "name": "stderr",
     "output_type": "stream",
     "text": [
      "100%|█████████████████████████████████████████████| 5/5 [01:57<00:00, 23.45s/it]"
     ]
    },
    {
     "name": "stdout",
     "output_type": "stream",
     "text": [
      "MultiLabelF1Score\n",
      "AUS: ['AU1', 'AU2', 'AU4', 'AU5', 'AU6', 'AU7', 'AU9', 'AU10', 'AU12', 'AU14', 'AU15', 'AU17', 'Average']\n",
      "93.1 & 84.2 & 96.5 & 49.8 & 63.8 & 72.6 & 54.0 & 53.4 & 75.6 & 66.8 & 69.6 & 79.7 & 71.6\n",
      "\n",
      "Datasets:  ['casme', 'casme2', 'samm', 'fourd', 'mmew', 'Average']\n",
      "71.6 & 71.6\n",
      "MultiLabelF1Score\n",
      "AUS: ['AU1', 'AU2', 'AU4', 'AU5', 'AU6', 'AU7', 'AU9', 'AU10', 'AU12', 'AU14', 'AU15', 'AU17', 'Average']\n",
      "87.8 & 71.9 & 96.4 & 0.0 & 30.2 & 54.0 & 10.7 & 10.3 & 57.2 & 38.4 & 41.5 & 62.3 & 46.7\n",
      "\n",
      "Datasets:  ['casme', 'casme2', 'samm', 'fourd', 'mmew', 'Average']\n",
      "46.7 & 46.7\n"
     ]
    },
    {
     "name": "stderr",
     "output_type": "stream",
     "text": [
      "\n"
     ]
    }
   ],
   "source": [
    "use_datasets = [\"casme2\"]\n",
    "for dataset in [\"casme\", \"samm\", \"mmew\", \"fourd\"]:\n",
    "    use_datasets.append(dataset)\n",
    "    idx = df[\"dataset\"].isin(use_datasets)\n",
    "    print(use_datasets)\n",
    "    IValidator(Config).validate_n_times(df[idx].reset_index(), data[idx], n_times=5)"
   ]
  },
  {
   "cell_type": "code",
   "execution_count": 8,
   "id": "d1e491bb",
   "metadata": {
    "scrolled": true
   },
   "outputs": [
    {
     "name": "stderr",
     "output_type": "stream",
     "text": [
      "100%|███████████████████████████████████████████| 10/10 [01:43<00:00, 10.35s/it]"
     ]
    },
    {
     "name": "stdout",
     "output_type": "stream",
     "text": [
      "AUS: ['AU1', 'AU2', 'AU4', 'AU5', 'AU6', 'AU7', 'AU9', 'AU10', 'AU12', 'AU14', 'AU15', 'AU17', 'Average']\n",
      "[0.89970545 0.78942949 0.94140056 0.49803922 0.48697395 0.45877378\n",
      " 0.5599481  0.48387097 0.53712028 0.64364151 0.71085752 0.78906151]\n",
      "\n",
      "Overall: \n",
      "0.6499018604891913\n"
     ]
    },
    {
     "name": "stderr",
     "output_type": "stream",
     "text": [
      "\n"
     ]
    }
   ],
   "source": [
    "idx = df[\"dataset\"].isin([\"casme2\", \"casme\"])\n",
    "out = IValidation(Config).validate_n_times(df[idx].reset_index(), data[idx], n_times=10)"
   ]
  },
  {
   "cell_type": "code",
   "execution_count": 9,
   "id": "010ff642",
   "metadata": {
    "scrolled": true
   },
   "outputs": [
    {
     "name": "stderr",
     "output_type": "stream",
     "text": [
      "100%|███████████████████████████████████████████| 10/10 [03:05<00:00, 18.55s/it]"
     ]
    },
    {
     "name": "stdout",
     "output_type": "stream",
     "text": [
      "AUS: ['AU1', 'AU2', 'AU4', 'AU5', 'AU6', 'AU7', 'AU9', 'AU10', 'AU12', 'AU14', 'AU15', 'AU17', 'Average']\n",
      "[0.940153   0.84953509 0.94567996 0.49784198 0.48697395 0.66927513\n",
      " 0.63513766 0.48735037 0.71137314 0.69943936 0.71758283 0.78397535]\n",
      "\n",
      "Overall: \n",
      "0.7020264849231566\n"
     ]
    },
    {
     "name": "stderr",
     "output_type": "stream",
     "text": [
      "\n"
     ]
    }
   ],
   "source": [
    "idx = df[\"dataset\"].isin([\"casme2\", \"casme\", \"samm\"])\n",
    "out = IValidation(Config).validate_n_times(df[idx].reset_index(), data[idx], n_times=10)"
   ]
  },
  {
   "cell_type": "code",
   "execution_count": 10,
   "id": "01065048",
   "metadata": {
    "scrolled": true
   },
   "outputs": [
    {
     "name": "stderr",
     "output_type": "stream",
     "text": [
      "100%|███████████████████████████████████████████| 10/10 [05:49<00:00, 34.93s/it]"
     ]
    },
    {
     "name": "stdout",
     "output_type": "stream",
     "text": [
      "AUS: ['AU1', 'AU2', 'AU4', 'AU5', 'AU6', 'AU7', 'AU9', 'AU10', 'AU12', 'AU14', 'AU15', 'AU17', 'Average']\n",
      "[0.94136162 0.82865244 0.96406015 0.48695131 0.52133649 0.6849995\n",
      " 0.55342873 0.5267194  0.73422655 0.7056407  0.64254987 0.80775454]\n",
      "\n",
      "Overall: \n",
      "0.6998067749403412\n"
     ]
    },
    {
     "name": "stderr",
     "output_type": "stream",
     "text": [
      "\n"
     ]
    }
   ],
   "source": [
    "idx = df[\"dataset\"].isin([\"casme2\", \"casme\", \"samm\", \"mmew\"])\n",
    "out = IValidation(Config).validate_n_times(df[idx].reset_index(), data[idx], n_times=10)"
   ]
  },
  {
   "cell_type": "code",
   "execution_count": 11,
   "id": "12a89d56",
   "metadata": {
    "scrolled": true
   },
   "outputs": [
    {
     "name": "stderr",
     "output_type": "stream",
     "text": [
      "100%|███████████████████████████████████████████| 10/10 [07:57<00:00, 47.77s/it]"
     ]
    },
    {
     "name": "stdout",
     "output_type": "stream",
     "text": [
      "AUS: ['AU1', 'AU2', 'AU4', 'AU5', 'AU6', 'AU7', 'AU9', 'AU10', 'AU12', 'AU14', 'AU15', 'AU17', 'Average']\n",
      "[0.93350339 0.8393631  0.96288537 0.49803922 0.61912694 0.73321722\n",
      " 0.54682375 0.53443039 0.75882267 0.67309841 0.71125812 0.78507218]\n",
      "\n",
      "Overall: \n",
      "0.7163033960611523\n"
     ]
    },
    {
     "name": "stderr",
     "output_type": "stream",
     "text": [
      "\n"
     ]
    }
   ],
   "source": [
    "idx = df[\"dataset\"].isin([\"casme2\", \"casme\", \"samm\", \"mmew\", \"fourd\"])\n",
    "out = IValidation(Config).validate_n_times(df[idx].reset_index(), data[idx], n_times=10)"
   ]
  },
  {
   "cell_type": "markdown",
   "id": "d39d4ad3",
   "metadata": {},
   "source": [
    "## Second row\n",
    "Adding casme3 to the concatenated datasets"
   ]
  },
  {
   "cell_type": "code",
   "execution_count": 32,
   "id": "8ffaf721",
   "metadata": {
    "scrolled": true
   },
   "outputs": [
    {
     "name": "stdout",
     "output_type": "stream",
     "text": [
      "['casme2', 'casme3a']\n"
     ]
    },
    {
     "name": "stderr",
     "output_type": "stream",
     "text": [
      "100%|█████████████████████████████████████████████| 5/5 [01:46<00:00, 21.20s/it]\n"
     ]
    },
    {
     "name": "stdout",
     "output_type": "stream",
     "text": [
      "MultiLabelF1Score\n",
      "AUS: ['AU1', 'AU2', 'AU4', 'AU5', 'AU6', 'AU7', 'AU9', 'AU10', 'AU12', 'AU14', 'AU15', 'AU17', 'Average']\n",
      "93.0 & 85.6 & 92.9 & 49.4 & 48.7 & 51.3 & 49.5 & 48.4 & 55.3 & 74.5 & 48.4 & 76.9 & 64.5\n",
      "\n",
      "Datasets:  ['casme2', 'casme3a', 'Average']\n",
      "64.5 & 64.5\n",
      "MultiLabelF1Score\n",
      "AUS: ['AU1', 'AU2', 'AU4', 'AU5', 'AU6', 'AU7', 'AU9', 'AU10', 'AU12', 'AU14', 'AU15', 'AU17', 'Average']\n",
      "87.7 & 74.0 & 92.8 & 0.0 & 0.0 & 10.5 & 2.1 & 0.0 & 17.3 & 55.2 & 0.0 & 57.0 & 33.1\n",
      "\n",
      "Datasets:  ['casme2', 'casme3a', 'Average']\n",
      "33.1 & 33.1\n",
      "['casme2', 'casme3a', 'casme']\n"
     ]
    },
    {
     "name": "stderr",
     "output_type": "stream",
     "text": [
      "100%|█████████████████████████████████████████████| 5/5 [02:12<00:00, 26.51s/it]\n"
     ]
    },
    {
     "name": "stdout",
     "output_type": "stream",
     "text": [
      "MultiLabelF1Score\n",
      "AUS: ['AU1', 'AU2', 'AU4', 'AU5', 'AU6', 'AU7', 'AU9', 'AU10', 'AU12', 'AU14', 'AU15', 'AU17', 'Average']\n",
      "91.5 & 84.6 & 94.4 & 49.7 & 48.7 & 50.4 & 51.5 & 48.4 & 52.8 & 76.8 & 56.3 & 76.9 & 65.2\n",
      "\n",
      "Datasets:  ['casme', 'casme2', 'casme3a', 'Average']\n",
      "65.2 & 65.2\n",
      "MultiLabelF1Score\n",
      "AUS: ['AU1', 'AU2', 'AU4', 'AU5', 'AU6', 'AU7', 'AU9', 'AU10', 'AU12', 'AU14', 'AU15', 'AU17', 'Average']\n",
      "85.1 & 72.4 & 94.4 & 0.0 & 0.0 & 8.7 & 6.4 & 0.0 & 12.6 & 58.9 & 15.5 & 57.0 & 34.2\n",
      "\n",
      "Datasets:  ['casme', 'casme2', 'casme3a', 'Average']\n",
      "34.2 & 34.2\n",
      "['casme2', 'casme3a', 'casme', 'samm']\n"
     ]
    },
    {
     "name": "stderr",
     "output_type": "stream",
     "text": [
      "100%|█████████████████████████████████████████████| 5/5 [02:29<00:00, 29.86s/it]\n"
     ]
    },
    {
     "name": "stdout",
     "output_type": "stream",
     "text": [
      "MultiLabelF1Score\n",
      "AUS: ['AU1', 'AU2', 'AU4', 'AU5', 'AU6', 'AU7', 'AU9', 'AU10', 'AU12', 'AU14', 'AU15', 'AU17', 'Average']\n",
      "92.3 & 84.1 & 95.0 & 49.7 & 48.7 & 60.6 & 57.4 & 49.4 & 67.0 & 76.6 & 60.6 & 77.3 & 68.2\n",
      "\n",
      "Datasets:  ['casme', 'casme2', 'samm', 'casme3a', 'Average']\n",
      "68.2 & 68.2\n",
      "MultiLabelF1Score\n",
      "AUS: ['AU1', 'AU2', 'AU4', 'AU5', 'AU6', 'AU7', 'AU9', 'AU10', 'AU12', 'AU14', 'AU15', 'AU17', 'Average']\n",
      "86.4 & 71.5 & 94.9 & 0.0 & 0.0 & 28.3 & 17.5 & 2.2 & 39.7 & 58.1 & 24.1 & 57.6 & 40.0\n",
      "\n",
      "Datasets:  ['casme', 'casme2', 'samm', 'casme3a', 'Average']\n",
      "40.0 & 40.0\n",
      "['casme2', 'casme3a', 'casme', 'samm', 'mmew']\n"
     ]
    },
    {
     "name": "stderr",
     "output_type": "stream",
     "text": [
      "100%|█████████████████████████████████████████████| 5/5 [03:01<00:00, 36.34s/it]\n"
     ]
    },
    {
     "name": "stdout",
     "output_type": "stream",
     "text": [
      "MultiLabelF1Score\n",
      "AUS: ['AU1', 'AU2', 'AU4', 'AU5', 'AU6', 'AU7', 'AU9', 'AU10', 'AU12', 'AU14', 'AU15', 'AU17', 'Average']\n",
      "93.9 & 83.9 & 94.5 & 49.8 & 48.7 & 65.0 & 59.8 & 53.3 & 67.2 & 77.1 & 54.4 & 78.6 & 68.8\n",
      "\n",
      "Datasets:  ['casme', 'casme2', 'samm', 'mmew', 'casme3a', 'Average']\n",
      "68.8 & 68.8\n",
      "MultiLabelF1Score\n",
      "AUS: ['AU1', 'AU2', 'AU4', 'AU5', 'AU6', 'AU7', 'AU9', 'AU10', 'AU12', 'AU14', 'AU15', 'AU17', 'Average']\n",
      "89.1 & 71.1 & 94.4 & 0.0 & 0.0 & 37.0 & 22.4 & 10.2 & 40.1 & 59.4 & 11.8 & 60.1 & 41.3\n",
      "\n",
      "Datasets:  ['casme', 'casme2', 'samm', 'mmew', 'casme3a', 'Average']\n",
      "41.3 & 41.3\n",
      "['casme2', 'casme3a', 'casme', 'samm', 'mmew', 'fourd']\n"
     ]
    },
    {
     "name": "stderr",
     "output_type": "stream",
     "text": [
      "100%|█████████████████████████████████████████████| 5/5 [03:30<00:00, 42.12s/it]"
     ]
    },
    {
     "name": "stdout",
     "output_type": "stream",
     "text": [
      "MultiLabelF1Score\n",
      "AUS: ['AU1', 'AU2', 'AU4', 'AU5', 'AU6', 'AU7', 'AU9', 'AU10', 'AU12', 'AU14', 'AU15', 'AU17', 'Average']\n",
      "91.2 & 84.5 & 95.1 & 49.8 & 60.0 & 73.0 & 55.2 & 53.9 & 74.6 & 78.8 & 57.6 & 79.4 & 71.1\n",
      "\n",
      "Datasets:  ['casme', 'casme2', 'samm', 'fourd', 'mmew', 'casme3a', 'Average']\n",
      "71.1 & 71.1\n",
      "MultiLabelF1Score\n",
      "AUS: ['AU1', 'AU2', 'AU4', 'AU5', 'AU6', 'AU7', 'AU9', 'AU10', 'AU12', 'AU14', 'AU15', 'AU17', 'Average']\n",
      "84.4 & 72.3 & 95.0 & 0.0 & 22.5 & 52.3 & 13.0 & 11.0 & 54.3 & 61.9 & 18.0 & 61.7 & 45.5\n",
      "\n",
      "Datasets:  ['casme', 'casme2', 'samm', 'fourd', 'mmew', 'casme3a', 'Average']\n",
      "45.5 & 45.5\n"
     ]
    },
    {
     "name": "stderr",
     "output_type": "stream",
     "text": [
      "\n"
     ]
    }
   ],
   "source": [
    "use_datasets = [\"casme2\"]\n",
    "for dataset in [\"casme3a\", \"casme\", \"samm\", \"mmew\", \"fourd\"]:\n",
    "    use_datasets.append(dataset)\n",
    "    idx = df[\"dataset\"].isin(use_datasets)\n",
    "    print(use_datasets)\n",
    "    IValidator(Config).validate_n_times(df[idx].reset_index(), data[idx], n_times=5)"
   ]
  },
  {
   "cell_type": "code",
   "execution_count": 28,
   "id": "f00c1cc9",
   "metadata": {
    "scrolled": true
   },
   "outputs": [],
   "source": [
    "c3c = datasets.Casme3C(resize=64, optical_flow=True)\n",
    "dfc3 = c3c.data_frame\n",
    "datac3 = c3c.data\n",
    "\n",
    "dfc3.insert(5, \"apexf\", dfc3[\"apex\"] - dfc3[\"onset\"])\n",
    "dfc3.insert(6, \"dataset\", \"casme3c\")\n",
    "df = pd.concat([df, dfc3])\n",
    "# Fill empty action units\n",
    "df = df.fillna(0)\n",
    "df.loc[:, \"AU1\":] = df.loc[:, \"AU1\":].astype(int)\n",
    "\n",
    "data = np.concatenate([data, datac3])"
   ]
  },
  {
   "cell_type": "code",
   "execution_count": 29,
   "id": "0225398a",
   "metadata": {
    "scrolled": true
   },
   "outputs": [
    {
     "name": "stderr",
     "output_type": "stream",
     "text": [
      "100%|███████████████████████████████████████████| 10/10 [06:07<00:00, 36.78s/it]"
     ]
    },
    {
     "name": "stdout",
     "output_type": "stream",
     "text": [
      "AUS: ['AU1', 'AU2', 'AU4', 'AU5', 'AU6', 'AU7', 'AU9', 'AU10', 'AU12', 'AU14', 'AU15', 'AU17', 'Average']\n",
      "[[0.93257513 0.85689103 0.92772427 0.49446991 0.48697395 0.51365343\n",
      "  0.49670115 0.48345389 0.59570876 0.75913929 0.48387097 0.70608339]]\n",
      "\n",
      "Overall: \n",
      "0.6447704297758432\n"
     ]
    },
    {
     "name": "stderr",
     "output_type": "stream",
     "text": [
      "\n"
     ]
    }
   ],
   "source": [
    "idx = df[\"dataset\"].isin([\"casme2\", \"casme3a\", \"casme3c\"])\n",
    "out = IValidation(Config).validate_n_times(df[idx].reset_index(), data[idx], n_times=10)"
   ]
  },
  {
   "cell_type": "code",
   "execution_count": 12,
   "id": "fca0ad0a",
   "metadata": {
    "scrolled": true
   },
   "outputs": [
    {
     "name": "stderr",
     "output_type": "stream",
     "text": [
      "100%|███████████████████████████████████████████| 10/10 [10:15<00:00, 61.53s/it]"
     ]
    },
    {
     "name": "stdout",
     "output_type": "stream",
     "text": [
      "AUS: ['AU1', 'AU2', 'AU4', 'AU5', 'AU6', 'AU7', 'AU9', 'AU10', 'AU12', 'AU14', 'AU15', 'AU17', 'Average']\n",
      "[0.91734552 0.83766422 0.94726029 0.49715127 0.48697395 0.49453558\n",
      " 0.57053988 0.48355816 0.58553502 0.75733828 0.53703871 0.72603457]\n",
      "\n",
      "Overall: \n",
      "0.6534146206368597\n"
     ]
    },
    {
     "name": "stderr",
     "output_type": "stream",
     "text": [
      "\n"
     ]
    }
   ],
   "source": [
    "idx = df[\"dataset\"].isin([\"casme2\", \"casme\", \"casme3\"])\n",
    "out = IValidation(Config).validate_n_times(df[idx].reset_index(), data[idx], n_times=10)"
   ]
  },
  {
   "cell_type": "code",
   "execution_count": 13,
   "id": "21feb3a3",
   "metadata": {
    "scrolled": true
   },
   "outputs": [
    {
     "name": "stderr",
     "output_type": "stream",
     "text": [
      "100%|███████████████████████████████████████████| 10/10 [11:45<00:00, 70.59s/it]"
     ]
    },
    {
     "name": "stdout",
     "output_type": "stream",
     "text": [
      "AUS: ['AU1', 'AU2', 'AU4', 'AU5', 'AU6', 'AU7', 'AU9', 'AU10', 'AU12', 'AU14', 'AU15', 'AU17', 'Average']\n",
      "[0.92878457 0.82691803 0.95156128 0.49685387 0.48697395 0.58860038\n",
      " 0.60231851 0.48282786 0.70119856 0.7580642  0.59482364 0.69076489]\n",
      "\n",
      "Overall: \n",
      "0.6758074784921148\n"
     ]
    },
    {
     "name": "stderr",
     "output_type": "stream",
     "text": [
      "\n"
     ]
    }
   ],
   "source": [
    "idx = df[\"dataset\"].isin([\"casme2\", \"casme\", \"samm\", \"casme3\"])\n",
    "out = IValidation(Config).validate_n_times(df[idx].reset_index(), data[idx], n_times=10)"
   ]
  },
  {
   "cell_type": "code",
   "execution_count": 14,
   "id": "2b39ef1a",
   "metadata": {
    "scrolled": true
   },
   "outputs": [
    {
     "name": "stderr",
     "output_type": "stream",
     "text": [
      "100%|███████████████████████████████████████████| 10/10 [14:32<00:00, 87.23s/it]"
     ]
    },
    {
     "name": "stdout",
     "output_type": "stream",
     "text": [
      "AUS: ['AU1', 'AU2', 'AU4', 'AU5', 'AU6', 'AU7', 'AU9', 'AU10', 'AU12', 'AU14', 'AU15', 'AU17', 'Average']\n",
      "[0.93474669 0.8284188  0.94374268 0.49754613 0.48697395 0.63960877\n",
      " 0.59206643 0.53074722 0.69008358 0.76896651 0.54301882 0.68936683]\n",
      "\n",
      "Overall: \n",
      "0.6787738663626814\n"
     ]
    },
    {
     "name": "stderr",
     "output_type": "stream",
     "text": [
      "\n"
     ]
    }
   ],
   "source": [
    "idx = df[\"dataset\"].isin([\"casme2\", \"casme\", \"samm\", \"mmew\", \"casme3\"])\n",
    "out = IValidation(Config).validate_n_times(df[idx].reset_index(), data[idx], n_times=10)"
   ]
  },
  {
   "cell_type": "code",
   "execution_count": 15,
   "id": "8346f3d7",
   "metadata": {
    "scrolled": true
   },
   "outputs": [
    {
     "name": "stderr",
     "output_type": "stream",
     "text": [
      "100%|██████████████████████████████████████████| 10/10 [16:44<00:00, 100.41s/it]"
     ]
    },
    {
     "name": "stdout",
     "output_type": "stream",
     "text": [
      "AUS: ['AU1', 'AU2', 'AU4', 'AU5', 'AU6', 'AU7', 'AU9', 'AU10', 'AU12', 'AU14', 'AU15', 'AU17', 'Average']\n",
      "[0.93105667 0.83672571 0.94374558 0.4979406  0.59185124 0.73182471\n",
      " 0.55419973 0.54565222 0.7502311  0.77568596 0.63225343 0.70602143]\n",
      "\n",
      "Overall: \n",
      "0.7080990318653645\n"
     ]
    },
    {
     "name": "stderr",
     "output_type": "stream",
     "text": [
      "\n"
     ]
    }
   ],
   "source": [
    "idx = df[\"dataset\"].isin([\"casme2\", \"casme\", \"samm\", \"mmew\", \"fourd\", \"casme3\"])\n",
    "out = IValidation(Config).validate_n_times(df[idx].reset_index(), data[idx], n_times=10)"
   ]
  },
  {
   "cell_type": "markdown",
   "id": "a8f0eb19",
   "metadata": {},
   "source": [
    "## Third row\n",
    "Adding modified casme3"
   ]
  },
  {
   "cell_type": "code",
   "execution_count": 37,
   "id": "ba44b252",
   "metadata": {
    "scrolled": true
   },
   "outputs": [
    {
     "name": "stdout",
     "output_type": "stream",
     "text": [
      "['casme2', 'casme3a']\n"
     ]
    },
    {
     "name": "stderr",
     "output_type": "stream",
     "text": [
      "100%|█████████████████████████████████████████████| 5/5 [01:45<00:00, 21.17s/it]\n"
     ]
    },
    {
     "name": "stdout",
     "output_type": "stream",
     "text": [
      "MultiLabelF1Score\n",
      "AUS: ['AU1', 'AU2', 'AU4', 'AU5', 'AU6', 'AU7', 'AU9', 'AU10', 'AU12', 'AU14', 'AU15', 'AU17', 'Average']\n",
      "93.0 & 85.6 & 92.9 & 49.4 & 48.7 & 51.3 & 49.5 & 48.4 & 55.3 & 74.5 & 48.4 & 76.9 & 64.5\n",
      "\n",
      "Datasets:  ['casme2', 'casme3a', 'Average']\n",
      "64.5 & 64.5\n",
      "MultiLabelF1Score\n",
      "AUS: ['AU1', 'AU2', 'AU4', 'AU5', 'AU6', 'AU7', 'AU9', 'AU10', 'AU12', 'AU14', 'AU15', 'AU17', 'Average']\n",
      "87.7 & 74.0 & 92.8 & 0.0 & 0.0 & 10.5 & 2.1 & 0.0 & 17.3 & 55.2 & 0.0 & 57.0 & 33.1\n",
      "\n",
      "Datasets:  ['casme2', 'casme3a', 'Average']\n",
      "33.1 & 33.1\n",
      "['casme2', 'casme3a', 'casme3c']\n"
     ]
    },
    {
     "name": "stderr",
     "output_type": "stream",
     "text": [
      "100%|█████████████████████████████████████████████| 5/5 [02:11<00:00, 26.20s/it]\n"
     ]
    },
    {
     "name": "stdout",
     "output_type": "stream",
     "text": [
      "MultiLabelF1Score\n",
      "AUS: ['AU1', 'AU2', 'AU4', 'AU5', 'AU6', 'AU7', 'AU9', 'AU10', 'AU12', 'AU14', 'AU15', 'AU17', 'Average']\n",
      "94.1 & 87.4 & 93.0 & 49.5 & 48.7 & 50.4 & 48.5 & 48.3 & 54.9 & 76.6 & 48.4 & 61.4 & 63.4\n",
      "\n",
      "Datasets:  ['casme2', 'casme3a', 'casme3c', 'Average']\n",
      "63.4 & 63.4\n",
      "MultiLabelF1Score\n",
      "AUS: ['AU1', 'AU2', 'AU4', 'AU5', 'AU6', 'AU7', 'AU9', 'AU10', 'AU12', 'AU14', 'AU15', 'AU17', 'Average']\n",
      "89.5 & 77.3 & 93.1 & 0.0 & 0.0 & 8.7 & 0.0 & 0.0 & 16.5 & 58.2 & 0.0 & 27.1 & 30.9\n",
      "\n",
      "Datasets:  ['casme2', 'casme3a', 'casme3c', 'Average']\n",
      "30.9 & 30.9\n",
      "['casme2', 'casme3a', 'casme3c', 'casme']\n"
     ]
    },
    {
     "name": "stderr",
     "output_type": "stream",
     "text": [
      "100%|█████████████████████████████████████████████| 5/5 [02:29<00:00, 29.86s/it]\n"
     ]
    },
    {
     "name": "stdout",
     "output_type": "stream",
     "text": [
      "MultiLabelF1Score\n",
      "AUS: ['AU1', 'AU2', 'AU4', 'AU5', 'AU6', 'AU7', 'AU9', 'AU10', 'AU12', 'AU14', 'AU15', 'AU17', 'Average']\n",
      "92.1 & 85.1 & 94.8 & 49.7 & 48.7 & 48.0 & 55.0 & 48.4 & 59.6 & 76.5 & 52.0 & 70.9 & 65.1\n",
      "\n",
      "Datasets:  ['casme', 'casme2', 'casme3a', 'casme3c', 'Average']\n",
      "65.1 & 65.1\n",
      "MultiLabelF1Score\n",
      "AUS: ['AU1', 'AU2', 'AU4', 'AU5', 'AU6', 'AU7', 'AU9', 'AU10', 'AU12', 'AU14', 'AU15', 'AU17', 'Average']\n",
      "86.2 & 73.2 & 94.9 & 0.0 & 0.0 & 4.0 & 13.1 & 0.0 & 25.6 & 58.2 & 7.1 & 45.4 & 34.0\n",
      "\n",
      "Datasets:  ['casme', 'casme2', 'casme3a', 'casme3c', 'Average']\n",
      "34.0 & 34.0\n",
      "['casme2', 'casme3a', 'casme3c', 'casme', 'samm']\n"
     ]
    },
    {
     "name": "stderr",
     "output_type": "stream",
     "text": [
      "100%|█████████████████████████████████████████████| 5/5 [02:46<00:00, 33.38s/it]\n"
     ]
    },
    {
     "name": "stdout",
     "output_type": "stream",
     "text": [
      "MultiLabelF1Score\n",
      "AUS: ['AU1', 'AU2', 'AU4', 'AU5', 'AU6', 'AU7', 'AU9', 'AU10', 'AU12', 'AU14', 'AU15', 'AU17', 'Average']\n",
      "93.4 & 84.8 & 95.1 & 49.7 & 48.7 & 56.3 & 59.2 & 48.3 & 70.5 & 75.7 & 56.5 & 69.8 & 67.3\n",
      "\n",
      "Datasets:  ['casme', 'casme2', 'samm', 'casme3a', 'casme3c', 'Average']\n",
      "67.3 & 67.3\n",
      "MultiLabelF1Score\n",
      "AUS: ['AU1', 'AU2', 'AU4', 'AU5', 'AU6', 'AU7', 'AU9', 'AU10', 'AU12', 'AU14', 'AU15', 'AU17', 'Average']\n",
      "88.3 & 72.8 & 95.1 & 0.0 & 0.0 & 20.3 & 21.1 & 0.0 & 46.3 & 56.4 & 15.9 & 43.4 & 38.3\n",
      "\n",
      "Datasets:  ['casme', 'casme2', 'samm', 'casme3a', 'casme3c', 'Average']\n",
      "38.3 & 38.3\n",
      "['casme2', 'casme3a', 'casme3c', 'casme', 'samm', 'mmew']\n"
     ]
    },
    {
     "name": "stderr",
     "output_type": "stream",
     "text": [
      "100%|█████████████████████████████████████████████| 5/5 [03:29<00:00, 41.82s/it]\n"
     ]
    },
    {
     "name": "stdout",
     "output_type": "stream",
     "text": [
      "MultiLabelF1Score\n",
      "AUS: ['AU1', 'AU2', 'AU4', 'AU5', 'AU6', 'AU7', 'AU9', 'AU10', 'AU12', 'AU14', 'AU15', 'AU17', 'Average']\n",
      "92.2 & 84.6 & 94.7 & 49.7 & 48.7 & 63.7 & 57.9 & 52.4 & 68.2 & 75.7 & 53.2 & 69.3 & 67.5\n",
      "\n",
      "Datasets:  ['casme', 'casme2', 'samm', 'mmew', 'casme3a', 'casme3c', 'Average']\n",
      "67.5 & 67.5\n",
      "MultiLabelF1Score\n",
      "AUS: ['AU1', 'AU2', 'AU4', 'AU5', 'AU6', 'AU7', 'AU9', 'AU10', 'AU12', 'AU14', 'AU15', 'AU17', 'Average']\n",
      "86.2 & 72.5 & 94.7 & 0.0 & 0.0 & 34.4 & 18.7 & 8.3 & 42.0 & 56.5 & 9.4 & 42.3 & 38.8\n",
      "\n",
      "Datasets:  ['casme', 'casme2', 'samm', 'mmew', 'casme3a', 'casme3c', 'Average']\n",
      "38.8 & 38.8\n",
      "['casme2', 'casme3a', 'casme3c', 'casme', 'samm', 'mmew', 'fourd']\n"
     ]
    },
    {
     "name": "stderr",
     "output_type": "stream",
     "text": [
      "100%|█████████████████████████████████████████████| 5/5 [03:59<00:00, 47.95s/it]"
     ]
    },
    {
     "name": "stdout",
     "output_type": "stream",
     "text": [
      "MultiLabelF1Score\n",
      "AUS: ['AU1', 'AU2', 'AU4', 'AU5', 'AU6', 'AU7', 'AU9', 'AU10', 'AU12', 'AU14', 'AU15', 'AU17', 'Average']\n",
      "92.2 & 84.3 & 94.3 & 49.8 & 58.0 & 70.7 & 53.7 & 54.0 & 74.4 & 78.7 & 60.5 & 67.8 & 69.9\n",
      "\n",
      "Datasets:  ['casme', 'casme2', 'samm', 'fourd', 'mmew', 'casme3a', 'casme3c', 'Average']\n",
      "69.9 & 69.9\n",
      "MultiLabelF1Score\n",
      "AUS: ['AU1', 'AU2', 'AU4', 'AU5', 'AU6', 'AU7', 'AU9', 'AU10', 'AU12', 'AU14', 'AU15', 'AU17', 'Average']\n",
      "86.2 & 72.0 & 94.3 & 0.0 & 18.4 & 48.0 & 10.0 & 11.3 & 53.9 & 61.2 & 23.9 & 39.5 & 43.2\n",
      "\n",
      "Datasets:  ['casme', 'casme2', 'samm', 'fourd', 'mmew', 'casme3a', 'casme3c', 'Average']\n",
      "43.2 & 43.2\n"
     ]
    },
    {
     "name": "stderr",
     "output_type": "stream",
     "text": [
      "\n"
     ]
    }
   ],
   "source": [
    "use_datasets = [\"casme2\"]\n",
    "for dataset in [\"casme3a\", \"casme3c\", \"casme\", \"samm\", \"mmew\", \"fourd\"]:\n",
    "    use_datasets.append(dataset)\n",
    "    idx = df[\"dataset\"].isin(use_datasets)\n",
    "    print(use_datasets)\n",
    "    IValidator(Config).validate_n_times(df[idx].reset_index(), data[idx], n_times=5)"
   ]
  },
  {
   "cell_type": "code",
   "execution_count": 47,
   "id": "e04dea8c",
   "metadata": {},
   "outputs": [],
   "source": [
    "# Modified casme3: only casme3a, drop samples with onset == apex, drop samples with n_frames > 16 (longer than 500ms)\n",
    "idx2 = (df[\"dataset\"] == \"casme3a\") #& ((df[\"onset\"] != df[\"apex\"]) & (df[\"n_frames\"] < 16))"
   ]
  },
  {
   "cell_type": "code",
   "execution_count": 30,
   "id": "958b4429",
   "metadata": {
    "scrolled": true
   },
   "outputs": [
    {
     "name": "stderr",
     "output_type": "stream",
     "text": [
      "100%|███████████████████████████████████████████| 10/10 [05:17<00:00, 31.71s/it]"
     ]
    },
    {
     "name": "stdout",
     "output_type": "stream",
     "text": [
      "AUS: ['AU1', 'AU2', 'AU4', 'AU5', 'AU6', 'AU7', 'AU9', 'AU10', 'AU12', 'AU14', 'AU15', 'AU17', 'Average']\n",
      "[[0.92832788 0.83409794 0.93396144 0.49506707 0.48697395 0.5160294\n",
      "  0.49982685 0.48387097 0.53811479 0.74524549 0.48387097 0.76397523]]\n",
      "\n",
      "Overall: \n",
      "0.642446831682417\n"
     ]
    },
    {
     "name": "stderr",
     "output_type": "stream",
     "text": [
      "\n"
     ]
    }
   ],
   "source": [
    "idx = df[\"dataset\"].isin([\"casme2\", \"casme3a\"])\n",
    "out = IValidation(Config).validate_n_times(df[idx].reset_index(), data[idx], n_times=10)"
   ]
  },
  {
   "cell_type": "code",
   "execution_count": 48,
   "id": "b2cad308",
   "metadata": {
    "scrolled": true
   },
   "outputs": [
    {
     "name": "stderr",
     "output_type": "stream",
     "text": [
      "100%|███████████████████████████████████████████| 10/10 [09:03<00:00, 54.35s/it]"
     ]
    },
    {
     "name": "stdout",
     "output_type": "stream",
     "text": [
      "AUS: ['AU1', 'AU2', 'AU4', 'AU5', 'AU6', 'AU7', 'AU9', 'AU10', 'AU12', 'AU14', 'AU15', 'AU17', 'Average']\n",
      "[0.91209391 0.83127101 0.93749137 0.4970511  0.48697395 0.50905896\n",
      " 0.55658349 0.4837667  0.52332092 0.76277157 0.56442964 0.77715368]\n",
      "\n",
      "Overall: \n",
      "0.6534971900044889\n"
     ]
    },
    {
     "name": "stderr",
     "output_type": "stream",
     "text": [
      "\n"
     ]
    }
   ],
   "source": [
    "idx = df[\"dataset\"].isin([\"casme2\", \"casme\", \"casme3a\"])\n",
    "out = IValidation(Config).validate_n_times(df[idx].reset_index(), data[idx], n_times=10)"
   ]
  },
  {
   "cell_type": "code",
   "execution_count": 49,
   "id": "3ecd2366",
   "metadata": {
    "scrolled": true
   },
   "outputs": [
    {
     "name": "stderr",
     "output_type": "stream",
     "text": [
      "100%|███████████████████████████████████████████| 10/10 [10:16<00:00, 61.61s/it]"
     ]
    },
    {
     "name": "stdout",
     "output_type": "stream",
     "text": [
      "AUS: ['AU1', 'AU2', 'AU4', 'AU5', 'AU6', 'AU7', 'AU9', 'AU10', 'AU12', 'AU14', 'AU15', 'AU17', 'Average']\n",
      "[0.930481   0.8306923  0.94608392 0.49754535 0.48697395 0.63872372\n",
      " 0.60518373 0.48837689 0.67737522 0.77392388 0.60391002 0.77544292]\n",
      "\n",
      "Overall: \n",
      "0.6878927407116191\n"
     ]
    },
    {
     "name": "stderr",
     "output_type": "stream",
     "text": [
      "\n"
     ]
    }
   ],
   "source": [
    "idx = df[\"dataset\"].isin([\"casme2\", \"casme\", \"samm\", \"casme3a\"])\n",
    "out = IValidation(Config).validate_n_times(df[idx].reset_index(), data[idx], n_times=10)"
   ]
  },
  {
   "cell_type": "code",
   "execution_count": 50,
   "id": "bf5729b6",
   "metadata": {
    "scrolled": true
   },
   "outputs": [
    {
     "name": "stderr",
     "output_type": "stream",
     "text": [
      "100%|███████████████████████████████████████████| 10/10 [12:55<00:00, 77.59s/it]"
     ]
    },
    {
     "name": "stdout",
     "output_type": "stream",
     "text": [
      "AUS: ['AU1', 'AU2', 'AU4', 'AU5', 'AU6', 'AU7', 'AU9', 'AU10', 'AU12', 'AU14', 'AU15', 'AU17', 'Average']\n",
      "[0.93318653 0.83463111 0.9449152  0.49744751 0.48697395 0.65835612\n",
      " 0.55993225 0.53360221 0.69242073 0.77094726 0.55965273 0.78430666]\n",
      "\n",
      "Overall: \n",
      "0.6880310215776422\n"
     ]
    },
    {
     "name": "stderr",
     "output_type": "stream",
     "text": [
      "\n"
     ]
    }
   ],
   "source": [
    "idx = df[\"dataset\"].isin([\"casme2\", \"casme\", \"samm\", \"mmew\", \"casme3a\"])\n",
    "out = IValidation(Config).validate_n_times(df[idx].reset_index(), data[idx], n_times=10)"
   ]
  },
  {
   "cell_type": "code",
   "execution_count": 51,
   "id": "1909a5d0",
   "metadata": {
    "scrolled": true
   },
   "outputs": [
    {
     "name": "stderr",
     "output_type": "stream",
     "text": [
      "100%|███████████████████████████████████████████| 10/10 [15:04<00:00, 90.48s/it]"
     ]
    },
    {
     "name": "stdout",
     "output_type": "stream",
     "text": [
      "AUS: ['AU1', 'AU2', 'AU4', 'AU5', 'AU6', 'AU7', 'AU9', 'AU10', 'AU12', 'AU14', 'AU15', 'AU17', 'Average']\n",
      "[0.91771109 0.83000837 0.94842837 0.4979406  0.60024385 0.73651197\n",
      " 0.55404105 0.54343596 0.75625474 0.78665166 0.63280343 0.8011827 ]\n",
      "\n",
      "Overall: \n",
      "0.717101148401076\n"
     ]
    },
    {
     "name": "stderr",
     "output_type": "stream",
     "text": [
      "\n"
     ]
    }
   ],
   "source": [
    "idx = df[\"dataset\"].isin([\"casme2\", \"casme\", \"samm\", \"mmew\", \"fourd\", \"casme3a\"])\n",
    "out = IValidation(Config).validate_n_times(df[idx].reset_index(), data[idx], n_times=10)"
   ]
  },
  {
   "cell_type": "code",
   "execution_count": null,
   "id": "0d9a6ce9",
   "metadata": {},
   "outputs": [],
   "source": [
    "!kill 11256"
   ]
  },
  {
   "cell_type": "markdown",
   "id": "e18630a5",
   "metadata": {},
   "source": [
    "Testing with different modified casme3"
   ]
  },
  {
   "cell_type": "code",
   "execution_count": 36,
   "id": "274ca476",
   "metadata": {},
   "outputs": [],
   "source": []
  },
  {
   "cell_type": "code",
   "execution_count": 40,
   "id": "0f6e1f8f",
   "metadata": {
    "scrolled": true
   },
   "outputs": [
    {
     "name": "stderr",
     "output_type": "stream",
     "text": [
      "100%|███████████████████████████████████████████| 10/10 [16:33<00:00, 99.40s/it]"
     ]
    },
    {
     "name": "stdout",
     "output_type": "stream",
     "text": [
      "AUS: ['AU1', 'AU2', 'AU4', 'AU5', 'AU6', 'AU7', 'AU9', 'AU10', 'AU12', 'AU14', 'AU15', 'AU17', 'Average']\n",
      "[0.93105667 0.83672571 0.94374558 0.4979406  0.59185124 0.73182471\n",
      " 0.55419973 0.54565222 0.7502311  0.77568596 0.63225343 0.70602143]\n",
      "\n",
      "Overall: \n",
      "0.7080990318653645\n"
     ]
    },
    {
     "name": "stderr",
     "output_type": "stream",
     "text": [
      "\n"
     ]
    }
   ],
   "source": [
    "idx = df[\"dataset\"].isin([\"casme2\", \"casme\", \"samm\", \"mmew\", \"fourd\", \"casme3\"])\n",
    "# Modified casme3: drop samples with onset == apex, drop samples with n_frames > 16 (longer than 500ms)\n",
    "idx2 = (df[\"dataset\"] == \"casme3\") & ((df[\"onset\"] != df[\"apex\"]) & (df[\"n_frames\"] < 16))\n",
    "idx |= idx2\n",
    "out = IValidation(Config).validate_n_times(df[idx].reset_index(), data[idx], n_times=10)"
   ]
  },
  {
   "cell_type": "code",
   "execution_count": 42,
   "id": "36a91239",
   "metadata": {
    "scrolled": true
   },
   "outputs": [
    {
     "name": "stderr",
     "output_type": "stream",
     "text": [
      "100%|███████████████████████████████████████████| 10/10 [15:04<00:00, 90.48s/it]"
     ]
    },
    {
     "name": "stdout",
     "output_type": "stream",
     "text": [
      "AUS: ['AU1', 'AU2', 'AU4', 'AU5', 'AU6', 'AU7', 'AU9', 'AU10', 'AU12', 'AU14', 'AU15', 'AU17', 'Average']\n",
      "[0.91771109 0.83000837 0.94842837 0.4979406  0.60024385 0.73651197\n",
      " 0.55404105 0.54343596 0.75625474 0.78665166 0.63280343 0.8011827 ]\n",
      "\n",
      "Overall: \n",
      "0.717101148401076\n"
     ]
    },
    {
     "name": "stderr",
     "output_type": "stream",
     "text": [
      "\n"
     ]
    }
   ],
   "source": [
    "#only part_A\n",
    "idx = df[\"dataset\"].isin([\"casme2\", \"casme\", \"samm\", \"mmew\", \"fourd\", \"casme3a\"])\n",
    "out = IValidation(Config).validate_n_times(df[idx].reset_index(), data[idx], n_times=10)"
   ]
  },
  {
   "cell_type": "code",
   "execution_count": 43,
   "id": "e54e7e50",
   "metadata": {
    "scrolled": true
   },
   "outputs": [
    {
     "name": "stderr",
     "output_type": "stream",
     "text": [
      "100%|███████████████████████████████████████████| 10/10 [09:10<00:00, 55.09s/it]"
     ]
    },
    {
     "name": "stdout",
     "output_type": "stream",
     "text": [
      "AUS: ['AU1', 'AU2', 'AU4', 'AU5', 'AU6', 'AU7', 'AU9', 'AU10', 'AU12', 'AU14', 'AU15', 'AU17', 'Average']\n",
      "[0.92742318 0.82117555 0.95663209 0.49784198 0.65007512 0.74873082\n",
      " 0.54005931 0.53880546 0.75062747 0.66610057 0.70620213 0.6994042 ]\n",
      "\n",
      "Overall: \n",
      "0.7085898244867529\n"
     ]
    },
    {
     "name": "stderr",
     "output_type": "stream",
     "text": [
      "\n"
     ]
    }
   ],
   "source": [
    "#only part_C\n",
    "idx = df[\"dataset\"].isin([\"casme2\", \"casme\", \"samm\", \"mmew\", \"fourd\", \"casme3c\"])\n",
    "out = IValidation(Config).validate_n_times(df[idx].reset_index(), data[idx], n_times=10)"
   ]
  },
  {
   "cell_type": "code",
   "execution_count": 44,
   "id": "41a488aa",
   "metadata": {
    "scrolled": true
   },
   "outputs": [
    {
     "name": "stderr",
     "output_type": "stream",
     "text": [
      "100%|███████████████████████████████████████████| 10/10 [15:05<00:00, 90.56s/it]"
     ]
    },
    {
     "name": "stdout",
     "output_type": "stream",
     "text": [
      "AUS: ['AU1', 'AU2', 'AU4', 'AU5', 'AU6', 'AU7', 'AU9', 'AU10', 'AU12', 'AU14', 'AU15', 'AU17', 'Average']\n",
      "[0.91771109 0.83000837 0.94842837 0.4979406  0.60024385 0.73651197\n",
      " 0.55404105 0.54343596 0.75625474 0.78665166 0.63280343 0.8011827 ]\n",
      "\n",
      "Overall: \n",
      "0.717101148401076\n"
     ]
    },
    {
     "name": "stderr",
     "output_type": "stream",
     "text": [
      "\n"
     ]
    }
   ],
   "source": [
    "idx = df[\"dataset\"].isin([\"casme2\", \"casme\", \"samm\", \"mmew\", \"fourd\", \"casme3a\"])\n",
    "# Modified casme3: drop samples with onset == apex\n",
    "idx2 = (df[\"dataset\"] == \"casme3a\") & ((df[\"onset\"] != df[\"apex\"]))\n",
    "idx |= idx2\n",
    "out = IValidation(Config).validate_n_times(df[idx].reset_index(), data[idx], n_times=10)"
   ]
  },
  {
   "cell_type": "code",
   "execution_count": 45,
   "id": "d893335c",
   "metadata": {
    "scrolled": true
   },
   "outputs": [
    {
     "name": "stderr",
     "output_type": "stream",
     "text": [
      "100%|███████████████████████████████████████████| 10/10 [15:06<00:00, 90.67s/it]"
     ]
    },
    {
     "name": "stdout",
     "output_type": "stream",
     "text": [
      "AUS: ['AU1', 'AU2', 'AU4', 'AU5', 'AU6', 'AU7', 'AU9', 'AU10', 'AU12', 'AU14', 'AU15', 'AU17', 'Average']\n",
      "[0.91771109 0.83000837 0.94842837 0.4979406  0.60024385 0.73651197\n",
      " 0.55404105 0.54343596 0.75625474 0.78665166 0.63280343 0.8011827 ]\n",
      "\n",
      "Overall: \n",
      "0.717101148401076\n"
     ]
    },
    {
     "name": "stderr",
     "output_type": "stream",
     "text": [
      "\n"
     ]
    }
   ],
   "source": [
    "idx = df[\"dataset\"].isin([\"casme2\", \"casme\", \"samm\", \"mmew\", \"fourd\", \"casme3a\"])\n",
    "# Modified casme3: drop samples too long\n",
    "idx2 = (df[\"dataset\"] == \"casme3a\") & ((df[\"n_frames\"] < 16))\n",
    "idx |= idx2\n",
    "out = IValidation(Config).validate_n_times(df[idx].reset_index(), data[idx], n_times=10)"
   ]
  }
 ],
 "metadata": {
  "kernelspec": {
   "display_name": "Python 3 (ipykernel)",
   "language": "python",
   "name": "python3"
  },
  "language_info": {
   "codemirror_mode": {
    "name": "ipython",
    "version": 3
   },
   "file_extension": ".py",
   "mimetype": "text/x-python",
   "name": "python",
   "nbconvert_exporter": "python",
   "pygments_lexer": "ipython3",
   "version": "3.10.4"
  }
 },
 "nbformat": 4,
 "nbformat_minor": 5
}
