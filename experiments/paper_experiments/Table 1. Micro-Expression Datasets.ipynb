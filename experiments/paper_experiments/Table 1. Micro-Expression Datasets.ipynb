{
 "cells": [
  {
   "cell_type": "code",
   "execution_count": 1,
   "id": "277444ae",
   "metadata": {},
   "outputs": [],
   "source": [
    "from meb import datasets\n",
    "\n",
    "%load_ext autoreload\n",
    "%autoreload 2"
   ]
  },
  {
   "cell_type": "code",
   "execution_count": 2,
   "id": "2f7da59c",
   "metadata": {
    "scrolled": true
   },
   "outputs": [],
   "source": [
    "c = datasets.CrossDataset(cropped=True, color=True, ignore_validation=True)\n",
    "df = c.data_frame"
   ]
  },
  {
   "cell_type": "code",
   "execution_count": 3,
   "id": "d29e9252",
   "metadata": {},
   "outputs": [
    {
     "data": {
      "text/plain": [
       "Index(['AU1', 'AU2', 'AU4', 'AU5', 'AU6', 'AU7', 'AU8', 'AU9', 'AU10', 'AU11',\n",
       "       'AU12', 'AU13', 'AU14', 'AU15', 'AU16', 'AU17', 'AU18', 'AU20', 'AU21',\n",
       "       'AU22', 'AU23', 'AU24', 'AU25', 'AU26', 'AU28', 'AU30', 'AU31', 'AU34',\n",
       "       'AU38', 'AU39', 'AU43', 'AU45', 'AU56', 'AU61', 'AU63', 'AU64'],\n",
       "      dtype='object')"
      ]
     },
     "execution_count": 3,
     "metadata": {},
     "output_type": "execute_result"
    }
   ],
   "source": [
    "aus = df.loc[:, \"AU1\":].columns\n",
    "aus"
   ]
  },
  {
   "cell_type": "markdown",
   "id": "b1a923f3",
   "metadata": {},
   "source": [
    "## AUs by dataset"
   ]
  },
  {
   "cell_type": "code",
   "execution_count": 4,
   "id": "49bdef0c",
   "metadata": {},
   "outputs": [
    {
     "data": {
      "text/plain": [
       "dataset\n",
       "casme      21\n",
       "casme2     19\n",
       "casme3a    24\n",
       "fourd      19\n",
       "mmew       21\n",
       "samm       27\n",
       "dtype: int64"
      ]
     },
     "execution_count": 4,
     "metadata": {},
     "output_type": "execute_result"
    }
   ],
   "source": [
    "(df.groupby(\"dataset\")[aus].sum() > 0).sum(1)"
   ]
  },
  {
   "cell_type": "markdown",
   "id": "7aec5a7e",
   "metadata": {},
   "source": [
    "## AUs by dataset with at least 10 instances"
   ]
  },
  {
   "cell_type": "code",
   "execution_count": 5,
   "id": "86a7b835",
   "metadata": {},
   "outputs": [
    {
     "data": {
      "text/plain": [
       "dataset\n",
       "casme       8\n",
       "casme2     11\n",
       "casme3a    15\n",
       "fourd       8\n",
       "mmew       12\n",
       "samm        6\n",
       "dtype: int64"
      ]
     },
     "execution_count": 5,
     "metadata": {},
     "output_type": "execute_result"
    }
   ],
   "source": [
    "(df.groupby(\"dataset\")[aus].sum() >= 10).sum(1)"
   ]
  },
  {
   "cell_type": "markdown",
   "id": "56252a61",
   "metadata": {},
   "source": [
    "## AU instances by dataset"
   ]
  },
  {
   "cell_type": "code",
   "execution_count": 6,
   "id": "e18fb114",
   "metadata": {},
   "outputs": [
    {
     "data": {
      "text/plain": [
       "dataset\n",
       "casme       254\n",
       "casme2      373\n",
       "casme3a    1077\n",
       "fourd       454\n",
       "mmew        500\n",
       "samm        226\n",
       "dtype: int64"
      ]
     },
     "execution_count": 6,
     "metadata": {},
     "output_type": "execute_result"
    }
   ],
   "source": [
    "df.groupby(\"dataset\")[aus].sum().sum(1)"
   ]
  },
  {
   "cell_type": "markdown",
   "id": "ae678354",
   "metadata": {},
   "source": [
    "## Cardinality"
   ]
  },
  {
   "cell_type": "code",
   "execution_count": 7,
   "id": "b375063f",
   "metadata": {},
   "outputs": [
    {
     "name": "stdout",
     "output_type": "stream",
     "text": [
      "dataset\n",
      "casme      1.343915\n",
      "casme2     1.457031\n",
      "casme3a    1.252326\n",
      "fourd      1.700375\n",
      "mmew       1.666667\n",
      "samm       1.421384\n",
      "Name: cardinality, dtype: float64\n"
     ]
    }
   ],
   "source": [
    "def cardinality(df):\n",
    "    dft = df.copy()\n",
    "    dft[\"cardinality\"] = dft.loc[:, \"AU1\":].sum(1)\n",
    "    print(dft.groupby(\"dataset\")[\"cardinality\"].mean())\n",
    "    \n",
    "cardinality(df)"
   ]
  }
 ],
 "metadata": {
  "kernelspec": {
   "display_name": "Python 3 (ipykernel)",
   "language": "python",
   "name": "python3"
  },
  "language_info": {
   "codemirror_mode": {
    "name": "ipython",
    "version": 3
   },
   "file_extension": ".py",
   "mimetype": "text/x-python",
   "name": "python",
   "nbconvert_exporter": "python",
   "pygments_lexer": "ipython3",
   "version": "3.10.4"
  }
 },
 "nbformat": 4,
 "nbformat_minor": 5
}
