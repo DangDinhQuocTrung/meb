{
 "cells": [
  {
   "cell_type": "code",
   "execution_count": 1,
   "id": "5365f8f7",
   "metadata": {},
   "outputs": [],
   "source": [
    "from meb import utils, datasets, core, models\n",
    "\n",
    "from tqdm import tqdm\n",
    "from functools import partial\n",
    "\n",
    "import numpy as np\n",
    "import pandas as pd\n",
    "import matplotlib.pyplot as plt\n",
    "import torch\n",
    "import torch.nn as nn\n",
    "import torch.optim as optim\n",
    "import torchvision\n",
    "from torchvision import transforms\n",
    "import pytorchvideo\n",
    "import timm\n",
    "from timm.scheduler.cosine_lr import CosineLRScheduler\n",
    "import pytorchvideo.transforms\n",
    "import torch.nn.functional as F\n",
    "\n",
    "\n",
    "\n",
    "pd.set_option(\"display.max_columns\", 50)\n",
    "%load_ext autoreload\n",
    "%autoreload 2"
   ]
  },
  {
   "cell_type": "code",
   "execution_count": 18,
   "id": "3e1a0684",
   "metadata": {},
   "outputs": [],
   "source": [
    "c = datasets.CrossDataset(resize=112, ignore_validation=True, optical_flow=True)\n",
    "df = c.data_frame\n",
    "data = c.data"
   ]
  },
  {
   "cell_type": "code",
   "execution_count": 19,
   "id": "6a3aac02",
   "metadata": {},
   "outputs": [],
   "source": [
    "c = datasets.Samm(resize=112, ignore_validation=True, optical_flow=True)\n",
    "dfs = c.data_frame\n",
    "datas = c.data"
   ]
  },
  {
   "cell_type": "code",
   "execution_count": 20,
   "id": "edfc0de4",
   "metadata": {},
   "outputs": [],
   "source": [
    "# Add missing AU columns to SAMM that are missing compared to all data\n",
    "dfs_aus = pd.DataFrame(dfs.loc[:, \"AU1\":].to_dict(), columns=df.loc[:, \"AU1\":].columns).fillna(0)\n",
    "dfs_dropped = dfs.drop(dfs.loc[0, \"AU1\":].index.tolist(), axis=1)\n",
    "dfs = pd.concat([dfs_dropped, dfs_aus], axis=1)"
   ]
  },
  {
   "cell_type": "code",
   "execution_count": 21,
   "id": "4578d2bd",
   "metadata": {},
   "outputs": [
    {
     "name": "stdout",
     "output_type": "stream",
     "text": [
      "99.17754854925882\n"
     ]
    }
   ],
   "source": [
    "from sklearn.ensemble import GradientBoostingClassifier\n",
    "from sklearn.metrics import f1_score\n",
    "from sklearn.preprocessing import LabelEncoder\n",
    "\n",
    "action_units = dfs.loc[:, \"AU1\":].columns\n",
    "df_dataset = dfs\n",
    "model = GradientBoostingClassifier(random_state=0)\n",
    "\n",
    "aus = np.array(df_dataset.loc[:, action_units])\n",
    "emotions = df_dataset[\"Objective Classes\"].astype(\"str\")\n",
    "model.fit(aus, emotions)\n",
    "predicted_emotions = model.predict(aus)\n",
    "f1 = f1_score(emotions, predicted_emotions, average=\"macro\")\n",
    "print(f1 * 100)"
   ]
  },
  {
   "cell_type": "code",
   "execution_count": 22,
   "id": "4f8fae87",
   "metadata": {},
   "outputs": [
    {
     "data": {
      "text/plain": [
       "1"
      ]
     },
     "execution_count": 22,
     "metadata": {},
     "output_type": "execute_result"
    }
   ],
   "source": [
    "df.insert(7, \"objective_class\", model.predict(np.array(df.loc[:, \"AU1\":])))"
   ]
  },
  {
   "cell_type": "markdown",
   "id": "adfe6336",
   "metadata": {},
   "source": [
    "#### MEGC2018 validation"
   ]
  },
  {
   "cell_type": "code",
   "execution_count": 23,
   "id": "d3652e0c",
   "metadata": {},
   "outputs": [],
   "source": [
    "idx = df[\"objective_class\"].isin([\"6\", \"7\"])\n",
    "df = df[~idx].reset_index(drop=True)\n",
    "data = data[~idx]"
   ]
  },
  {
   "cell_type": "code",
   "execution_count": 24,
   "id": "b8dbc55c",
   "metadata": {},
   "outputs": [],
   "source": [
    "df[\"subject\"] = df[\"subject\"].astype(str) + df[\"dataset\"]"
   ]
  },
  {
   "cell_type": "code",
   "execution_count": 25,
   "id": "4f13b3da",
   "metadata": {},
   "outputs": [],
   "source": [
    "from meb.core.train_eval import InputData\n",
    "from typing import List\n",
    "\n",
    "class MEGC2018ValidatorHDE(core.Validator):\n",
    "    def __init__(self, config: core.Config, verbose: bool = True):\n",
    "        super().__init__(config, split_column=\"dataset\")\n",
    "        self.verbose = verbose\n",
    "        self.disable_tqdm = False\n",
    "\n",
    "    def validate(\n",
    "        self, df: pd.DataFrame, input_data: InputData, seed_n: int = 1\n",
    "    ) -> List[torch.tensor]:\n",
    "        utils.set_random_seeds(seed_n)\n",
    "        dataset_names = [\"samm\", \"casme2\"]\n",
    "        le = LabelEncoder()\n",
    "        labels = le.fit_transform(df[\"objective_class\"])\n",
    "        outputs_list = []\n",
    "        for dataset_name in dataset_names:\n",
    "            train_metrics, test_metrics, outputs_test = self.validate_split(\n",
    "                df, input_data, labels, dataset_name\n",
    "            )\n",
    "            outputs_list.append(outputs_test)\n",
    "            if self.verbose:\n",
    "                self.printer.print_train_test_evaluation(\n",
    "                    train_metrics, test_metrics, dataset_name, outputs_test.shape[0]\n",
    "                )\n",
    "        return outputs_list"
   ]
  },
  {
   "cell_type": "code",
   "execution_count": 26,
   "id": "72d47a05",
   "metadata": {},
   "outputs": [],
   "source": [
    "from sklearn.preprocessing import OneHotEncoder\n",
    "\n",
    "def unweighted_average_recall(labels: np.ndarray, preds: np.ndarray) -> float:\n",
    "    \"\"\"\n",
    "    Calculates the unweighted average recall for a multi-class classification task.\n",
    "\n",
    "    Arguments:\n",
    "    preds -- binary predictions, numpy array with shape (n_examples, n_classes)\n",
    "    labels -- binary ground truth labels, numpy array with shape (n_examples, n_classes)\n",
    "\n",
    "    Returns:\n",
    "    uar -- unweighted average recall, float\n",
    "    \"\"\"\n",
    "    coder = OneHotEncoder(sparse=False)\n",
    "    labels = coder.fit_transform(labels.reshape(-1, 1))\n",
    "    preds = coder.transform(preds.reshape(-1, 1))\n",
    "    n_examples = labels.shape[0]\n",
    "    n_classes = labels.shape[1]\n",
    "    recall_per_class = []\n",
    "    for class_idx in range(n_classes):\n",
    "        true_positive = np.sum(np.logical_and(preds[:, class_idx] == 1, labels[:, class_idx] == 1))\n",
    "        false_negative = np.sum(np.logical_and(preds[:, class_idx] == 0, labels[:, class_idx] == 1))\n",
    "        recall_per_class.append(true_positive / (true_positive + false_negative))\n",
    "    uar = np.mean(recall_per_class)\n",
    "    return uar\n",
    "\n",
    "class UAR(nn.Module):\n",
    "    def __init__(self):\n",
    "        super().__init__()\n",
    "        \n",
    "    def forward(self, labels: torch.Tensor, outputs: torch.Tensor) -> float:\n",
    "        _, predictions = outputs.max(1)\n",
    "        return unweighted_average_recall(labels, predictions)"
   ]
  },
  {
   "cell_type": "code",
   "execution_count": 11,
   "id": "937335c3",
   "metadata": {},
   "outputs": [],
   "source": [
    "class Config(core.Config):\n",
    "    action_units = None\n",
    "    epochs = 200\n",
    "    batch_size = 128\n",
    "    evaluation_fn = UAR\n",
    "    criterion = nn.CrossEntropyLoss\n",
    "    device = torch.device(\"cuda:0\")\n",
    "    optimizer = partial(optim.Adam, lr=1e-4, weight_decay=1e-3)\n",
    "    model = partial(models.SSSNet, num_classes=5)"
   ]
  },
  {
   "cell_type": "code",
   "execution_count": 12,
   "id": "786ae307",
   "metadata": {
    "scrolled": true
   },
   "outputs": [
    {
     "name": "stderr",
     "output_type": "stream",
     "text": [
      "100%|█████████████████████████████████████████| 200/200 [01:20<00:00,  2.49it/s]\n"
     ]
    },
    {
     "name": "stdout",
     "output_type": "stream",
     "text": [
      "Dataset: samm, n=68 | train_mean: 1.0 | test_mean: 0.8313\n"
     ]
    },
    {
     "name": "stderr",
     "output_type": "stream",
     "text": [
      "100%|█████████████████████████████████████████| 200/200 [01:17<00:00,  2.59it/s]\n"
     ]
    },
    {
     "name": "stdout",
     "output_type": "stream",
     "text": [
      "Dataset: casme2, n=194 | train_mean: 1.0 | test_mean: 0.6399\n"
     ]
    }
   ],
   "source": [
    "out = MEGC2018ValidatorHDE(Config).validate(df, data)"
   ]
  },
  {
   "cell_type": "code",
   "execution_count": 13,
   "id": "b0dbd01c",
   "metadata": {
    "scrolled": true
   },
   "outputs": [
    {
     "name": "stderr",
     "output_type": "stream",
     "text": [
      "100%|█████████████████████████████████████████| 200/200 [00:53<00:00,  3.71it/s]\n"
     ]
    },
    {
     "name": "stdout",
     "output_type": "stream",
     "text": [
      "Dataset: samm, n=68 | train_mean: 1.0 | test_mean: 0.6988\n"
     ]
    },
    {
     "name": "stderr",
     "output_type": "stream",
     "text": [
      "100%|█████████████████████████████████████████| 200/200 [00:50<00:00,  3.95it/s]\n"
     ]
    },
    {
     "name": "stdout",
     "output_type": "stream",
     "text": [
      "Dataset: casme2, n=194 | train_mean: 1.0 | test_mean: 0.562\n"
     ]
    }
   ],
   "source": [
    "idx = df[\"dataset\"].isin([\"samm\", \"casme2\"])\n",
    "out = MEGC2018ValidatorHDE(Config).validate(df[idx].reset_index(), data[idx])"
   ]
  },
  {
   "cell_type": "code",
   "execution_count": 27,
   "id": "9d49b022",
   "metadata": {},
   "outputs": [],
   "source": [
    "class Config(core.Config):\n",
    "    action_units = None\n",
    "    epochs = 200\n",
    "    batch_size = 32\n",
    "    evaluation_fn = UAR\n",
    "    criterion = nn.CrossEntropyLoss\n",
    "    device = torch.device(\"cuda:0\")\n",
    "    optimizer = partial(optim.Adam, lr=1e-4, weight_decay=1e-3)\n",
    "    model = partial(timm.models.resnet18, num_classes=5, pretrained=True)"
   ]
  },
  {
   "cell_type": "code",
   "execution_count": 28,
   "id": "e12ccfe5",
   "metadata": {
    "scrolled": true
   },
   "outputs": [
    {
     "name": "stderr",
     "output_type": "stream",
     "text": [
      "100%|█████████████████████████████████████████| 200/200 [06:34<00:00,  1.97s/it]\n"
     ]
    },
    {
     "name": "stdout",
     "output_type": "stream",
     "text": [
      "Dataset: samm, n=68 | train_mean: 1.0 | test_mean: 0.6114\n"
     ]
    },
    {
     "name": "stderr",
     "output_type": "stream",
     "text": [
      "100%|█████████████████████████████████████████| 200/200 [06:04<00:00,  1.82s/it]\n"
     ]
    },
    {
     "name": "stdout",
     "output_type": "stream",
     "text": [
      "Dataset: casme2, n=194 | train_mean: 1.0 | test_mean: 0.6362\n"
     ]
    }
   ],
   "source": [
    "out = MEGC2018ValidatorHDE(Config).validate(df, data)"
   ]
  },
  {
   "cell_type": "code",
   "execution_count": 29,
   "id": "5dcf2021",
   "metadata": {
    "scrolled": true
   },
   "outputs": [
    {
     "name": "stderr",
     "output_type": "stream",
     "text": [
      "100%|█████████████████████████████████████████| 200/200 [02:30<00:00,  1.33it/s]\n"
     ]
    },
    {
     "name": "stdout",
     "output_type": "stream",
     "text": [
      "Dataset: samm, n=68 | train_mean: 1.0 | test_mean: 0.4325\n"
     ]
    },
    {
     "name": "stderr",
     "output_type": "stream",
     "text": [
      "100%|█████████████████████████████████████████| 200/200 [02:01<00:00,  1.65it/s]\n"
     ]
    },
    {
     "name": "stdout",
     "output_type": "stream",
     "text": [
      "Dataset: casme2, n=194 | train_mean: 1.0 | test_mean: 0.377\n"
     ]
    }
   ],
   "source": [
    "idx = df[\"dataset\"].isin([\"samm\", \"casme2\"])\n",
    "out = MEGC2018ValidatorHDE(Config).validate(df[idx].reset_index(), data[idx])"
   ]
  },
  {
   "cell_type": "code",
   "execution_count": 30,
   "id": "989093d7",
   "metadata": {},
   "outputs": [],
   "source": [
    "class Config(core.Config):\n",
    "    action_units = None\n",
    "    epochs = 200\n",
    "    batch_size = 32\n",
    "    evaluation_fn = UAR\n",
    "    criterion = nn.CrossEntropyLoss\n",
    "    device = torch.device(\"cuda:0\")\n",
    "    optimizer = partial(optim.Adam, lr=1e-4, weight_decay=1e-3)\n",
    "    model = partial(timm.models.resnet34, num_classes=5, pretrained=True)"
   ]
  },
  {
   "cell_type": "code",
   "execution_count": 31,
   "id": "18aee157",
   "metadata": {
    "scrolled": true
   },
   "outputs": [
    {
     "name": "stderr",
     "output_type": "stream",
     "text": [
      "100%|█████████████████████████████████████████| 200/200 [12:44<00:00,  3.82s/it]\n"
     ]
    },
    {
     "name": "stdout",
     "output_type": "stream",
     "text": [
      "Dataset: samm, n=68 | train_mean: 1.0 | test_mean: 0.6789\n"
     ]
    },
    {
     "name": "stderr",
     "output_type": "stream",
     "text": [
      "100%|█████████████████████████████████████████| 200/200 [11:40<00:00,  3.50s/it]\n"
     ]
    },
    {
     "name": "stdout",
     "output_type": "stream",
     "text": [
      "Dataset: casme2, n=194 | train_mean: 0.9973 | test_mean: 0.5663\n"
     ]
    }
   ],
   "source": [
    "out = MEGC2018ValidatorHDE(Config).validate(df, data)"
   ]
  },
  {
   "cell_type": "code",
   "execution_count": 32,
   "id": "6577c5bd",
   "metadata": {
    "scrolled": true
   },
   "outputs": [
    {
     "name": "stderr",
     "output_type": "stream",
     "text": [
      "100%|█████████████████████████████████████████| 200/200 [03:30<00:00,  1.05s/it]\n"
     ]
    },
    {
     "name": "stdout",
     "output_type": "stream",
     "text": [
      "Dataset: samm, n=68 | train_mean: 0.9545 | test_mean: 0.4397\n"
     ]
    },
    {
     "name": "stderr",
     "output_type": "stream",
     "text": [
      "100%|█████████████████████████████████████████| 200/200 [02:25<00:00,  1.37it/s]\n"
     ]
    },
    {
     "name": "stdout",
     "output_type": "stream",
     "text": [
      "Dataset: casme2, n=194 | train_mean: 1.0 | test_mean: 0.4793\n"
     ]
    }
   ],
   "source": [
    "idx = df[\"dataset\"].isin([\"samm\", \"casme2\"])\n",
    "out = MEGC2018ValidatorHDE(Config).validate(df[idx].reset_index(), data[idx])"
   ]
  },
  {
   "cell_type": "code",
   "execution_count": 33,
   "id": "ffcf538c",
   "metadata": {},
   "outputs": [],
   "source": [
    "class Config(core.Config):\n",
    "    action_units = None\n",
    "    epochs = 200\n",
    "    batch_size = 32\n",
    "    evaluation_fn = UAR\n",
    "    criterion = nn.CrossEntropyLoss\n",
    "    device = torch.device(\"cuda:0\")\n",
    "    optimizer = partial(optim.Adam, lr=1e-4, weight_decay=1e-3)\n",
    "    model = partial(timm.models.resnet50, num_classes=5, pretrained=True)"
   ]
  },
  {
   "cell_type": "code",
   "execution_count": 34,
   "id": "746c1f17",
   "metadata": {
    "scrolled": true
   },
   "outputs": [
    {
     "name": "stderr",
     "output_type": "stream",
     "text": [
      "100%|█████████████████████████████████████████| 200/200 [16:59<00:00,  5.10s/it]\n"
     ]
    },
    {
     "name": "stdout",
     "output_type": "stream",
     "text": [
      "Dataset: samm, n=68 | train_mean: 0.9917 | test_mean: 0.6296\n"
     ]
    },
    {
     "name": "stderr",
     "output_type": "stream",
     "text": [
      "100%|█████████████████████████████████████████| 200/200 [15:33<00:00,  4.67s/it]\n"
     ]
    },
    {
     "name": "stdout",
     "output_type": "stream",
     "text": [
      "Dataset: casme2, n=194 | train_mean: 0.9984 | test_mean: 0.6361\n"
     ]
    }
   ],
   "source": [
    "out = MEGC2018ValidatorHDE(Config).validate(df, data)"
   ]
  },
  {
   "cell_type": "code",
   "execution_count": 35,
   "id": "080e9d75",
   "metadata": {
    "scrolled": true
   },
   "outputs": [
    {
     "name": "stderr",
     "output_type": "stream",
     "text": [
      "100%|█████████████████████████████████████████| 200/200 [04:21<00:00,  1.31s/it]\n"
     ]
    },
    {
     "name": "stdout",
     "output_type": "stream",
     "text": [
      "Dataset: samm, n=68 | train_mean: 1.0 | test_mean: 0.3833\n"
     ]
    },
    {
     "name": "stderr",
     "output_type": "stream",
     "text": [
      "100%|█████████████████████████████████████████| 200/200 [02:45<00:00,  1.21it/s]\n"
     ]
    },
    {
     "name": "stdout",
     "output_type": "stream",
     "text": [
      "Dataset: casme2, n=194 | train_mean: 1.0 | test_mean: 0.3651\n"
     ]
    }
   ],
   "source": [
    "idx = df[\"dataset\"].isin([\"samm\", \"casme2\"])\n",
    "out = MEGC2018ValidatorHDE(Config).validate(df[idx].reset_index(), data[idx])"
   ]
  },
  {
   "cell_type": "markdown",
   "id": "88fac6a6",
   "metadata": {},
   "source": [
    "## R(2+1)D"
   ]
  },
  {
   "cell_type": "code",
   "execution_count": 4,
   "id": "ed3d683b",
   "metadata": {},
   "outputs": [
    {
     "name": "stderr",
     "output_type": "stream",
     "text": [
      "Loading data: 100%|███████████████████████████| 189/189 [00:21<00:00,  8.98it/s]\n",
      "Loading data: 100%|███████████████████████████| 256/256 [01:35<00:00,  2.67it/s]\n",
      "Loading data: 100%|███████████████████████████| 159/159 [01:17<00:00,  2.05it/s]\n",
      "Loading data: 100%|███████████████████████████| 267/267 [00:31<00:00,  8.58it/s]\n",
      "Loading data: 100%|███████████████████████████| 300/300 [00:51<00:00,  5.86it/s]\n",
      "Loading data: 100%|███████████████████████████| 860/860 [02:21<00:00,  6.09it/s]\n"
     ]
    }
   ],
   "source": [
    "c = datasets.CrossDataset(resize=112, ignore_validation=True, preload=True, color=True)\n",
    "df = c.data_frame\n",
    "data = c.data"
   ]
  },
  {
   "cell_type": "code",
   "execution_count": 5,
   "id": "03575da8",
   "metadata": {},
   "outputs": [
    {
     "name": "stderr",
     "output_type": "stream",
     "text": [
      "Loading data: 100%|███████████████████████████| 159/159 [01:18<00:00,  2.02it/s]\n"
     ]
    }
   ],
   "source": [
    "c = datasets.Samm(resize=112, ignore_validation=True, preload=True, color=True)\n",
    "dfs = c.data_frame\n",
    "datas = c.data"
   ]
  },
  {
   "cell_type": "code",
   "execution_count": 6,
   "id": "f3639675",
   "metadata": {},
   "outputs": [],
   "source": [
    "# Add missing AU columns to SAMM that are missing compared to all data\n",
    "dfs_aus = pd.DataFrame(dfs.loc[:, \"AU1\":].to_dict(), columns=df.loc[:, \"AU1\":].columns).fillna(0)\n",
    "dfs_dropped = dfs.drop(dfs.loc[0, \"AU1\":].index.tolist(), axis=1)\n",
    "dfs = pd.concat([dfs_dropped, dfs_aus], axis=1)"
   ]
  },
  {
   "cell_type": "code",
   "execution_count": 7,
   "id": "1f8f41b1",
   "metadata": {},
   "outputs": [
    {
     "name": "stdout",
     "output_type": "stream",
     "text": [
      "99.17754854925882\n"
     ]
    }
   ],
   "source": [
    "from sklearn.ensemble import GradientBoostingClassifier\n",
    "from sklearn.metrics import f1_score\n",
    "from sklearn.preprocessing import LabelEncoder\n",
    "\n",
    "action_units = dfs.loc[:, \"AU1\":].columns\n",
    "df_dataset = dfs\n",
    "model = GradientBoostingClassifier(random_state=0)\n",
    "\n",
    "aus = np.array(df_dataset.loc[:, action_units])\n",
    "emotions = df_dataset[\"Objective Classes\"].astype(\"str\")\n",
    "model.fit(aus, emotions)\n",
    "predicted_emotions = model.predict(aus)\n",
    "f1 = f1_score(emotions, predicted_emotions, average=\"macro\")\n",
    "print(f1 * 100)"
   ]
  },
  {
   "cell_type": "code",
   "execution_count": 8,
   "id": "dfc9b064",
   "metadata": {},
   "outputs": [],
   "source": [
    "df.insert(7, \"objective_class\", model.predict(np.array(df.loc[:, \"AU1\":])))"
   ]
  },
  {
   "cell_type": "code",
   "execution_count": 9,
   "id": "ea3508ac",
   "metadata": {},
   "outputs": [],
   "source": [
    "from torchvision import transforms\n",
    "import torch.nn.functional as F\n",
    "#interpolate samples with less than 8 frames\n",
    "n_frames = 8\n",
    "for i, video in enumerate(data):\n",
    "    if video.shape[0] < n_frames:\n",
    "        new_shape = (n_frames,) + video.shape[1:-1]\n",
    "        video = torch.tensor(video).permute(3, 0, 1, 2).unsqueeze(0).float()\n",
    "        new_video = F.interpolate(video, size=new_shape, mode=\"trilinear\")\n",
    "        data[i] = new_video.squeeze(0).permute(1, 2, 3, 0).byte().numpy()"
   ]
  },
  {
   "cell_type": "code",
   "execution_count": 10,
   "id": "4b545381",
   "metadata": {},
   "outputs": [],
   "source": [
    "idx = df[\"objective_class\"].isin([\"6\", \"7\"])\n",
    "df = df[~idx].reset_index(drop=True)\n",
    "data = data[~idx]"
   ]
  },
  {
   "cell_type": "code",
   "execution_count": 11,
   "id": "cfd57c39",
   "metadata": {},
   "outputs": [],
   "source": [
    "df[\"subject\"] = df[\"subject\"].astype(str) + df[\"dataset\"]"
   ]
  },
  {
   "cell_type": "code",
   "execution_count": 12,
   "id": "9f9f5fba",
   "metadata": {},
   "outputs": [],
   "source": [
    "# Create a function that returns the model as it needs to be modified\n",
    "def r2plus1d(num_classes: int):\n",
    "    model = torchvision.models.video.r2plus1d_18(weights=torchvision.models.video.R2Plus1D_18_Weights.DEFAULT)\n",
    "    model.fc = nn.Linear(in_features=512, out_features=num_classes)\n",
    "    return model"
   ]
  },
  {
   "cell_type": "code",
   "execution_count": 15,
   "id": "376e1fbc",
   "metadata": {},
   "outputs": [],
   "source": [
    "class Config(core.Config):\n",
    "    action_units = None\n",
    "    epochs = 100\n",
    "    batch_size = 32\n",
    "    evaluation_fn = UAR\n",
    "    criterion = nn.CrossEntropyLoss\n",
    "    device = torch.device(\"cuda:0\")\n",
    "    optimizer = partial(optim.Adam, lr=1e-4, weight_decay=1e-3)\n",
    "    model = partial(r2plus1d, num_classes=5)\n",
    "    loss_scaler = torch.cuda.amp.GradScaler\n",
    "    channels_last = torch.channels_last_3d\n",
    "    train_transform = {\n",
    "        \"spatial\": None,\n",
    "        \"temporal\": datasets.UniformTemporalSubsample(8)\n",
    "    }\n",
    "    test_transform = {\n",
    "        \"spatial\": None,\n",
    "        \"temporal\": datasets.UniformTemporalSubsample(8)\n",
    "    }"
   ]
  },
  {
   "cell_type": "code",
   "execution_count": 16,
   "id": "da109f3b",
   "metadata": {
    "scrolled": true
   },
   "outputs": [
    {
     "name": "stderr",
     "output_type": "stream",
     "text": [
      "100%|███████████████████████████████████████| 100/100 [1:15:41<00:00, 45.42s/it]\n"
     ]
    },
    {
     "name": "stdout",
     "output_type": "stream",
     "text": [
      "Dataset: samm, n=68 | train_mean: 1.0 | test_mean: 0.329\n"
     ]
    },
    {
     "name": "stderr",
     "output_type": "stream",
     "text": [
      "100%|███████████████████████████████████████| 100/100 [1:08:13<00:00, 40.94s/it]\n"
     ]
    },
    {
     "name": "stdout",
     "output_type": "stream",
     "text": [
      "Dataset: casme2, n=194 | train_mean: 1.0 | test_mean: 0.4486\n"
     ]
    }
   ],
   "source": [
    "out = MEGC2018ValidatorHDE(Config).validate(df, data)"
   ]
  },
  {
   "cell_type": "code",
   "execution_count": 17,
   "id": "bfc842f9",
   "metadata": {
    "scrolled": true
   },
   "outputs": [
    {
     "name": "stderr",
     "output_type": "stream",
     "text": [
      "100%|█████████████████████████████████████████| 100/100 [12:26<00:00,  7.46s/it]\n"
     ]
    },
    {
     "name": "stdout",
     "output_type": "stream",
     "text": [
      "Dataset: samm, n=68 | train_mean: 0.9799 | test_mean: 0.2\n"
     ]
    },
    {
     "name": "stderr",
     "output_type": "stream",
     "text": [
      "100%|█████████████████████████████████████████| 100/100 [05:04<00:00,  3.05s/it]\n"
     ]
    },
    {
     "name": "stdout",
     "output_type": "stream",
     "text": [
      "Dataset: casme2, n=194 | train_mean: 1.0 | test_mean: 0.2259\n"
     ]
    }
   ],
   "source": [
    "idx = df[\"dataset\"].isin([\"samm\", \"casme2\"])\n",
    "out = MEGC2018ValidatorHDE(Config).validate(df[idx].reset_index(), data[idx])"
   ]
  }
 ],
 "metadata": {
  "kernelspec": {
   "display_name": "Python 3 (ipykernel)",
   "language": "python",
   "name": "python3"
  },
  "language_info": {
   "codemirror_mode": {
    "name": "ipython",
    "version": 3
   },
   "file_extension": ".py",
   "mimetype": "text/x-python",
   "name": "python",
   "nbconvert_exporter": "python",
   "pygments_lexer": "ipython3",
   "version": "3.10.10"
  }
 },
 "nbformat": 4,
 "nbformat_minor": 5
}
