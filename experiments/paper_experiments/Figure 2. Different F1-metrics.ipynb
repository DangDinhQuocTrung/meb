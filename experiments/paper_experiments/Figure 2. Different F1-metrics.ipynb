{
 "cells": [
  {
   "cell_type": "code",
   "execution_count": 1,
   "id": "7e844904",
   "metadata": {},
   "outputs": [],
   "source": [
    "import meb\n",
    "from meb import utils\n",
    "from meb import datasets\n",
    "from meb import core\n",
    "from meb import models\n",
    "\n",
    "from functools import partial\n",
    "from typing import List, Tuple\n",
    "\n",
    "import numpy as np\n",
    "import pandas as pd\n",
    "from numba import jit, njit\n",
    "import matplotlib.pyplot as plt\n",
    "import torch\n",
    "import torch.nn as nn\n",
    "import torch.optim as optim\n",
    "import torchvision\n",
    "from torchvision import transforms\n",
    "import timm\n",
    "from tqdm import tqdm\n",
    "\n",
    "\n",
    "\n",
    "pd.set_option(\"display.max_columns\", 50)\n",
    "%load_ext autoreload\n",
    "%autoreload 2"
   ]
  },
  {
   "cell_type": "code",
   "execution_count": 3,
   "id": "8c813b3f",
   "metadata": {},
   "outputs": [],
   "source": [
    "c = datasets.MEGC(optical_flow=True, resize=64)\n",
    "df = c.data_frame\n",
    "data = c.data"
   ]
  },
  {
   "cell_type": "code",
   "execution_count": 12,
   "id": "27112efc",
   "metadata": {},
   "outputs": [],
   "source": [
    "class Config(core.Config):\n",
    "    action_units = False\n",
    "    device = torch.device(\"cuda:1\")\n",
    "    scheduler = None\n",
    "    num_workers = 0\n",
    "    criterion = nn.CrossEntropyLoss\n",
    "    evaluation_fn = [\n",
    "        partial(utils.MultiClassF1Score, average=\"macro\"),\n",
    "        partial(utils.MultiClassF1Score, average=\"micro\"),\n",
    "        partial(utils.MultiClassF1Score, average=\"weighted\"),\n",
    "    ]\n",
    "    epochs = 200\n",
    "    optimizer = partial(optim.Adam, lr=1e-4, weight_decay=1e-3)\n",
    "    model = partial(models.SSSNet, output_size=3, softmax=True)"
   ]
  },
  {
   "cell_type": "code",
   "execution_count": 7,
   "id": "33a5e110",
   "metadata": {
    "scrolled": true
   },
   "outputs": [
    {
     "name": "stderr",
     "output_type": "stream",
     "text": [
      "100%|█████████████████████████████████████████| 200/200 [00:26<00:00,  7.53it/s]\n"
     ]
    },
    {
     "name": "stdout",
     "output_type": "stream",
     "text": [
      "MultiClassF1Score\n",
      "Subject: s1, n=6 | train_mean: 0.9692 | test_mean: 0.1905\n",
      "MultiClassF1Score\n",
      "Subject: s1, n=6 | train_mean: 0.9748 | test_mean: 0.3333\n",
      "MultiClassF1Score\n",
      "Subject: s1, n=6 | train_mean: 0.9749 | test_mean: 0.2857\n"
     ]
    },
    {
     "name": "stderr",
     "output_type": "stream",
     "text": [
      "100%|█████████████████████████████████████████| 200/200 [00:24<00:00,  8.08it/s]\n"
     ]
    },
    {
     "name": "stdout",
     "output_type": "stream",
     "text": [
      "MultiClassF1Score\n",
      "Subject: s11, n=7 | train_mean: 0.9725 | test_mean: 0.8222\n",
      "MultiClassF1Score\n",
      "Subject: s11, n=7 | train_mean: 0.9793 | test_mean: 0.8571\n",
      "MultiClassF1Score\n",
      "Subject: s11, n=7 | train_mean: 0.9794 | test_mean: 0.8667\n"
     ]
    },
    {
     "name": "stderr",
     "output_type": "stream",
     "text": [
      "100%|█████████████████████████████████████████| 200/200 [00:25<00:00,  7.94it/s]\n"
     ]
    },
    {
     "name": "stdout",
     "output_type": "stream",
     "text": [
      "MultiClassF1Score\n",
      "Subject: s12, n=9 | train_mean: 0.9623 | test_mean: 0.619\n",
      "MultiClassF1Score\n",
      "Subject: s12, n=9 | train_mean: 0.97 | test_mean: 0.7778\n",
      "MultiClassF1Score\n",
      "Subject: s12, n=9 | train_mean: 0.9703 | test_mean: 0.873\n"
     ]
    },
    {
     "name": "stderr",
     "output_type": "stream",
     "text": [
      "100%|█████████████████████████████████████████| 200/200 [00:26<00:00,  7.57it/s]\n"
     ]
    },
    {
     "name": "stdout",
     "output_type": "stream",
     "text": [
      "MultiClassF1Score\n",
      "Subject: s13, n=10 | train_mean: 0.9575 | test_mean: 0.4444\n",
      "MultiClassF1Score\n",
      "Subject: s13, n=10 | train_mean: 0.9676 | test_mean: 0.8\n",
      "MultiClassF1Score\n",
      "Subject: s13, n=10 | train_mean: 0.9679 | test_mean: 0.8889\n"
     ]
    },
    {
     "name": "stderr",
     "output_type": "stream",
     "text": [
      "100%|█████████████████████████████████████████| 200/200 [00:26<00:00,  7.52it/s]\n"
     ]
    },
    {
     "name": "stdout",
     "output_type": "stream",
     "text": [
      "MultiClassF1Score\n",
      "Subject: s14, n=10 | train_mean: 0.9601 | test_mean: 1.0\n",
      "MultiClassF1Score\n",
      "Subject: s14, n=10 | train_mean: 0.9699 | test_mean: 1.0\n",
      "MultiClassF1Score\n",
      "Subject: s14, n=10 | train_mean: 0.97 | test_mean: 1.0\n"
     ]
    },
    {
     "name": "stderr",
     "output_type": "stream",
     "text": [
      "100%|█████████████████████████████████████████| 200/200 [00:25<00:00,  7.82it/s]\n"
     ]
    },
    {
     "name": "stdout",
     "output_type": "stream",
     "text": [
      "MultiClassF1Score\n",
      "Subject: s15, n=4 | train_mean: 0.9611 | test_mean: 0.5556\n",
      "MultiClassF1Score\n",
      "Subject: s15, n=4 | train_mean: 0.968 | test_mean: 0.75\n",
      "MultiClassF1Score\n",
      "Subject: s15, n=4 | train_mean: 0.9683 | test_mean: 0.6667\n"
     ]
    },
    {
     "name": "stderr",
     "output_type": "stream",
     "text": [
      "100%|█████████████████████████████████████████| 200/200 [00:25<00:00,  7.92it/s]\n"
     ]
    },
    {
     "name": "stdout",
     "output_type": "stream",
     "text": [
      "MultiClassF1Score\n",
      "Subject: s18, n=7 | train_mean: 0.9627 | test_mean: 1.0\n",
      "MultiClassF1Score\n",
      "Subject: s18, n=7 | train_mean: 0.9724 | test_mean: 1.0\n",
      "MultiClassF1Score\n",
      "Subject: s18, n=7 | train_mean: 0.9723 | test_mean: 1.0\n"
     ]
    },
    {
     "name": "stderr",
     "output_type": "stream",
     "text": [
      "100%|█████████████████████████████████████████| 200/200 [00:26<00:00,  7.57it/s]\n"
     ]
    },
    {
     "name": "stdout",
     "output_type": "stream",
     "text": [
      "MultiClassF1Score\n",
      "Subject: s19, n=2 | train_mean: 0.956 | test_mean: 1.0\n",
      "MultiClassF1Score\n",
      "Subject: s19, n=2 | train_mean: 0.9659 | test_mean: 1.0\n",
      "MultiClassF1Score\n",
      "Subject: s19, n=2 | train_mean: 0.966 | test_mean: 1.0\n"
     ]
    },
    {
     "name": "stderr",
     "output_type": "stream",
     "text": [
      "100%|█████████████████████████████████████████| 200/200 [00:26<00:00,  7.59it/s]\n"
     ]
    },
    {
     "name": "stdout",
     "output_type": "stream",
     "text": [
      "MultiClassF1Score\n",
      "Subject: s2, n=6 | train_mean: 0.9537 | test_mean: 0.6296\n",
      "MultiClassF1Score\n",
      "Subject: s2, n=6 | train_mean: 0.9656 | test_mean: 0.8333\n",
      "MultiClassF1Score\n",
      "Subject: s2, n=6 | train_mean: 0.9657 | test_mean: 0.9074\n"
     ]
    },
    {
     "name": "stderr",
     "output_type": "stream",
     "text": [
      "100%|█████████████████████████████████████████| 200/200 [00:25<00:00,  7.84it/s]\n"
     ]
    },
    {
     "name": "stdout",
     "output_type": "stream",
     "text": [
      "MultiClassF1Score\n",
      "Subject: s20, n=22 | train_mean: 0.9673 | test_mean: 0.61\n",
      "MultiClassF1Score\n",
      "Subject: s20, n=22 | train_mean: 0.9738 | test_mean: 0.6818\n",
      "MultiClassF1Score\n",
      "Subject: s20, n=22 | train_mean: 0.9739 | test_mean: 0.6808\n"
     ]
    },
    {
     "name": "stderr",
     "output_type": "stream",
     "text": [
      "100%|█████████████████████████████████████████| 200/200 [00:23<00:00,  8.53it/s]\n"
     ]
    },
    {
     "name": "stdout",
     "output_type": "stream",
     "text": [
      "MultiClassF1Score\n",
      "Subject: s3, n=39 | train_mean: 0.9617 | test_mean: 0.6173\n",
      "MultiClassF1Score\n",
      "Subject: s3, n=39 | train_mean: 0.9702 | test_mean: 0.6154\n",
      "MultiClassF1Score\n",
      "Subject: s3, n=39 | train_mean: 0.9703 | test_mean: 0.6131\n"
     ]
    },
    {
     "name": "stderr",
     "output_type": "stream",
     "text": [
      "100%|█████████████████████████████████████████| 200/200 [00:25<00:00,  7.86it/s]\n"
     ]
    },
    {
     "name": "stdout",
     "output_type": "stream",
     "text": [
      "MultiClassF1Score\n",
      "Subject: s4, n=19 | train_mean: 0.9708 | test_mean: 0.5316\n",
      "MultiClassF1Score\n",
      "Subject: s4, n=19 | train_mean: 0.9764 | test_mean: 0.5263\n",
      "MultiClassF1Score\n",
      "Subject: s4, n=19 | train_mean: 0.9764 | test_mean: 0.5285\n"
     ]
    },
    {
     "name": "stderr",
     "output_type": "stream",
     "text": [
      "100%|█████████████████████████████████████████| 200/200 [00:24<00:00,  8.25it/s]\n"
     ]
    },
    {
     "name": "stdout",
     "output_type": "stream",
     "text": [
      "MultiClassF1Score\n",
      "Subject: s5, n=2 | train_mean: 0.9606 | test_mean: 0.3333\n",
      "MultiClassF1Score\n",
      "Subject: s5, n=2 | train_mean: 0.9682 | test_mean: 0.5\n",
      "MultiClassF1Score\n",
      "Subject: s5, n=2 | train_mean: 0.9684 | test_mean: 0.3333\n"
     ]
    },
    {
     "name": "stderr",
     "output_type": "stream",
     "text": [
      "100%|█████████████████████████████████████████| 200/200 [00:24<00:00,  8.19it/s]\n"
     ]
    },
    {
     "name": "stdout",
     "output_type": "stream",
     "text": [
      "MultiClassF1Score\n",
      "Subject: s6, n=4 | train_mean: 0.9637 | test_mean: 0.3889\n",
      "MultiClassF1Score\n",
      "Subject: s6, n=4 | train_mean: 0.9703 | test_mean: 0.5\n",
      "MultiClassF1Score\n",
      "Subject: s6, n=4 | train_mean: 0.9704 | test_mean: 0.5833\n"
     ]
    },
    {
     "name": "stderr",
     "output_type": "stream",
     "text": [
      "100%|█████████████████████████████████████████| 200/200 [00:24<00:00,  8.05it/s]\n"
     ]
    },
    {
     "name": "stdout",
     "output_type": "stream",
     "text": [
      "MultiClassF1Score\n",
      "Subject: s8, n=13 | train_mean: 0.9674 | test_mean: 0.6905\n",
      "MultiClassF1Score\n",
      "Subject: s8, n=13 | train_mean: 0.9744 | test_mean: 0.6923\n",
      "MultiClassF1Score\n",
      "Subject: s8, n=13 | train_mean: 0.9746 | test_mean: 0.6996\n"
     ]
    },
    {
     "name": "stderr",
     "output_type": "stream",
     "text": [
      "100%|█████████████████████████████████████████| 200/200 [00:24<00:00,  8.10it/s]\n"
     ]
    },
    {
     "name": "stdout",
     "output_type": "stream",
     "text": [
      "MultiClassF1Score\n",
      "Subject: s9, n=4 | train_mean: 0.9587 | test_mean: 0.7333\n",
      "MultiClassF1Score\n",
      "Subject: s9, n=4 | train_mean: 0.968 | test_mean: 0.75\n",
      "MultiClassF1Score\n",
      "Subject: s9, n=4 | train_mean: 0.9684 | test_mean: 0.7667\n"
     ]
    },
    {
     "name": "stderr",
     "output_type": "stream",
     "text": [
      "100%|█████████████████████████████████████████| 200/200 [00:24<00:00,  8.14it/s]\n"
     ]
    },
    {
     "name": "stdout",
     "output_type": "stream",
     "text": [
      "MultiClassF1Score\n",
      "Subject: 01, n=3 | train_mean: 0.961 | test_mean: 1.0\n",
      "MultiClassF1Score\n",
      "Subject: 01, n=3 | train_mean: 0.9681 | test_mean: 1.0\n",
      "MultiClassF1Score\n",
      "Subject: 01, n=3 | train_mean: 0.9683 | test_mean: 1.0\n"
     ]
    },
    {
     "name": "stderr",
     "output_type": "stream",
     "text": [
      "100%|█████████████████████████████████████████| 200/200 [00:25<00:00,  7.99it/s]\n"
     ]
    },
    {
     "name": "stdout",
     "output_type": "stream",
     "text": [
      "MultiClassF1Score\n",
      "Subject: 02, n=9 | train_mean: 0.9764 | test_mean: 0.582\n",
      "MultiClassF1Score\n",
      "Subject: 02, n=9 | train_mean: 0.9815 | test_mean: 0.7778\n",
      "MultiClassF1Score\n",
      "Subject: 02, n=9 | train_mean: 0.9816 | test_mean: 0.7795\n"
     ]
    },
    {
     "name": "stderr",
     "output_type": "stream",
     "text": [
      "100%|█████████████████████████████████████████| 200/200 [00:25<00:00,  7.99it/s]\n"
     ]
    },
    {
     "name": "stdout",
     "output_type": "stream",
     "text": [
      "MultiClassF1Score\n",
      "Subject: 03, n=5 | train_mean: 0.9559 | test_mean: 1.0\n",
      "MultiClassF1Score\n",
      "Subject: 03, n=5 | train_mean: 0.9657 | test_mean: 1.0\n",
      "MultiClassF1Score\n",
      "Subject: 03, n=5 | train_mean: 0.966 | test_mean: 1.0\n"
     ]
    },
    {
     "name": "stderr",
     "output_type": "stream",
     "text": [
      "100%|█████████████████████████████████████████| 200/200 [00:25<00:00,  7.98it/s]\n"
     ]
    },
    {
     "name": "stdout",
     "output_type": "stream",
     "text": [
      "MultiClassF1Score\n",
      "Subject: 04, n=2 | train_mean: 0.9773 | test_mean: 1.0\n",
      "MultiClassF1Score\n",
      "Subject: 04, n=2 | train_mean: 0.9818 | test_mean: 1.0\n",
      "MultiClassF1Score\n",
      "Subject: 04, n=2 | train_mean: 0.9819 | test_mean: 1.0\n"
     ]
    },
    {
     "name": "stderr",
     "output_type": "stream",
     "text": [
      "100%|█████████████████████████████████████████| 200/200 [00:25<00:00,  7.92it/s]\n"
     ]
    },
    {
     "name": "stdout",
     "output_type": "stream",
     "text": [
      "MultiClassF1Score\n",
      "Subject: 05, n=6 | train_mean: 0.9608 | test_mean: 0.5556\n",
      "MultiClassF1Score\n",
      "Subject: 05, n=6 | train_mean: 0.9702 | test_mean: 0.8333\n",
      "MultiClassF1Score\n",
      "Subject: 05, n=6 | train_mean: 0.9704 | test_mean: 0.7778\n"
     ]
    },
    {
     "name": "stderr",
     "output_type": "stream",
     "text": [
      "100%|█████████████████████████████████████████| 200/200 [00:25<00:00,  7.90it/s]\n"
     ]
    },
    {
     "name": "stdout",
     "output_type": "stream",
     "text": [
      "MultiClassF1Score\n",
      "Subject: 06, n=4 | train_mean: 0.9682 | test_mean: 0.5556\n",
      "MultiClassF1Score\n",
      "Subject: 06, n=4 | train_mean: 0.9749 | test_mean: 0.75\n",
      "MultiClassF1Score\n",
      "Subject: 06, n=4 | train_mean: 0.9751 | test_mean: 0.6667\n"
     ]
    },
    {
     "name": "stderr",
     "output_type": "stream",
     "text": [
      "100%|█████████████████████████████████████████| 200/200 [00:25<00:00,  7.83it/s]\n"
     ]
    },
    {
     "name": "stdout",
     "output_type": "stream",
     "text": [
      "MultiClassF1Score\n",
      "Subject: 07, n=5 | train_mean: 0.9563 | test_mean: 1.0\n",
      "MultiClassF1Score\n",
      "Subject: 07, n=5 | train_mean: 0.9657 | test_mean: 1.0\n",
      "MultiClassF1Score\n",
      "Subject: 07, n=5 | train_mean: 0.9658 | test_mean: 1.0\n"
     ]
    },
    {
     "name": "stderr",
     "output_type": "stream",
     "text": [
      "100%|█████████████████████████████████████████| 200/200 [00:25<00:00,  7.83it/s]\n"
     ]
    },
    {
     "name": "stdout",
     "output_type": "stream",
     "text": [
      "MultiClassF1Score\n",
      "Subject: 08, n=1 | train_mean: 0.9524 | test_mean: 0.0\n",
      "MultiClassF1Score\n",
      "Subject: 08, n=1 | train_mean: 0.9615 | test_mean: 0.0\n",
      "MultiClassF1Score\n",
      "Subject: 08, n=1 | train_mean: 0.9618 | test_mean: 0.0\n"
     ]
    },
    {
     "name": "stderr",
     "output_type": "stream",
     "text": [
      "100%|█████████████████████████████████████████| 200/200 [00:25<00:00,  7.95it/s]\n"
     ]
    },
    {
     "name": "stdout",
     "output_type": "stream",
     "text": [
      "MultiClassF1Score\n",
      "Subject: 09, n=10 | train_mean: 0.9554 | test_mean: 1.0\n",
      "MultiClassF1Score\n",
      "Subject: 09, n=10 | train_mean: 0.9653 | test_mean: 1.0\n",
      "MultiClassF1Score\n",
      "Subject: 09, n=10 | train_mean: 0.9656 | test_mean: 1.0\n"
     ]
    },
    {
     "name": "stderr",
     "output_type": "stream",
     "text": [
      "100%|█████████████████████████████████████████| 200/200 [00:24<00:00,  8.04it/s]\n"
     ]
    },
    {
     "name": "stdout",
     "output_type": "stream",
     "text": [
      "MultiClassF1Score\n",
      "Subject: 11, n=4 | train_mean: 0.969 | test_mean: 1.0\n",
      "MultiClassF1Score\n",
      "Subject: 11, n=4 | train_mean: 0.9749 | test_mean: 1.0\n",
      "MultiClassF1Score\n",
      "Subject: 11, n=4 | train_mean: 0.975 | test_mean: 1.0\n"
     ]
    },
    {
     "name": "stderr",
     "output_type": "stream",
     "text": [
      "100%|█████████████████████████████████████████| 200/200 [00:25<00:00,  7.97it/s]\n"
     ]
    },
    {
     "name": "stdout",
     "output_type": "stream",
     "text": [
      "MultiClassF1Score\n",
      "Subject: 12, n=11 | train_mean: 0.9582 | test_mean: 0.8963\n",
      "MultiClassF1Score\n",
      "Subject: 12, n=11 | train_mean: 0.9675 | test_mean: 0.9091\n",
      "MultiClassF1Score\n",
      "Subject: 12, n=11 | train_mean: 0.9679 | test_mean: 0.9131\n"
     ]
    },
    {
     "name": "stderr",
     "output_type": "stream",
     "text": [
      "100%|█████████████████████████████████████████| 200/200 [00:24<00:00,  8.04it/s]\n"
     ]
    },
    {
     "name": "stdout",
     "output_type": "stream",
     "text": [
      "MultiClassF1Score\n",
      "Subject: 13, n=2 | train_mean: 0.9537 | test_mean: 1.0\n",
      "MultiClassF1Score\n",
      "Subject: 13, n=2 | train_mean: 0.9636 | test_mean: 1.0\n",
      "MultiClassF1Score\n",
      "Subject: 13, n=2 | train_mean: 0.9638 | test_mean: 1.0\n"
     ]
    },
    {
     "name": "stderr",
     "output_type": "stream",
     "text": [
      "100%|█████████████████████████████████████████| 200/200 [00:25<00:00,  7.88it/s]\n"
     ]
    },
    {
     "name": "stdout",
     "output_type": "stream",
     "text": [
      "MultiClassF1Score\n",
      "Subject: 14, n=3 | train_mean: 0.9545 | test_mean: 0.4\n",
      "MultiClassF1Score\n",
      "Subject: 14, n=3 | train_mean: 0.9636 | test_mean: 0.6667\n",
      "MultiClassF1Score\n",
      "Subject: 14, n=3 | train_mean: 0.9637 | test_mean: 0.8\n"
     ]
    },
    {
     "name": "stderr",
     "output_type": "stream",
     "text": [
      "100%|█████████████████████████████████████████| 200/200 [00:24<00:00,  8.00it/s]\n"
     ]
    },
    {
     "name": "stdout",
     "output_type": "stream",
     "text": [
      "MultiClassF1Score\n",
      "Subject: 15, n=3 | train_mean: 0.9576 | test_mean: 0.5556\n",
      "MultiClassF1Score\n",
      "Subject: 15, n=3 | train_mean: 0.9681 | test_mean: 0.6667\n",
      "MultiClassF1Score\n",
      "Subject: 15, n=3 | train_mean: 0.9681 | test_mean: 0.5556\n"
     ]
    },
    {
     "name": "stderr",
     "output_type": "stream",
     "text": [
      "100%|█████████████████████████████████████████| 200/200 [00:25<00:00,  7.94it/s]\n"
     ]
    },
    {
     "name": "stdout",
     "output_type": "stream",
     "text": [
      "MultiClassF1Score\n",
      "Subject: 16, n=3 | train_mean: 0.9595 | test_mean: 0.6667\n",
      "MultiClassF1Score\n",
      "Subject: 16, n=3 | train_mean: 0.9681 | test_mean: 0.6667\n",
      "MultiClassF1Score\n",
      "Subject: 16, n=3 | train_mean: 0.9685 | test_mean: 0.6667\n"
     ]
    },
    {
     "name": "stderr",
     "output_type": "stream",
     "text": [
      "100%|█████████████████████████████████████████| 200/200 [00:23<00:00,  8.58it/s]\n"
     ]
    },
    {
     "name": "stdout",
     "output_type": "stream",
     "text": [
      "MultiClassF1Score\n",
      "Subject: 17, n=31 | train_mean: 0.9567 | test_mean: 0.8262\n",
      "MultiClassF1Score\n",
      "Subject: 17, n=31 | train_mean: 0.9659 | test_mean: 0.9355\n",
      "MultiClassF1Score\n",
      "Subject: 17, n=31 | train_mean: 0.9663 | test_mean: 0.9358\n"
     ]
    },
    {
     "name": "stderr",
     "output_type": "stream",
     "text": [
      "100%|█████████████████████████████████████████| 200/200 [00:25<00:00,  7.89it/s]\n"
     ]
    },
    {
     "name": "stdout",
     "output_type": "stream",
     "text": [
      "MultiClassF1Score\n",
      "Subject: 19, n=11 | train_mean: 0.9579 | test_mean: 0.9153\n",
      "MultiClassF1Score\n",
      "Subject: 19, n=11 | train_mean: 0.9675 | test_mean: 0.9091\n",
      "MultiClassF1Score\n",
      "Subject: 19, n=11 | train_mean: 0.9675 | test_mean: 0.9105\n"
     ]
    },
    {
     "name": "stderr",
     "output_type": "stream",
     "text": [
      "100%|█████████████████████████████████████████| 200/200 [00:25<00:00,  7.91it/s]\n"
     ]
    },
    {
     "name": "stdout",
     "output_type": "stream",
     "text": [
      "MultiClassF1Score\n",
      "Subject: 20, n=2 | train_mean: 0.9673 | test_mean: 1.0\n",
      "MultiClassF1Score\n",
      "Subject: 20, n=2 | train_mean: 0.975 | test_mean: 1.0\n",
      "MultiClassF1Score\n",
      "Subject: 20, n=2 | train_mean: 0.9751 | test_mean: 1.0\n"
     ]
    },
    {
     "name": "stderr",
     "output_type": "stream",
     "text": [
      "100%|█████████████████████████████████████████| 200/200 [00:25<00:00,  7.92it/s]\n"
     ]
    },
    {
     "name": "stdout",
     "output_type": "stream",
     "text": [
      "MultiClassF1Score\n",
      "Subject: 21, n=1 | train_mean: 0.9717 | test_mean: 0.0\n",
      "MultiClassF1Score\n",
      "Subject: 21, n=1 | train_mean: 0.9773 | test_mean: 0.0\n",
      "MultiClassF1Score\n",
      "Subject: 21, n=1 | train_mean: 0.9774 | test_mean: 0.0\n"
     ]
    },
    {
     "name": "stderr",
     "output_type": "stream",
     "text": [
      "100%|█████████████████████████████████████████| 200/200 [00:25<00:00,  7.73it/s]\n"
     ]
    },
    {
     "name": "stdout",
     "output_type": "stream",
     "text": [
      "MultiClassF1Score\n",
      "Subject: 22, n=2 | train_mean: 0.965 | test_mean: 1.0\n",
      "MultiClassF1Score\n",
      "Subject: 22, n=2 | train_mean: 0.9727 | test_mean: 1.0\n",
      "MultiClassF1Score\n",
      "Subject: 22, n=2 | train_mean: 0.9726 | test_mean: 1.0\n"
     ]
    },
    {
     "name": "stderr",
     "output_type": "stream",
     "text": [
      "100%|█████████████████████████████████████████| 200/200 [00:25<00:00,  7.75it/s]\n"
     ]
    },
    {
     "name": "stdout",
     "output_type": "stream",
     "text": [
      "MultiClassF1Score\n",
      "Subject: 23, n=8 | train_mean: 0.9496 | test_mean: 0.4667\n",
      "MultiClassF1Score\n",
      "Subject: 23, n=8 | train_mean: 0.9608 | test_mean: 0.875\n",
      "MultiClassF1Score\n",
      "Subject: 23, n=8 | train_mean: 0.9612 | test_mean: 0.8167\n"
     ]
    },
    {
     "name": "stderr",
     "output_type": "stream",
     "text": [
      "100%|█████████████████████████████████████████| 200/200 [00:25<00:00,  7.75it/s]\n"
     ]
    },
    {
     "name": "stdout",
     "output_type": "stream",
     "text": [
      "MultiClassF1Score\n",
      "Subject: 24, n=3 | train_mean: 0.9682 | test_mean: 0.5556\n",
      "MultiClassF1Score\n",
      "Subject: 24, n=3 | train_mean: 0.9749 | test_mean: 0.6667\n",
      "MultiClassF1Score\n",
      "Subject: 24, n=3 | train_mean: 0.975 | test_mean: 0.7778\n"
     ]
    },
    {
     "name": "stderr",
     "output_type": "stream",
     "text": [
      "100%|█████████████████████████████████████████| 200/200 [00:25<00:00,  7.86it/s]\n"
     ]
    },
    {
     "name": "stdout",
     "output_type": "stream",
     "text": [
      "MultiClassF1Score\n",
      "Subject: 25, n=5 | train_mean: 0.9698 | test_mean: 0.7619\n",
      "MultiClassF1Score\n",
      "Subject: 25, n=5 | train_mean: 0.9748 | test_mean: 0.8\n",
      "MultiClassF1Score\n",
      "Subject: 25, n=5 | train_mean: 0.9749 | test_mean: 0.781\n"
     ]
    },
    {
     "name": "stderr",
     "output_type": "stream",
     "text": [
      "100%|█████████████████████████████████████████| 200/200 [00:24<00:00,  8.04it/s]\n"
     ]
    },
    {
     "name": "stdout",
     "output_type": "stream",
     "text": [
      "MultiClassF1Score\n",
      "Subject: 26, n=11 | train_mean: 0.9582 | test_mean: 0.45\n",
      "MultiClassF1Score\n",
      "Subject: 26, n=11 | train_mean: 0.9675 | test_mean: 0.8182\n",
      "MultiClassF1Score\n",
      "Subject: 26, n=11 | train_mean: 0.9678 | test_mean: 0.7364\n"
     ]
    },
    {
     "name": "stderr",
     "output_type": "stream",
     "text": [
      "100%|█████████████████████████████████████████| 200/200 [00:24<00:00,  8.10it/s]\n"
     ]
    },
    {
     "name": "stdout",
     "output_type": "stream",
     "text": [
      "MultiClassF1Score\n",
      "Subject: 006, n=11 | train_mean: 0.9534 | test_mean: 0.5185\n",
      "MultiClassF1Score\n",
      "Subject: 006, n=11 | train_mean: 0.9629 | test_mean: 0.8182\n",
      "MultiClassF1Score\n",
      "Subject: 006, n=11 | train_mean: 0.9629 | test_mean: 0.8485\n"
     ]
    },
    {
     "name": "stderr",
     "output_type": "stream",
     "text": [
      "100%|█████████████████████████████████████████| 200/200 [00:24<00:00,  8.18it/s]\n"
     ]
    },
    {
     "name": "stdout",
     "output_type": "stream",
     "text": [
      "MultiClassF1Score\n",
      "Subject: 007, n=8 | train_mean: 0.9613 | test_mean: 0.5222\n",
      "MultiClassF1Score\n",
      "Subject: 007, n=8 | train_mean: 0.97 | test_mean: 0.5\n",
      "MultiClassF1Score\n",
      "Subject: 007, n=8 | train_mean: 0.97 | test_mean: 0.5292\n"
     ]
    },
    {
     "name": "stderr",
     "output_type": "stream",
     "text": [
      "100%|█████████████████████████████████████████| 200/200 [00:24<00:00,  8.25it/s]\n"
     ]
    },
    {
     "name": "stdout",
     "output_type": "stream",
     "text": [
      "MultiClassF1Score\n",
      "Subject: 009, n=4 | train_mean: 0.9695 | test_mean: 0.4286\n",
      "MultiClassF1Score\n",
      "Subject: 009, n=4 | train_mean: 0.9772 | test_mean: 0.75\n",
      "MultiClassF1Score\n",
      "Subject: 009, n=4 | train_mean: 0.9772 | test_mean: 0.6429\n"
     ]
    },
    {
     "name": "stderr",
     "output_type": "stream",
     "text": [
      "100%|█████████████████████████████████████████| 200/200 [00:24<00:00,  8.16it/s]\n"
     ]
    },
    {
     "name": "stdout",
     "output_type": "stream",
     "text": [
      "MultiClassF1Score\n",
      "Subject: 010, n=4 | train_mean: 0.9594 | test_mean: 1.0\n",
      "MultiClassF1Score\n",
      "Subject: 010, n=4 | train_mean: 0.968 | test_mean: 1.0\n",
      "MultiClassF1Score\n",
      "Subject: 010, n=4 | train_mean: 0.9683 | test_mean: 1.0\n"
     ]
    },
    {
     "name": "stderr",
     "output_type": "stream",
     "text": [
      "100%|█████████████████████████████████████████| 200/200 [00:24<00:00,  8.03it/s]\n"
     ]
    },
    {
     "name": "stdout",
     "output_type": "stream",
     "text": [
      "MultiClassF1Score\n",
      "Subject: 011, n=20 | train_mean: 0.9557 | test_mean: 0.4437\n",
      "MultiClassF1Score\n",
      "Subject: 011, n=20 | train_mean: 0.9645 | test_mean: 0.7\n",
      "MultiClassF1Score\n",
      "Subject: 011, n=20 | train_mean: 0.9645 | test_mean: 0.7016\n"
     ]
    },
    {
     "name": "stderr",
     "output_type": "stream",
     "text": [
      "100%|█████████████████████████████████████████| 200/200 [00:25<00:00,  7.89it/s]\n"
     ]
    },
    {
     "name": "stdout",
     "output_type": "stream",
     "text": [
      "MultiClassF1Score\n",
      "Subject: 012, n=3 | train_mean: 0.9571 | test_mean: 0.0\n",
      "MultiClassF1Score\n",
      "Subject: 012, n=3 | train_mean: 0.9658 | test_mean: 0.0\n",
      "MultiClassF1Score\n",
      "Subject: 012, n=3 | train_mean: 0.9661 | test_mean: 0.0\n"
     ]
    },
    {
     "name": "stderr",
     "output_type": "stream",
     "text": [
      "100%|█████████████████████████████████████████| 200/200 [00:25<00:00,  7.84it/s]\n"
     ]
    },
    {
     "name": "stdout",
     "output_type": "stream",
     "text": [
      "MultiClassF1Score\n",
      "Subject: 013, n=6 | train_mean: 0.9629 | test_mean: 0.4545\n",
      "MultiClassF1Score\n",
      "Subject: 013, n=6 | train_mean: 0.9702 | test_mean: 0.8333\n",
      "MultiClassF1Score\n",
      "Subject: 013, n=6 | train_mean: 0.9705 | test_mean: 0.9091\n"
     ]
    },
    {
     "name": "stderr",
     "output_type": "stream",
     "text": [
      "100%|█████████████████████████████████████████| 200/200 [00:24<00:00,  8.11it/s]\n"
     ]
    },
    {
     "name": "stdout",
     "output_type": "stream",
     "text": [
      "MultiClassF1Score\n",
      "Subject: 014, n=10 | train_mean: 0.9684 | test_mean: 0.55\n",
      "MultiClassF1Score\n",
      "Subject: 014, n=10 | train_mean: 0.9745 | test_mean: 0.4\n",
      "MultiClassF1Score\n",
      "Subject: 014, n=10 | train_mean: 0.9747 | test_mean: 0.43\n"
     ]
    },
    {
     "name": "stderr",
     "output_type": "stream",
     "text": [
      "100%|█████████████████████████████████████████| 200/200 [00:24<00:00,  8.06it/s]\n"
     ]
    },
    {
     "name": "stdout",
     "output_type": "stream",
     "text": [
      "MultiClassF1Score\n",
      "Subject: 015, n=3 | train_mean: 0.9706 | test_mean: 0.2222\n",
      "MultiClassF1Score\n",
      "Subject: 015, n=3 | train_mean: 0.9772 | test_mean: 0.3333\n",
      "MultiClassF1Score\n",
      "Subject: 015, n=3 | train_mean: 0.9773 | test_mean: 0.2222\n"
     ]
    },
    {
     "name": "stderr",
     "output_type": "stream",
     "text": [
      "100%|█████████████████████████████████████████| 200/200 [00:25<00:00,  7.95it/s]\n"
     ]
    },
    {
     "name": "stdout",
     "output_type": "stream",
     "text": [
      "MultiClassF1Score\n",
      "Subject: 016, n=5 | train_mean: 0.9528 | test_mean: 0.5556\n",
      "MultiClassF1Score\n",
      "Subject: 016, n=5 | train_mean: 0.9634 | test_mean: 0.6\n",
      "MultiClassF1Score\n",
      "Subject: 016, n=5 | train_mean: 0.9636 | test_mean: 0.4667\n"
     ]
    },
    {
     "name": "stderr",
     "output_type": "stream",
     "text": [
      "100%|█████████████████████████████████████████| 200/200 [00:25<00:00,  7.93it/s]\n"
     ]
    },
    {
     "name": "stdout",
     "output_type": "stream",
     "text": [
      "MultiClassF1Score\n",
      "Subject: 017, n=4 | train_mean: 0.966 | test_mean: 0.6\n",
      "MultiClassF1Score\n",
      "Subject: 017, n=4 | train_mean: 0.9726 | test_mean: 0.75\n",
      "MultiClassF1Score\n",
      "Subject: 017, n=4 | train_mean: 0.9727 | test_mean: 0.85\n"
     ]
    },
    {
     "name": "stderr",
     "output_type": "stream",
     "text": [
      "100%|█████████████████████████████████████████| 200/200 [00:24<00:00,  8.01it/s]\n"
     ]
    },
    {
     "name": "stdout",
     "output_type": "stream",
     "text": [
      "MultiClassF1Score\n",
      "Subject: 018, n=3 | train_mean: 0.9563 | test_mean: 0.4\n",
      "MultiClassF1Score\n",
      "Subject: 018, n=3 | train_mean: 0.9658 | test_mean: 0.6667\n",
      "MultiClassF1Score\n",
      "Subject: 018, n=3 | train_mean: 0.966 | test_mean: 0.5333\n"
     ]
    },
    {
     "name": "stderr",
     "output_type": "stream",
     "text": [
      "100%|█████████████████████████████████████████| 200/200 [00:25<00:00,  7.89it/s]\n"
     ]
    },
    {
     "name": "stdout",
     "output_type": "stream",
     "text": [
      "MultiClassF1Score\n",
      "Subject: 019, n=1 | train_mean: 0.9637 | test_mean: 1.0\n",
      "MultiClassF1Score\n",
      "Subject: 019, n=1 | train_mean: 0.9705 | test_mean: 1.0\n",
      "MultiClassF1Score\n",
      "Subject: 019, n=1 | train_mean: 0.9707 | test_mean: 1.0\n"
     ]
    },
    {
     "name": "stderr",
     "output_type": "stream",
     "text": [
      "100%|█████████████████████████████████████████| 200/200 [00:24<00:00,  8.10it/s]\n"
     ]
    },
    {
     "name": "stdout",
     "output_type": "stream",
     "text": [
      "MultiClassF1Score\n",
      "Subject: 020, n=4 | train_mean: 0.9563 | test_mean: 0.4444\n",
      "MultiClassF1Score\n",
      "Subject: 020, n=4 | train_mean: 0.9658 | test_mean: 0.5\n",
      "MultiClassF1Score\n",
      "Subject: 020, n=4 | train_mean: 0.9661 | test_mean: 0.6667\n"
     ]
    },
    {
     "name": "stderr",
     "output_type": "stream",
     "text": [
      "100%|█████████████████████████████████████████| 200/200 [00:24<00:00,  8.11it/s]\n"
     ]
    },
    {
     "name": "stdout",
     "output_type": "stream",
     "text": [
      "MultiClassF1Score\n",
      "Subject: 021, n=2 | train_mean: 0.9594 | test_mean: 1.0\n",
      "MultiClassF1Score\n",
      "Subject: 021, n=2 | train_mean: 0.9682 | test_mean: 1.0\n",
      "MultiClassF1Score\n",
      "Subject: 021, n=2 | train_mean: 0.9684 | test_mean: 1.0\n"
     ]
    },
    {
     "name": "stderr",
     "output_type": "stream",
     "text": [
      "100%|█████████████████████████████████████████| 200/200 [00:25<00:00,  7.99it/s]\n"
     ]
    },
    {
     "name": "stdout",
     "output_type": "stream",
     "text": [
      "MultiClassF1Score\n",
      "Subject: 022, n=5 | train_mean: 0.9615 | test_mean: 1.0\n",
      "MultiClassF1Score\n",
      "Subject: 022, n=5 | train_mean: 0.9703 | test_mean: 1.0\n",
      "MultiClassF1Score\n",
      "Subject: 022, n=5 | train_mean: 0.9705 | test_mean: 1.0\n"
     ]
    },
    {
     "name": "stderr",
     "output_type": "stream",
     "text": [
      "100%|█████████████████████████████████████████| 200/200 [00:24<00:00,  8.06it/s]\n"
     ]
    },
    {
     "name": "stdout",
     "output_type": "stream",
     "text": [
      "MultiClassF1Score\n",
      "Subject: 023, n=1 | train_mean: 0.9569 | test_mean: 1.0\n",
      "MultiClassF1Score\n",
      "Subject: 023, n=1 | train_mean: 0.966 | test_mean: 1.0\n",
      "MultiClassF1Score\n",
      "Subject: 023, n=1 | train_mean: 0.9663 | test_mean: 1.0\n"
     ]
    },
    {
     "name": "stderr",
     "output_type": "stream",
     "text": [
      "100%|█████████████████████████████████████████| 200/200 [00:24<00:00,  8.11it/s]\n"
     ]
    },
    {
     "name": "stdout",
     "output_type": "stream",
     "text": [
      "MultiClassF1Score\n",
      "Subject: 024, n=1 | train_mean: 0.9614 | test_mean: 1.0\n",
      "MultiClassF1Score\n",
      "Subject: 024, n=1 | train_mean: 0.9705 | test_mean: 1.0\n",
      "MultiClassF1Score\n",
      "Subject: 024, n=1 | train_mean: 0.9706 | test_mean: 1.0\n"
     ]
    },
    {
     "name": "stderr",
     "output_type": "stream",
     "text": [
      "100%|█████████████████████████████████████████| 200/200 [00:24<00:00,  8.05it/s]\n"
     ]
    },
    {
     "name": "stdout",
     "output_type": "stream",
     "text": [
      "MultiClassF1Score\n",
      "Subject: 026, n=9 | train_mean: 0.9564 | test_mean: 0.4375\n",
      "MultiClassF1Score\n",
      "Subject: 026, n=9 | train_mean: 0.9654 | test_mean: 0.7778\n",
      "MultiClassF1Score\n",
      "Subject: 026, n=9 | train_mean: 0.9655 | test_mean: 0.875\n"
     ]
    },
    {
     "name": "stderr",
     "output_type": "stream",
     "text": [
      "100%|█████████████████████████████████████████| 200/200 [00:25<00:00,  7.89it/s]\n"
     ]
    },
    {
     "name": "stdout",
     "output_type": "stream",
     "text": [
      "MultiClassF1Score\n",
      "Subject: 028, n=3 | train_mean: 0.9563 | test_mean: 1.0\n",
      "MultiClassF1Score\n",
      "Subject: 028, n=3 | train_mean: 0.9658 | test_mean: 1.0\n",
      "MultiClassF1Score\n",
      "Subject: 028, n=3 | train_mean: 0.9662 | test_mean: 1.0\n"
     ]
    },
    {
     "name": "stderr",
     "output_type": "stream",
     "text": [
      "100%|█████████████████████████████████████████| 200/200 [00:24<00:00,  8.06it/s]\n"
     ]
    },
    {
     "name": "stdout",
     "output_type": "stream",
     "text": [
      "MultiClassF1Score\n",
      "Subject: 030, n=3 | train_mean: 0.973 | test_mean: 1.0\n",
      "MultiClassF1Score\n",
      "Subject: 030, n=3 | train_mean: 0.9795 | test_mean: 1.0\n",
      "MultiClassF1Score\n",
      "Subject: 030, n=3 | train_mean: 0.9796 | test_mean: 1.0\n"
     ]
    },
    {
     "name": "stderr",
     "output_type": "stream",
     "text": [
      "100%|█████████████████████████████████████████| 200/200 [00:24<00:00,  8.04it/s]\n"
     ]
    },
    {
     "name": "stdout",
     "output_type": "stream",
     "text": [
      "MultiClassF1Score\n",
      "Subject: 031, n=1 | train_mean: 0.9603 | test_mean: 1.0\n",
      "MultiClassF1Score\n",
      "Subject: 031, n=1 | train_mean: 0.9683 | test_mean: 1.0\n",
      "MultiClassF1Score\n",
      "Subject: 031, n=1 | train_mean: 0.9685 | test_mean: 1.0\n"
     ]
    },
    {
     "name": "stderr",
     "output_type": "stream",
     "text": [
      "100%|█████████████████████████████████████████| 200/200 [00:24<00:00,  8.25it/s]\n"
     ]
    },
    {
     "name": "stdout",
     "output_type": "stream",
     "text": [
      "MultiClassF1Score\n",
      "Subject: 032, n=4 | train_mean: 0.9695 | test_mean: 0.4286\n",
      "MultiClassF1Score\n",
      "Subject: 032, n=4 | train_mean: 0.9772 | test_mean: 0.75\n",
      "MultiClassF1Score\n",
      "Subject: 032, n=4 | train_mean: 0.9773 | test_mean: 0.8571\n"
     ]
    },
    {
     "name": "stderr",
     "output_type": "stream",
     "text": [
      "100%|█████████████████████████████████████████| 200/200 [00:24<00:00,  8.26it/s]\n"
     ]
    },
    {
     "name": "stdout",
     "output_type": "stream",
     "text": [
      "MultiClassF1Score\n",
      "Subject: 033, n=5 | train_mean: 0.9637 | test_mean: 0.3333\n",
      "MultiClassF1Score\n",
      "Subject: 033, n=5 | train_mean: 0.9703 | test_mean: 0.8\n",
      "MultiClassF1Score\n",
      "Subject: 033, n=5 | train_mean: 0.9705 | test_mean: 0.8\n"
     ]
    },
    {
     "name": "stderr",
     "output_type": "stream",
     "text": [
      "100%|█████████████████████████████████████████| 200/200 [00:24<00:00,  8.10it/s]\n"
     ]
    },
    {
     "name": "stdout",
     "output_type": "stream",
     "text": [
      "MultiClassF1Score\n",
      "Subject: 034, n=3 | train_mean: 0.9575 | test_mean: 1.0\n",
      "MultiClassF1Score\n",
      "Subject: 034, n=3 | train_mean: 0.9658 | test_mean: 1.0\n",
      "MultiClassF1Score\n",
      "Subject: 034, n=3 | train_mean: 0.9658 | test_mean: 1.0\n"
     ]
    },
    {
     "name": "stderr",
     "output_type": "stream",
     "text": [
      "100%|█████████████████████████████████████████| 200/200 [00:24<00:00,  8.10it/s]\n"
     ]
    },
    {
     "name": "stdout",
     "output_type": "stream",
     "text": [
      "MultiClassF1Score\n",
      "Subject: 035, n=8 | train_mean: 0.9709 | test_mean: 0.6111\n",
      "MultiClassF1Score\n",
      "Subject: 035, n=8 | train_mean: 0.977 | test_mean: 0.75\n",
      "MultiClassF1Score\n",
      "Subject: 035, n=8 | train_mean: 0.9771 | test_mean: 0.8542\n"
     ]
    },
    {
     "name": "stderr",
     "output_type": "stream",
     "text": [
      "100%|█████████████████████████████████████████| 200/200 [00:24<00:00,  8.09it/s]\n"
     ]
    },
    {
     "name": "stdout",
     "output_type": "stream",
     "text": [
      "MultiClassF1Score\n",
      "Subject: 036, n=1 | train_mean: 0.9569 | test_mean: 1.0\n",
      "MultiClassF1Score\n",
      "Subject: 036, n=1 | train_mean: 0.966 | test_mean: 1.0\n",
      "MultiClassF1Score\n",
      "Subject: 036, n=1 | train_mean: 0.9663 | test_mean: 1.0\n"
     ]
    },
    {
     "name": "stderr",
     "output_type": "stream",
     "text": [
      "100%|█████████████████████████████████████████| 200/200 [00:24<00:00,  8.18it/s]\n"
     ]
    },
    {
     "name": "stdout",
     "output_type": "stream",
     "text": [
      "MultiClassF1Score\n",
      "Subject: 037, n=1 | train_mean: 0.9603 | test_mean: 0.0\n",
      "MultiClassF1Score\n",
      "Subject: 037, n=1 | train_mean: 0.9683 | test_mean: 0.0\n",
      "MultiClassF1Score\n",
      "Subject: 037, n=1 | train_mean: 0.9685 | test_mean: 0.0\n",
      "Total f1: [0.7393749087191471, 0.7601809954751131, 0.7615330535265415], SMIC: [0.6991215412268043, 0.6951219512195121, 0.6921493497231624], CASME2: [0.851701737966569, 0.8758620689655172, 0.8738363903819306], SAMM: [0.6023132810229584, 0.7142857142857143, 0.7129062411914704]\n"
     ]
    }
   ],
   "source": [
    "out = core.MEGCValidation(Config).validate(df, data)"
   ]
  },
  {
   "cell_type": "code",
   "execution_count": 8,
   "id": "905c4ddd",
   "metadata": {},
   "outputs": [],
   "source": [
    "from sklearn.preprocessing import LabelEncoder"
   ]
  },
  {
   "cell_type": "code",
   "execution_count": 9,
   "id": "97a2438b",
   "metadata": {},
   "outputs": [],
   "source": [
    "class MValidation(core.MEGCValidation):\n",
    "    def __init__(self, config: Config, verbose: bool = True):\n",
    "        super().__init__(config)\n",
    "        self.verbose = verbose\n",
    "        self.disable_tqdm = True\n",
    "    \n",
    "    def validate(self, df: pd.DataFrame, input_data: np.ndarray, seed_n: int = 1):\n",
    "        utils.set_random_seeds(seed_n)\n",
    "        subject_names = df[\"subject\"].unique()\n",
    "        le = LabelEncoder()\n",
    "        labels = le.fit_transform(df[\"emotion\"])\n",
    "        outputs_list = []\n",
    "        for subject_name in subject_names:\n",
    "            train_metrics, test_metrics, outputs_test = self.validate_split(df, input_data, labels, subject_name)\n",
    "            outputs_list.append(outputs_test)\n",
    "            if self.verbose:\n",
    "                self.printer.print_train_test_evaluation(\n",
    "                    train_metrics, test_metrics, subject_name, outputs_test.shape[0]\n",
    "                )\n",
    "                \n",
    "        # Calculate F1-Score for each subject seperately and average the results\n",
    "        total_f1 = []\n",
    "        for i, subject_predictions in enumerate(outputs_list):\n",
    "            subject_index = df[df[\"subject\"] == subject_names[i]].index.tolist()\n",
    "            subject_labels = labels[subject_index]\n",
    "            f1_subject = self.evaluation_fn(subject_labels, subject_predictions)\n",
    "            total_f1.append(f1_subject)\n",
    "        f1_total = np.mean(total_f1)\n",
    "        if self.verbose:\n",
    "             print(f\"Total f1: {f1_total}\")\n",
    "        return outputs_list"
   ]
  },
  {
   "cell_type": "code",
   "execution_count": 13,
   "id": "41e33de5",
   "metadata": {
    "scrolled": true
   },
   "outputs": [
    {
     "name": "stdout",
     "output_type": "stream",
     "text": [
      "Subject: s1, n=6 | train_mean: 0.9692 | test_mean: 0.1905\n",
      "Subject: s11, n=7 | train_mean: 0.9725 | test_mean: 0.8222\n",
      "Subject: s12, n=9 | train_mean: 0.9623 | test_mean: 0.619\n",
      "Subject: s13, n=10 | train_mean: 0.9575 | test_mean: 0.4444\n",
      "Subject: s14, n=10 | train_mean: 0.9601 | test_mean: 1.0\n",
      "Subject: s15, n=4 | train_mean: 0.9611 | test_mean: 0.5556\n",
      "Subject: s18, n=7 | train_mean: 0.9627 | test_mean: 1.0\n",
      "Subject: s19, n=2 | train_mean: 0.956 | test_mean: 1.0\n",
      "Subject: s2, n=6 | train_mean: 0.9537 | test_mean: 0.6296\n",
      "Subject: s20, n=22 | train_mean: 0.9673 | test_mean: 0.61\n",
      "Subject: s3, n=39 | train_mean: 0.9617 | test_mean: 0.6173\n",
      "Subject: s4, n=19 | train_mean: 0.9708 | test_mean: 0.5316\n",
      "Subject: s5, n=2 | train_mean: 0.9606 | test_mean: 0.3333\n",
      "Subject: s6, n=4 | train_mean: 0.9637 | test_mean: 0.3889\n",
      "Subject: s8, n=13 | train_mean: 0.9674 | test_mean: 0.6905\n",
      "Subject: s9, n=4 | train_mean: 0.9587 | test_mean: 0.7333\n",
      "Subject: 01, n=3 | train_mean: 0.961 | test_mean: 1.0\n",
      "Subject: 02, n=9 | train_mean: 0.9764 | test_mean: 0.582\n",
      "Subject: 03, n=5 | train_mean: 0.9559 | test_mean: 1.0\n",
      "Subject: 04, n=2 | train_mean: 0.9773 | test_mean: 1.0\n",
      "Subject: 05, n=6 | train_mean: 0.9608 | test_mean: 0.5556\n",
      "Subject: 06, n=4 | train_mean: 0.9682 | test_mean: 0.5556\n",
      "Subject: 07, n=5 | train_mean: 0.9563 | test_mean: 1.0\n",
      "Subject: 08, n=1 | train_mean: 0.9524 | test_mean: 0.0\n",
      "Subject: 09, n=10 | train_mean: 0.9554 | test_mean: 1.0\n",
      "Subject: 11, n=4 | train_mean: 0.969 | test_mean: 1.0\n",
      "Subject: 12, n=11 | train_mean: 0.9582 | test_mean: 0.8963\n",
      "Subject: 13, n=2 | train_mean: 0.9537 | test_mean: 1.0\n",
      "Subject: 14, n=3 | train_mean: 0.9545 | test_mean: 0.4\n",
      "Subject: 15, n=3 | train_mean: 0.9576 | test_mean: 0.5556\n",
      "Subject: 16, n=3 | train_mean: 0.9595 | test_mean: 0.6667\n",
      "Subject: 17, n=31 | train_mean: 0.9567 | test_mean: 0.8262\n",
      "Subject: 19, n=11 | train_mean: 0.9579 | test_mean: 0.9153\n",
      "Subject: 20, n=2 | train_mean: 0.9673 | test_mean: 1.0\n",
      "Subject: 21, n=1 | train_mean: 0.9717 | test_mean: 0.0\n",
      "Subject: 22, n=2 | train_mean: 0.965 | test_mean: 1.0\n",
      "Subject: 23, n=8 | train_mean: 0.9496 | test_mean: 0.4667\n",
      "Subject: 24, n=3 | train_mean: 0.9682 | test_mean: 0.5556\n",
      "Subject: 25, n=5 | train_mean: 0.9698 | test_mean: 0.7619\n",
      "Subject: 26, n=11 | train_mean: 0.9582 | test_mean: 0.45\n",
      "Subject: 006, n=11 | train_mean: 0.9534 | test_mean: 0.5185\n",
      "Subject: 007, n=8 | train_mean: 0.9613 | test_mean: 0.5222\n",
      "Subject: 009, n=4 | train_mean: 0.9695 | test_mean: 0.4286\n",
      "Subject: 010, n=4 | train_mean: 0.9594 | test_mean: 1.0\n",
      "Subject: 011, n=20 | train_mean: 0.9557 | test_mean: 0.4437\n",
      "Subject: 012, n=3 | train_mean: 0.9571 | test_mean: 0.0\n",
      "Subject: 013, n=6 | train_mean: 0.9629 | test_mean: 0.4545\n",
      "Subject: 014, n=10 | train_mean: 0.9684 | test_mean: 0.55\n",
      "Subject: 015, n=3 | train_mean: 0.9706 | test_mean: 0.2222\n",
      "Subject: 016, n=5 | train_mean: 0.9528 | test_mean: 0.5556\n",
      "Subject: 017, n=4 | train_mean: 0.966 | test_mean: 0.6\n",
      "Subject: 018, n=3 | train_mean: 0.9563 | test_mean: 0.4\n",
      "Subject: 019, n=1 | train_mean: 0.9637 | test_mean: 1.0\n",
      "Subject: 020, n=4 | train_mean: 0.9563 | test_mean: 0.4444\n",
      "Subject: 021, n=2 | train_mean: 0.9594 | test_mean: 1.0\n",
      "Subject: 022, n=5 | train_mean: 0.9615 | test_mean: 1.0\n",
      "Subject: 023, n=1 | train_mean: 0.9569 | test_mean: 1.0\n",
      "Subject: 024, n=1 | train_mean: 0.9614 | test_mean: 1.0\n",
      "Subject: 026, n=9 | train_mean: 0.9564 | test_mean: 0.4375\n",
      "Subject: 028, n=3 | train_mean: 0.9563 | test_mean: 1.0\n",
      "Subject: 030, n=3 | train_mean: 0.973 | test_mean: 1.0\n",
      "Subject: 031, n=1 | train_mean: 0.9603 | test_mean: 1.0\n",
      "Subject: 032, n=4 | train_mean: 0.9695 | test_mean: 0.4286\n",
      "Subject: 033, n=5 | train_mean: 0.9637 | test_mean: 0.3333\n",
      "Subject: 034, n=3 | train_mean: 0.9575 | test_mean: 1.0\n",
      "Subject: 035, n=8 | train_mean: 0.9709 | test_mean: 0.6111\n",
      "Subject: 036, n=1 | train_mean: 0.9569 | test_mean: 1.0\n",
      "Subject: 037, n=1 | train_mean: 0.9603 | test_mean: 0.0\n",
      "Total f1: 0.6662348346345855\n"
     ]
    }
   ],
   "source": [
    "# Averaging over folds\n",
    "class Config(Config):\n",
    "    evaluation_fn = partial(utils.MultiClassF1Score, average=\"macro\")\n",
    "out = MValidation(Config).validate(df, data)"
   ]
  },
  {
   "cell_type": "code",
   "execution_count": 11,
   "id": "4c063518",
   "metadata": {},
   "outputs": [],
   "source": [
    "import seaborn as sns\n",
    "sns.color_palette(\"Set2\")\n",
    "sns.set_theme()"
   ]
  },
  {
   "cell_type": "code",
   "execution_count": 12,
   "id": "6c4a038b",
   "metadata": {},
   "outputs": [
    {
     "name": "stderr",
     "output_type": "stream",
     "text": [
      "/tmp/ipykernel_21714/91130946.py:13: UserWarning: FixedFormatter should only be used together with FixedLocator\n",
      "  ax.set_xticklabels(labels, size=16)\n"
     ]
    },
    {
     "data": {
      "image/png": "[encoded data removed]",
      "text/plain": [
       "<Figure size 800x600 with 1 Axes>"
      ]
     },
     "metadata": {},
     "output_type": "display_data"
    }
   ],
   "source": [
    "fig, ax = plt.subplots(figsize=(8, 6))\n",
    "ys = [73.9, 76.0, 76.2, 66.6]\n",
    "xs = [1, 3, 4, 5]\n",
    "ax.bar(xs, ys, color=[\"g\", \"r\", \"r\", \"r\"])\n",
    "ax.axvline(x=2, ymin=0.00, ymax=1, color=\"black\")\n",
    "ax.axhline(y=73.8, color=\"black\", linestyle=\"--\")\n",
    "ax.set_ylim(60, 80)\n",
    "labels = [item.get_text() for item in ax.get_xticklabels()]\n",
    "labels[1] = \"$F1_{macro}$\"\n",
    "labels[3] = \"$F1_{micro}$\"\n",
    "labels[4] = \"$F1_{weighted}$\"\n",
    "labels[5] = \"$F1_{macro folds}$ \"\n",
    "ax.set_xticklabels(labels, size=16)\n",
    "ax.set_xlabel(\"Metric\", size=20)\n",
    "ax.set_ylabel(\"Value\", size=20)\n",
    "plt.yticks(size=12)\n",
    "#fig.savefig(\"../../Figures/f1_scores.pdf\")\n",
    "plt.show()\n"
   ]
  },
  {
   "cell_type": "code",
   "execution_count": null,
   "id": "3435c1b3",
   "metadata": {},
   "outputs": [],
   "source": []
  }
 ],
 "metadata": {
  "kernelspec": {
   "display_name": "Python 3 (ipykernel)",
   "language": "python",
   "name": "python3"
  },
  "language_info": {
   "codemirror_mode": {
    "name": "ipython",
    "version": 3
   },
   "file_extension": ".py",
   "mimetype": "text/x-python",
   "name": "python",
   "nbconvert_exporter": "python",
   "pygments_lexer": "ipython3",
   "version": "3.10.4"
  }
 },
 "nbformat": 4,
 "nbformat_minor": 5
}
