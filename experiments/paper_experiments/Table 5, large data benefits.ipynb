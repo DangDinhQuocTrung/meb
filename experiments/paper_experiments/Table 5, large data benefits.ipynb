{
 "cells": [
  {
   "cell_type": "code",
   "execution_count": 5,
   "metadata": {},
   "outputs": [
    {
     "name": "stdout",
     "output_type": "stream",
     "text": [
      "The autoreload extension is already loaded. To reload it, use:\n",
      "  %reload_ext autoreload\n"
     ]
    }
   ],
   "source": [
    "from meb.utils import utils\n",
    "from meb.datasets import datasets\n",
    "from meb.models import models\n",
    "\n",
    "import os\n",
    "from tqdm import tqdm\n",
    "from typing import Callable, List, Tuple, Union\n",
    "from functools import partial\n",
    "\n",
    "import numpy as np\n",
    "from numba import jit\n",
    "import pandas as pd\n",
    "import matplotlib.pyplot as plt\n",
    "from sklearn.svm import SVC\n",
    "from sklearn.metrics import f1_score, confusion_matrix\n",
    "from skimage.transform import resize\n",
    "import cv2\n",
    "from sklearn.model_selection import train_test_split\n",
    "from sklearn.svm import SVC\n",
    "import torch\n",
    "import torch.nn as nn\n",
    "import torch.optim as optim\n",
    "import timm\n",
    "\n",
    "\n",
    "\n",
    "pd.set_option(\"display.max_columns\", 50)\n",
    "%load_ext autoreload\n",
    "%autoreload 2"
   ]
  },
  {
   "cell_type": "code",
   "execution_count": 2,
   "metadata": {},
   "outputs": [],
   "source": [
    "c = datasets.CrossDataset(resize=64, optical_flow=True)"
   ]
  },
  {
   "cell_type": "code",
   "execution_count": 3,
   "metadata": {},
   "outputs": [],
   "source": [
    "df = c.data_frame\n",
    "data = c.data"
   ]
  },
  {
   "cell_type": "markdown",
   "metadata": {},
   "source": [
    "Test on Casme II with different sizes of datasets"
   ]
  },
  {
   "cell_type": "code",
   "execution_count": 8,
   "metadata": {},
   "outputs": [],
   "source": [
    "from meb.core.train_eval import CrossDatasetValidation"
   ]
  },
  {
   "cell_type": "code",
   "execution_count": 10,
   "metadata": {},
   "outputs": [],
   "source": [
    "class Config:\n",
    "    action_units = ['AU1', 'AU2', 'AU4', 'AU7', 'AU12', 'AU14', 'AU15', 'AU17']\n",
    "    device = torch.device(\"cuda:0\")\n",
    "    epochs = 200\n",
    "    weight = torch.tensor((1 / df.loc[:, action_units].sum(0) * 100).tolist()).to(device)\n",
    "    criterion = utils.MultiLabelBCELoss(weight=weight)\n",
    "    evaluation = utils.MultiLabelF1Score(average=\"macro\")\n",
    "    # Optimizer\n",
    "    learning_rate = 1e-4\n",
    "    weight_decay = 1e-3\n",
    "    optimizer = optim.Adam\n",
    "    scheduler = None\n",
    "    # Dataloader\n",
    "    batch_size = 128\n",
    "    train_transform = {\"spatial\": None, \"temporal\": None}\n",
    "    test_transform = {\"spatial\": None, \"temporal\": None}\n",
    "    model = models.SSSNet(output_size=len(action_units))"
   ]
  },
  {
   "cell_type": "markdown",
   "metadata": {},
   "source": [
    "We only care about the results of casme2"
   ]
  },
  {
   "cell_type": "code",
   "execution_count": 15,
   "metadata": {},
   "outputs": [
    {
     "name": "stderr",
     "output_type": "stream",
     "text": [
      "100%|██████████| 5/5 [00:37<00:00,  7.43s/it]"
     ]
    },
    {
     "name": "stdout",
     "output_type": "stream",
     "text": [
      "AUS: ['AU1', 'AU2', 'AU4', 'AU7', 'AU12', 'AU14', 'AU15', 'AU17', 'Average']\n",
      "86.7 & 79.9 & 88.8 & 46.7 & 53.8 & 60.0 & 79.1 & 73.0 & 71.0\n",
      "\n",
      "Datasets:  ['casme', 'casme2', 'Average']\n",
      "69.8 & 71.6 & 70.7\n"
     ]
    },
    {
     "name": "stderr",
     "output_type": "stream",
     "text": [
      "\n"
     ]
    }
   ],
   "source": [
    "#casme\n",
    "idx = df[\"dataset\"].isin([\"casme\", \"casme2\"])\n",
    "CrossDatasetValidation(Config).validate_n_times(df[idx], data[idx])"
   ]
  },
  {
   "cell_type": "code",
   "execution_count": 16,
   "metadata": {},
   "outputs": [
    {
     "name": "stderr",
     "output_type": "stream",
     "text": [
      "100%|██████████| 5/5 [01:42<00:00, 20.51s/it]"
     ]
    },
    {
     "name": "stdout",
     "output_type": "stream",
     "text": [
      "AUS: ['AU1', 'AU2', 'AU4', 'AU7', 'AU12', 'AU14', 'AU15', 'AU17', 'Average']\n",
      "82.5 & 84.4 & 86.0 & 62.8 & 65.7 & 66.8 & 75.0 & 74.0 & 74.6\n",
      "\n",
      "Datasets:  ['casme', 'casme2', 'samm', 'Average']\n",
      "70.2 & 78.5 & 70.0 & 72.9\n"
     ]
    },
    {
     "name": "stderr",
     "output_type": "stream",
     "text": [
      "\n"
     ]
    }
   ],
   "source": [
    "#casme + samm\n",
    "idx = df[\"dataset\"].isin([\"casme\", \"casme2\", \"samm\"])\n",
    "CrossDatasetValidation(Config).validate_n_times(df[idx], data[idx])"
   ]
  },
  {
   "cell_type": "code",
   "execution_count": 20,
   "metadata": {},
   "outputs": [
    {
     "name": "stderr",
     "output_type": "stream",
     "text": [
      "100%|██████████| 5/5 [03:34<00:00, 42.97s/it]"
     ]
    },
    {
     "name": "stdout",
     "output_type": "stream",
     "text": [
      "AUS: ['AU1', 'AU2', 'AU4', 'AU7', 'AU12', 'AU14', 'AU15', 'AU17', 'Average']\n",
      "87.2 & 83.1 & 89.1 & 69.2 & 68.4 & 66.0 & 65.6 & 75.0 & 75.5\n",
      "\n",
      "Datasets:  ['casme', 'casme2', 'samm', 'mmew', 'Average']\n",
      "70.0 & 78.0 & 74.9 & 73.6 & 74.1\n"
     ]
    },
    {
     "name": "stderr",
     "output_type": "stream",
     "text": [
      "\n"
     ]
    }
   ],
   "source": [
    "#casme + samm + mmew\n",
    "idx = df[\"dataset\"].isin([\"casme\", \"casme2\", \"samm\", \"mmew\"])\n",
    "CrossDatasetValidation(Config).validate_n_times(df[idx].reset_index(), data[idx])"
   ]
  },
  {
   "cell_type": "code",
   "execution_count": 21,
   "metadata": {},
   "outputs": [
    {
     "name": "stderr",
     "output_type": "stream",
     "text": [
      "100%|██████████| 5/5 [06:11<00:00, 74.38s/it]"
     ]
    },
    {
     "name": "stdout",
     "output_type": "stream",
     "text": [
      "AUS: ['AU1', 'AU2', 'AU4', 'AU7', 'AU12', 'AU14', 'AU15', 'AU17', 'Average']\n",
      "86.8 & 84.4 & 90.6 & 72.2 & 69.5 & 63.0 & 69.6 & 75.5 & 76.4\n",
      "\n",
      "Datasets:  ['casme', 'casme2', 'samm', 'fourDmicro', 'mmew', 'Average']\n",
      "71.8 & 80.0 & 74.2 & 75.3 & 75.1 & 75.3\n"
     ]
    },
    {
     "name": "stderr",
     "output_type": "stream",
     "text": [
      "\n"
     ]
    }
   ],
   "source": [
    "#casme + samm + mmew + 4dmer\n",
    "idx = df[\"dataset\"].isin([\"casme\", \"casme2\", \"samm\", \"mmew\", \"fourDmicro\"])\n",
    "CrossDatasetValidation(Config).validate_n_times(df[idx].reset_index(), data[idx])"
   ]
  },
  {
   "cell_type": "markdown",
   "metadata": {},
   "source": [
    "evaluation on casme2 with different sets of datasets\n",
    "casme 71.6\n",
    "+samm 78.5\n",
    "+mmew 78.0\n",
    "+4dmer 80.0"
   ]
  },
  {
   "cell_type": "code",
   "execution_count": null,
   "metadata": {},
   "outputs": [],
   "source": []
  },
  {
   "cell_type": "code",
   "execution_count": null,
   "metadata": {},
   "outputs": [],
   "source": []
  }
 ],
 "metadata": {
  "kernelspec": {
   "display_name": "Python 3",
   "language": "python",
   "name": "python3"
  },
  "language_info": {
   "codemirror_mode": {
    "name": "ipython",
    "version": 3
   },
   "file_extension": ".py",
   "mimetype": "text/x-python",
   "name": "python",
   "nbconvert_exporter": "python",
   "pygments_lexer": "ipython3",
   "version": "3.6.8"
  }
 },
 "nbformat": 4,
 "nbformat_minor": 2
}
