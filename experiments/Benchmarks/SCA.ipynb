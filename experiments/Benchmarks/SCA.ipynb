{
 "cells": [
  {
   "cell_type": "code",
   "execution_count": 101,
   "metadata": {},
   "outputs": [
    {
     "name": "stdout",
     "output_type": "stream",
     "text": [
      "The autoreload extension is already loaded. To reload it, use:\n",
      "  %reload_ext autoreload\n"
     ]
    }
   ],
   "source": [
    "import random\n",
    "import itertools\n",
    "import os\n",
    "import math\n",
    "from functools import partial\n",
    "\n",
    "from meb import utils\n",
    "from meb import datasets\n",
    "from meb import core\n",
    "from meb.utils.traditional_methods import tim\n",
    "\n",
    "import numpy as np\n",
    "import pandas as pd\n",
    "import matplotlib.pyplot as plt\n",
    "import torch\n",
    "import torch.nn as nn\n",
    "import torch.nn.functional as F\n",
    "import torch.optim as optim\n",
    "from sklearn.metrics import f1_score\n",
    "from skimage.transform import resize\n",
    "from torch.utils.data import Dataset, DataLoader\n",
    "from sklearn.preprocessing import LabelEncoder\n",
    "from torchvision import transforms\n",
    "from PIL import Image\n",
    "from tqdm import tqdm\n",
    "\n",
    "pd.set_option('display.max_columns', 50)\n",
    "%load_ext autoreload\n",
    "%autoreload 2"
   ]
  },
  {
   "cell_type": "code",
   "execution_count": 191,
   "metadata": {},
   "outputs": [
    {
     "name": "stdout",
     "output_type": "stream",
     "text": [
      "Warning:             The number of frames does not correspond for the sample             spNO.170_k\n",
      "Warning:             The number of frames does not correspond for the sample             spNO.171_e\n",
      "Warning:             The number of frames does not correspond for the sample             spNO.171_e2\n",
      "Warning:             The number of frames does not correspond for the sample             spNO.171_f\n",
      "Warning:             The number of frames does not correspond for the sample             spNO.171_f2\n",
      "Warning:             The number of frames does not correspond for the sample             spNO.171_h2\n",
      "Warning:             The number of frames does not correspond for the sample             spNO.171_h3\n",
      "Warning:             The number of frames does not correspond for the sample             spNO.171_h4\n",
      "Warning:             The number of frames does not correspond for the sample             spNO.171_h5\n",
      "Warning:             The number of frames does not correspond for the sample             spNO.171_l\n",
      "Warning:             The number of frames does not correspond for the sample             spNO.172_f\n",
      "Warning:             The number of frames does not correspond for the sample             spNO.172_k\n",
      "Warning:             The number of frames does not correspond for the sample             spNO.172_k3\n",
      "Warning:             The number of frames does not correspond for the sample             spNO.174_e\n",
      "Warning:             The number of frames does not correspond for the sample             spNO.202_m\n",
      "Warning:             The number of frames does not correspond for the sample             spNO.202_m2\n",
      "Warning:             The number of frames does not correspond for the sample             spNO.206_d\n",
      "Warning:             The number of frames does not correspond for the sample             spNO.206_e2\n",
      "Warning:             The number of frames does not correspond for the sample             spNO.206_e3\n",
      "Warning:             The number of frames does not correspond for the sample             spNO.206_g3\n",
      "Warning:             The number of frames does not correspond for the sample             spNO.206_l\n",
      "Warning:             The number of frames does not correspond for the sample             spNO.206_m\n",
      "Warning:             The number of frames does not correspond for the sample             spNO.207_a\n",
      "Warning:             The number of frames does not correspond for the sample             spNO.207_a2\n",
      "Warning:             The number of frames does not correspond for the sample             spNO.207_b\n",
      "Warning:             The number of frames does not correspond for the sample             spNO.207_c4\n",
      "Warning:             The number of frames does not correspond for the sample             spNO.207_c5\n",
      "Warning:             The number of frames does not correspond for the sample             spNO.207_c6\n",
      "Warning:             The number of frames does not correspond for the sample             spNO.207_d\n",
      "Warning:             The number of frames does not correspond for the sample             spNO.207_e\n",
      "Warning:             The number of frames does not correspond for the sample             spNO.207_h2\n",
      "Warning:             The number of frames does not correspond for the sample             spNO.207_h3\n",
      "Warning:             The number of frames does not correspond for the sample             spNO.207_i\n",
      "Warning:             The number of frames does not correspond for the sample             spNO.207_j2\n",
      "Warning:             The number of frames does not correspond for the sample             spNO.207_l\n",
      "Warning:             The number of frames does not correspond for the sample             spNO.207_l2\n",
      "Warning:             The number of frames does not correspond for the sample             spNO.207_l3\n",
      "Warning:             The number of frames does not correspond for the sample             spNO.208_c\n",
      "Warning:             The number of frames does not correspond for the sample             spNO.208_c6\n",
      "Warning:             The number of frames does not correspond for the sample             spNO.209_m\n",
      "Warning:             The number of frames does not correspond for the sample             spNO.210_b2\n",
      "Warning:             The number of frames does not correspond for the sample             spNO.210_b3\n",
      "Warning:             The number of frames does not correspond for the sample             spNO.210_c2\n",
      "Warning:             The number of frames does not correspond for the sample             spNO.210_c3\n",
      "Warning:             The number of frames does not correspond for the sample             spNO.210_d\n",
      "Warning:             The number of frames does not correspond for the sample             spNO.210_d2\n",
      "Warning:             The number of frames does not correspond for the sample             spNO.210_d3\n",
      "Warning:             The number of frames does not correspond for the sample             spNO.210_e\n",
      "Warning:             The number of frames does not correspond for the sample             spNO.210_f\n",
      "Warning:             The number of frames does not correspond for the sample             spNO.210_f2\n",
      "Warning:             The number of frames does not correspond for the sample             spNO.210_h\n",
      "Warning:             The number of frames does not correspond for the sample             spNO.210_h2\n",
      "Warning:             The number of frames does not correspond for the sample             spNO.210_i2\n",
      "Warning:             The number of frames does not correspond for the sample             spNO.210_k\n",
      "Warning:             The number of frames does not correspond for the sample             spNO.210_k2\n",
      "Warning:             The number of frames does not correspond for the sample             spNO.212_b\n",
      "Warning:             The number of frames does not correspond for the sample             spNO.212_f\n",
      "Warning:             The number of frames does not correspond for the sample             spNO.212_i\n",
      "Warning:             The number of frames does not correspond for the sample             spNO.212_i2\n",
      "Warning:             The number of frames does not correspond for the sample             spNO.212_j\n",
      "Warning:             The number of frames does not correspond for the sample             spNO.212_j2\n",
      "Warning:             The number of frames does not correspond for the sample             spNO.213_k\n",
      "Warning:             The number of frames does not correspond for the sample             spNO.214_c\n",
      "Warning:             The number of frames does not correspond for the sample             spNO.214_j\n",
      "Warning:             The number of frames does not correspond for the sample             spNO.215_a3\n",
      "Warning:             The number of frames does not correspond for the sample             spNO.215_b5\n",
      "Warning:             The number of frames does not correspond for the sample             spNO.215_d\n",
      "Warning:             The number of frames does not correspond for the sample             spNO.215_d2\n",
      "Warning:             The number of frames does not correspond for the sample             spNO.215_d3\n",
      "Warning:             The number of frames does not correspond for the sample             spNO.215_d4\n",
      "Warning:             The number of frames does not correspond for the sample             spNO.215_d5\n",
      "Warning:             The number of frames does not correspond for the sample             spNO.215_d6\n",
      "Warning:             The number of frames does not correspond for the sample             spNO.215_d7\n",
      "Warning:             The number of frames does not correspond for the sample             spNO.215_e2\n",
      "Warning:             The number of frames does not correspond for the sample             spNO.215_f3\n",
      "Warning:             The number of frames does not correspond for the sample             spNO.215_f4\n",
      "Warning:             The number of frames does not correspond for the sample             spNO.215_h\n",
      "Warning:             The number of frames does not correspond for the sample             spNO.215_i\n",
      "Warning:             The number of frames does not correspond for the sample             spNO.215_j\n",
      "Warning:             The number of frames does not correspond for the sample             spNO.215_j3\n",
      "Warning:             The number of frames does not correspond for the sample             spNO.215_j4\n",
      "Warning:             The number of frames does not correspond for the sample             spNO.215_k2\n",
      "Warning:             The number of frames does not correspond for the sample             spNO.215_l\n",
      "Warning: The offset does not correspond for the sample            spNO.214_c\n"
     ]
    }
   ],
   "source": [
    "c = datasets.CrossDataset(resize=112, color=True, preload=False)\n",
    "df = c.data_frame\n",
    "data = c.data"
   ]
  },
  {
   "cell_type": "code",
   "execution_count": 192,
   "metadata": {},
   "outputs": [
    {
     "name": "stderr",
     "output_type": "stream",
     "text": [
      "100%|███████████████████████████████████████| 2031/2031 [49:54<00:00,  1.47s/it]\n"
     ]
    }
   ],
   "source": [
    "n_frames = 50\n",
    "pr_frames = []\n",
    "for i, video in tqdm(enumerate(data), total=len(data)):\n",
    "    video = tim(video.transpose(1, 2, 3, 0), n_frames)\n",
    "    video = resize(video, (124, 124, 3, 50))\n",
    "    video = video.transpose(2, 3, 0, 1)\n",
    "    pr_frames.append(video)"
   ]
  },
  {
   "cell_type": "code",
   "execution_count": 193,
   "metadata": {},
   "outputs": [],
   "source": [
    "from functools import partial\n",
    "\n",
    "class BasicBlock(nn.Module):\n",
    "    expansion = 1\n",
    "\n",
    "    def __init__(self, inplanes, planes, stride=1, downsample=None):\n",
    "        super(BasicBlock, self).__init__()\n",
    "        self.conv1 = conv3x3x3(inplanes, planes, stride)\n",
    "        self.bn1 = nn.BatchNorm3d(planes)\n",
    "        self.relu = nn.ReLU(inplace=True)\n",
    "        self.conv2 = conv3x3x3(planes, planes)\n",
    "        self.bn2 = nn.BatchNorm3d(planes)\n",
    "        self.downsample = downsample\n",
    "        self.stride = stride\n",
    "\n",
    "    def forward(self, x):\n",
    "        residual = x\n",
    "        \n",
    "        out = self.conv1(x)\n",
    "        out = self.bn1(out)\n",
    "        out = self.relu(out)\n",
    "        out = self.conv2(out)\n",
    "        out = self.bn2(out)\n",
    "        if self.downsample is not None:\n",
    "            residual = self.downsample(x)\n",
    "        out += residual\n",
    "        out = self.relu(out)\n",
    "\n",
    "        return out\n",
    "    \n",
    "    \n",
    "def conv3x3x3(in_planes, out_planes, stride=1):\n",
    "    # 3x3x3 convolution with padding\n",
    "    return nn.Conv3d(\n",
    "        in_planes,\n",
    "        out_planes,\n",
    "        kernel_size=3,\n",
    "        stride=stride,\n",
    "        padding=1,\n",
    "        bias=False)\n",
    "\n",
    "\n",
    "class Covpool(torch.autograd.Function):\n",
    "    @staticmethod\n",
    "    def forward(ctx, input):\n",
    "        x = input\n",
    "\n",
    "        batchSize = x.data.shape[0]\n",
    "        dim = x.data.shape[1]\n",
    "        h = x.data.shape[2]\n",
    "        w = x.data.shape[3]\n",
    "        M = h*w\n",
    "        x = x.reshape(batchSize,dim,M)\n",
    "        I_hat = (-1./M/M)*torch.ones(M,M,device = x.device) + (1./M)*torch.eye(M,M,device = x.device)\n",
    "        I_hat = I_hat.view(1,M,M).repeat(batchSize,1,1).type(x.dtype)\n",
    "        y = x.bmm(I_hat).bmm(x.transpose(1,2))\n",
    "        ctx.save_for_backward(input,I_hat)\n",
    "        return y\n",
    "    @staticmethod\n",
    "    def backward(ctx, grad_output):\n",
    "        input,I_hat = ctx.saved_tensors\n",
    "        x = input\n",
    "        batchSize = x.data.shape[0]\n",
    "        dim = x.data.shape[1]\n",
    "        h = x.data.shape[2]\n",
    "        w = x.data.shape[3]\n",
    "        M = h*w\n",
    "        x = x.reshape(batchSize,dim,M)\n",
    "        grad_input = grad_output + grad_output.transpose(1,2)\n",
    "        grad_input = grad_input.bmm(x).bmm(I_hat)\n",
    "        grad_input = grad_input.reshape(batchSize,dim,h,w)\n",
    "        return grad_input\n",
    "\n",
    "    \n",
    "def cov_feature(x):\n",
    "    batchsize = x.data.shape[0]\n",
    "    dim = x.data.shape[1]\n",
    "    h = x.data.shape[2]\n",
    "    w = x.data.shape[3]\n",
    "    M = h*w\n",
    "    x = x.reshape(batchsize,dim,M)\n",
    "    I_hat = (-1./M/M)*torch.ones(dim,dim,device = x.device) + (1./M)*torch.eye(dim,dim,device = x.device)\n",
    "    I_hat = I_hat.view(1,dim,dim).repeat(batchsize,1,1).type(x.dtype)\n",
    "    y = (x.transpose(1,2)).bmm(I_hat).bmm(x)\n",
    "    return y\n",
    "\n",
    "\n",
    "def downsample_basic_block(x, planes, stride):\n",
    "    out = F.avg_pool3d(x, kernel_size=1, stride=stride)\n",
    "    if isinstance(out.data, torch.cuda.FloatTensor):\n",
    "        zero_pads = out.new(\n",
    "            out.size(0), planes - out.size(1), out.size(2), out.size(3),\n",
    "            out.size(4)).zero_()\n",
    "    #zero_pads = torch.Tensor(\n",
    "    #    out.size(0), planes - out.size(1), out.size(2), out.size(3),\n",
    "    #    out.size(4)).zero_()\n",
    "    #if isinstance(out.data, torch.cuda.FloatTensor):\n",
    "    #    zero_pads = zero_pads.to(device)\n",
    "\n",
    "    out = torch.autograd.Variable(torch.cat([out.data, zero_pads], dim=1))\n",
    "\n",
    "    return out\n",
    "\n",
    "    \n",
    "def CovpoolLayer(var):\n",
    "    return Covpool.apply(var)\n",
    "\n",
    "\n",
    "class ResNet_multiple(nn.Module):\n",
    "\n",
    "    def __init__(self, block, layers, sample_size, sample_duration,\n",
    "                 shortcut_type='A', num_classes=2):\n",
    "        self.inplanes = 64\n",
    "        super(ResNet_multiple, self).__init__()\n",
    "        self.conv1 = nn.Conv3d(3, 64, kernel_size=7, stride=(1, 2, 2),\n",
    "            padding=(3, 3, 3), bias=False)\n",
    "        self.bn1 = nn.BatchNorm3d(64)\n",
    "        self.relu = nn.ReLU(inplace=True)\n",
    "        self.maxpool = nn.MaxPool3d(kernel_size=(3, 3, 3), stride=2, padding=1)\n",
    "        self.layer1 = self._make_layer(block, 64, layers[0], shortcut_type)\n",
    "        self.layer2 = self._make_layer(\n",
    "            block, 128, layers[1], shortcut_type, stride=2)\n",
    "        self.layer3 = self._make_layer(\n",
    "            block, 256, layers[2], shortcut_type, stride=2)\n",
    "        self.layer4 = self._make_layer(\n",
    "            block, 512, layers[3], shortcut_type, stride=2)\n",
    "        \n",
    "        ############################################################\n",
    "        \n",
    "        last_duration = int(math.ceil(sample_duration / 10))\n",
    "        last_size = int(math.ceil(sample_size / 28))\n",
    "        self.tanh=nn.Tanh()\n",
    "        self.avgpool = nn.AvgPool3d(\n",
    "            (last_duration, last_size, last_size), stride=1)\n",
    "\n",
    "        self.avgpool2d = nn.AvgPool2d(\n",
    "            (last_size, last_size), stride=1)\n",
    "\n",
    "        fc_num = 512\n",
    "        self.fc = nn.Linear(fc_num, num_classes)\n",
    "        self.isqrt_dim = 16\n",
    " \n",
    "        self.layer_reduce = nn.Conv2d(512, self.isqrt_dim, kernel_size=1, stride=1, padding=0,\n",
    "                                          bias=False)\n",
    "        self.layer_reduce_bn = nn.BatchNorm2d(self.isqrt_dim)\n",
    "        self.layer_reduce_relu = nn.ReLU(inplace=True)\n",
    "      \n",
    "\n",
    "        last_size = 4\n",
    "        self.sp_reso = last_size * last_size\n",
    "        self.row_bn_for_spatial = nn.BatchNorm2d(self.sp_reso)\n",
    "        self.relu_normal = nn.ReLU(inplace=False)\n",
    "        self.row_conv_group_for_spatial = nn.Conv2d( \n",
    "                 self.sp_reso, self.sp_reso*4, kernel_size=(self.sp_reso, 1), \n",
    "                 groups=self.sp_reso, bias=True)\n",
    "        self.fc_adapt_channels_for_spatial = nn.Conv2d(\n",
    "                 self.sp_reso * last_size, self.sp_reso, kernel_size=1, groups=1, bias=True)\n",
    "        self.sigmoid = nn.Sigmoid()\n",
    "        \n",
    "        self.ch_dim = 512  #512 2048\n",
    "        self.expansion = 1 #1\n",
    "        planes = 512  #512 2048\n",
    "        self.row_bn = nn.BatchNorm2d(self.expansion * self.ch_dim)\n",
    "        self.row_conv_group = nn.Conv2d(\n",
    "             self.ch_dim, self.ch_dim, \n",
    "             kernel_size=(self.ch_dim, 1), \n",
    "             groups = self.ch_dim, bias=True)\n",
    "        self.fc_adapt_channels = nn.Conv2d(\n",
    "             self.ch_dim, self.expansion*self.ch_dim, \n",
    "             kernel_size=1, groups=1, bias=True)\n",
    "        self.sigmoid = nn.Sigmoid()\n",
    "\n",
    "        self.conv_for_DR = nn.Conv2d(\n",
    "             planes * self.expansion, self.ch_dim, \n",
    "             kernel_size=1,stride=2, bias=True)\n",
    "        self.bn_for_DR = nn.BatchNorm2d(self.expansion*self.ch_dim)\n",
    "        self.row_bn = nn.BatchNorm2d(self.expansion*self.ch_dim)\n",
    "            #row-wise conv is realized by group conv\n",
    "\n",
    "        #####cooncat###############\n",
    "        self.groups_base = 32\n",
    "        self.groups = int(planes * self.expansion / 64)\n",
    "        self.factor = int(math.log(self.groups_base / self.groups, 2))\n",
    "        self.padding_num = self.factor + 2\n",
    "        self.conv_kernel_size = self.factor * 2 + 5\n",
    "        self.dilate_conv_for_concat1 = nn.Conv2d(planes * self.expansion, \n",
    "                                                planes * self.expansion, \n",
    "                                                kernel_size=(self.conv_kernel_size,1), \n",
    "                                                stride=1, padding=(self.padding_num,0),\n",
    "                                                groups=self.groups, bias=True)\n",
    "        \n",
    "        self.dilate_conv_for_concat2 = nn.Conv2d(planes * self.expansion, \n",
    "                                                planes * self.expansion, \n",
    "                                                kernel_size=(self.conv_kernel_size,1), \n",
    "                                                stride=1, padding=(self.padding_num,0),\n",
    "                                                groups=self.groups, bias=True)\n",
    "\n",
    "        self.bn_for_concat = nn.BatchNorm2d(planes * self.expansion)         \n",
    "        #####cooncat###############\n",
    "        #self.fc = nn.Linear(512, num_classes)     \n",
    "        for m in self.modules():\n",
    "            if isinstance(m, nn.Conv3d):\n",
    "                m.weight = nn.init.kaiming_normal_(m.weight, mode='fan_out')\n",
    "            elif isinstance(m, nn.BatchNorm3d):\n",
    "                m.weight.data.fill_(1)\n",
    "                m.bias.data.zero_()\n",
    "\n",
    "\n",
    "    def _make_layer(self, block, planes, blocks, shortcut_type, stride=1):\n",
    "        downsample = None\n",
    "        if stride != 1 or self.inplanes != planes * block.expansion:\n",
    "            if shortcut_type == 'A':\n",
    "                downsample = partial(\n",
    "                    downsample_basic_block,\n",
    "                    planes=planes * block.expansion,\n",
    "                    stride=stride)\n",
    "            else:\n",
    "                downsample = nn.Sequential(\n",
    "                    nn.Conv3d(\n",
    "                        self.inplanes,\n",
    "                        planes * block.expansion,\n",
    "                        kernel_size=1,\n",
    "                        stride=stride,\n",
    "                        bias=False), nn.BatchNorm3d(planes * block.expansion))\n",
    "\n",
    "        layers = []\n",
    "        layers.append(block(self.inplanes, planes, stride, downsample))\n",
    "        self.inplanes = planes * block.expansion\n",
    "        for i in range(1, blocks):\n",
    "            layers.append(block(self.inplanes, planes))\n",
    "\n",
    "        return nn.Sequential(*layers)\n",
    "\n",
    "    \n",
    "    def chan_att(self, out):\n",
    "        out = CovpoolLayer(out) # Nxdxd\n",
    "        out = out.view(out.size(0), out.size(1), out.size(2), 1).contiguous() # Nxdxdx1\n",
    "        out = self.row_bn(out)\n",
    "        out = self.row_conv_group(out) # Nx512x1x1\n",
    "        out = self.sigmoid(out) #NxCx1x1\n",
    "        return out\n",
    "\n",
    "\n",
    "    def pos_att(self, out):\n",
    "        out = cov_feature(out) # Nx16x16\n",
    "        out = out.view(out.size(0), out.size(1), out.size(2), 1).contiguous()  # Nx16x16x1\n",
    "        out = self.row_bn_for_spatial(out)\n",
    "\n",
    "        out = self.row_conv_group_for_spatial(out) # Nx256x1x1\n",
    "        out = self.relu(out)\n",
    "\n",
    "        out = self.fc_adapt_channels_for_spatial(out) #Nx64x1x1\n",
    "        out = self.sigmoid(out) \n",
    "        out = out.view(out.size(0), 1, 4, 4).contiguous()#Nx1x8x8\n",
    "        return out\n",
    "\n",
    "\n",
    "    def downsample_long_block(self, x, planes, stride):\n",
    "        out = F.avg_pool3d(x, kernel_size=1, stride=stride)\n",
    "        zero_pads = torch.Tensor(\n",
    "            out.size(0), planes - out.size(1), out.size(2), out.size(3),\n",
    "            out.size(4)).zero_()\n",
    "        if isinstance(out.data, torch.cuda.FloatTensor):\n",
    "            zero_pads = zero_pads.to(device)\n",
    "\n",
    "        out = Variable(torch.cat([out.data, zero_pads], dim=1))\n",
    "\n",
    "        return out\n",
    "\n",
    "\n",
    "    def forward(self, x):\n",
    "        x = self.conv1(x)\n",
    "        x = self.bn1(x)\n",
    "        x = self.relu(x)\n",
    "        x = self.maxpool(x)\n",
    "\n",
    "        residual0 = x\n",
    "        x = self.layer1(x)\n",
    "        residual1 = x\n",
    "        x = self.layer2(x)\n",
    "        residual2 = x\n",
    "        x = self.layer3(x)\n",
    "        x = self.layer4(x)\n",
    "        x=x.squeeze(2)\n",
    "\n",
    "        pre_att = x\n",
    "        chan_att = self.chan_att(x)\n",
    "        pos_att = self.pos_att(x)\n",
    "        out1 = self.dilate_conv_for_concat1(pre_att * chan_att)\n",
    "        out2 = self.dilate_conv_for_concat2(self.relu(pre_att * pos_att))\n",
    "        out = (out1 * pre_att * chan_att) + out2 * (self.relu(pre_att * pos_att))\n",
    "        x = self.bn_for_concat(out)\n",
    "        x = self.avgpool(x)\n",
    "        feature_map = x\n",
    "        \n",
    "        x = x.view(x.size(0), -1)\n",
    "\n",
    "        x = self.fc(x)\n",
    "        return x#, feature_map\n",
    "    \n",
    "    \n",
    "def resnet_multiple18(**kwargs):\n",
    "    \"\"\"Constructs a ResNet-18 model.\n",
    "    \"\"\"\n",
    "    model = ResNet_multiple(BasicBlock, [2, 2, 2, 2], **kwargs)\n",
    "    return model"
   ]
  },
  {
   "cell_type": "code",
   "execution_count": 194,
   "metadata": {},
   "outputs": [],
   "source": [
    "def get_fine_tuning_parameters(model, ft_begin_index):\n",
    "    if ft_begin_index == 0:\n",
    "        return model.parameters()\n",
    "\n",
    "    ft_module_names = []\n",
    "    for i in range(ft_begin_index, 5):\n",
    "        ft_module_names.append('layer{}'.format(i))\n",
    "\n",
    "    ft_module_names.append('fc')\n",
    "    parameters = []\n",
    "    for k, v in model.named_parameters():\n",
    "        for ft_module in ft_module_names:\n",
    "            if ft_module in k:\n",
    "                parameters.append({'params': v})\n",
    "                break\n",
    "        else:\n",
    "            parameters.append({'params': v, 'lr': 0.0001})\n",
    "\n",
    "    return parameters"
   ]
  },
  {
   "cell_type": "code",
   "execution_count": 195,
   "metadata": {},
   "outputs": [],
   "source": [
    "import pytorchvideo\n",
    "spatial_train_transform = transforms.Compose([\n",
    "    pytorchvideo.transforms.RandomResizedCrop(112, 112, [1, 1], [1, 1]),\n",
    "    transforms.RandomHorizontalFlip(0.5),\n",
    "])\n",
    "\n",
    "spatial_test_transform = transforms.Compose([\n",
    "    transforms.Resize(112),\n",
    "])"
   ]
  },
  {
   "cell_type": "code",
   "execution_count": 196,
   "metadata": {},
   "outputs": [],
   "source": [
    "def get_model(num_classes):\n",
    "    net = resnet_multiple18(num_classes=num_classes, sample_size=112, sample_duration=10)\n",
    "    pretrained_model = torch.load(\"../data/resnet-18-kinetics-ucf101_split1.pth\")[\"state_dict\"]\n",
    "    net_state_dict = net.state_dict()\n",
    "    new_state_dict = {k[7:]: v for k, v in pretrained_model.items() if k[7:] in net_state_dict.keys()}\n",
    "    del new_state_dict[\"fc.bias\"]\n",
    "    del new_state_dict[\"fc.weight\"]\n",
    "    net_state_dict.update(new_state_dict)\n",
    "    net.load_state_dict(net_state_dict)\n",
    "    return net"
   ]
  },
  {
   "cell_type": "code",
   "execution_count": 197,
   "metadata": {},
   "outputs": [],
   "source": [
    "class Config(core.Config):\n",
    "    device = torch.device(\"cuda:1\")\n",
    "    epochs = 40\n",
    "    evaluation_fn = [\n",
    "        partial(utils.MultiLabelF1Score, average=\"macro\"),\n",
    "        partial(utils.MultiLabelF1Score, average=\"binary\"),\n",
    "    ]\n",
    "    batch_size = 32\n",
    "    optimizer = partial(optim.SGD, lr=0.001, weight_decay=0.001, momentum=0.9)\n",
    "    train_transform = {\n",
    "        \"spatial\": spatial_train_transform,\n",
    "        \"temporal\": datasets.NoisyUniformTemporalSubsample(10),\n",
    "    }\n",
    "    test_transform = {\n",
    "        \"spatial\": spatial_test_transform,\n",
    "        \"temporal\": datasets.UniformTemporalSubsample(10),\n",
    "    }\n",
    "    model = partial(get_model, num_classes=len(core.Config.action_units))\n",
    "    "
   ]
  },
  {
   "cell_type": "code",
   "execution_count": 198,
   "metadata": {},
   "outputs": [],
   "source": [
    "input_data = np.array(pr_frames).transpose(0, 2, 3, 4, 1)"
   ]
  },
  {
   "cell_type": "code",
   "execution_count": 199,
   "metadata": {
    "scrolled": true
   },
   "outputs": [
    {
     "name": "stderr",
     "output_type": "stream",
     "text": [
      "100%|███████████████████████████████████████████| 40/40 [22:12<00:00, 33.31s/it]\n"
     ]
    },
    {
     "name": "stdout",
     "output_type": "stream",
     "text": [
      "MultiLabelF1Score\n",
      "Dataset: casme, n=189 | train_mean: 0.9668 | test_mean: 0.6187\n",
      "Test per AU: [('AU1', 80.32), ('AU2', 80.71), ('AU4', 74.69), ('AU5', 47.65), ('AU6', 49.87), ('AU7', 52.2), ('AU9', 61.6), ('AU10', 49.05), ('AU12', 61.82), ('AU14', 68.54), ('AU15', 47.5), ('AU17', 68.46)]\n",
      "\n",
      "MultiLabelF1Score\n",
      "Dataset: casme, n=189 | train_mean: 0.9366 | test_mean: 0.3057\n",
      "Test per AU: [('AU1', 65.12), ('AU2', 64.29), ('AU4', 68.53), ('AU5', 0.0), ('AU6', 0.0), ('AU7', 12.5), ('AU9', 33.96), ('AU10', 6.45), ('AU12', 30.3), ('AU14', 43.24), ('AU15', 0.0), ('AU17', 42.42)]\n",
      "\n"
     ]
    },
    {
     "name": "stderr",
     "output_type": "stream",
     "text": [
      "100%|███████████████████████████████████████████| 40/40 [21:28<00:00, 32.22s/it]\n"
     ]
    },
    {
     "name": "stdout",
     "output_type": "stream",
     "text": [
      "MultiLabelF1Score\n",
      "Dataset: casme2, n=256 | train_mean: 0.957 | test_mean: 0.64\n",
      "Test per AU: [('AU1', 87.16), ('AU2', 90.45), ('AU4', 91.79), ('AU5', 49.51), ('AU6', 48.7), ('AU7', 47.45), ('AU9', 51.03), ('AU10', 53.94), ('AU12', 63.19), ('AU14', 77.94), ('AU15', 48.39), ('AU17', 58.44)]\n",
      "\n",
      "MultiLabelF1Score\n",
      "Dataset: casme2, n=256 | train_mean: 0.9171 | test_mean: 0.335\n",
      "Test per AU: [('AU1', 76.92), ('AU2', 82.61), ('AU4', 91.63), ('AU5', 0.0), ('AU6', 0.0), ('AU7', 4.35), ('AU9', 20.62), ('AU10', 11.11), ('AU12', 32.56), ('AU14', 60.71), ('AU15', 0.0), ('AU17', 21.43)]\n",
      "\n"
     ]
    },
    {
     "name": "stderr",
     "output_type": "stream",
     "text": [
      "100%|███████████████████████████████████████████| 40/40 [22:13<00:00, 33.34s/it]\n"
     ]
    },
    {
     "name": "stdout",
     "output_type": "stream",
     "text": [
      "MultiLabelF1Score\n",
      "Dataset: samm, n=159 | train_mean: 0.9657 | test_mean: 0.5474\n",
      "Test per AU: [('AU1', 59.98), ('AU2', 56.05), ('AU4', 41.96), ('AU5', 56.7), ('AU6', 49.52), ('AU7', 60.06), ('AU9', 49.2), ('AU10', 49.04), ('AU12', 57.93), ('AU14', 52.89), ('AU15', 49.2), ('AU17', 74.35)]\n",
      "\n",
      "MultiLabelF1Score\n",
      "Dataset: samm, n=159 | train_mean: 0.9347 | test_mean: 0.1853\n",
      "Test per AU: [('AU1', 22.22), ('AU2', 18.18), ('AU4', 31.01), ('AU5', 16.67), ('AU6', 0.0), ('AU7', 40.96), ('AU9', 0.0), ('AU10', 0.0), ('AU12', 32.26), ('AU14', 11.11), ('AU15', 0.0), ('AU17', 50.0)]\n",
      "\n"
     ]
    },
    {
     "name": "stderr",
     "output_type": "stream",
     "text": [
      "100%|███████████████████████████████████████████| 40/40 [21:24<00:00, 32.11s/it]\n"
     ]
    },
    {
     "name": "stdout",
     "output_type": "stream",
     "text": [
      "MultiLabelF1Score\n",
      "Dataset: fourd, n=267 | train_mean: 0.9607 | test_mean: 0.5744\n",
      "Test per AU: [('AU1', 51.69), ('AU2', 51.64), ('AU4', 60.31), ('AU5', 49.92), ('AU6', 47.34), ('AU7', 55.94), ('AU9', 52.91), ('AU10', 61.93), ('AU12', 60.63), ('AU14', 83.05), ('AU15', 49.43), ('AU17', 64.52)]\n",
      "\n",
      "MultiLabelF1Score\n",
      "Dataset: fourd, n=267 | train_mean: 0.925 | test_mean: 0.2446\n",
      "Test per AU: [('AU1', 12.24), ('AU2', 13.79), ('AU4', 41.43), ('AU5', 10.53), ('AU6', 0.0), ('AU7', 48.18), ('AU9', 9.52), ('AU10', 25.0), ('AU12', 35.42), ('AU14', 66.67), ('AU15', 0.0), ('AU17', 30.77)]\n",
      "\n"
     ]
    },
    {
     "name": "stderr",
     "output_type": "stream",
     "text": [
      "100%|███████████████████████████████████████████| 40/40 [21:39<00:00, 32.49s/it]\n"
     ]
    },
    {
     "name": "stdout",
     "output_type": "stream",
     "text": [
      "MultiLabelF1Score\n",
      "Dataset: mmew, n=300 | train_mean: 0.9349 | test_mean: 0.587\n",
      "Test per AU: [('AU1', 82.74), ('AU2', 80.04), ('AU4', 56.05), ('AU5', 56.86), ('AU6', 49.15), ('AU7', 52.07), ('AU9', 49.24), ('AU10', 46.62), ('AU12', 54.19), ('AU14', 66.03), ('AU15', 49.32), ('AU17', 62.07)]\n",
      "\n",
      "MultiLabelF1Score\n",
      "Dataset: mmew, n=300 | train_mean: 0.8754 | test_mean: 0.2442\n",
      "Test per AU: [('AU1', 71.29), ('AU2', 66.67), ('AU4', 31.58), ('AU5', 26.67), ('AU6', 0.0), ('AU7', 13.56), ('AU9', 0.0), ('AU10', 0.0), ('AU12', 17.24), ('AU14', 37.5), ('AU15', 0.0), ('AU17', 28.57)]\n",
      "\n"
     ]
    },
    {
     "name": "stderr",
     "output_type": "stream",
     "text": [
      "100%|███████████████████████████████████████████| 40/40 [16:15<00:00, 24.38s/it]\n"
     ]
    },
    {
     "name": "stdout",
     "output_type": "stream",
     "text": [
      "MultiLabelF1Score\n",
      "Dataset: casme3a, n=860 | train_mean: 0.9488 | test_mean: 0.5076\n",
      "Test per AU: [('AU1', 50.06), ('AU2', 50.37), ('AU4', 63.03), ('AU5', 50.8), ('AU6', 46.65), ('AU7', 44.65), ('AU9', 46.92), ('AU10', 42.74), ('AU12', 50.16), ('AU14', 60.18), ('AU15', 48.19), ('AU17', 55.32)]\n",
      "\n",
      "MultiLabelF1Score\n",
      "Dataset: casme3a, n=860 | train_mean: 0.9049 | test_mean: 0.137\n",
      "Test per AU: [('AU1', 9.7), ('AU2', 8.7), ('AU4', 53.31), ('AU5', 17.39), ('AU6', 0.0), ('AU7', 7.19), ('AU9', 11.31), ('AU10', 4.26), ('AU12', 3.57), ('AU14', 32.58), ('AU15', 2.11), ('AU17', 14.29)]\n",
      "\n",
      "Final results\n",
      "\n",
      "MultiLabelF1Score\n",
      "All AUs:  [('AU1', 66.07), ('AU2', 65.33), ('AU4', 66.33), ('AU5', 53.52), ('AU6', 47.92), ('AU7', 53.98), ('AU9', 52.18), ('AU10', 47.39), ('AU12', 59.46), ('AU14', 65.03), ('AU15', 48.81), ('AU17', 61.04)]\n",
      "Mean:  57.26\n",
      "\n",
      "\n",
      "MultiLabelF1Score\n",
      "All AUs:  [('AU1', 39.14), ('AU2', 37.34), ('AU4', 56.36), ('AU5', 17.51), ('AU6', 0.0), ('AU7', 24.23), ('AU9', 15.38), ('AU10', 4.7), ('AU12', 25.86), ('AU14', 37.5), ('AU15', 1.35), ('AU17', 25.67)]\n",
      "Mean:  23.75\n",
      "\n",
      "\n"
     ]
    }
   ],
   "source": [
    "out = SCAValidator(Config).validate(df, input_data)"
   ]
  },
  {
   "cell_type": "code",
   "execution_count": 200,
   "metadata": {
    "scrolled": true
   },
   "outputs": [
    {
     "name": "stderr",
     "output_type": "stream",
     "text": [
      "\r",
      "  0%|                                                     | 0/5 [00:00<?, ?it/s]"
     ]
    },
    {
     "name": "stdout",
     "output_type": "stream",
     "text": [
      "MultiLabelF1Score\n",
      "Dataset: casme, n=189 | train_mean: 0.9538 | test_mean: 0.6007\n",
      "Test per AU: [('AU1', 77.63), ('AU2', 83.19), ('AU4', 74.21), ('AU5', 48.36), ('AU6', 49.06), ('AU7', 55.03), ('AU9', 48.29), ('AU10', 47.35), ('AU12', 52.62), ('AU14', 74.28), ('AU15', 47.65), ('AU17', 63.16)]\n",
      "\n",
      "MultiLabelF1Score\n",
      "Dataset: casme, n=189 | train_mean: 0.9117 | test_mean: 0.2708\n",
      "Test per AU: [('AU1', 60.0), ('AU2', 68.97), ('AU4', 66.15), ('AU5', 0.0), ('AU6', 0.0), ('AU7', 16.0), ('AU9', 8.89), ('AU10', 0.0), ('AU12', 17.02), ('AU14', 54.55), ('AU15', 0.0), ('AU17', 33.33)]\n",
      "\n",
      "MultiLabelF1Score\n",
      "Dataset: casme2, n=256 | train_mean: 0.9559 | test_mean: 0.5899\n",
      "Test per AU: [('AU1', 76.11), ('AU2', 79.18), ('AU4', 89.45), ('AU5', 49.21), ('AU6', 48.59), ('AU7', 45.53), ('AU9', 53.0), ('AU10', 54.37), ('AU12', 47.79), ('AU14', 68.88), ('AU15', 48.39), ('AU17', 47.43)]\n",
      "\n",
      "MultiLabelF1Score\n",
      "Dataset: casme2, n=256 | train_mean: 0.9154 | test_mean: 0.2401\n",
      "Test per AU: [('AU1', 56.52), ('AU2', 61.54), ('AU4', 89.49), ('AU5', 0.0), ('AU6', 0.0), ('AU7', 0.0), ('AU9', 21.43), ('AU10', 11.76), ('AU12', 4.55), ('AU14', 42.86), ('AU15', 0.0), ('AU17', 0.0)]\n",
      "\n",
      "MultiLabelF1Score\n",
      "Dataset: samm, n=159 | train_mean: 0.969 | test_mean: 0.5364\n",
      "Test per AU: [('AU1', 63.48), ('AU2', 47.0), ('AU4', 35.42), ('AU5', 48.38), ('AU6', 49.52), ('AU7', 67.1), ('AU9', 66.03), ('AU10', 49.04), ('AU12', 49.17), ('AU14', 53.93), ('AU15', 49.2), ('AU17', 65.36)]\n",
      "\n",
      "MultiLabelF1Score\n",
      "Dataset: samm, n=159 | train_mean: 0.9408 | test_mean: 0.1748\n",
      "Test per AU: [('AU1', 28.57), ('AU2', 0.0), ('AU4', 30.14), ('AU5', 0.0), ('AU6', 0.0), ('AU7', 58.82), ('AU9', 33.33), ('AU10', 0.0), ('AU12', 13.04), ('AU14', 12.5), ('AU15', 0.0), ('AU17', 33.33)]\n",
      "\n",
      "MultiLabelF1Score\n",
      "Dataset: fourd, n=267 | train_mean: 0.9471 | test_mean: 0.5651\n",
      "Test per AU: [('AU1', 60.86), ('AU2', 62.55), ('AU4', 48.7), ('AU5', 52.62), ('AU6', 47.54), ('AU7', 63.21), ('AU9', 48.16), ('AU10', 49.72), ('AU12', 64.31), ('AU14', 61.93), ('AU15', 49.43), ('AU17', 69.13)]\n",
      "\n",
      "MultiLabelF1Score\n",
      "Dataset: fourd, n=267 | train_mean: 0.8994 | test_mean: 0.2142\n",
      "Test per AU: [('AU1', 29.63), ('AU2', 34.78), ('AU4', 19.3), ('AU5', 14.81), ('AU6', 0.0), ('AU7', 49.7), ('AU9', 0.0), ('AU10', 0.0), ('AU12', 43.86), ('AU14', 25.0), ('AU15', 0.0), ('AU17', 40.0)]\n",
      "\n",
      "MultiLabelF1Score\n",
      "Dataset: mmew, n=300 | train_mean: 0.9367 | test_mean: 0.5811\n",
      "Test per AU: [('AU1', 77.18), ('AU2', 78.23), ('AU4', 69.33), ('AU5', 52.71), ('AU6', 49.07), ('AU7', 49.64), ('AU9', 48.89), ('AU10', 46.62), ('AU12', 49.11), ('AU14', 64.16), ('AU15', 49.24), ('AU17', 63.12)]\n",
      "\n",
      "MultiLabelF1Score\n",
      "Dataset: mmew, n=300 | train_mean: 0.8797 | test_mean: 0.2343\n",
      "Test per AU: [('AU1', 64.71), ('AU2', 64.96), ('AU4', 56.14), ('AU5', 18.82), ('AU6', 0.0), ('AU7', 7.84), ('AU9', 0.0), ('AU10', 0.0), ('AU12', 5.0), ('AU14', 33.33), ('AU15', 0.0), ('AU17', 30.3)]\n",
      "\n",
      "MultiLabelF1Score\n",
      "Dataset: casme3a, n=860 | train_mean: 0.9473 | test_mean: 0.5126\n",
      "Test per AU: [('AU1', 57.5), ('AU2', 57.81), ('AU4', 58.52), ('AU5', 54.95), ('AU6', 49.59), ('AU7', 41.75), ('AU9', 38.55), ('AU10', 37.08), ('AU12', 50.1), ('AU14', 60.06), ('AU15', 49.41), ('AU17', 59.85)]\n",
      "\n",
      "MultiLabelF1Score\n",
      "Dataset: casme3a, n=860 | train_mean: 0.9024 | test_mean: 0.1618\n",
      "Test per AU: [('AU1', 24.34), ('AU2', 23.23), ('AU4', 46.75), ('AU5', 20.59), ('AU6', 0.0), ('AU7', 5.03), ('AU9', 8.97), ('AU10', 3.93), ('AU12', 3.51), ('AU14', 35.54), ('AU15', 0.0), ('AU17', 22.22)]\n",
      "\n",
      "Final results\n",
      "\n",
      "MultiLabelF1Score\n",
      "All AUs:  [('AU1', 67.64), ('AU2', 67.68), ('AU4', 64.0), ('AU5', 54.69), ('AU6', 49.07), ('AU7', 54.11), ('AU9', 47.26), ('AU10', 45.23), ('AU12', 56.31), ('AU14', 64.11), ('AU15', 49.08), ('AU17', 60.89)]\n",
      "Mean:  56.67\n",
      "\n",
      "\n",
      "MultiLabelF1Score\n",
      "All AUs:  [('AU1', 42.8), ('AU2', 42.15), ('AU4', 53.42), ('AU5', 17.69), ('AU6', 0.0), ('AU7', 24.59), ('AU9', 10.44), ('AU10', 3.67), ('AU12', 20.11), ('AU14', 36.78), ('AU15', 0.0), ('AU17', 25.14)]\n",
      "Mean:  23.07\n",
      "\n",
      "\n"
     ]
    },
    {
     "name": "stderr",
     "output_type": "stream",
     "text": [
      "\r",
      " 20%|███████▍                             | 1/5 [3:27:02<13:48:09, 12422.34s/it]"
     ]
    },
    {
     "name": "stdout",
     "output_type": "stream",
     "text": [
      "MultiLabelF1Score\n",
      "Dataset: casme, n=189 | train_mean: 0.9647 | test_mean: 0.5907\n",
      "Test per AU: [('AU1', 76.38), ('AU2', 75.22), ('AU4', 75.94), ('AU5', 48.5), ('AU6', 47.21), ('AU7', 45.38), ('AU9', 58.07), ('AU10', 52.49), ('AU12', 53.53), ('AU14', 59.59), ('AU15', 52.9), ('AU17', 63.65)]\n",
      "\n",
      "MultiLabelF1Score\n",
      "Dataset: casme, n=189 | train_mean: 0.9329 | test_mean: 0.2581\n",
      "Test per AU: [('AU1', 57.14), ('AU2', 53.85), ('AU4', 70.34), ('AU5', 0.0), ('AU6', 0.0), ('AU7', 0.0), ('AU9', 27.45), ('AU10', 10.0), ('AU12', 19.61), ('AU14', 25.81), ('AU15', 10.53), ('AU17', 35.0)]\n",
      "\n",
      "MultiLabelF1Score\n",
      "Dataset: casme2, n=256 | train_mean: 0.9527 | test_mean: 0.6281\n",
      "Test per AU: [('AU1', 82.43), ('AU2', 87.51), ('AU4', 85.79), ('AU5', 59.2), ('AU6', 48.7), ('AU7', 49.84), ('AU9', 58.9), ('AU10', 48.39), ('AU12', 63.48), ('AU14', 73.69), ('AU15', 48.39), ('AU17', 47.43)]\n",
      "\n",
      "MultiLabelF1Score\n",
      "Dataset: casme2, n=256 | train_mean: 0.9091 | test_mean: 0.3086\n",
      "Test per AU: [('AU1', 68.09), ('AU2', 76.92), ('AU4', 84.35), ('AU5', 20.0), ('AU6', 0.0), ('AU7', 8.7), ('AU9', 24.39), ('AU10', 0.0), ('AU12', 35.09), ('AU14', 52.83), ('AU15', 0.0), ('AU17', 0.0)]\n",
      "\n",
      "MultiLabelF1Score\n",
      "Dataset: samm, n=159 | train_mean: 0.968 | test_mean: 0.5556\n",
      "Test per AU: [('AU1', 72.03), ('AU2', 56.05), ('AU4', 51.76), ('AU5', 48.38), ('AU6', 49.2), ('AU7', 62.63), ('AU9', 49.2), ('AU10', 49.04), ('AU12', 55.83), ('AU14', 54.52), ('AU15', 49.04), ('AU17', 69.03)]\n",
      "\n",
      "MultiLabelF1Score\n",
      "Dataset: samm, n=159 | train_mean: 0.9389 | test_mean: 0.1942\n",
      "Test per AU: [('AU1', 47.06), ('AU2', 18.18), ('AU4', 37.5), ('AU5', 0.0), ('AU6', 0.0), ('AU7', 43.59), ('AU9', 0.0), ('AU10', 0.0), ('AU12', 33.33), ('AU14', 13.33), ('AU15', 0.0), ('AU17', 40.0)]\n",
      "\n",
      "MultiLabelF1Score\n",
      "Dataset: fourd, n=267 | train_mean: 0.9559 | test_mean: 0.5265\n",
      "Test per AU: [('AU1', 51.69), ('AU2', 54.94), ('AU4', 54.86), ('AU5', 48.46), ('AU6', 47.54), ('AU7', 52.41), ('AU9', 48.75), ('AU10', 48.95), ('AU12', 57.0), ('AU14', 60.44), ('AU15', 49.43), ('AU17', 57.38)]\n",
      "\n",
      "MultiLabelF1Score\n",
      "Dataset: fourd, n=267 | train_mean: 0.9163 | test_mean: 0.1531\n",
      "Test per AU: [('AU1', 12.24), ('AU2', 20.0), ('AU4', 30.0), ('AU5', 0.0), ('AU6', 0.0), ('AU7', 46.35), ('AU9', 0.0), ('AU10', 0.0), ('AU12', 36.23), ('AU14', 22.22), ('AU15', 0.0), ('AU17', 16.67)]\n",
      "\n",
      "MultiLabelF1Score\n",
      "Dataset: mmew, n=300 | train_mean: 0.9398 | test_mean: 0.6018\n",
      "Test per AU: [('AU1', 82.44), ('AU2', 84.09), ('AU4', 70.45), ('AU5', 50.09), ('AU6', 49.15), ('AU7', 47.38), ('AU9', 62.39), ('AU10', 46.62), ('AU12', 49.27), ('AU14', 65.18), ('AU15', 49.49), ('AU17', 65.64)]\n",
      "\n",
      "MultiLabelF1Score\n",
      "Dataset: mmew, n=300 | train_mean: 0.8847 | test_mean: 0.2685\n",
      "Test per AU: [('AU1', 71.43), ('AU2', 73.12), ('AU4', 58.43), ('AU5', 12.99), ('AU6', 0.0), ('AU7', 6.15), ('AU9', 26.67), ('AU10', 0.0), ('AU12', 5.13), ('AU14', 35.0), ('AU15', 0.0), ('AU17', 33.33)]\n",
      "\n",
      "MultiLabelF1Score\n",
      "Dataset: casme3a, n=860 | train_mean: 0.9567 | test_mean: 0.5308\n",
      "Test per AU: [('AU1', 56.14), ('AU2', 57.38), ('AU4', 61.36), ('AU5', 51.46), ('AU6', 47.19), ('AU7', 47.11), ('AU9', 56.8), ('AU10', 45.02), ('AU12', 50.76), ('AU14', 57.4), ('AU15', 51.1), ('AU17', 55.24)]\n",
      "\n",
      "MultiLabelF1Score\n",
      "Dataset: casme3a, n=860 | train_mean: 0.9194 | test_mean: 0.1669\n",
      "Test per AU: [('AU1', 22.34), ('AU2', 22.64), ('AU4', 55.25), ('AU5', 15.79), ('AU6', 1.68), ('AU7', 6.83), ('AU9', 20.83), ('AU10', 2.12), ('AU12', 6.67), ('AU14', 27.92), ('AU15', 4.65), ('AU17', 13.56)]\n",
      "\n",
      "Final results\n",
      "\n",
      "MultiLabelF1Score\n",
      "All AUs:  [('AU1', 67.08), ('AU2', 67.34), ('AU4', 66.73), ('AU5', 52.72), ('AU6', 48.07), ('AU7', 55.17), ('AU9', 58.0), ('AU10', 47.45), ('AU12', 57.89), ('AU14', 61.59), ('AU15', 50.92), ('AU17', 58.7)]\n",
      "Mean:  57.64\n",
      "\n",
      "\n",
      "MultiLabelF1Score\n",
      "All AUs:  [('AU1', 41.58), ('AU2', 41.1), ('AU4', 58.18), ('AU5', 13.64), ('AU6', 1.04), ('AU7', 24.89), ('AU9', 21.56), ('AU10', 2.14), ('AU12', 25.17), ('AU14', 30.99), ('AU15', 4.17), ('AU17', 20.73)]\n",
      "Mean:  23.77\n",
      "\n",
      "\n"
     ]
    },
    {
     "name": "stderr",
     "output_type": "stream",
     "text": [
      "\r",
      " 40%|███████████████▏                      | 2/5 [5:52:49<8:33:02, 10260.72s/it]"
     ]
    },
    {
     "name": "stdout",
     "output_type": "stream",
     "text": [
      "MultiLabelF1Score\n",
      "Dataset: casme, n=189 | train_mean: 0.9652 | test_mean: 0.5965\n",
      "Test per AU: [('AU1', 80.53), ('AU2', 74.07), ('AU4', 79.81), ('AU5', 49.06), ('AU6', 49.47), ('AU7', 44.47), ('AU9', 57.05), ('AU10', 48.36), ('AU12', 45.69), ('AU14', 74.28), ('AU15', 48.08), ('AU17', 64.89)]\n",
      "\n",
      "MultiLabelF1Score\n",
      "Dataset: casme, n=189 | train_mean: 0.9335 | test_mean: 0.26\n",
      "Test per AU: [('AU1', 64.86), ('AU2', 51.85), ('AU4', 75.0), ('AU5', 0.0), ('AU6', 0.0), ('AU7', 3.92), ('AU9', 25.0), ('AU10', 0.0), ('AU12', 0.0), ('AU14', 54.55), ('AU15', 0.0), ('AU17', 36.84)]\n",
      "\n",
      "MultiLabelF1Score\n",
      "Dataset: casme2, n=256 | train_mean: 0.9536 | test_mean: 0.6116\n",
      "Test per AU: [('AU1', 85.33), ('AU2', 82.77), ('AU4', 87.06), ('AU5', 48.59), ('AU6', 48.7), ('AU7', 49.87), ('AU9', 56.98), ('AU10', 52.2), ('AU12', 51.43), ('AU14', 71.19), ('AU15', 48.39), ('AU17', 51.38)]\n",
      "\n",
      "MultiLabelF1Score\n",
      "Dataset: casme2, n=256 | train_mean: 0.9108 | test_mean: 0.2783\n",
      "Test per AU: [('AU1', 73.47), ('AU2', 68.29), ('AU4', 86.31), ('AU5', 0.0), ('AU6', 0.0), ('AU7', 10.71), ('AU9', 20.51), ('AU10', 8.7), ('AU12', 10.26), ('AU14', 48.0), ('AU15', 0.0), ('AU17', 7.69)]\n",
      "\n",
      "MultiLabelF1Score\n",
      "Dataset: samm, n=159 | train_mean: 0.9687 | test_mean: 0.5581\n",
      "Test per AU: [('AU1', 70.11), ('AU2', 53.46), ('AU4', 57.14), ('AU5', 48.38), ('AU6', 49.2), ('AU7', 61.23), ('AU9', 49.2), ('AU10', 49.04), ('AU12', 60.19), ('AU14', 58.78), ('AU15', 49.36), ('AU17', 63.62)]\n",
      "\n",
      "MultiLabelF1Score\n",
      "Dataset: samm, n=159 | train_mean: 0.9402 | test_mean: 0.1918\n",
      "Test per AU: [('AU1', 42.86), ('AU2', 14.81), ('AU4', 42.31), ('AU5', 0.0), ('AU6', 0.0), ('AU7', 43.68), ('AU9', 0.0), ('AU10', 0.0), ('AU12', 32.65), ('AU14', 22.22), ('AU15', 0.0), ('AU17', 31.58)]\n",
      "\n",
      "MultiLabelF1Score\n",
      "Dataset: fourd, n=267 | train_mean: 0.9568 | test_mean: 0.5274\n",
      "Test per AU: [('AU1', 51.69), ('AU2', 59.22), ('AU4', 58.37), ('AU5', 49.05), ('AU6', 47.54), ('AU7', 56.96), ('AU9', 43.09), ('AU10', 49.81), ('AU12', 54.94), ('AU14', 63.81), ('AU15', 49.43), ('AU17', 48.95)]\n",
      "\n",
      "MultiLabelF1Score\n",
      "Dataset: fourd, n=267 | train_mean: 0.9176 | test_mean: 0.1451\n",
      "Test per AU: [('AU1', 12.24), ('AU2', 28.99), ('AU4', 38.57), ('AU5', 0.0), ('AU6', 0.0), ('AU7', 43.09), ('AU9', 2.6), ('AU10', 0.0), ('AU12', 20.0), ('AU14', 28.57), ('AU15', 0.0), ('AU17', 0.0)]\n",
      "\n",
      "MultiLabelF1Score\n",
      "Dataset: mmew, n=300 | train_mean: 0.9416 | test_mean: 0.6067\n",
      "Test per AU: [('AU1', 82.87), ('AU2', 83.2), ('AU4', 71.64), ('AU5', 46.19), ('AU6', 49.15), ('AU7', 52.07), ('AU9', 49.32), ('AU10', 46.62), ('AU12', 55.85), ('AU14', 62.5), ('AU15', 60.52), ('AU17', 68.14)]\n",
      "\n",
      "MultiLabelF1Score\n",
      "Dataset: mmew, n=300 | train_mean: 0.8884 | test_mean: 0.2787\n",
      "Test per AU: [('AU1', 72.07), ('AU2', 72.0), ('AU4', 60.96), ('AU5', 5.48), ('AU6', 0.0), ('AU7', 13.56), ('AU9', 0.0), ('AU10', 0.0), ('AU12', 18.18), ('AU14', 30.0), ('AU15', 22.22), ('AU17', 40.0)]\n",
      "\n",
      "MultiLabelF1Score\n",
      "Dataset: casme3a, n=860 | train_mean: 0.9455 | test_mean: 0.4985\n",
      "Test per AU: [('AU1', 56.25), ('AU2', 55.49), ('AU4', 57.85), ('AU5', 35.73), ('AU6', 46.94), ('AU7', 43.51), ('AU9', 48.9), ('AU10', 39.21), ('AU12', 48.96), ('AU14', 62.05), ('AU15', 48.96), ('AU17', 54.31)]\n",
      "\n",
      "MultiLabelF1Score\n",
      "Dataset: casme3a, n=860 | train_mean: 0.899 | test_mean: 0.136\n",
      "Test per AU: [('AU1', 23.08), ('AU2', 19.11), ('AU4', 42.75), ('AU5', 12.41), ('AU6', 1.6), ('AU7', 5.09), ('AU9', 5.88), ('AU10', 4.36), ('AU12', 0.0), ('AU14', 36.81), ('AU15', 0.0), ('AU17', 12.12)]\n",
      "\n",
      "Final results\n",
      "\n",
      "MultiLabelF1Score\n",
      "All AUs:  [('AU1', 67.64), ('AU2', 66.48), ('AU4', 66.71), ('AU5', 46.76), ('AU6', 48.23), ('AU7', 51.9), ('AU9', 51.02), ('AU10', 46.06), ('AU12', 54.93), ('AU14', 65.44), ('AU15', 50.16), ('AU17', 59.33)]\n",
      "Mean:  56.22\n",
      "\n",
      "\n",
      "MultiLabelF1Score\n",
      "All AUs:  [('AU1', 42.74), ('AU2', 39.9), ('AU4', 55.85), ('AU5', 10.88), ('AU6', 1.1), ('AU7', 20.59), ('AU9', 9.58), ('AU10', 4.02), ('AU12', 15.56), ('AU14', 38.48), ('AU15', 2.38), ('AU17', 22.56)]\n",
      "Mean:  21.97\n",
      "\n",
      "\n"
     ]
    },
    {
     "name": "stderr",
     "output_type": "stream",
     "text": [
      "\r",
      " 60%|███████████████████████▍               | 3/5 [8:17:48<5:18:14, 9547.27s/it]"
     ]
    },
    {
     "name": "stdout",
     "output_type": "stream",
     "text": [
      "MultiLabelF1Score\n",
      "Dataset: casme, n=189 | train_mean: 0.97 | test_mean: 0.6135\n",
      "Test per AU: [('AU1', 74.84), ('AU2', 81.9), ('AU4', 76.94), ('AU5', 47.79), ('AU6', 48.5), ('AU7', 55.62), ('AU9', 63.85), ('AU10', 45.53), ('AU12', 54.25), ('AU14', 71.27), ('AU15', 47.79), ('AU17', 67.88)]\n",
      "\n",
      "MultiLabelF1Score\n",
      "Dataset: casme, n=189 | train_mean: 0.9428 | test_mean: 0.3008\n",
      "Test per AU: [('AU1', 55.0), ('AU2', 66.67), ('AU4', 71.33), ('AU5', 0.0), ('AU6', 0.0), ('AU7', 18.75), ('AU9', 38.6), ('AU10', 0.0), ('AU12', 21.82), ('AU14', 48.78), ('AU15', 0.0), ('AU17', 40.0)]\n",
      "\n",
      "MultiLabelF1Score\n",
      "Dataset: casme2, n=256 | train_mean: 0.9484 | test_mean: 0.6424\n",
      "Test per AU: [('AU1', 83.72), ('AU2', 87.16), ('AU4', 91.01), ('AU5', 48.49), ('AU6', 48.59), ('AU7', 52.13), ('AU9', 57.79), ('AU10', 48.18), ('AU12', 64.81), ('AU14', 68.26), ('AU15', 48.28), ('AU17', 72.47)]\n",
      "\n",
      "MultiLabelF1Score\n",
      "Dataset: casme2, n=256 | train_mean: 0.9009 | test_mean: 0.3391\n",
      "Test per AU: [('AU1', 71.19), ('AU2', 76.92), ('AU4', 91.12), ('AU5', 0.0), ('AU6', 0.0), ('AU7', 14.55), ('AU9', 25.81), ('AU10', 0.0), ('AU12', 37.04), ('AU14', 41.86), ('AU15', 0.0), ('AU17', 48.48)]\n",
      "\n",
      "MultiLabelF1Score\n",
      "Dataset: samm, n=159 | train_mean: 0.9746 | test_mean: 0.5621\n",
      "Test per AU: [('AU1', 61.53), ('AU2', 51.98), ('AU4', 43.01), ('AU5', 56.7), ('AU6', 49.52), ('AU7', 65.8), ('AU9', 66.03), ('AU10', 49.04), ('AU12', 61.3), ('AU14', 61.52), ('AU15', 49.36), ('AU17', 58.7)]\n",
      "\n",
      "MultiLabelF1Score\n",
      "Dataset: samm, n=159 | train_mean: 0.9518 | test_mean: 0.2117\n",
      "Test per AU: [('AU1', 25.0), ('AU2', 10.0), ('AU4', 33.33), ('AU5', 16.67), ('AU6', 0.0), ('AU7', 55.05), ('AU9', 33.33), ('AU10', 0.0), ('AU12', 34.04), ('AU14', 26.67), ('AU15', 0.0), ('AU17', 20.0)]\n",
      "\n",
      "MultiLabelF1Score\n",
      "Dataset: fourd, n=267 | train_mean: 0.9548 | test_mean: 0.536\n",
      "Test per AU: [('AU1', 58.45), ('AU2', 55.33), ('AU4', 53.78), ('AU5', 50.14), ('AU6', 47.54), ('AU7', 56.83), ('AU9', 52.01), ('AU10', 47.04), ('AU12', 61.9), ('AU14', 54.09), ('AU15', 49.43), ('AU17', 56.64)]\n",
      "\n",
      "MultiLabelF1Score\n",
      "Dataset: fourd, n=267 | train_mean: 0.9142 | test_mean: 0.1657\n",
      "Test per AU: [('AU1', 25.45), ('AU2', 21.54), ('AU4', 28.33), ('AU5', 6.25), ('AU6', 0.0), ('AU7', 36.62), ('AU9', 8.33), ('AU10', 4.0), ('AU12', 39.64), ('AU14', 13.33), ('AU15', 0.0), ('AU17', 15.38)]\n",
      "\n",
      "MultiLabelF1Score\n",
      "Dataset: mmew, n=300 | train_mean: 0.9334 | test_mean: 0.5949\n",
      "Test per AU: [('AU1', 81.83), ('AU2', 84.86), ('AU4', 67.02), ('AU5', 53.02), ('AU6', 49.15), ('AU7', 51.16), ('AU9', 59.32), ('AU10', 46.52), ('AU12', 50.37), ('AU14', 61.17), ('AU15', 49.07), ('AU17', 60.39)]\n",
      "\n",
      "MultiLabelF1Score\n",
      "Dataset: mmew, n=300 | train_mean: 0.8732 | test_mean: 0.2595\n",
      "Test per AU: [('AU1', 69.9), ('AU2', 74.47), ('AU4', 51.85), ('AU5', 22.64), ('AU6', 0.0), ('AU7', 11.11), ('AU9', 20.0), ('AU10', 0.0), ('AU12', 8.51), ('AU14', 27.91), ('AU15', 0.0), ('AU17', 25.0)]\n",
      "\n",
      "MultiLabelF1Score\n",
      "Dataset: casme3a, n=860 | train_mean: 0.9567 | test_mean: 0.4996\n",
      "Test per AU: [('AU1', 48.83), ('AU2', 53.94), ('AU4', 65.09), ('AU5', 49.41), ('AU6', 47.61), ('AU7', 32.13), ('AU9', 46.4), ('AU10', 44.36), ('AU12', 53.1), ('AU14', 60.01), ('AU15', 47.9), ('AU17', 50.76)]\n",
      "\n",
      "MultiLabelF1Score\n",
      "Dataset: casme3a, n=860 | train_mean: 0.9193 | test_mean: 0.1464\n",
      "Test per AU: [('AU1', 7.36), ('AU2', 15.49), ('AU4', 56.48), ('AU5', 14.76), ('AU6', 4.11), ('AU7', 5.37), ('AU9', 7.02), ('AU10', 2.76), ('AU12', 11.11), ('AU14', 41.23), ('AU15', 3.25), ('AU17', 6.67)]\n",
      "\n",
      "Final results\n",
      "\n",
      "MultiLabelF1Score\n",
      "All AUs:  [('AU1', 65.53), ('AU2', 67.63), ('AU4', 68.07), ('AU5', 52.2), ('AU6', 48.8), ('AU7', 46.81), ('AU9', 53.3), ('AU10', 46.34), ('AU12', 59.05), ('AU14', 64.02), ('AU15', 48.9), ('AU17', 58.78)]\n",
      "Mean:  56.62\n",
      "\n",
      "\n",
      "MultiLabelF1Score\n",
      "All AUs:  [('AU1', 38.32), ('AU2', 41.69), ('AU4', 59.15), ('AU5', 15.04), ('AU6', 2.87), ('AU7', 17.52), ('AU9', 15.5), ('AU10', 2.22), ('AU12', 26.24), ('AU14', 39.17), ('AU15', 2.26), ('AU17', 21.67)]\n",
      "Mean:  23.47\n",
      "\n",
      "\n"
     ]
    },
    {
     "name": "stderr",
     "output_type": "stream",
     "text": [
      "\r",
      " 80%|██████████████████████████████▍       | 4/5 [10:42:11<2:33:18, 9198.25s/it]"
     ]
    },
    {
     "name": "stdout",
     "output_type": "stream",
     "text": [
      "MultiLabelF1Score\n",
      "Dataset: casme, n=189 | train_mean: 0.9732 | test_mean: 0.5928\n",
      "Test per AU: [('AU1', 75.7), ('AU2', 75.72), ('AU4', 69.55), ('AU5', 49.87), ('AU6', 48.64), ('AU7', 54.13), ('AU9', 47.76), ('AU10', 46.91), ('AU12', 53.95), ('AU14', 64.89), ('AU15', 59.96), ('AU17', 64.26)]\n",
      "\n",
      "MultiLabelF1Score\n",
      "Dataset: casme, n=189 | train_mean: 0.9491 | test_mean: 0.2594\n",
      "Test per AU: [('AU1', 56.41), ('AU2', 55.17), ('AU4', 61.97), ('AU5', 0.0), ('AU6', 0.0), ('AU7', 14.81), ('AU9', 8.51), ('AU10', 0.0), ('AU12', 16.67), ('AU14', 36.84), ('AU15', 25.0), ('AU17', 35.9)]\n",
      "\n",
      "MultiLabelF1Score\n",
      "Dataset: casme2, n=256 | train_mean: 0.9563 | test_mean: 0.6218\n",
      "Test per AU: [('AU1', 84.72), ('AU2', 89.04), ('AU4', 87.5), ('AU5', 55.36), ('AU6', 48.7), ('AU7', 49.02), ('AU9', 52.65), ('AU10', 48.07), ('AU12', 53.03), ('AU14', 69.51), ('AU15', 53.94), ('AU17', 54.66)]\n",
      "\n",
      "MultiLabelF1Score\n",
      "Dataset: casme2, n=256 | train_mean: 0.9165 | test_mean: 0.3\n",
      "Test per AU: [('AU1', 72.73), ('AU2', 80.0), ('AU4', 87.6), ('AU5', 13.33), ('AU6', 0.0), ('AU7', 8.0), ('AU9', 15.09), ('AU10', 0.0), ('AU12', 13.95), ('AU14', 43.9), ('AU15', 11.11), ('AU17', 14.29)]\n",
      "\n",
      "MultiLabelF1Score\n",
      "Dataset: samm, n=159 | train_mean: 0.9676 | test_mean: 0.5601\n",
      "Test per AU: [('AU1', 62.64), ('AU2', 65.6), ('AU4', 71.91), ('AU5', 48.04), ('AU6', 49.52), ('AU7', 59.71), ('AU9', 49.2), ('AU10', 49.04), ('AU12', 62.06), ('AU14', 47.7), ('AU15', 49.36), ('AU17', 57.32)]\n",
      "\n",
      "MultiLabelF1Score\n",
      "Dataset: samm, n=159 | train_mean: 0.9384 | test_mean: 0.1855\n",
      "Test per AU: [('AU1', 28.57), ('AU2', 37.04), ('AU4', 54.24), ('AU5', 0.0), ('AU6', 0.0), ('AU7', 42.22), ('AU9', 0.0), ('AU10', 0.0), ('AU12', 40.58), ('AU14', 0.0), ('AU15', 0.0), ('AU17', 20.0)]\n",
      "\n",
      "MultiLabelF1Score\n",
      "Dataset: fourd, n=267 | train_mean: 0.9512 | test_mean: 0.5443\n",
      "Test per AU: [('AU1', 65.63), ('AU2', 59.22), ('AU4', 45.25), ('AU5', 50.25), ('AU6', 47.23), ('AU7', 58.54), ('AU9', 48.65), ('AU10', 49.72), ('AU12', 59.63), ('AU14', 49.05), ('AU15', 49.34), ('AU17', 70.66)]\n",
      "\n",
      "MultiLabelF1Score\n",
      "Dataset: fourd, n=267 | train_mean: 0.9072 | test_mean: 0.1841\n",
      "Test per AU: [('AU1', 38.6), ('AU2', 28.99), ('AU4', 12.84), ('AU5', 8.89), ('AU6', 0.0), ('AU7', 50.0), ('AU9', 0.0), ('AU10', 0.0), ('AU12', 38.76), ('AU14', 0.0), ('AU15', 0.0), ('AU17', 42.86)]\n",
      "\n",
      "MultiLabelF1Score\n",
      "Dataset: mmew, n=300 | train_mean: 0.9356 | test_mean: 0.585\n",
      "Test per AU: [('AU1', 80.1), ('AU2', 82.64), ('AU4', 62.17), ('AU5', 54.13), ('AU6', 49.15), ('AU7', 50.63), ('AU9', 49.24), ('AU10', 46.62), ('AU12', 55.85), ('AU14', 62.2), ('AU15', 49.41), ('AU17', 59.82)]\n",
      "\n",
      "MultiLabelF1Score\n",
      "Dataset: mmew, n=300 | train_mean: 0.8776 | test_mean: 0.2442\n",
      "Test per AU: [('AU1', 67.83), ('AU2', 70.83), ('AU4', 42.25), ('AU5', 25.23), ('AU6', 0.0), ('AU7', 12.12), ('AU9', 0.0), ('AU10', 0.0), ('AU12', 18.18), ('AU14', 31.58), ('AU15', 0.0), ('AU17', 25.0)]\n",
      "\n",
      "MultiLabelF1Score\n",
      "Dataset: casme3a, n=860 | train_mean: 0.9475 | test_mean: 0.5383\n",
      "Test per AU: [('AU1', 58.83), ('AU2', 65.7), ('AU4', 63.4), ('AU5', 50.68), ('AU6', 40.82), ('AU7', 50.34), ('AU9', 50.32), ('AU10', 48.25), ('AU12', 47.78), ('AU14', 60.13), ('AU15', 52.8), ('AU17', 56.94)]\n",
      "\n",
      "MultiLabelF1Score\n",
      "Dataset: casme3a, n=860 | train_mean: 0.9027 | test_mean: 0.1865\n",
      "Test per AU: [('AU1', 26.37), ('AU2', 38.1), ('AU4', 46.93), ('AU5', 15.06), ('AU6', 1.39), ('AU7', 9.33), ('AU9', 10.53), ('AU10', 4.51), ('AU12', 5.88), ('AU14', 42.8), ('AU15', 7.14), ('AU17', 15.79)]\n",
      "\n",
      "Final results\n",
      "\n",
      "MultiLabelF1Score\n",
      "All AUs:  [('AU1', 69.72), ('AU2', 71.62), ('AU4', 67.74), ('AU5', 53.42), ('AU6', 45.89), ('AU7', 58.55), ('AU9', 51.44), ('AU10', 48.56), ('AU12', 55.64), ('AU14', 64.29), ('AU15', 54.7), ('AU17', 60.55)]\n",
      "Mean:  58.51\n",
      "\n",
      "\n",
      "MultiLabelF1Score\n",
      "All AUs:  [('AU1', 46.32), ('AU2', 49.31), ('AU4', 54.27), ('AU5', 16.55), ('AU6', 1.14), ('AU7', 29.24), ('AU9', 10.03), ('AU10', 2.71), ('AU12', 22.0), ('AU14', 39.94), ('AU15', 11.36), ('AU17', 24.58)]\n",
      "Mean:  25.62\n",
      "\n",
      "\n"
     ]
    },
    {
     "name": "stderr",
     "output_type": "stream",
     "text": [
      "100%|████████████████████████████████████████| 5/5 [13:06:41<00:00, 9440.21s/it]"
     ]
    },
    {
     "name": "stdout",
     "output_type": "stream",
     "text": [
      "MultiLabelF1Score\n",
      "AUS: ['AU1', 'AU2', 'AU4', 'AU5', 'AU6', 'AU7', 'AU9', 'AU10', 'AU12', 'AU14', 'AU15', 'AU17', 'Average']\n",
      "67.5 & 68.2 & 66.7 & 52.0 & 48.0 & 53.3 & 52.2 & 46.7 & 56.8 & 63.9 & 50.8 & 59.6 & 57.1\n",
      "\n",
      "Datasets:  ['casme', 'casme2', 'samm', 'fourd', 'mmew', 'casme3a', 'Average']\n",
      "59.9 & 61.9 & 55.4 & 54.0 & 59.4 & 51.6 & 57.0\n",
      "MultiLabelF1Score\n",
      "AUS: ['AU1', 'AU2', 'AU4', 'AU5', 'AU6', 'AU7', 'AU9', 'AU10', 'AU12', 'AU14', 'AU15', 'AU17', 'Average']\n",
      "42.3 & 42.8 & 56.2 & 14.8 & 1.2 & 23.4 & 13.4 & 3.0 & 21.8 & 37.1 & 4.0 & 22.9 & 23.6\n",
      "\n",
      "Datasets:  ['casme', 'casme2', 'samm', 'fourd', 'mmew', 'casme3a', 'Average']\n",
      "27.0 & 29.3 & 19.2 & 17.2 & 25.7 & 16.0 & 22.4\n"
     ]
    },
    {
     "name": "stderr",
     "output_type": "stream",
     "text": [
      "\n"
     ]
    }
   ],
   "source": [
    "SCAValidator(Config).validate_n_times(df, input_data, n_times=5)"
   ]
  },
  {
   "cell_type": "code",
   "execution_count": 189,
   "metadata": {
    "scrolled": true
   },
   "outputs": [
    {
     "name": "stderr",
     "output_type": "stream",
     "text": [
      "100%|███████████████████████████████████████████| 40/40 [04:11<00:00,  6.28s/it]\n",
      "/home/tvaranka/anaconda3/envs/python3.10/lib/python3.10/site-packages/sklearn/metrics/_classification.py:1599: UndefinedMetricWarning: F-score is ill-defined and being set to 0.0 due to no true nor predicted samples. Use `zero_division` parameter to control this behavior.\n",
      "  _warn_prf(average, \"true nor predicted\", \"F-score is\", len(true_sum))\n",
      "/home/tvaranka/anaconda3/envs/python3.10/lib/python3.10/site-packages/sklearn/metrics/_classification.py:1599: UndefinedMetricWarning: F-score is ill-defined and being set to 0.0 due to no true nor predicted samples. Use `zero_division` parameter to control this behavior.\n",
      "  _warn_prf(average, \"true nor predicted\", \"F-score is\", len(true_sum))\n",
      "/home/tvaranka/anaconda3/envs/python3.10/lib/python3.10/site-packages/sklearn/metrics/_classification.py:1599: UndefinedMetricWarning: F-score is ill-defined and being set to 0.0 due to no true nor predicted samples. Use `zero_division` parameter to control this behavior.\n",
      "  _warn_prf(average, \"true nor predicted\", \"F-score is\", len(true_sum))\n",
      "/home/tvaranka/anaconda3/envs/python3.10/lib/python3.10/site-packages/sklearn/metrics/_classification.py:1599: UndefinedMetricWarning: F-score is ill-defined and being set to 0.0 due to no true nor predicted samples. Use `zero_division` parameter to control this behavior.\n",
      "  _warn_prf(average, \"true nor predicted\", \"F-score is\", len(true_sum))\n"
     ]
    },
    {
     "name": "stdout",
     "output_type": "stream",
     "text": [
      "MultiLabelF1Score\n",
      "Subject: 01, n=9 | train_mean: 0.8517 | test_mean: 0.5524\n",
      "Test per AU: [('AU1', 100.0), ('AU2', 100.0), ('AU4', 43.75), ('AU5', 50.0), ('AU6', 100.0), ('AU7', 10.0), ('AU9', 0.0), ('AU10', 25.0), ('AU12', 47.06), ('AU14', 100.0), ('AU15', 40.0), ('AU17', 47.06)]\n",
      "\n",
      "MultiLabelF1Score\n",
      "Subject: 01, n=9 | train_mean: 0.7354 | test_mean: 0.1007\n",
      "Test per AU: [('AU1', 0.0), ('AU2', 0.0), ('AU4', 87.5), ('AU5', 33.33), ('AU6', 0.0), ('AU7', 0.0), ('AU9', 0.0), ('AU10', 0.0), ('AU12', 0.0), ('AU14', 0.0), ('AU15', 0.0), ('AU17', 0.0)]\n",
      "\n"
     ]
    },
    {
     "name": "stderr",
     "output_type": "stream",
     "text": [
      "100%|███████████████████████████████████████████| 40/40 [04:12<00:00,  6.30s/it]\n"
     ]
    },
    {
     "name": "stdout",
     "output_type": "stream",
     "text": [
      "MultiLabelF1Score\n",
      "Subject: 02, n=13 | train_mean: 0.8477 | test_mean: 0.3375\n",
      "Test per AU: [('AU1', 62.86), ('AU2', 45.83), ('AU4', 48.0), ('AU5', 23.53), ('AU6', 27.78), ('AU7', 18.75), ('AU9', 38.1), ('AU10', 27.78), ('AU12', 22.62), ('AU14', 38.1), ('AU15', 29.09), ('AU17', 22.62)]\n",
      "\n",
      "MultiLabelF1Score\n",
      "Subject: 02, n=13 | train_mean: 0.7275 | test_mean: 0.15\n",
      "Test per AU: [('AU1', 40.0), ('AU2', 0.0), ('AU4', 0.0), ('AU5', 0.0), ('AU6', 0.0), ('AU7', 0.0), ('AU9', 0.0), ('AU10', 0.0), ('AU12', 28.57), ('AU14', 42.86), ('AU15', 40.0), ('AU17', 28.57)]\n",
      "\n"
     ]
    },
    {
     "name": "stderr",
     "output_type": "stream",
     "text": [
      "100%|███████████████████████████████████████████| 40/40 [04:13<00:00,  6.33s/it]\n",
      "/home/tvaranka/anaconda3/envs/python3.10/lib/python3.10/site-packages/sklearn/metrics/_classification.py:1599: UndefinedMetricWarning: F-score is ill-defined and being set to 0.0 due to no true nor predicted samples. Use `zero_division` parameter to control this behavior.\n",
      "  _warn_prf(average, \"true nor predicted\", \"F-score is\", len(true_sum))\n",
      "/home/tvaranka/anaconda3/envs/python3.10/lib/python3.10/site-packages/sklearn/metrics/_classification.py:1599: UndefinedMetricWarning: F-score is ill-defined and being set to 0.0 due to no true nor predicted samples. Use `zero_division` parameter to control this behavior.\n",
      "  _warn_prf(average, \"true nor predicted\", \"F-score is\", len(true_sum))\n",
      "/home/tvaranka/anaconda3/envs/python3.10/lib/python3.10/site-packages/sklearn/metrics/_classification.py:1599: UndefinedMetricWarning: F-score is ill-defined and being set to 0.0 due to no true nor predicted samples. Use `zero_division` parameter to control this behavior.\n",
      "  _warn_prf(average, \"true nor predicted\", \"F-score is\", len(true_sum))\n",
      "/home/tvaranka/anaconda3/envs/python3.10/lib/python3.10/site-packages/sklearn/metrics/_classification.py:1599: UndefinedMetricWarning: F-score is ill-defined and being set to 0.0 due to no true nor predicted samples. Use `zero_division` parameter to control this behavior.\n",
      "  _warn_prf(average, \"true nor predicted\", \"F-score is\", len(true_sum))\n",
      "/home/tvaranka/anaconda3/envs/python3.10/lib/python3.10/site-packages/sklearn/metrics/_classification.py:1599: UndefinedMetricWarning: F-score is ill-defined and being set to 0.0 due to no true nor predicted samples. Use `zero_division` parameter to control this behavior.\n",
      "  _warn_prf(average, \"true nor predicted\", \"F-score is\", len(true_sum))\n"
     ]
    },
    {
     "name": "stdout",
     "output_type": "stream",
     "text": [
      "MultiLabelF1Score\n",
      "Subject: 03, n=7 | train_mean: 0.8385 | test_mean: 0.6991\n",
      "Test per AU: [('AU1', 78.79), ('AU2', 100.0), ('AU4', 46.15), ('AU5', 0.0), ('AU6', 100.0), ('AU7', 78.79), ('AU9', 57.14), ('AU10', 41.67), ('AU12', 100.0), ('AU14', 36.36), ('AU15', 100.0), ('AU17', 100.0)]\n",
      "\n",
      "MultiLabelF1Score\n",
      "Subject: 03, n=7 | train_mean: 0.7115 | test_mean: 0.2357\n",
      "Test per AU: [('AU1', 66.67), ('AU2', 0.0), ('AU4', 92.31), ('AU5', 0.0), ('AU6', 0.0), ('AU7', 66.67), ('AU9', 57.14), ('AU10', 0.0), ('AU12', 0.0), ('AU14', 0.0), ('AU15', 0.0), ('AU17', 0.0)]\n",
      "\n"
     ]
    },
    {
     "name": "stderr",
     "output_type": "stream",
     "text": [
      "100%|███████████████████████████████████████████| 40/40 [04:17<00:00,  6.43s/it]\n",
      "/home/tvaranka/anaconda3/envs/python3.10/lib/python3.10/site-packages/sklearn/metrics/_classification.py:1599: UndefinedMetricWarning: F-score is ill-defined and being set to 0.0 due to no true nor predicted samples. Use `zero_division` parameter to control this behavior.\n",
      "  _warn_prf(average, \"true nor predicted\", \"F-score is\", len(true_sum))\n",
      "/home/tvaranka/anaconda3/envs/python3.10/lib/python3.10/site-packages/sklearn/metrics/_classification.py:1599: UndefinedMetricWarning: F-score is ill-defined and being set to 0.0 due to no true nor predicted samples. Use `zero_division` parameter to control this behavior.\n",
      "  _warn_prf(average, \"true nor predicted\", \"F-score is\", len(true_sum))\n",
      "/home/tvaranka/anaconda3/envs/python3.10/lib/python3.10/site-packages/sklearn/metrics/_classification.py:1599: UndefinedMetricWarning: F-score is ill-defined and being set to 0.0 due to no true nor predicted samples. Use `zero_division` parameter to control this behavior.\n",
      "  _warn_prf(average, \"true nor predicted\", \"F-score is\", len(true_sum))\n"
     ]
    },
    {
     "name": "stdout",
     "output_type": "stream",
     "text": [
      "MultiLabelF1Score\n",
      "Subject: 04, n=5 | train_mean: 0.8531 | test_mean: 0.6305\n",
      "Test per AU: [('AU1', 100.0), ('AU2', 44.44), ('AU4', 44.44), ('AU5', 100.0), ('AU6', 44.44), ('AU7', 76.19), ('AU9', 44.44), ('AU10', 37.5), ('AU12', 44.44), ('AU14', 76.19), ('AU15', 44.44), ('AU17', 100.0)]\n",
      "\n",
      "MultiLabelF1Score\n",
      "Subject: 04, n=5 | train_mean: 0.7351 | test_mean: 0.1852\n",
      "Test per AU: [('AU1', 0.0), ('AU2', 0.0), ('AU4', 88.89), ('AU5', 0.0), ('AU6', 0.0), ('AU7', 66.67), ('AU9', 0.0), ('AU10', 0.0), ('AU12', 0.0), ('AU14', 66.67), ('AU15', 0.0), ('AU17', 0.0)]\n",
      "\n"
     ]
    },
    {
     "name": "stderr",
     "output_type": "stream",
     "text": [
      "100%|███████████████████████████████████████████| 40/40 [04:20<00:00,  6.52s/it]\n",
      "/home/tvaranka/anaconda3/envs/python3.10/lib/python3.10/site-packages/sklearn/metrics/_classification.py:1599: UndefinedMetricWarning: F-score is ill-defined and being set to 0.0 due to no true nor predicted samples. Use `zero_division` parameter to control this behavior.\n",
      "  _warn_prf(average, \"true nor predicted\", \"F-score is\", len(true_sum))\n"
     ]
    },
    {
     "name": "stdout",
     "output_type": "stream",
     "text": [
      "MultiLabelF1Score\n",
      "Subject: 05, n=19 | train_mean: 0.8404 | test_mean: 0.4857\n",
      "Test per AU: [('AU1', 46.02), ('AU2', 51.28), ('AU4', 70.77), ('AU5', 100.0), ('AU6', 42.42), ('AU7', 48.65), ('AU9', 45.71), ('AU10', 34.48), ('AU12', 38.71), ('AU14', 45.71), ('AU15', 26.92), ('AU17', 32.14)]\n",
      "\n",
      "MultiLabelF1Score\n",
      "Subject: 05, n=19 | train_mean: 0.7155 | test_mean: 0.1222\n",
      "Test per AU: [('AU1', 37.5), ('AU2', 33.33), ('AU4', 61.54), ('AU5', 0.0), ('AU6', 0.0), ('AU7', 0.0), ('AU9', 0.0), ('AU10', 0.0), ('AU12', 0.0), ('AU14', 0.0), ('AU15', 0.0), ('AU17', 14.29)]\n",
      "\n"
     ]
    },
    {
     "name": "stderr",
     "output_type": "stream",
     "text": [
      "100%|███████████████████████████████████████████| 40/40 [04:13<00:00,  6.34s/it]\n",
      "/home/tvaranka/anaconda3/envs/python3.10/lib/python3.10/site-packages/sklearn/metrics/_classification.py:1599: UndefinedMetricWarning: F-score is ill-defined and being set to 0.0 due to no true nor predicted samples. Use `zero_division` parameter to control this behavior.\n",
      "  _warn_prf(average, \"true nor predicted\", \"F-score is\", len(true_sum))\n",
      "/home/tvaranka/anaconda3/envs/python3.10/lib/python3.10/site-packages/sklearn/metrics/_classification.py:1599: UndefinedMetricWarning: F-score is ill-defined and being set to 0.0 due to no true nor predicted samples. Use `zero_division` parameter to control this behavior.\n",
      "  _warn_prf(average, \"true nor predicted\", \"F-score is\", len(true_sum))\n",
      "/home/tvaranka/anaconda3/envs/python3.10/lib/python3.10/site-packages/sklearn/metrics/_classification.py:1599: UndefinedMetricWarning: F-score is ill-defined and being set to 0.0 due to no true nor predicted samples. Use `zero_division` parameter to control this behavior.\n",
      "  _warn_prf(average, \"true nor predicted\", \"F-score is\", len(true_sum))\n",
      "/home/tvaranka/anaconda3/envs/python3.10/lib/python3.10/site-packages/sklearn/metrics/_classification.py:1599: UndefinedMetricWarning: F-score is ill-defined and being set to 0.0 due to no true nor predicted samples. Use `zero_division` parameter to control this behavior.\n",
      "  _warn_prf(average, \"true nor predicted\", \"F-score is\", len(true_sum))\n"
     ]
    },
    {
     "name": "stdout",
     "output_type": "stream",
     "text": [
      "MultiLabelF1Score\n",
      "Subject: 06, n=5 | train_mean: 0.8535 | test_mean: 0.5701\n",
      "Test per AU: [('AU1', 28.57), ('AU2', 37.5), ('AU4', 37.5), ('AU5', 100.0), ('AU6', 44.44), ('AU7', 100.0), ('AU9', 100.0), ('AU10', 37.5), ('AU12', 100.0), ('AU14', 16.67), ('AU15', 44.44), ('AU17', 37.5)]\n",
      "\n",
      "MultiLabelF1Score\n",
      "Subject: 06, n=5 | train_mean: 0.7382 | test_mean: 0.02778\n",
      "Test per AU: [('AU1', 0.0), ('AU2', 0.0), ('AU4', 0.0), ('AU5', 0.0), ('AU6', 0.0), ('AU7', 0.0), ('AU9', 0.0), ('AU10', 0.0), ('AU12', 0.0), ('AU14', 33.33), ('AU15', 0.0), ('AU17', 0.0)]\n",
      "\n"
     ]
    },
    {
     "name": "stderr",
     "output_type": "stream",
     "text": [
      "100%|███████████████████████████████████████████| 40/40 [04:18<00:00,  6.47s/it]\n",
      "/home/tvaranka/anaconda3/envs/python3.10/lib/python3.10/site-packages/sklearn/metrics/_classification.py:1599: UndefinedMetricWarning: F-score is ill-defined and being set to 0.0 due to no true nor predicted samples. Use `zero_division` parameter to control this behavior.\n",
      "  _warn_prf(average, \"true nor predicted\", \"F-score is\", len(true_sum))\n",
      "/home/tvaranka/anaconda3/envs/python3.10/lib/python3.10/site-packages/sklearn/metrics/_classification.py:1599: UndefinedMetricWarning: F-score is ill-defined and being set to 0.0 due to no true nor predicted samples. Use `zero_division` parameter to control this behavior.\n",
      "  _warn_prf(average, \"true nor predicted\", \"F-score is\", len(true_sum))\n",
      "/home/tvaranka/anaconda3/envs/python3.10/lib/python3.10/site-packages/sklearn/metrics/_classification.py:1599: UndefinedMetricWarning: F-score is ill-defined and being set to 0.0 due to no true nor predicted samples. Use `zero_division` parameter to control this behavior.\n",
      "  _warn_prf(average, \"true nor predicted\", \"F-score is\", len(true_sum))\n",
      "/home/tvaranka/anaconda3/envs/python3.10/lib/python3.10/site-packages/sklearn/metrics/_classification.py:1599: UndefinedMetricWarning: F-score is ill-defined and being set to 0.0 due to no true nor predicted samples. Use `zero_division` parameter to control this behavior.\n",
      "  _warn_prf(average, \"true nor predicted\", \"F-score is\", len(true_sum))\n"
     ]
    },
    {
     "name": "stdout",
     "output_type": "stream",
     "text": [
      "MultiLabelF1Score\n",
      "Subject: 07, n=9 | train_mean: 0.8483 | test_mean: 0.6094\n",
      "Test per AU: [('AU1', 18.18), ('AU2', 47.06), ('AU4', 67.86), ('AU5', 100.0), ('AU6', 43.75), ('AU7', 25.0), ('AU9', 30.77), ('AU10', 30.77), ('AU12', 100.0), ('AU14', 67.86), ('AU15', 100.0), ('AU17', 100.0)]\n",
      "\n",
      "MultiLabelF1Score\n",
      "Subject: 07, n=9 | train_mean: 0.7309 | test_mean: 0.1131\n",
      "Test per AU: [('AU1', 0.0), ('AU2', 0.0), ('AU4', 85.71), ('AU5', 0.0), ('AU6', 0.0), ('AU7', 0.0), ('AU9', 0.0), ('AU10', 0.0), ('AU12', 0.0), ('AU14', 50.0), ('AU15', 0.0), ('AU17', 0.0)]\n",
      "\n"
     ]
    },
    {
     "name": "stderr",
     "output_type": "stream",
     "text": [
      "100%|███████████████████████████████████████████| 40/40 [04:21<00:00,  6.55s/it]\n",
      "/home/tvaranka/anaconda3/envs/python3.10/lib/python3.10/site-packages/sklearn/metrics/_classification.py:1599: UndefinedMetricWarning: F-score is ill-defined and being set to 0.0 due to no true nor predicted samples. Use `zero_division` parameter to control this behavior.\n",
      "  _warn_prf(average, \"true nor predicted\", \"F-score is\", len(true_sum))\n",
      "/home/tvaranka/anaconda3/envs/python3.10/lib/python3.10/site-packages/sklearn/metrics/_classification.py:1599: UndefinedMetricWarning: F-score is ill-defined and being set to 0.0 due to no true nor predicted samples. Use `zero_division` parameter to control this behavior.\n",
      "  _warn_prf(average, \"true nor predicted\", \"F-score is\", len(true_sum))\n",
      "/home/tvaranka/anaconda3/envs/python3.10/lib/python3.10/site-packages/sklearn/metrics/_classification.py:1599: UndefinedMetricWarning: F-score is ill-defined and being set to 0.0 due to no true nor predicted samples. Use `zero_division` parameter to control this behavior.\n",
      "  _warn_prf(average, \"true nor predicted\", \"F-score is\", len(true_sum))\n",
      "/home/tvaranka/anaconda3/envs/python3.10/lib/python3.10/site-packages/sklearn/metrics/_classification.py:1599: UndefinedMetricWarning: F-score is ill-defined and being set to 0.0 due to no true nor predicted samples. Use `zero_division` parameter to control this behavior.\n",
      "  _warn_prf(average, \"true nor predicted\", \"F-score is\", len(true_sum))\n",
      "/home/tvaranka/anaconda3/envs/python3.10/lib/python3.10/site-packages/sklearn/metrics/_classification.py:1599: UndefinedMetricWarning: F-score is ill-defined and being set to 0.0 due to no true nor predicted samples. Use `zero_division` parameter to control this behavior.\n",
      "  _warn_prf(average, \"true nor predicted\", \"F-score is\", len(true_sum))\n"
     ]
    },
    {
     "name": "stdout",
     "output_type": "stream",
     "text": [
      "MultiLabelF1Score\n",
      "Subject: 08, n=3 | train_mean: 0.8401 | test_mean: 0.6417\n",
      "Test per AU: [('AU1', 100.0), ('AU2', 100.0), ('AU4', 100.0), ('AU5', 0.0), ('AU6', 40.0), ('AU7', 100.0), ('AU9', 25.0), ('AU10', 100.0), ('AU12', 100.0), ('AU14', 25.0), ('AU15', 40.0), ('AU17', 40.0)]\n",
      "\n",
      "MultiLabelF1Score\n",
      "Subject: 08, n=3 | train_mean: 0.7136 | test_mean: 0.08333\n",
      "Test per AU: [('AU1', 0.0), ('AU2', 0.0), ('AU4', 100.0), ('AU5', 0.0), ('AU6', 0.0), ('AU7', 0.0), ('AU9', 0.0), ('AU10', 0.0), ('AU12', 0.0), ('AU14', 0.0), ('AU15', 0.0), ('AU17', 0.0)]\n",
      "\n"
     ]
    },
    {
     "name": "stderr",
     "output_type": "stream",
     "text": [
      "100%|███████████████████████████████████████████| 40/40 [04:22<00:00,  6.55s/it]\n",
      "/home/tvaranka/anaconda3/envs/python3.10/lib/python3.10/site-packages/sklearn/metrics/_classification.py:1599: UndefinedMetricWarning: F-score is ill-defined and being set to 0.0 due to no true nor predicted samples. Use `zero_division` parameter to control this behavior.\n",
      "  _warn_prf(average, \"true nor predicted\", \"F-score is\", len(true_sum))\n"
     ]
    },
    {
     "name": "stdout",
     "output_type": "stream",
     "text": [
      "MultiLabelF1Score\n",
      "Subject: 09, n=14 | train_mean: 0.8475 | test_mean: 0.5438\n",
      "Test per AU: [('AU1', 17.65), ('AU2', 41.67), ('AU4', 100.0), ('AU5', 48.15), ('AU6', 22.22), ('AU7', 56.25), ('AU9', 46.15), ('AU10', 100.0), ('AU12', 56.25), ('AU14', 39.13), ('AU15', 68.89), ('AU17', 56.25)]\n",
      "\n",
      "MultiLabelF1Score\n",
      "Subject: 09, n=14 | train_mean: 0.731 | test_mean: 0.2583\n",
      "Test per AU: [('AU1', 0.0), ('AU2', 0.0), ('AU4', 100.0), ('AU5', 0.0), ('AU6', 0.0), ('AU7', 50.0), ('AU9', 0.0), ('AU10', 0.0), ('AU12', 50.0), ('AU14', 0.0), ('AU15', 60.0), ('AU17', 50.0)]\n",
      "\n"
     ]
    },
    {
     "name": "stderr",
     "output_type": "stream",
     "text": [
      "100%|███████████████████████████████████████████| 40/40 [04:22<00:00,  6.55s/it]\n",
      "/home/tvaranka/anaconda3/envs/python3.10/lib/python3.10/site-packages/sklearn/metrics/_classification.py:1599: UndefinedMetricWarning: F-score is ill-defined and being set to 0.0 due to no true nor predicted samples. Use `zero_division` parameter to control this behavior.\n",
      "  _warn_prf(average, \"true nor predicted\", \"F-score is\", len(true_sum))\n",
      "/home/tvaranka/anaconda3/envs/python3.10/lib/python3.10/site-packages/sklearn/metrics/_classification.py:1599: UndefinedMetricWarning: F-score is ill-defined and being set to 0.0 due to no true nor predicted samples. Use `zero_division` parameter to control this behavior.\n",
      "  _warn_prf(average, \"true nor predicted\", \"F-score is\", len(true_sum))\n"
     ]
    },
    {
     "name": "stdout",
     "output_type": "stream",
     "text": [
      "MultiLabelF1Score\n",
      "Subject: 10, n=14 | train_mean: 0.8555 | test_mean: 0.5215\n",
      "Test per AU: [('AU1', 41.67), ('AU2', 100.0), ('AU4', 63.48), ('AU5', 48.15), ('AU6', 46.15), ('AU7', 39.13), ('AU9', 36.36), ('AU10', 36.36), ('AU12', 30.0), ('AU14', 36.36), ('AU15', 48.15), ('AU17', 100.0)]\n",
      "\n",
      "MultiLabelF1Score\n",
      "Subject: 10, n=14 | train_mean: 0.7443 | test_mean: 0.07246\n",
      "Test per AU: [('AU1', 0.0), ('AU2', 0.0), ('AU4', 86.96), ('AU5', 0.0), ('AU6', 0.0), ('AU7', 0.0), ('AU9', 0.0), ('AU10', 0.0), ('AU12', 0.0), ('AU14', 0.0), ('AU15', 0.0), ('AU17', 0.0)]\n",
      "\n"
     ]
    },
    {
     "name": "stderr",
     "output_type": "stream",
     "text": [
      "100%|███████████████████████████████████████████| 40/40 [04:19<00:00,  6.48s/it]\n",
      "/home/tvaranka/anaconda3/envs/python3.10/lib/python3.10/site-packages/sklearn/metrics/_classification.py:1599: UndefinedMetricWarning: F-score is ill-defined and being set to 0.0 due to no true nor predicted samples. Use `zero_division` parameter to control this behavior.\n",
      "  _warn_prf(average, \"true nor predicted\", \"F-score is\", len(true_sum))\n",
      "/home/tvaranka/anaconda3/envs/python3.10/lib/python3.10/site-packages/sklearn/metrics/_classification.py:1599: UndefinedMetricWarning: F-score is ill-defined and being set to 0.0 due to no true nor predicted samples. Use `zero_division` parameter to control this behavior.\n",
      "  _warn_prf(average, \"true nor predicted\", \"F-score is\", len(true_sum))\n"
     ]
    },
    {
     "name": "stdout",
     "output_type": "stream",
     "text": [
      "MultiLabelF1Score\n",
      "Subject: 11, n=10 | train_mean: 0.8441 | test_mean: 0.4935\n",
      "Test per AU: [('AU1', 44.44), ('AU2', 47.37), ('AU4', 47.37), ('AU5', 44.44), ('AU6', 100.0), ('AU7', 23.08), ('AU9', 37.5), ('AU10', 37.5), ('AU12', 100.0), ('AU14', 44.44), ('AU15', 28.57), ('AU17', 37.5)]\n",
      "\n",
      "MultiLabelF1Score\n",
      "Subject: 11, n=10 | train_mean: 0.7249 | test_mean: 0.07895\n",
      "Test per AU: [('AU1', 0.0), ('AU2', 0.0), ('AU4', 94.74), ('AU5', 0.0), ('AU6', 0.0), ('AU7', 0.0), ('AU9', 0.0), ('AU10', 0.0), ('AU12', 0.0), ('AU14', 0.0), ('AU15', 0.0), ('AU17', 0.0)]\n",
      "\n"
     ]
    },
    {
     "name": "stderr",
     "output_type": "stream",
     "text": [
      "100%|███████████████████████████████████████████| 40/40 [04:20<00:00,  6.51s/it]\n",
      "/home/tvaranka/anaconda3/envs/python3.10/lib/python3.10/site-packages/sklearn/metrics/_classification.py:1599: UndefinedMetricWarning: F-score is ill-defined and being set to 0.0 due to no true nor predicted samples. Use `zero_division` parameter to control this behavior.\n",
      "  _warn_prf(average, \"true nor predicted\", \"F-score is\", len(true_sum))\n"
     ]
    },
    {
     "name": "stdout",
     "output_type": "stream",
     "text": [
      "MultiLabelF1Score\n",
      "Subject: 12, n=12 | train_mean: 0.8189 | test_mean: 0.4356\n",
      "Test per AU: [('AU1', 48.57), ('AU2', 25.0), ('AU4', 62.5), ('AU5', 45.45), ('AU6', 42.86), ('AU7', 40.0), ('AU9', 45.45), ('AU10', 25.0), ('AU12', 40.0), ('AU14', 0.0), ('AU15', 47.83), ('AU17', 100.0)]\n",
      "\n",
      "MultiLabelF1Score\n",
      "Subject: 12, n=12 | train_mean: 0.6803 | test_mean: 0.1167\n",
      "Test per AU: [('AU1', 40.0), ('AU2', 50.0), ('AU4', 50.0), ('AU5', 0.0), ('AU6', 0.0), ('AU7', 0.0), ('AU9', 0.0), ('AU10', 0.0), ('AU12', 0.0), ('AU14', 0.0), ('AU15', 0.0), ('AU17', 0.0)]\n",
      "\n"
     ]
    },
    {
     "name": "stderr",
     "output_type": "stream",
     "text": [
      "100%|███████████████████████████████████████████| 40/40 [04:20<00:00,  6.50s/it]\n",
      "/home/tvaranka/anaconda3/envs/python3.10/lib/python3.10/site-packages/sklearn/metrics/_classification.py:1599: UndefinedMetricWarning: F-score is ill-defined and being set to 0.0 due to no true nor predicted samples. Use `zero_division` parameter to control this behavior.\n",
      "  _warn_prf(average, \"true nor predicted\", \"F-score is\", len(true_sum))\n"
     ]
    },
    {
     "name": "stdout",
     "output_type": "stream",
     "text": [
      "MultiLabelF1Score\n",
      "Subject: 13, n=8 | train_mean: 0.8579 | test_mean: 0.4556\n",
      "Test per AU: [('AU1', 46.67), ('AU2', 20.0), ('AU4', 87.3), ('AU5', 0.0), ('AU6', 46.67), ('AU7', 100.0), ('AU9', 38.46), ('AU10', 11.11), ('AU12', 61.9), ('AU14', 87.3), ('AU15', 20.0), ('AU17', 27.27)]\n",
      "\n",
      "MultiLabelF1Score\n",
      "Subject: 13, n=8 | train_mean: 0.7471 | test_mean: 0.2183\n",
      "Test per AU: [('AU1', 0.0), ('AU2', 0.0), ('AU4', 85.71), ('AU5', 0.0), ('AU6', 33.33), ('AU7', 0.0), ('AU9', 0.0), ('AU10', 0.0), ('AU12', 57.14), ('AU14', 85.71), ('AU15', 0.0), ('AU17', 0.0)]\n",
      "\n"
     ]
    },
    {
     "name": "stderr",
     "output_type": "stream",
     "text": [
      "100%|███████████████████████████████████████████| 40/40 [04:12<00:00,  6.31s/it]\n",
      "/home/tvaranka/anaconda3/envs/python3.10/lib/python3.10/site-packages/sklearn/metrics/_classification.py:1599: UndefinedMetricWarning: F-score is ill-defined and being set to 0.0 due to no true nor predicted samples. Use `zero_division` parameter to control this behavior.\n",
      "  _warn_prf(average, \"true nor predicted\", \"F-score is\", len(true_sum))\n",
      "/home/tvaranka/anaconda3/envs/python3.10/lib/python3.10/site-packages/sklearn/metrics/_classification.py:1599: UndefinedMetricWarning: F-score is ill-defined and being set to 0.0 due to no true nor predicted samples. Use `zero_division` parameter to control this behavior.\n",
      "  _warn_prf(average, \"true nor predicted\", \"F-score is\", len(true_sum))\n",
      "/home/tvaranka/anaconda3/envs/python3.10/lib/python3.10/site-packages/sklearn/metrics/_classification.py:1599: UndefinedMetricWarning: F-score is ill-defined and being set to 0.0 due to no true nor predicted samples. Use `zero_division` parameter to control this behavior.\n",
      "  _warn_prf(average, \"true nor predicted\", \"F-score is\", len(true_sum))\n",
      "/home/tvaranka/anaconda3/envs/python3.10/lib/python3.10/site-packages/sklearn/metrics/_classification.py:1599: UndefinedMetricWarning: F-score is ill-defined and being set to 0.0 due to no true nor predicted samples. Use `zero_division` parameter to control this behavior.\n",
      "  _warn_prf(average, \"true nor predicted\", \"F-score is\", len(true_sum))\n"
     ]
    },
    {
     "name": "stdout",
     "output_type": "stream",
     "text": [
      "MultiLabelF1Score\n",
      "Subject: 14, n=4 | train_mean: 0.8507 | test_mean: 0.6071\n",
      "Test per AU: [('AU1', 100.0), ('AU2', 100.0), ('AU4', 0.0), ('AU5', 100.0), ('AU6', 42.86), ('AU7', 42.86), ('AU9', 42.86), ('AU10', 33.33), ('AU12', 100.0), ('AU14', 33.33), ('AU15', 100.0), ('AU17', 33.33)]\n",
      "\n",
      "MultiLabelF1Score\n",
      "Subject: 14, n=4 | train_mean: 0.733 | test_mean: 0.1389\n",
      "Test per AU: [('AU1', 0.0), ('AU2', 0.0), ('AU4', 0.0), ('AU5', 0.0), ('AU6', 0.0), ('AU7', 0.0), ('AU9', 0.0), ('AU10', 0.0), ('AU12', 100.0), ('AU14', 66.67), ('AU15', 0.0), ('AU17', 0.0)]\n",
      "\n"
     ]
    },
    {
     "name": "stderr",
     "output_type": "stream",
     "text": [
      "100%|███████████████████████████████████████████| 40/40 [04:14<00:00,  6.36s/it]\n",
      "/home/tvaranka/anaconda3/envs/python3.10/lib/python3.10/site-packages/sklearn/metrics/_classification.py:1599: UndefinedMetricWarning: F-score is ill-defined and being set to 0.0 due to no true nor predicted samples. Use `zero_division` parameter to control this behavior.\n",
      "  _warn_prf(average, \"true nor predicted\", \"F-score is\", len(true_sum))\n",
      "/home/tvaranka/anaconda3/envs/python3.10/lib/python3.10/site-packages/sklearn/metrics/_classification.py:1599: UndefinedMetricWarning: F-score is ill-defined and being set to 0.0 due to no true nor predicted samples. Use `zero_division` parameter to control this behavior.\n",
      "  _warn_prf(average, \"true nor predicted\", \"F-score is\", len(true_sum))\n",
      "/home/tvaranka/anaconda3/envs/python3.10/lib/python3.10/site-packages/sklearn/metrics/_classification.py:1599: UndefinedMetricWarning: F-score is ill-defined and being set to 0.0 due to no true nor predicted samples. Use `zero_division` parameter to control this behavior.\n",
      "  _warn_prf(average, \"true nor predicted\", \"F-score is\", len(true_sum))\n"
     ]
    },
    {
     "name": "stdout",
     "output_type": "stream",
     "text": [
      "MultiLabelF1Score\n",
      "Subject: 15, n=3 | train_mean: 0.8497 | test_mean: 0.6319\n",
      "Test per AU: [('AU1', 66.67), ('AU2', 66.67), ('AU4', 100.0), ('AU5', 40.0), ('AU6', 40.0), ('AU7', 40.0), ('AU9', 100.0), ('AU10', 100.0), ('AU12', 40.0), ('AU14', 25.0), ('AU15', 40.0), ('AU17', 100.0)]\n",
      "\n",
      "MultiLabelF1Score\n",
      "Subject: 15, n=3 | train_mean: 0.7326 | test_mean: 0.1944\n",
      "Test per AU: [('AU1', 66.67), ('AU2', 66.67), ('AU4', 100.0), ('AU5', 0.0), ('AU6', 0.0), ('AU7', 0.0), ('AU9', 0.0), ('AU10', 0.0), ('AU12', 0.0), ('AU14', 0.0), ('AU15', 0.0), ('AU17', 0.0)]\n",
      "\n"
     ]
    },
    {
     "name": "stderr",
     "output_type": "stream",
     "text": [
      "100%|███████████████████████████████████████████| 40/40 [04:15<00:00,  6.38s/it]\n",
      "/home/tvaranka/anaconda3/envs/python3.10/lib/python3.10/site-packages/sklearn/metrics/_classification.py:1599: UndefinedMetricWarning: F-score is ill-defined and being set to 0.0 due to no true nor predicted samples. Use `zero_division` parameter to control this behavior.\n",
      "  _warn_prf(average, \"true nor predicted\", \"F-score is\", len(true_sum))\n",
      "/home/tvaranka/anaconda3/envs/python3.10/lib/python3.10/site-packages/sklearn/metrics/_classification.py:1599: UndefinedMetricWarning: F-score is ill-defined and being set to 0.0 due to no true nor predicted samples. Use `zero_division` parameter to control this behavior.\n",
      "  _warn_prf(average, \"true nor predicted\", \"F-score is\", len(true_sum))\n",
      "/home/tvaranka/anaconda3/envs/python3.10/lib/python3.10/site-packages/sklearn/metrics/_classification.py:1599: UndefinedMetricWarning: F-score is ill-defined and being set to 0.0 due to no true nor predicted samples. Use `zero_division` parameter to control this behavior.\n",
      "  _warn_prf(average, \"true nor predicted\", \"F-score is\", len(true_sum))\n",
      "/home/tvaranka/anaconda3/envs/python3.10/lib/python3.10/site-packages/sklearn/metrics/_classification.py:1599: UndefinedMetricWarning: F-score is ill-defined and being set to 0.0 due to no true nor predicted samples. Use `zero_division` parameter to control this behavior.\n",
      "  _warn_prf(average, \"true nor predicted\", \"F-score is\", len(true_sum))\n",
      "/home/tvaranka/anaconda3/envs/python3.10/lib/python3.10/site-packages/sklearn/metrics/_classification.py:1599: UndefinedMetricWarning: F-score is ill-defined and being set to 0.0 due to no true nor predicted samples. Use `zero_division` parameter to control this behavior.\n",
      "  _warn_prf(average, \"true nor predicted\", \"F-score is\", len(true_sum))\n",
      "/home/tvaranka/anaconda3/envs/python3.10/lib/python3.10/site-packages/sklearn/metrics/_classification.py:1599: UndefinedMetricWarning: F-score is ill-defined and being set to 0.0 due to no true nor predicted samples. Use `zero_division` parameter to control this behavior.\n",
      "  _warn_prf(average, \"true nor predicted\", \"F-score is\", len(true_sum))\n"
     ]
    },
    {
     "name": "stdout",
     "output_type": "stream",
     "text": [
      "MultiLabelF1Score\n",
      "Subject: 16, n=4 | train_mean: 0.8476 | test_mean: 0.6853\n",
      "Test per AU: [('AU1', 42.86), ('AU2', 100.0), ('AU4', 33.33), ('AU5', 100.0), ('AU6', 20.0), ('AU7', 100.0), ('AU9', 100.0), ('AU10', 100.0), ('AU12', 50.0), ('AU14', 33.33), ('AU15', 100.0), ('AU17', 42.86)]\n",
      "\n",
      "MultiLabelF1Score\n",
      "Subject: 16, n=4 | train_mean: 0.7274 | test_mean: 0.04167\n",
      "Test per AU: [('AU1', 0.0), ('AU2', 0.0), ('AU4', 0.0), ('AU5', 0.0), ('AU6', 0.0), ('AU7', 0.0), ('AU9', 0.0), ('AU10', 0.0), ('AU12', 50.0), ('AU14', 0.0), ('AU15', 0.0), ('AU17', 0.0)]\n",
      "\n"
     ]
    },
    {
     "name": "stderr",
     "output_type": "stream",
     "text": [
      "100%|███████████████████████████████████████████| 40/40 [03:57<00:00,  5.95s/it]\n",
      "/home/tvaranka/anaconda3/envs/python3.10/lib/python3.10/site-packages/sklearn/metrics/_classification.py:1599: UndefinedMetricWarning: F-score is ill-defined and being set to 0.0 due to no true nor predicted samples. Use `zero_division` parameter to control this behavior.\n",
      "  _warn_prf(average, \"true nor predicted\", \"F-score is\", len(true_sum))\n"
     ]
    },
    {
     "name": "stdout",
     "output_type": "stream",
     "text": [
      "MultiLabelF1Score\n",
      "Subject: 17, n=36 | train_mean: 0.8364 | test_mean: 0.4822\n",
      "Test per AU: [('AU1', 41.94), ('AU2', 45.45), ('AU4', 58.46), ('AU5', 100.0), ('AU6', 53.55), ('AU7', 53.53), ('AU9', 44.62), ('AU10', 49.3), ('AU12', 23.52), ('AU14', 18.88), ('AU15', 43.75), ('AU17', 45.7)]\n",
      "\n",
      "MultiLabelF1Score\n",
      "Subject: 17, n=36 | train_mean: 0.7054 | test_mean: 0.1366\n",
      "Test per AU: [('AU1', 0.0), ('AU2', 0.0), ('AU4', 40.0), ('AU5', 0.0), ('AU6', 20.0), ('AU7', 31.58), ('AU9', 0.0), ('AU10', 0.0), ('AU12', 34.15), ('AU14', 12.12), ('AU15', 0.0), ('AU17', 26.09)]\n",
      "\n"
     ]
    },
    {
     "name": "stderr",
     "output_type": "stream",
     "text": [
      "100%|███████████████████████████████████████████| 40/40 [04:18<00:00,  6.47s/it]\n",
      "/home/tvaranka/anaconda3/envs/python3.10/lib/python3.10/site-packages/sklearn/metrics/_classification.py:1599: UndefinedMetricWarning: F-score is ill-defined and being set to 0.0 due to no true nor predicted samples. Use `zero_division` parameter to control this behavior.\n",
      "  _warn_prf(average, \"true nor predicted\", \"F-score is\", len(true_sum))\n",
      "/home/tvaranka/anaconda3/envs/python3.10/lib/python3.10/site-packages/sklearn/metrics/_classification.py:1599: UndefinedMetricWarning: F-score is ill-defined and being set to 0.0 due to no true nor predicted samples. Use `zero_division` parameter to control this behavior.\n",
      "  _warn_prf(average, \"true nor predicted\", \"F-score is\", len(true_sum))\n",
      "/home/tvaranka/anaconda3/envs/python3.10/lib/python3.10/site-packages/sklearn/metrics/_classification.py:1599: UndefinedMetricWarning: F-score is ill-defined and being set to 0.0 due to no true nor predicted samples. Use `zero_division` parameter to control this behavior.\n",
      "  _warn_prf(average, \"true nor predicted\", \"F-score is\", len(true_sum))\n",
      "/home/tvaranka/anaconda3/envs/python3.10/lib/python3.10/site-packages/sklearn/metrics/_classification.py:1599: UndefinedMetricWarning: F-score is ill-defined and being set to 0.0 due to no true nor predicted samples. Use `zero_division` parameter to control this behavior.\n",
      "  _warn_prf(average, \"true nor predicted\", \"F-score is\", len(true_sum))\n",
      "/home/tvaranka/anaconda3/envs/python3.10/lib/python3.10/site-packages/sklearn/metrics/_classification.py:1599: UndefinedMetricWarning: F-score is ill-defined and being set to 0.0 due to no true nor predicted samples. Use `zero_division` parameter to control this behavior.\n",
      "  _warn_prf(average, \"true nor predicted\", \"F-score is\", len(true_sum))\n"
     ]
    },
    {
     "name": "stdout",
     "output_type": "stream",
     "text": [
      "MultiLabelF1Score\n",
      "Subject: 18, n=3 | train_mean: 0.8528 | test_mean: 0.5875\n",
      "Test per AU: [('AU1', 25.0), ('AU2', 25.0), ('AU4', 25.0), ('AU5', 25.0), ('AU6', 100.0), ('AU7', 40.0), ('AU9', 100.0), ('AU10', 100.0), ('AU12', 100.0), ('AU14', 25.0), ('AU15', 40.0), ('AU17', 100.0)]\n",
      "\n",
      "MultiLabelF1Score\n",
      "Subject: 18, n=3 | train_mean: 0.7398 | test_mean: 0.04167\n",
      "Test per AU: [('AU1', 0.0), ('AU2', 0.0), ('AU4', 50.0), ('AU5', 0.0), ('AU6', 0.0), ('AU7', 0.0), ('AU9', 0.0), ('AU10', 0.0), ('AU12', 0.0), ('AU14', 0.0), ('AU15', 0.0), ('AU17', 0.0)]\n",
      "\n"
     ]
    },
    {
     "name": "stderr",
     "output_type": "stream",
     "text": [
      "100%|███████████████████████████████████████████| 40/40 [04:17<00:00,  6.44s/it]\n"
     ]
    },
    {
     "name": "stdout",
     "output_type": "stream",
     "text": [
      "MultiLabelF1Score\n",
      "Subject: 19, n=16 | train_mean: 0.8418 | test_mean: 0.5086\n",
      "Test per AU: [('AU1', 49.21), ('AU2', 70.91), ('AU4', 42.86), ('AU5', 46.67), ('AU6', 67.61), ('AU7', 58.97), ('AU9', 44.83), ('AU10', 42.86), ('AU12', 41.7), ('AU14', 71.43), ('AU15', 30.43), ('AU17', 42.86)]\n",
      "\n",
      "MultiLabelF1Score\n",
      "Subject: 19, n=16 | train_mean: 0.7166 | test_mean: 0.2609\n",
      "Test per AU: [('AU1', 55.56), ('AU2', 60.0), ('AU4', 0.0), ('AU5', 0.0), ('AU6', 61.54), ('AU7', 33.33), ('AU9', 0.0), ('AU10', 0.0), ('AU12', 52.63), ('AU14', 50.0), ('AU15', 0.0), ('AU17', 0.0)]\n",
      "\n"
     ]
    },
    {
     "name": "stderr",
     "output_type": "stream",
     "text": [
      "100%|███████████████████████████████████████████| 40/40 [04:15<00:00,  6.39s/it]\n",
      "/home/tvaranka/anaconda3/envs/python3.10/lib/python3.10/site-packages/sklearn/metrics/_classification.py:1599: UndefinedMetricWarning: F-score is ill-defined and being set to 0.0 due to no true nor predicted samples. Use `zero_division` parameter to control this behavior.\n",
      "  _warn_prf(average, \"true nor predicted\", \"F-score is\", len(true_sum))\n",
      "/home/tvaranka/anaconda3/envs/python3.10/lib/python3.10/site-packages/sklearn/metrics/_classification.py:1599: UndefinedMetricWarning: F-score is ill-defined and being set to 0.0 due to no true nor predicted samples. Use `zero_division` parameter to control this behavior.\n",
      "  _warn_prf(average, \"true nor predicted\", \"F-score is\", len(true_sum))\n",
      "/home/tvaranka/anaconda3/envs/python3.10/lib/python3.10/site-packages/sklearn/metrics/_classification.py:1599: UndefinedMetricWarning: F-score is ill-defined and being set to 0.0 due to no true nor predicted samples. Use `zero_division` parameter to control this behavior.\n",
      "  _warn_prf(average, \"true nor predicted\", \"F-score is\", len(true_sum))\n"
     ]
    },
    {
     "name": "stdout",
     "output_type": "stream",
     "text": [
      "MultiLabelF1Score\n",
      "Subject: 20, n=11 | train_mean: 0.8739 | test_mean: 0.6066\n",
      "Test per AU: [('AU1', 38.89), ('AU2', 45.0), ('AU4', 89.52), ('AU5', 42.11), ('AU6', 26.67), ('AU7', 35.29), ('AU9', 100.0), ('AU10', 45.0), ('AU12', 42.11), ('AU14', 63.33), ('AU15', 100.0), ('AU17', 100.0)]\n",
      "\n",
      "MultiLabelF1Score\n",
      "Subject: 20, n=11 | train_mean: 0.7723 | test_mean: 0.1278\n",
      "Test per AU: [('AU1', 0.0), ('AU2', 0.0), ('AU4', 93.33), ('AU5', 0.0), ('AU6', 0.0), ('AU7', 0.0), ('AU9', 0.0), ('AU10', 0.0), ('AU12', 0.0), ('AU14', 60.0), ('AU15', 0.0), ('AU17', 0.0)]\n",
      "\n"
     ]
    },
    {
     "name": "stderr",
     "output_type": "stream",
     "text": [
      "100%|███████████████████████████████████████████| 40/40 [04:18<00:00,  6.47s/it]\n",
      "/home/tvaranka/anaconda3/envs/python3.10/lib/python3.10/site-packages/sklearn/metrics/_classification.py:1599: UndefinedMetricWarning: F-score is ill-defined and being set to 0.0 due to no true nor predicted samples. Use `zero_division` parameter to control this behavior.\n",
      "  _warn_prf(average, \"true nor predicted\", \"F-score is\", len(true_sum))\n",
      "/home/tvaranka/anaconda3/envs/python3.10/lib/python3.10/site-packages/sklearn/metrics/_classification.py:1599: UndefinedMetricWarning: F-score is ill-defined and being set to 0.0 due to no true nor predicted samples. Use `zero_division` parameter to control this behavior.\n",
      "  _warn_prf(average, \"true nor predicted\", \"F-score is\", len(true_sum))\n",
      "/home/tvaranka/anaconda3/envs/python3.10/lib/python3.10/site-packages/sklearn/metrics/_classification.py:1599: UndefinedMetricWarning: F-score is ill-defined and being set to 0.0 due to no true nor predicted samples. Use `zero_division` parameter to control this behavior.\n",
      "  _warn_prf(average, \"true nor predicted\", \"F-score is\", len(true_sum))\n",
      "/home/tvaranka/anaconda3/envs/python3.10/lib/python3.10/site-packages/sklearn/metrics/_classification.py:1599: UndefinedMetricWarning: F-score is ill-defined and being set to 0.0 due to no true nor predicted samples. Use `zero_division` parameter to control this behavior.\n",
      "  _warn_prf(average, \"true nor predicted\", \"F-score is\", len(true_sum))\n"
     ]
    },
    {
     "name": "stdout",
     "output_type": "stream",
     "text": [
      "MultiLabelF1Score\n",
      "Subject: 21, n=2 | train_mean: 0.8569 | test_mean: 0.5833\n",
      "Test per AU: [('AU1', 100.0), ('AU2', 100.0), ('AU4', 33.33), ('AU5', 100.0), ('AU6', 33.33), ('AU7', 0.0), ('AU9', 0.0), ('AU10', 0.0), ('AU12', 100.0), ('AU14', 33.33), ('AU15', 100.0), ('AU17', 100.0)]\n",
      "\n",
      "MultiLabelF1Score\n",
      "Subject: 21, n=2 | train_mean: 0.7427 | test_mean: 0.2222\n",
      "Test per AU: [('AU1', 0.0), ('AU2', 0.0), ('AU4', 66.67), ('AU5', 0.0), ('AU6', 0.0), ('AU7', 0.0), ('AU9', 0.0), ('AU10', 0.0), ('AU12', 100.0), ('AU14', 0.0), ('AU15', 0.0), ('AU17', 100.0)]\n",
      "\n"
     ]
    },
    {
     "name": "stderr",
     "output_type": "stream",
     "text": [
      "100%|███████████████████████████████████████████| 40/40 [04:12<00:00,  6.32s/it]\n",
      "/home/tvaranka/anaconda3/envs/python3.10/lib/python3.10/site-packages/sklearn/metrics/_classification.py:1599: UndefinedMetricWarning: F-score is ill-defined and being set to 0.0 due to no true nor predicted samples. Use `zero_division` parameter to control this behavior.\n",
      "  _warn_prf(average, \"true nor predicted\", \"F-score is\", len(true_sum))\n",
      "/home/tvaranka/anaconda3/envs/python3.10/lib/python3.10/site-packages/sklearn/metrics/_classification.py:1599: UndefinedMetricWarning: F-score is ill-defined and being set to 0.0 due to no true nor predicted samples. Use `zero_division` parameter to control this behavior.\n",
      "  _warn_prf(average, \"true nor predicted\", \"F-score is\", len(true_sum))\n",
      "/home/tvaranka/anaconda3/envs/python3.10/lib/python3.10/site-packages/sklearn/metrics/_classification.py:1599: UndefinedMetricWarning: F-score is ill-defined and being set to 0.0 due to no true nor predicted samples. Use `zero_division` parameter to control this behavior.\n",
      "  _warn_prf(average, \"true nor predicted\", \"F-score is\", len(true_sum))\n",
      "/home/tvaranka/anaconda3/envs/python3.10/lib/python3.10/site-packages/sklearn/metrics/_classification.py:1599: UndefinedMetricWarning: F-score is ill-defined and being set to 0.0 due to no true nor predicted samples. Use `zero_division` parameter to control this behavior.\n",
      "  _warn_prf(average, \"true nor predicted\", \"F-score is\", len(true_sum))\n",
      "/home/tvaranka/anaconda3/envs/python3.10/lib/python3.10/site-packages/sklearn/metrics/_classification.py:1599: UndefinedMetricWarning: F-score is ill-defined and being set to 0.0 due to no true nor predicted samples. Use `zero_division` parameter to control this behavior.\n",
      "  _warn_prf(average, \"true nor predicted\", \"F-score is\", len(true_sum))\n",
      "/home/tvaranka/anaconda3/envs/python3.10/lib/python3.10/site-packages/sklearn/metrics/_classification.py:1599: UndefinedMetricWarning: F-score is ill-defined and being set to 0.0 due to no true nor predicted samples. Use `zero_division` parameter to control this behavior.\n",
      "  _warn_prf(average, \"true nor predicted\", \"F-score is\", len(true_sum))\n",
      "/home/tvaranka/anaconda3/envs/python3.10/lib/python3.10/site-packages/sklearn/metrics/_classification.py:1599: UndefinedMetricWarning: F-score is ill-defined and being set to 0.0 due to no true nor predicted samples. Use `zero_division` parameter to control this behavior.\n",
      "  _warn_prf(average, \"true nor predicted\", \"F-score is\", len(true_sum))\n"
     ]
    },
    {
     "name": "stdout",
     "output_type": "stream",
     "text": [
      "MultiLabelF1Score\n",
      "Subject: 22, n=2 | train_mean: 0.8509 | test_mean: 0.7778\n",
      "Test per AU: [('AU1', 100.0), ('AU2', 100.0), ('AU4', 100.0), ('AU5', 33.33), ('AU6', 100.0), ('AU7', 100.0), ('AU9', 100.0), ('AU10', 100.0), ('AU12', 0.0), ('AU14', 0.0), ('AU15', 100.0), ('AU17', 100.0)]\n",
      "\n",
      "MultiLabelF1Score\n",
      "Subject: 22, n=2 | train_mean: 0.7305 | test_mean: 0.1667\n",
      "Test per AU: [('AU1', 0.0), ('AU2', 0.0), ('AU4', 0.0), ('AU5', 0.0), ('AU6', 0.0), ('AU7', 0.0), ('AU9', 0.0), ('AU10', 0.0), ('AU12', 0.0), ('AU14', 0.0), ('AU15', 100.0), ('AU17', 100.0)]\n",
      "\n"
     ]
    },
    {
     "name": "stderr",
     "output_type": "stream",
     "text": [
      "100%|███████████████████████████████████████████| 40/40 [04:08<00:00,  6.21s/it]\n",
      "/home/tvaranka/anaconda3/envs/python3.10/lib/python3.10/site-packages/sklearn/metrics/_classification.py:1599: UndefinedMetricWarning: F-score is ill-defined and being set to 0.0 due to no true nor predicted samples. Use `zero_division` parameter to control this behavior.\n",
      "  _warn_prf(average, \"true nor predicted\", \"F-score is\", len(true_sum))\n"
     ]
    },
    {
     "name": "stdout",
     "output_type": "stream",
     "text": [
      "MultiLabelF1Score\n",
      "Subject: 23, n=12 | train_mean: 0.8575 | test_mean: 0.5088\n",
      "Test per AU: [('AU1', 40.0), ('AU2', 42.86), ('AU4', 62.5), ('AU5', 100.0), ('AU6', 49.58), ('AU7', 45.45), ('AU9', 40.0), ('AU10', 40.0), ('AU12', 20.0), ('AU14', 42.86), ('AU15', 40.0), ('AU17', 87.37)]\n",
      "\n",
      "MultiLabelF1Score\n",
      "Subject: 23, n=12 | train_mean: 0.7432 | test_mean: 0.153\n",
      "Test per AU: [('AU1', 0.0), ('AU2', 0.0), ('AU4', 75.0), ('AU5', 0.0), ('AU6', 28.57), ('AU7', 0.0), ('AU9', 0.0), ('AU10', 0.0), ('AU12', 0.0), ('AU14', 0.0), ('AU15', 0.0), ('AU17', 80.0)]\n",
      "\n"
     ]
    },
    {
     "name": "stderr",
     "output_type": "stream",
     "text": [
      "100%|███████████████████████████████████████████| 40/40 [04:13<00:00,  6.34s/it]\n",
      "/home/tvaranka/anaconda3/envs/python3.10/lib/python3.10/site-packages/sklearn/metrics/_classification.py:1599: UndefinedMetricWarning: F-score is ill-defined and being set to 0.0 due to no true nor predicted samples. Use `zero_division` parameter to control this behavior.\n",
      "  _warn_prf(average, \"true nor predicted\", \"F-score is\", len(true_sum))\n",
      "/home/tvaranka/anaconda3/envs/python3.10/lib/python3.10/site-packages/sklearn/metrics/_classification.py:1599: UndefinedMetricWarning: F-score is ill-defined and being set to 0.0 due to no true nor predicted samples. Use `zero_division` parameter to control this behavior.\n",
      "  _warn_prf(average, \"true nor predicted\", \"F-score is\", len(true_sum))\n",
      "/home/tvaranka/anaconda3/envs/python3.10/lib/python3.10/site-packages/sklearn/metrics/_classification.py:1599: UndefinedMetricWarning: F-score is ill-defined and being set to 0.0 due to no true nor predicted samples. Use `zero_division` parameter to control this behavior.\n",
      "  _warn_prf(average, \"true nor predicted\", \"F-score is\", len(true_sum))\n",
      "/home/tvaranka/anaconda3/envs/python3.10/lib/python3.10/site-packages/sklearn/metrics/_classification.py:1599: UndefinedMetricWarning: F-score is ill-defined and being set to 0.0 due to no true nor predicted samples. Use `zero_division` parameter to control this behavior.\n",
      "  _warn_prf(average, \"true nor predicted\", \"F-score is\", len(true_sum))\n"
     ]
    },
    {
     "name": "stdout",
     "output_type": "stream",
     "text": [
      "MultiLabelF1Score\n",
      "Subject: 24, n=11 | train_mean: 0.8629 | test_mean: 0.5837\n",
      "Test per AU: [('AU1', 38.89), ('AU2', 47.62), ('AU4', 31.25), ('AU5', 26.67), ('AU6', 47.62), ('AU7', 38.89), ('AU9', 15.38), ('AU10', 54.17), ('AU12', 100.0), ('AU14', 100.0), ('AU15', 100.0), ('AU17', 100.0)]\n",
      "\n",
      "MultiLabelF1Score\n",
      "Subject: 24, n=11 | train_mean: 0.7528 | test_mean: 0.07986\n",
      "Test per AU: [('AU1', 0.0), ('AU2', 0.0), ('AU4', 62.5), ('AU5', 0.0), ('AU6', 0.0), ('AU7', 0.0), ('AU9', 0.0), ('AU10', 33.33), ('AU12', 0.0), ('AU14', 0.0), ('AU15', 0.0), ('AU17', 0.0)]\n",
      "\n"
     ]
    },
    {
     "name": "stderr",
     "output_type": "stream",
     "text": [
      "100%|███████████████████████████████████████████| 40/40 [04:13<00:00,  6.34s/it]\n",
      "/home/tvaranka/anaconda3/envs/python3.10/lib/python3.10/site-packages/sklearn/metrics/_classification.py:1599: UndefinedMetricWarning: F-score is ill-defined and being set to 0.0 due to no true nor predicted samples. Use `zero_division` parameter to control this behavior.\n",
      "  _warn_prf(average, \"true nor predicted\", \"F-score is\", len(true_sum))\n",
      "/home/tvaranka/anaconda3/envs/python3.10/lib/python3.10/site-packages/sklearn/metrics/_classification.py:1599: UndefinedMetricWarning: F-score is ill-defined and being set to 0.0 due to no true nor predicted samples. Use `zero_division` parameter to control this behavior.\n",
      "  _warn_prf(average, \"true nor predicted\", \"F-score is\", len(true_sum))\n"
     ]
    },
    {
     "name": "stdout",
     "output_type": "stream",
     "text": [
      "MultiLabelF1Score\n",
      "Subject: 25, n=7 | train_mean: 0.8499 | test_mean: 0.4814\n",
      "Test per AU: [('AU1', 100.0), ('AU2', 65.0), ('AU4', 57.14), ('AU5', 36.36), ('AU6', 100.0), ('AU7', 65.0), ('AU9', 46.15), ('AU10', 36.36), ('AU12', 0.0), ('AU14', 0.0), ('AU15', 41.67), ('AU17', 30.0)]\n",
      "\n",
      "MultiLabelF1Score\n",
      "Subject: 25, n=7 | train_mean: 0.7297 | test_mean: 0.131\n",
      "Test per AU: [('AU1', 0.0), ('AU2', 50.0), ('AU4', 57.14), ('AU5', 0.0), ('AU6', 0.0), ('AU7', 50.0), ('AU9', 0.0), ('AU10', 0.0), ('AU12', 0.0), ('AU14', 0.0), ('AU15', 0.0), ('AU17', 0.0)]\n",
      "\n"
     ]
    },
    {
     "name": "stderr",
     "output_type": "stream",
     "text": [
      "100%|███████████████████████████████████████████| 40/40 [04:09<00:00,  6.23s/it]\n",
      "/home/tvaranka/anaconda3/envs/python3.10/lib/python3.10/site-packages/sklearn/metrics/_classification.py:1599: UndefinedMetricWarning: F-score is ill-defined and being set to 0.0 due to no true nor predicted samples. Use `zero_division` parameter to control this behavior.\n",
      "  _warn_prf(average, \"true nor predicted\", \"F-score is\", len(true_sum))\n"
     ]
    },
    {
     "name": "stdout",
     "output_type": "stream",
     "text": [
      "MultiLabelF1Score\n",
      "Subject: 26, n=17 | train_mean: 0.8517 | test_mean: 0.4766\n",
      "Test per AU: [('AU1', 48.48), ('AU2', 48.48), ('AU4', 70.59), ('AU5', 15.0), ('AU6', 100.0), ('AU7', 46.88), ('AU9', 46.88), ('AU10', 39.29), ('AU12', 40.97), ('AU14', 23.53), ('AU15', 43.33), ('AU17', 48.48)]\n",
      "\n",
      "MultiLabelF1Score\n",
      "Subject: 26, n=17 | train_mean: 0.7376 | test_mean: 0.1097\n",
      "Test per AU: [('AU1', 0.0), ('AU2', 0.0), ('AU4', 70.59), ('AU5', 0.0), ('AU6', 0.0), ('AU7', 0.0), ('AU9', 0.0), ('AU10', 0.0), ('AU12', 37.5), ('AU14', 23.53), ('AU15', 0.0), ('AU17', 0.0)]\n",
      "\n",
      "Final results\n",
      "\n",
      "MultiLabelF1Score\n",
      "All AUs:  [('AU1', 51.63), ('AU2', 57.96), ('AU4', 73.78), ('AU5', 43.43), ('AU6', 50.39), ('AU7', 48.84), ('AU9', 44.04), ('AU10', 40.84), ('AU12', 50.0), ('AU14', 45.61), ('AU15', 50.12), ('AU17', 55.55)]\n",
      "Mean:  51.02\n",
      "\n",
      "\n",
      "MultiLabelF1Score\n",
      "All AUs:  [('AU1', 23.85), ('AU2', 28.57), ('AU4', 72.65), ('AU5', 2.78), ('AU6', 16.87), ('AU7', 18.87), ('AU9', 5.13), ('AU10', 2.25), ('AU12', 31.25), ('AU14', 24.36), ('AU15', 17.78), ('AU17', 28.28)]\n",
      "Mean:  22.72\n",
      "\n",
      "\n"
     ]
    }
   ],
   "source": [
    "out = SCAValidator(Config).validate(df, input_data)"
   ]
  },
  {
   "cell_type": "code",
   "execution_count": 190,
   "metadata": {},
   "outputs": [],
   "source": [
    "class SCAValidator(core.CrossDatasetValidator):\n",
    "    def __init__(self, config: Config, verbose: bool = True):\n",
    "        super().__init__(config)\n",
    "        self.verbose = verbose\n",
    "        \n",
    "    def setup_training(self) -> None:\n",
    "        \"\"\"Setup training components\n",
    "\n",
    "        Sets up the training modules, including model, criterion, optimizer, scheduler\n",
    "        and mixup. This function can be overwritten to setup custom objects.\n",
    "        \"\"\"\n",
    "        self.model = self.cf.model()\n",
    "        self.criterion = self.cf.criterion()\n",
    "        self.model.to(self.cf.device)\n",
    "        params_for_optimizer = get_fine_tuning_parameters(self.model, 4)\n",
    "        self.optimizer = self.cf.optimizer(params_for_optimizer)\n",
    "        self.scheduler = (\n",
    "            self.cf.scheduler(self.optimizer) if self.cf.scheduler else None\n",
    "        )\n",
    "        self.mixup_fn = self.cf.mixup_fn() if self.cf.mixup_fn else None\n",
    "        \n",
    "    def train_model(\n",
    "        self,\n",
    "        train_loader: torch.utils.data.DataLoader,\n",
    "        test_loader: torch.utils.data.DataLoader,\n",
    "    ) -> None:\n",
    "        \"\"\"Main training loop\n",
    "\n",
    "        The main training loop that controls the scheduler and printing.\n",
    "        This function can be overwritten for custom schedulers, printing,\n",
    "        etc.\n",
    "        \"\"\"\n",
    "        for epoch in tqdm(range(self.cf.epochs), disable=self.disable_tqdm):\n",
    "            self.train_one_epoch(epoch, train_loader)\n",
    "            for param_group in self.optimizer.param_groups:\n",
    "                param_group['lr'] = 0.001 * (0.1 ** (epoch // 30))\n",
    "            if self.cf.validation_interval:\n",
    "                if (epoch + 1) % self.cf.validation_interval == 0:\n",
    "                    train_metrics = self.evaluate_model(train_loader)\n",
    "                    test_metrics, outputs_test = self.evaluate_model(\n",
    "                        test_loader, test=True\n",
    "                    )\n",
    "                    self.printer.print_train_test_validation(\n",
    "                        train_metrics, test_metrics, epoch\n",
    "                    )\n",
    "    "
   ]
  },
  {
   "cell_type": "code",
   "execution_count": null,
   "metadata": {},
   "outputs": [],
   "source": []
  },
  {
   "cell_type": "code",
   "execution_count": null,
   "metadata": {},
   "outputs": [],
   "source": []
  },
  {
   "cell_type": "code",
   "execution_count": null,
   "metadata": {},
   "outputs": [],
   "source": []
  },
  {
   "cell_type": "code",
   "execution_count": null,
   "metadata": {},
   "outputs": [],
   "source": []
  }
 ],
 "metadata": {
  "kernelspec": {
   "display_name": "Python 3 (ipykernel)",
   "language": "python",
   "name": "python3"
  },
  "language_info": {
   "codemirror_mode": {
    "name": "ipython",
    "version": 3
   },
   "file_extension": ".py",
   "mimetype": "text/x-python",
   "name": "python",
   "nbconvert_exporter": "python",
   "pygments_lexer": "ipython3",
   "version": "3.10.4"
  }
 },
 "nbformat": 4,
 "nbformat_minor": 2
}
