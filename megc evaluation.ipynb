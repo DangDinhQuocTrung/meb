{
 "cells": [
  {
   "cell_type": "code",
   "execution_count": 16,
   "metadata": {},
   "outputs": [],
   "source": [
    "import utils.utils as utils\n",
    "import utils.datasets as datasets\n",
    "\n",
    "import os\n",
    "import numpy as np\n",
    "from numba import jit\n",
    "import pandas as pd\n",
    "import matplotlib.pyplot as plt\n",
    "from sklearn.svm import SVC\n",
    "from hyperopt import fmin, tpe, hp, STATUS_OK, Trials\n",
    "import torch\n",
    "import torch.nn as nn\n",
    "import torch.nn.functional as F\n",
    "from torch.autograd import Variable\n",
    "from torch.nn.parameter import Parameter\n",
    "from torch.nn.init import xavier_normal_\n",
    "import torch.optim as optim\n",
    "from sklearn.metrics import f1_score, confusion_matrix\n",
    "from skimage.transform import resize\n",
    "import cv2\n",
    "from torch.utils.data import Dataset, DataLoader\n",
    "from torchvision import transforms\n",
    "from PIL import Image\n",
    "from sklearn.model_selection import train_test_split\n",
    "from imgaug import augmenters as iaa\n",
    "import geotorch\n",
    "import itertools\n",
    "import kornia as K\n",
    "from scipy import ndimage\n",
    "from tqdm import tqdm\n",
    "from typing import Callable, List, Tuple\n",
    "\n",
    "pd.set_option(\"display.max_columns\", 50)\n",
    "%load_ext autoreload\n",
    "%autoreload 2"
   ]
  },
  {
   "cell_type": "code",
   "execution_count": 2,
   "metadata": {},
   "outputs": [],
   "source": []
  },
  {
   "cell_type": "code",
   "execution_count": 12,
   "metadata": {},
   "outputs": [],
   "source": [
    "df, data = datasets.cross_dataset()"
   ]
  },
  {
   "cell_type": "code",
   "execution_count": 18,
   "metadata": {},
   "outputs": [],
   "source": [
    "action_units = ['AU1', 'AU2', 'AU4', 'AU5', 'AU6', 'AU7', 'AU9', 'AU10',\n",
    "                    'AU12', 'AU14', 'AU15', 'AU17', 'AU20', 'AU24', 'AU25']\n",
    "labels = np.array(df[action_units])"
   ]
  },
  {
   "cell_type": "code",
   "execution_count": 11,
   "metadata": {},
   "outputs": [],
   "source": [
    "from functools import partial\n",
    "\n",
    "import utils.train_eval as te\n",
    "import utils.models.models as models\n",
    "import utils.datasets as datasets\n",
    "\n",
    "\n",
    "import torch\n",
    "import torch.optim as optim"
   ]
  },
  {
   "cell_type": "code",
   "execution_count": 6,
   "metadata": {},
   "outputs": [],
   "source": [
    "class BasicConfig:\n",
    "    device = torch.device(\"cuda:0\")\n",
    "    epochs = 200\n",
    "    # Optimizer\n",
    "    learning_rate = 1e-2\n",
    "    weight_decay = 1e-3\n",
    "    optimizer = partial(optim.SGD, momentum=0.9)\n",
    "    scheduler = None\n",
    "    # Dataloader\n",
    "    batch_size = 64\n",
    "    train_transform = None\n",
    "    test_transform = None\n"
   ]
  },
  {
   "cell_type": "code",
   "execution_count": 30,
   "metadata": {
    "scrolled": true
   },
   "outputs": [
    {
     "name": "stdout",
     "output_type": "stream",
     "text": [
      "Subject: s1, n=6 | train_f1: 0.93156 | test_f1: 0.16667\n",
      "Subject: s11, n=7 | train_f1: 0.94242 | test_f1: 0.82222\n",
      "Subject: s12, n=9 | train_f1: 0.93002 | test_f1: 0.64444\n",
      "Subject: s13, n=10 | train_f1: 0.93393 | test_f1: 0.375\n",
      "Subject: s14, n=10 | train_f1: 0.93617 | test_f1: 0.84127\n",
      "Subject: s15, n=4 | train_f1: 0.93222 | test_f1: 0.55556\n",
      "Subject: s18, n=7 | train_f1: 0.93899 | test_f1: 1.0\n",
      "Subject: s19, n=2 | train_f1: 0.93262 | test_f1: 1.0\n",
      "Subject: s2, n=6 | train_f1: 0.93688 | test_f1: 1.0\n",
      "Subject: s20, n=22 | train_f1: 0.93725 | test_f1: 0.69227\n",
      "Subject: s3, n=39 | train_f1: 0.94321 | test_f1: 0.54472\n",
      "Subject: s4, n=19 | train_f1: 0.9469 | test_f1: 0.48571\n",
      "Subject: s5, n=2 | train_f1: 0.93459 | test_f1: 0.33333\n",
      "Subject: s6, n=4 | train_f1: 0.93401 | test_f1: 0.38889\n",
      "Subject: s8, n=13 | train_f1: 0.93924 | test_f1: 0.47222\n",
      "Subject: s9, n=4 | train_f1: 0.94418 | test_f1: 1.0\n",
      "Subject: 01, n=3 | train_f1: 0.93882 | test_f1: 1.0\n",
      "Subject: 02, n=9 | train_f1: 0.93226 | test_f1: 0.58201\n",
      "Subject: 03, n=5 | train_f1: 0.9344 | test_f1: 1.0\n",
      "Subject: 04, n=2 | train_f1: 0.93302 | test_f1: 1.0\n",
      "Subject: 05, n=6 | train_f1: 0.93808 | test_f1: 0.55556\n",
      "Subject: 06, n=4 | train_f1: 0.94319 | test_f1: 0.33333\n",
      "Subject: 07, n=5 | train_f1: 0.93738 | test_f1: 1.0\n",
      "Subject: 08, n=1 | train_f1: 0.94007 | test_f1: 0.0\n",
      "Subject: 09, n=10 | train_f1: 0.93869 | test_f1: 1.0\n",
      "Subject: 11, n=4 | train_f1: 0.92722 | test_f1: 1.0\n",
      "Subject: 12, n=11 | train_f1: 0.9364 | test_f1: 0.80556\n",
      "Subject: 13, n=2 | train_f1: 0.94152 | test_f1: 0.33333\n",
      "Subject: 14, n=3 | train_f1: 0.93543 | test_f1: 1.0\n",
      "Subject: 15, n=3 | train_f1: 0.94536 | test_f1: 1.0\n",
      "Subject: 16, n=3 | train_f1: 0.93584 | test_f1: 0.66667\n",
      "Subject: 17, n=31 | train_f1: 0.93878 | test_f1: 0.84876\n",
      "Subject: 19, n=11 | train_f1: 0.93772 | test_f1: 0.82143\n",
      "Subject: 20, n=2 | train_f1: 0.93941 | test_f1: 1.0\n",
      "Subject: 21, n=1 | train_f1: 0.92871 | test_f1: 0.0\n",
      "Subject: 22, n=2 | train_f1: 0.94366 | test_f1: 1.0\n",
      "Subject: 23, n=8 | train_f1: 0.93916 | test_f1: 0.46667\n",
      "Subject: 24, n=3 | train_f1: 0.93286 | test_f1: 0.55556\n",
      "Subject: 25, n=5 | train_f1: 0.93451 | test_f1: 0.55556\n",
      "Subject: 26, n=11 | train_f1: 0.92956 | test_f1: 0.80702\n",
      "Subject: 006, n=11 | train_f1: 0.93873 | test_f1: 0.51852\n",
      "Subject: 007, n=8 | train_f1: 0.93598 | test_f1: 0.52381\n",
      "Subject: 009, n=4 | train_f1: 0.93863 | test_f1: 1.0\n",
      "Subject: 010, n=4 | train_f1: 0.92886 | test_f1: 1.0\n",
      "Subject: 011, n=20 | train_f1: 0.93598 | test_f1: 0.68652\n",
      "Subject: 012, n=3 | train_f1: 0.9428 | test_f1: 0.0\n",
      "Subject: 013, n=6 | train_f1: 0.94184 | test_f1: 0.45455\n",
      "Subject: 014, n=10 | train_f1: 0.94105 | test_f1: 0.61039\n",
      "Subject: 015, n=3 | train_f1: 0.93094 | test_f1: 0.22222\n",
      "Subject: 016, n=5 | train_f1: 0.94451 | test_f1: 0.77778\n",
      "Subject: 017, n=4 | train_f1: 0.9307 | test_f1: 0.22222\n",
      "Subject: 018, n=3 | train_f1: 0.94169 | test_f1: 0.4\n",
      "Subject: 019, n=1 | train_f1: 0.93288 | test_f1: 1.0\n",
      "Subject: 020, n=4 | train_f1: 0.94095 | test_f1: 0.55556\n",
      "Subject: 021, n=2 | train_f1: 0.94542 | test_f1: 1.0\n",
      "Subject: 022, n=5 | train_f1: 0.93801 | test_f1: 1.0\n",
      "Subject: 023, n=1 | train_f1: 0.94095 | test_f1: 1.0\n",
      "Subject: 024, n=1 | train_f1: 0.94445 | test_f1: 1.0\n",
      "Subject: 026, n=9 | train_f1: 0.93211 | test_f1: 0.47059\n",
      "Subject: 028, n=3 | train_f1: 0.92792 | test_f1: 1.0\n",
      "Subject: 030, n=3 | train_f1: 0.93993 | test_f1: 1.0\n",
      "Subject: 031, n=1 | train_f1: 0.9454 | test_f1: 1.0\n",
      "Subject: 032, n=4 | train_f1: 0.92637 | test_f1: 0.42857\n",
      "Subject: 033, n=5 | train_f1: 0.93934 | test_f1: 0.33333\n",
      "Subject: 034, n=3 | train_f1: 0.93754 | test_f1: 1.0\n",
      "Subject: 035, n=8 | train_f1: 0.93473 | test_f1: 0.61111\n",
      "Subject: 036, n=1 | train_f1: 0.93599 | test_f1: 1.0\n",
      "Subject: 037, n=1 | train_f1: 0.93117 | test_f1: 0.0\n",
      "Total f1: 0.7439777767317165, SMIC: 0.6898418183727436, CASME2: 0.8429052585832246, SAMM: 0.651015721603957\n"
     ]
    }
   ],
   "source": [
    "class SSSNetConfig(BasicConfig):\n",
    "    model = models.SSSNet(h_dims=[16, 32, 128])\n",
    "    \n",
    "df, input_data = datasets.megc(resize=64, optical_flow=True)\n",
    "outputs_list = te.megc_validation(input_data, df, SSSNetConfig)"
   ]
  },
  {
   "cell_type": "code",
   "execution_count": null,
   "metadata": {
    "scrolled": true
   },
   "outputs": [],
   "source": [
    "class ModelConfig(BasicConfig):\n",
    "    model = models.STSTNet()\n",
    "    \n",
    "df, input_data = datasets.megc(resize=64, optical_flow=True)\n",
    "outputs_list = te.megc_validation(input_data, df, ModelConfig)"
   ]
  },
  {
   "cell_type": "code",
   "execution_count": null,
   "metadata": {},
   "outputs": [],
   "source": []
  },
  {
   "cell_type": "code",
   "execution_count": null,
   "metadata": {},
   "outputs": [],
   "source": []
  }
 ],
 "metadata": {
  "kernelspec": {
   "display_name": "Python 3",
   "language": "python",
   "name": "python3"
  },
  "language_info": {
   "codemirror_mode": {
    "name": "ipython",
    "version": 3
   },
   "file_extension": ".py",
   "mimetype": "text/x-python",
   "name": "python",
   "nbconvert_exporter": "python",
   "pygments_lexer": "ipython3",
   "version": "3.6.8"
  }
 },
 "nbformat": 4,
 "nbformat_minor": 2
}
